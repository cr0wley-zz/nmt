{
  "nbformat": 4,
  "nbformat_minor": 0,
  "metadata": {
    "accelerator": "GPU",
    "colab": {
      "name": "Ablation - Unidirection (GRU).ipynb",
      "provenance": [],
      "collapsed_sections": [],
      "include_colab_link": true
    },
    "kernelspec": {
      "display_name": "Python 3",
      "language": "python",
      "name": "python3"
    },
    "language_info": {
      "codemirror_mode": {
        "name": "ipython",
        "version": 3
      },
      "file_extension": ".py",
      "mimetype": "text/x-python",
      "name": "python",
      "nbconvert_exporter": "python",
      "pygments_lexer": "ipython3",
      "version": "3.7.4"
    }
  },
  "cells": [
    {
      "cell_type": "markdown",
      "metadata": {
        "id": "view-in-github",
        "colab_type": "text"
      },
      "source": [
        "<a href=\"https://colab.research.google.com/github/cr0wley-zz/nmt/blob/main/Ablation_Unidirection_(GRU).ipynb\" target=\"_parent\"><img src=\"https://colab.research.google.com/assets/colab-badge.svg\" alt=\"Open In Colab\"/></a>"
      ]
    },
    {
      "cell_type": "code",
      "metadata": {
        "colab": {
          "base_uri": "https://localhost:8080/"
        },
        "id": "wpKAi1vptvQn",
        "outputId": "4d01641d-cac6-4474-8a92-a5a4555c1f11"
      },
      "source": [
        "# Which GPU is being used?\n",
        "! nvidia-smi"
      ],
      "execution_count": 1,
      "outputs": [
        {
          "output_type": "stream",
          "text": [
            "Mon Mar  1 19:38:04 2021       \n",
            "+-----------------------------------------------------------------------------+\n",
            "| NVIDIA-SMI 460.39       Driver Version: 460.32.03    CUDA Version: 11.2     |\n",
            "|-------------------------------+----------------------+----------------------+\n",
            "| GPU  Name        Persistence-M| Bus-Id        Disp.A | Volatile Uncorr. ECC |\n",
            "| Fan  Temp  Perf  Pwr:Usage/Cap|         Memory-Usage | GPU-Util  Compute M. |\n",
            "|                               |                      |               MIG M. |\n",
            "|===============================+======================+======================|\n",
            "|   0  Tesla P4            Off  | 00000000:00:04.0 Off |                    0 |\n",
            "| N/A   38C    P8     7W /  75W |      0MiB /  7611MiB |      0%      Default |\n",
            "|                               |                      |                  N/A |\n",
            "+-------------------------------+----------------------+----------------------+\n",
            "                                                                               \n",
            "+-----------------------------------------------------------------------------+\n",
            "| Processes:                                                                  |\n",
            "|  GPU   GI   CI        PID   Type   Process name                  GPU Memory |\n",
            "|        ID   ID                                                   Usage      |\n",
            "|=============================================================================|\n",
            "|  No running processes found                                                 |\n",
            "+-----------------------------------------------------------------------------+\n"
          ],
          "name": "stdout"
        }
      ]
    },
    {
      "cell_type": "markdown",
      "metadata": {
        "id": "D7P5aktQJXJW"
      },
      "source": [
        "# Introduction\n",
        "This notebook holds our experiments on Neural Machine Translation with Attention mechanism.\n",
        "Some notes:\n",
        "- Bahdanau\n",
        "- Luong\n",
        "- Softmax vs Sigmoid\n",
        "- Wrapping the function with `model.fit`\n",
        "\n",
        "We have taken heavy inspiration from the official [TensorFlow guide](https://www.tensorflow.org/tutorials/text/nmt_with_attention).\n",
        "> A note for the readers: We will be importing packages as we go along. You will not be looking at all the imports at one place."
      ]
    },
    {
      "cell_type": "code",
      "metadata": {
        "id": "5yz111FIXuc8"
      },
      "source": [
        "import tensorflow as tf\n",
        "from tensorflow.keras import layers as L"
      ],
      "execution_count": 2,
      "outputs": []
    },
    {
      "cell_type": "code",
      "metadata": {
        "id": "Xnu12j75UqDU"
      },
      "source": [
        "tf.random.set_seed(7)"
      ],
      "execution_count": 4,
      "outputs": []
    },
    {
      "cell_type": "markdown",
      "metadata": {
        "id": "fZ8ZnvZWamdi"
      },
      "source": [
        "# Utilities And Downloads\n",
        "\n",
        "We use `tf.keras.utils.get_file` to download the English to Spanish dataset hosted by Google. We define the file name where the script will save the dataset"
      ]
    },
    {
      "cell_type": "code",
      "metadata": {
        "colab": {
          "base_uri": "https://localhost:8080/"
        },
        "id": "ybK1mMMaX1rj",
        "outputId": "56755c65-927a-4a8a-c8cc-3b5ff90d2ae9"
      },
      "source": [
        "# Download the file\n",
        "path_to_zip = tf.keras.utils.get_file(\n",
        "    'spa-eng.zip',\n",
        "    origin='http://storage.googleapis.com/download.tensorflow.org/data/spa-eng.zip',\n",
        "    extract=True\n",
        ")\n",
        "\n",
        "print(f\"[INFO] PATH TO ZIP: {path_to_zip}\")"
      ],
      "execution_count": 5,
      "outputs": [
        {
          "output_type": "stream",
          "text": [
            "Downloading data from http://storage.googleapis.com/download.tensorflow.org/data/spa-eng.zip\n",
            "2646016/2638744 [==============================] - 0s 0us/step\n",
            "[INFO] PATH TO ZIP: /root/.keras/datasets/spa-eng.zip\n"
          ],
          "name": "stdout"
        }
      ]
    },
    {
      "cell_type": "code",
      "metadata": {
        "id": "Ysf93J57aJzn"
      },
      "source": [
        "import os"
      ],
      "execution_count": 6,
      "outputs": []
    },
    {
      "cell_type": "code",
      "metadata": {
        "colab": {
          "base_uri": "https://localhost:8080/"
        },
        "id": "n712-Bw4ZbtM",
        "outputId": "93d14d92-ef05-4958-a0bc-66d6fc7d5d37"
      },
      "source": [
        "path_to_file = os.path.dirname(path_to_zip)+\"/spa-eng/spa.txt\"\n",
        "\n",
        "print(f\"[INFO] PATH TO FILE: {path_to_file}\")"
      ],
      "execution_count": 7,
      "outputs": [
        {
          "output_type": "stream",
          "text": [
            "[INFO] PATH TO FILE: /root/.keras/datasets/spa-eng/spa.txt\n"
          ],
          "name": "stdout"
        }
      ]
    },
    {
      "cell_type": "markdown",
      "metadata": {
        "id": "Z_Vw3-oXbfC2"
      },
      "source": [
        "# Cleaner functions\n",
        "\n"
      ]
    },
    {
      "cell_type": "code",
      "metadata": {
        "id": "ITOzXiv-cEaq"
      },
      "source": [
        "import unicodedata\n",
        "import re"
      ],
      "execution_count": 8,
      "outputs": []
    },
    {
      "cell_type": "code",
      "metadata": {
        "id": "rEwkRZ3vYAQN"
      },
      "source": [
        "def unicode_to_ascii(s):\n",
        "    return ''.join(c for c in unicodedata.normalize('NFD', s)\n",
        "    if unicodedata.category(c) != 'Mn')"
      ],
      "execution_count": 9,
      "outputs": []
    },
    {
      "cell_type": "code",
      "metadata": {
        "id": "ZYED3VNhdeN-"
      },
      "source": [
        "def preprocess_sentence(w):\n",
        "    w = unicode_to_ascii(w.lower().strip())\n",
        "    # creating a space between a word and the punctuation following it\n",
        "    # eg: \"he is a boy.\" => \"he is a boy .\"\n",
        "    # Reference:- https://stackoverflow.com/questions/3645931/python-padding-punctuation-with-white-spaces-keeping-punctuation\n",
        "    w = re.sub(r\"([?.!,¿])\", r\" \\1 \", w)\n",
        "    w = re.sub(r'[\" \"]+', \" \", w)\n",
        "    # replacing everything with space except (a-z, A-Z, \".\", \"?\", \"!\", \",\")\n",
        "    w = re.sub(r\"[^a-zA-Z?.!,¿]+\", \" \", w)\n",
        "    w = w.strip()\n",
        "    # adding a start and an end token to the sentence\n",
        "    # so that the model know when to start and stop predicting.\n",
        "    w = '<start> ' + w + ' <end>'\n",
        "    return w"
      ],
      "execution_count": 10,
      "outputs": []
    },
    {
      "cell_type": "code",
      "metadata": {
        "colab": {
          "base_uri": "https://localhost:8080/"
        },
        "id": "ThKXoortYFhm",
        "outputId": "c87dbbb5-9bcd-423c-ec4a-311c3363a850"
      },
      "source": [
        "en_sentence = u\"May I borrow this book?\"\n",
        "sp_sentence = u\"¿Puedo tomar prestado este libro?\"\n",
        "print(preprocess_sentence(en_sentence))\n",
        "print(preprocess_sentence(sp_sentence).encode('utf-8'))"
      ],
      "execution_count": 11,
      "outputs": [
        {
          "output_type": "stream",
          "text": [
            "<start> may i borrow this book ? <end>\n",
            "b'<start> \\xc2\\xbf puedo tomar prestado este libro ? <end>'\n"
          ],
          "name": "stdout"
        }
      ]
    },
    {
      "cell_type": "code",
      "metadata": {
        "id": "cYqDUD4be3jz"
      },
      "source": [
        "import io"
      ],
      "execution_count": 12,
      "outputs": []
    },
    {
      "cell_type": "code",
      "metadata": {
        "id": "Q742cxMNYHN2"
      },
      "source": [
        "def create_dataset(path, num_examples):\n",
        "    lines = io.open(path, encoding='UTF-8').read().strip().split('\\n')\n",
        "\n",
        "    word_pairs = [[preprocess_sentence(w) for w in l.split('\\t')]  for l in lines[:num_examples]]\n",
        "\n",
        "    return zip(*word_pairs)"
      ],
      "execution_count": 13,
      "outputs": []
    },
    {
      "cell_type": "code",
      "metadata": {
        "colab": {
          "base_uri": "https://localhost:8080/"
        },
        "id": "YDpyz-fTYN0p",
        "outputId": "c1ce7a7f-67b0-4343-a1de-f1c77020c72b"
      },
      "source": [
        "en, sp = create_dataset(path_to_file, None)\n",
        "print(en[-1])\n",
        "print(sp[-1])"
      ],
      "execution_count": 14,
      "outputs": [
        {
          "output_type": "stream",
          "text": [
            "<start> if you want to sound like a native speaker , you must be willing to practice saying the same sentence over and over in the same way that banjo players practice the same phrase over and over until they can play it correctly and at the desired tempo . <end>\n",
            "<start> si quieres sonar como un hablante nativo , debes estar dispuesto a practicar diciendo la misma frase una y otra vez de la misma manera en que un musico de banjo practica el mismo fraseo una y otra vez hasta que lo puedan tocar correctamente y en el tiempo esperado . <end>\n"
          ],
          "name": "stdout"
        }
      ]
    },
    {
      "cell_type": "code",
      "metadata": {
        "id": "AGN6i1X8YbWd"
      },
      "source": [
        "def tokenize(lang):\n",
        "    lang_tokenizer = tf.keras.preprocessing.text.Tokenizer(\n",
        "        filters='')\n",
        "    lang_tokenizer.fit_on_texts(lang)\n",
        "\n",
        "    tensor = lang_tokenizer.texts_to_sequences(lang)\n",
        "\n",
        "    tensor = tf.keras.preprocessing.sequence.pad_sequences(\n",
        "        tensor,\n",
        "        padding='post')\n",
        "\n",
        "    return tensor, lang_tokenizer"
      ],
      "execution_count": 15,
      "outputs": []
    },
    {
      "cell_type": "code",
      "metadata": {
        "id": "fELGs7xTgeGU"
      },
      "source": [
        "def load_dataset(path, num_examples=None):\n",
        "    # creating cleaned input, output pairs\n",
        "    inp_lang, targ_lang = create_dataset(path , num_examples)\n",
        "\n",
        "    input_tensor, inp_lang_tokenizer = tokenize(inp_lang)\n",
        "    target_tensor, targ_lang_tokenizer = tokenize(targ_lang)\n",
        "\n",
        "    return input_tensor, target_tensor, inp_lang_tokenizer, targ_lang_tokenizer"
      ],
      "execution_count": 16,
      "outputs": []
    },
    {
      "cell_type": "code",
      "metadata": {
        "id": "QVVJScpohR8f"
      },
      "source": [
        "num_examples = 40000\n",
        "(input_tensor,target_tensor,inp_lang,targ_lang) = load_dataset(path_to_file,num_examples)\n",
        "\n",
        "# Calculate max_length of the target tensors\n",
        "max_length_targ, max_length_inp = target_tensor.shape[1], input_tensor.shape[1]"
      ],
      "execution_count": 17,
      "outputs": []
    },
    {
      "cell_type": "code",
      "metadata": {
        "id": "97jXhf-OiV2M"
      },
      "source": [
        "from sklearn.model_selection import train_test_split"
      ],
      "execution_count": 19,
      "outputs": []
    },
    {
      "cell_type": "code",
      "metadata": {
        "id": "GLCEf2lQYgMm"
      },
      "source": [
        "X_train, X_test, y_train, y_test \r\n",
        "    = train_test_split(X, y, test_size=0.2, random_state=1)\r\n",
        "\r\n",
        " X_train, X_val, y_train, y_val \r\n",
        "    = train_test_split(X_train, y_train, test_size=0.25, random_state=1) # 0.25 x 0.8 = 0.2"
      ],
      "execution_count": null,
      "outputs": []
    },
    {
      "cell_type": "code",
      "metadata": {
        "colab": {
          "base_uri": "https://localhost:8080/"
        },
        "id": "3saxDFMZiIM-",
        "outputId": "036e091a-e71e-4993-8d93-31c30309e7c8"
      },
      "source": [
        "# Creating training and validation sets using an 80-20 split\n",
        "(input_tensor_train,input_tensor_val,target_tensor_train,target_tensor_val) = train_test_split(input_tensor,target_tensor,test_size=0.2)\n",
        "(input_tensor_train,input_tensor_test,target_tensor_train,target_tensor_test) = train_test_split(input_tensor,target_tensor,test_size=0.1)\n",
        "\n",
        "# Show length\n",
        "print(len(input_tensor_train),len(target_tensor_train),len(input_tensor_val),len(target_tensor_val),len(input_tensor_test),len(target_tensor_test))"
      ],
      "execution_count": 20,
      "outputs": [
        {
          "output_type": "stream",
          "text": [
            "36000 36000 8000 8000 4000 4000\n"
          ],
          "name": "stdout"
        }
      ]
    },
    {
      "cell_type": "code",
      "metadata": {
        "id": "6n7OY60fiXvW"
      },
      "source": [
        "def convert(lang, tensor):\n",
        "    for t in tensor:\n",
        "        if t!=0:\n",
        "            print (\"%d ----> %s\" % (t, lang.index_word[t]))"
      ],
      "execution_count": 22,
      "outputs": []
    },
    {
      "cell_type": "code",
      "metadata": {
        "colab": {
          "base_uri": "https://localhost:8080/"
        },
        "id": "PtEmQiqhimFW",
        "outputId": "19cc6125-3364-4afd-8784-e389755675a1"
      },
      "source": [
        "print (\"Input Language; index to word mapping\")\n",
        "convert(inp_lang, input_tensor_train[0])\n",
        "print ()\n",
        "print (\"Target Language; index to word mapping\")\n",
        "convert(targ_lang, target_tensor_train[0])"
      ],
      "execution_count": 23,
      "outputs": [
        {
          "output_type": "stream",
          "text": [
            "Input Language; index to word mapping\n",
            "1 ----> <start>\n",
            "182 ----> nobody\n",
            "438 ----> helped\n",
            "68 ----> her\n",
            "3 ----> .\n",
            "2 ----> <end>\n",
            "\n",
            "Target Language; index to word mapping\n",
            "1 ----> <start>\n",
            "83 ----> nadie\n",
            "13 ----> la\n",
            "572 ----> ayudo\n",
            "3 ----> .\n",
            "2 ----> <end>\n"
          ],
          "name": "stdout"
        }
      ]
    },
    {
      "cell_type": "code",
      "metadata": {
        "id": "nQEuR_EminQm"
      },
      "source": [
        "# GLOBAL VARIABLES\n",
        "BUFFER_SIZE_TRAIN = len(input_tensor_train)\n",
        "BUFFER_SIZE_VAL = len(input_tensor_val)\n",
        "BATCH_SIZE = 1000\n",
        "steps_per_epoch = len(input_tensor_train)//BATCH_SIZE\n",
        "embedding_dim = 512\n",
        "units = 1024\n",
        "vocab_inp_size = len(inp_lang.word_index)+1\n",
        "vocab_tar_size = len(targ_lang.word_index)+1\n",
        "\n",
        "train_ds = tf.data.Dataset.from_tensor_slices((input_tensor_train, target_tensor_train)).shuffle(BUFFER_SIZE_TRAIN)\n",
        "train_ds = train_ds.batch(BATCH_SIZE, drop_remainder=True)\n",
        "\n",
        "val_ds = tf.data.Dataset.from_tensor_slices((input_tensor_val, target_tensor_val)).shuffle(BUFFER_SIZE_VAL)\n",
        "val_ds = val_ds.batch(BATCH_SIZE, drop_remainder=True)"
      ],
      "execution_count": 24,
      "outputs": []
    },
    {
      "cell_type": "code",
      "metadata": {
        "colab": {
          "base_uri": "https://localhost:8080/"
        },
        "id": "ZiqsOP8bjCUu",
        "outputId": "a7359bb1-5ddc-4845-f827-0ed125b303bc"
      },
      "source": [
        "# check the shape\n",
        "for en,sp in train_ds.take(1):\n",
        "    print(sp.shape)\n",
        "    print(en.shape)"
      ],
      "execution_count": 26,
      "outputs": [
        {
          "output_type": "stream",
          "text": [
            "(1000, 16)\n",
            "(1000, 12)\n"
          ],
          "name": "stdout"
        }
      ]
    },
    {
      "cell_type": "code",
      "metadata": {
        "id": "61NDaiqkjH6I"
      },
      "source": [
        "class Encoder(tf.keras.Model):\n",
        "  def __init__(self,\n",
        "               vocab_size,\n",
        "               embedding_dim,\n",
        "               enc_units,\n",
        "               batch_sz):\n",
        "    super(Encoder, self).__init__()\n",
        "    self.batch_sz = batch_sz\n",
        "    self.enc_units = enc_units\n",
        "    self.embedding = L.Embedding(vocab_size, embedding_dim)\n",
        "    self.gru = L.GRU(self.enc_units,\n",
        "                     return_sequences=True,\n",
        "                     return_state=True,\n",
        "                     recurrent_initializer='glorot_uniform')\n",
        "    #self.bidirection = L.Bidirectional(self.gru, merge_mode='concat' )\n",
        "\n",
        "  def call(self,\n",
        "           x,\n",
        "           hidden_fd):\n",
        "    x = self.embedding(x)\n",
        "    #output, fd_state, bd_state = self.bidirection(x, initial_state = [hidden_fd, hidden_bd])\n",
        "    output, fd_state = self.gru(x, initial_state = [hidden_fd])\n",
        "    return output, fd_state\n",
        "\n",
        "  def initialize_hidden_state(self):\n",
        "    #return [tf.zeros((self.batch_sz, self.enc_units)) for i in range(2)]\n",
        "    return tf.zeros((self.batch_sz, self.enc_units))"
      ],
      "execution_count": 27,
      "outputs": []
    },
    {
      "cell_type": "code",
      "metadata": {
        "colab": {
          "base_uri": "https://localhost:8080/"
        },
        "id": "yNspKGi1jThL",
        "outputId": "84db2070-e29f-46b0-e7cd-4c401617308f"
      },
      "source": [
        "encoder = Encoder(vocab_inp_size, embedding_dim, units, BATCH_SIZE)\n",
        "\n",
        "# sample input\n",
        "initial_fwd = encoder.initialize_hidden_state()\n",
        "for en, sp in train_ds.take(1):\n",
        "    #sample_output, sample_hidden_fwd, sample_hidden_bck = encoder(en, initial_fwd, initial_bck)\n",
        "    sample_output, sample_hidden_fwd = encoder(en, initial_fwd)\n",
        "    print ('Encoder output shape: (batch size, sequence length, units) {}'.format(sample_output.shape))\n",
        "    print ('Encoder Hidden FWD state shape: (batch size, units) {}'.format(sample_hidden_fwd.shape))\n",
        "    #print ('Encoder Hidden FWD state shape: (batch size, units) {}'.format(sample_hidden_bck.shape))"
      ],
      "execution_count": 28,
      "outputs": [
        {
          "output_type": "stream",
          "text": [
            "Encoder output shape: (batch size, sequence length, units) (1000, 12, 1024)\n",
            "Encoder Hidden FWD state shape: (batch size, units) (1000, 1024)\n"
          ],
          "name": "stdout"
        }
      ]
    },
    {
      "cell_type": "code",
      "metadata": {
        "id": "EE7jy2ACkj7r"
      },
      "source": [
        "class BahdanauAttention(tf.keras.layers.Layer):\n",
        "  def __init__(self, units):\n",
        "    super(BahdanauAttention, self).__init__()\n",
        "    self.W1 = L.Dense(units)\n",
        "    self.W2 = L.Dense(units)\n",
        "    self.V = L.Dense(1)\n",
        "\n",
        "  def call(self, query, values):\n",
        "    # Query Decoder Hidden state, Values belongs is the Encoder output\n",
        "    # query hidden state shape == (batch_size, hidden size)\n",
        "    # query_with_time_axis shape == (batch_size, 1, hidden size)\n",
        "    # values shape == (batch_size, max_len, hidden size)\n",
        "    # we are doing this to broadcast addition along the time axis to calculate the score\n",
        "    query_with_time_axis = tf.expand_dims(query, 1)\n",
        "\n",
        "    # score shape == (batch_size, max_length, 1)\n",
        "    # we get 1 at the last axis because we are applying score to self.V\n",
        "    # the shape of the tensor before applying self.V is (batch_size, max_length, units)\n",
        "    score = self.V(tf.nn.tanh(\n",
        "        self.W1(query_with_time_axis) + self.W2(values)))\n",
        "\n",
        "    # attention_weights shape == (batch_size, max_length, 1)\n",
        "    attention_weights = tf.nn.softmax(score, axis=1)\n",
        "    \n",
        "    # context_vector shape after sum == (batch_size, hidden_size)\n",
        "    context_vector = attention_weights * values\n",
        "    context_vector = tf.reduce_sum(context_vector, axis=1)\n",
        "\n",
        "    return context_vector, attention_weights"
      ],
      "execution_count": 29,
      "outputs": []
    },
    {
      "cell_type": "code",
      "metadata": {
        "id": "2YPxwKuwlGr1"
      },
      "source": [
        "class Decoder(tf.keras.Model):\n",
        "  def __init__(self, vocab_size, embedding_dim, dec_units, batch_sz):\n",
        "    super(Decoder, self).__init__()\n",
        "    self.batch_sz = batch_sz\n",
        "    self.dec_units = dec_units\n",
        "    self.embedding = L.Embedding(vocab_size, embedding_dim)\n",
        "    self.gru = L.GRU(self.dec_units,\n",
        "                     return_sequences=True,\n",
        "                     return_state=True,\n",
        "                     recurrent_initializer='glorot_uniform')\n",
        "    self.fc = L.Dense(vocab_size)\n",
        "    # used for attention\n",
        "    self.attention = BahdanauAttention(self.dec_units)\n",
        "\n",
        "  def call(self, x, hidden, enc_output):\n",
        "    # enc_output shape == (batch_size, max_length, hidden_size)\n",
        "    context_vector, attention_weights = self.attention(hidden, enc_output)\n",
        "    # x shape after passing through embedding == (batch_size, 1, embedding_dim)\n",
        "    x = self.embedding(x)\n",
        "    # x shape after concatenation == (batch_size, 1, embedding_dim + hidden_size)\n",
        "    x = tf.concat([tf.expand_dims(context_vector, 1), x], axis=-1)\n",
        "    # passing the concatenated vector to the GRU\n",
        "    output, state = self.gru(x)\n",
        "    # output shape == (batch_size * 1, hidden_size)\n",
        "    output = tf.reshape(output, (-1, output.shape[2]))\n",
        "    # output shape == (batch_size, vocab)\n",
        "    x = self.fc(output)\n",
        "    return x, state, attention_weights"
      ],
      "execution_count": 30,
      "outputs": []
    },
    {
      "cell_type": "code",
      "metadata": {
        "colab": {
          "base_uri": "https://localhost:8080/"
        },
        "id": "kA4jNHG0lJ52",
        "outputId": "17949fd5-608e-4258-e7d6-3cd74257b243"
      },
      "source": [
        "encoder = Encoder(vocab_inp_size, embedding_dim, units, BATCH_SIZE)\n",
        "decoder = Decoder(vocab_tar_size, embedding_dim, units, BATCH_SIZE)\n",
        "\n",
        "initial_fwd = encoder.initialize_hidden_state()\n",
        "for en,sp in train_ds.take(1):\n",
        "    encoder_output, encoder_hidden_fwd = encoder(en, initial_fwd)\n",
        "    dec_input = tf.expand_dims([targ_lang.word_index['<start>']] * BATCH_SIZE, 1)\n",
        "    decoder_output, decoder_hidden, att_weights = decoder(dec_input, encoder_hidden_fwd, encoder_output)\n",
        "\n",
        "    print ('Decoder output shape: (batch_size, vocab size) {}'.format(decoder_output.shape))"
      ],
      "execution_count": 32,
      "outputs": [
        {
          "output_type": "stream",
          "text": [
            "Decoder output shape: (batch_size, vocab size) (1000, 11281)\n"
          ],
          "name": "stdout"
        }
      ]
    },
    {
      "cell_type": "markdown",
      "metadata": {
        "id": "UDdohQmmukxV"
      },
      "source": [
        "# Model Class for easier training"
      ]
    },
    {
      "cell_type": "code",
      "metadata": {
        "colab": {
          "base_uri": "https://localhost:8080/"
        },
        "id": "IZHMpUufBy4h",
        "outputId": "42bde01a-9cdc-466b-d144-8e4d5ccc2843"
      },
      "source": [
        "for en, sp in val_ds.take(1):\n",
        "    print(en.shape)\n",
        "    print(sp.shape)"
      ],
      "execution_count": 33,
      "outputs": [
        {
          "output_type": "stream",
          "text": [
            "(1000, 12)\n",
            "(1000, 16)\n"
          ],
          "name": "stdout"
        }
      ]
    },
    {
      "cell_type": "code",
      "metadata": {
        "id": "3drm1HZdukcL"
      },
      "source": [
        "class NMT(tf.keras.Model):\n",
        "    def __init__(self, encoder, decoder):\n",
        "        super(NMT, self).__init__()\n",
        "        self.encoder = encoder\n",
        "        self.decoder = decoder\n",
        "\n",
        "    def train_step(self, data):\n",
        "        enc_hidden_fwd = self.encoder.initialize_hidden_state()\n",
        "        inp, targ = data\n",
        "        loss = 0\n",
        "        with tf.GradientTape() as tape:\n",
        "            enc_output, enc_hidden_fwd = self.encoder(inp, enc_hidden_fwd)\n",
        "            dec_hidden = enc_hidden_fwd\n",
        "            dec_input = tf.expand_dims([targ_lang.word_index['<start>']] * BATCH_SIZE, 1)\n",
        "            # Teacher forcing - feeding the target as the next input\n",
        "            for t in range(1, targ.shape[1]):\n",
        "                # passing enc_output to the decoder\n",
        "                predictions, dec_hidden, att_weights = self.decoder(dec_input, dec_hidden, enc_output)\n",
        "                loss += self.compiled_loss(targ[:, t], predictions)\n",
        "                # using teacher forcing\n",
        "                dec_input = tf.expand_dims(targ[:, t], 1)\n",
        "        batch_loss = (loss / int(targ.shape[1]))\n",
        "        variables = encoder.trainable_variables + decoder.trainable_variables\n",
        "        gradients = tape.gradient(loss, variables)\n",
        "        optimizer.apply_gradients(zip(gradients, variables))\n",
        "        return {\"custom_loss\": batch_loss}\n",
        "    \n",
        "    def test_step(self, data):\n",
        "        enc_hidden_fwd = self.encoder.initialize_hidden_state()\n",
        "        inp, targ = data\n",
        "        loss = 0\n",
        "        enc_output, enc_hidden_fwd = self.encoder(inp, enc_hidden_fwd)\n",
        "        dec_hidden = enc_hidden_fwd\n",
        "        dec_input = tf.expand_dims([targ_lang.word_index['<start>']] * BATCH_SIZE, 1)\n",
        "        # Teacher forcing - feeding the target as the next input\n",
        "        for t in range(1, targ.shape[1]):\n",
        "            # passing enc_output to the decoder\n",
        "            predictions, dec_hidden, att_weights = self.decoder(dec_input, dec_hidden, enc_output)\n",
        "            loss += self.compiled_loss(targ[:, t], predictions)\n",
        "            # using teacher forcing\n",
        "            dec_input = tf.expand_dims(targ[:, t], 1)\n",
        "        batch_loss = (loss / int(targ.shape[1]))\n",
        "        return {\"custom_loss\": batch_loss}"
      ],
      "execution_count": 34,
      "outputs": []
    },
    {
      "cell_type": "code",
      "metadata": {
        "id": "KMt2NvOiDkN0"
      },
      "source": [
        "# Early Stopping to prevent overfitting\n",
        "es = tf.keras.callbacks.EarlyStopping(monitor=\"val_custom_loss\", patience=5, verbose=2, restore_best_weights=True)"
      ],
      "execution_count": 35,
      "outputs": []
    },
    {
      "cell_type": "code",
      "metadata": {
        "colab": {
          "base_uri": "https://localhost:8080/"
        },
        "id": "NN0v-i_CxDdb",
        "outputId": "2389d4cd-4308-4ddd-e482-97f44804bd78"
      },
      "source": [
        "EPOCHS=100\n",
        "encoder = Encoder(vocab_inp_size, embedding_dim, units, BATCH_SIZE)\n",
        "decoder = Decoder(vocab_tar_size, embedding_dim, units, BATCH_SIZE)\n",
        "\n",
        "optimizer = tf.keras.optimizers.Adam()\n",
        "loss_object = tf.keras.losses.SparseCategoricalCrossentropy(\n",
        "    from_logits=True,\n",
        "    reduction='none')\n",
        "\n",
        "def loss_function(real, pred):\n",
        "    mask = tf.math.logical_not(tf.math.equal(real, 0))\n",
        "    loss_ = loss_object(real, pred)\n",
        "    mask = tf.cast(mask, dtype=loss_.dtype)\n",
        "    loss_ *= mask\n",
        "\n",
        "    return tf.reduce_mean(loss_)\n",
        "\n",
        "main_model = NMT(encoder, decoder)\n",
        "main_model.compile(loss=loss_function, optimizer=optimizer)\n",
        "\n",
        "history = main_model.fit(\n",
        "    train_ds,\n",
        "    validation_data=val_ds,\n",
        "    callbacks=[es],\n",
        "    epochs=EPOCHS)"
      ],
      "execution_count": 36,
      "outputs": [
        {
          "output_type": "stream",
          "text": [
            "Epoch 1/100\n",
            "36/36 [==============================] - 63s 1s/step - custom_loss: 2.2361 - val_custom_loss: 1.8737\n",
            "Epoch 2/100\n",
            "36/36 [==============================] - 46s 1s/step - custom_loss: 1.7494 - val_custom_loss: 1.6321\n",
            "Epoch 3/100\n",
            "36/36 [==============================] - 47s 1s/step - custom_loss: 1.5874 - val_custom_loss: 1.5217\n",
            "Epoch 4/100\n",
            "36/36 [==============================] - 48s 1s/step - custom_loss: 1.4837 - val_custom_loss: 1.4186\n",
            "Epoch 5/100\n",
            "36/36 [==============================] - 48s 1s/step - custom_loss: 1.4018 - val_custom_loss: 1.3479\n",
            "Epoch 6/100\n",
            "36/36 [==============================] - 48s 1s/step - custom_loss: 1.3180 - val_custom_loss: 1.2710\n",
            "Epoch 7/100\n",
            "36/36 [==============================] - 48s 1s/step - custom_loss: 1.2480 - val_custom_loss: 1.2190\n",
            "Epoch 8/100\n",
            "36/36 [==============================] - 48s 1s/step - custom_loss: 1.1822 - val_custom_loss: 1.1380\n",
            "Epoch 9/100\n",
            "36/36 [==============================] - 48s 1s/step - custom_loss: 1.1215 - val_custom_loss: 1.0802\n",
            "Epoch 10/100\n",
            "36/36 [==============================] - 48s 1s/step - custom_loss: 1.0689 - val_custom_loss: 1.0256\n",
            "Epoch 11/100\n",
            "36/36 [==============================] - 48s 1s/step - custom_loss: 1.0206 - val_custom_loss: 0.9922\n",
            "Epoch 12/100\n",
            "36/36 [==============================] - 48s 1s/step - custom_loss: 0.9762 - val_custom_loss: 0.9450\n",
            "Epoch 13/100\n",
            "36/36 [==============================] - 48s 1s/step - custom_loss: 0.9354 - val_custom_loss: 0.9010\n",
            "Epoch 14/100\n",
            "36/36 [==============================] - 48s 1s/step - custom_loss: 0.8953 - val_custom_loss: 0.9078\n",
            "Epoch 15/100\n",
            "36/36 [==============================] - 48s 1s/step - custom_loss: 0.8592 - val_custom_loss: 0.8439\n",
            "Epoch 16/100\n",
            "36/36 [==============================] - 48s 1s/step - custom_loss: 0.8169 - val_custom_loss: 0.7890\n",
            "Epoch 17/100\n",
            "36/36 [==============================] - 48s 1s/step - custom_loss: 0.7791 - val_custom_loss: 0.7789\n",
            "Epoch 18/100\n",
            "36/36 [==============================] - 48s 1s/step - custom_loss: 0.7429 - val_custom_loss: 0.7133\n",
            "Epoch 19/100\n",
            "36/36 [==============================] - 48s 1s/step - custom_loss: 0.7022 - val_custom_loss: 0.7024\n",
            "Epoch 20/100\n",
            "36/36 [==============================] - 48s 1s/step - custom_loss: 0.6655 - val_custom_loss: 0.6551\n",
            "Epoch 21/100\n",
            "36/36 [==============================] - 48s 1s/step - custom_loss: 0.6303 - val_custom_loss: 0.6384\n",
            "Epoch 22/100\n",
            "36/36 [==============================] - 48s 1s/step - custom_loss: 0.5922 - val_custom_loss: 0.5976\n",
            "Epoch 23/100\n",
            "36/36 [==============================] - 48s 1s/step - custom_loss: 0.5608 - val_custom_loss: 0.5578\n",
            "Epoch 24/100\n",
            "36/36 [==============================] - 48s 1s/step - custom_loss: 0.5248 - val_custom_loss: 0.5243\n",
            "Epoch 25/100\n",
            "36/36 [==============================] - 48s 1s/step - custom_loss: 0.4906 - val_custom_loss: 0.5145\n",
            "Epoch 26/100\n",
            "36/36 [==============================] - 48s 1s/step - custom_loss: 0.4590 - val_custom_loss: 0.4644\n",
            "Epoch 27/100\n",
            "36/36 [==============================] - 48s 1s/step - custom_loss: 0.4277 - val_custom_loss: 0.4407\n",
            "Epoch 28/100\n",
            "36/36 [==============================] - 48s 1s/step - custom_loss: 0.3964 - val_custom_loss: 0.4042\n",
            "Epoch 29/100\n",
            "36/36 [==============================] - 48s 1s/step - custom_loss: 0.3692 - val_custom_loss: 0.3936\n",
            "Epoch 30/100\n",
            "36/36 [==============================] - 48s 1s/step - custom_loss: 0.3410 - val_custom_loss: 0.3693\n",
            "Epoch 31/100\n",
            "36/36 [==============================] - 48s 1s/step - custom_loss: 0.3138 - val_custom_loss: 0.3429\n",
            "Epoch 32/100\n",
            "36/36 [==============================] - 48s 1s/step - custom_loss: 0.2900 - val_custom_loss: 0.2961\n",
            "Epoch 33/100\n",
            "36/36 [==============================] - 48s 1s/step - custom_loss: 0.2682 - val_custom_loss: 0.3036\n",
            "Epoch 34/100\n",
            "36/36 [==============================] - 48s 1s/step - custom_loss: 0.2479 - val_custom_loss: 0.2560\n",
            "Epoch 35/100\n",
            "36/36 [==============================] - 48s 1s/step - custom_loss: 0.2275 - val_custom_loss: 0.2654\n",
            "Epoch 36/100\n",
            "36/36 [==============================] - 48s 1s/step - custom_loss: 0.2092 - val_custom_loss: 0.2609\n",
            "Epoch 37/100\n",
            "36/36 [==============================] - 48s 1s/step - custom_loss: 0.1927 - val_custom_loss: 0.2591\n",
            "Epoch 38/100\n",
            "36/36 [==============================] - 48s 1s/step - custom_loss: 0.1800 - val_custom_loss: 0.2275\n",
            "Epoch 39/100\n",
            "36/36 [==============================] - 48s 1s/step - custom_loss: 0.1650 - val_custom_loss: 0.2219\n",
            "Epoch 40/100\n",
            "36/36 [==============================] - 48s 1s/step - custom_loss: 0.1530 - val_custom_loss: 0.2053\n",
            "Epoch 41/100\n",
            "36/36 [==============================] - 48s 1s/step - custom_loss: 0.1425 - val_custom_loss: 0.1961\n",
            "Epoch 42/100\n",
            "36/36 [==============================] - 48s 1s/step - custom_loss: 0.1319 - val_custom_loss: 0.1921\n",
            "Epoch 43/100\n",
            "36/36 [==============================] - 48s 1s/step - custom_loss: 0.1228 - val_custom_loss: 0.1789\n",
            "Epoch 44/100\n",
            "36/36 [==============================] - 48s 1s/step - custom_loss: 0.1155 - val_custom_loss: 0.1921\n",
            "Epoch 45/100\n",
            "36/36 [==============================] - 48s 1s/step - custom_loss: 0.1090 - val_custom_loss: 0.1611\n",
            "Epoch 46/100\n",
            "36/36 [==============================] - 48s 1s/step - custom_loss: 0.1015 - val_custom_loss: 0.1649\n",
            "Epoch 47/100\n",
            "36/36 [==============================] - 48s 1s/step - custom_loss: 0.0955 - val_custom_loss: 0.1600\n",
            "Epoch 48/100\n",
            "36/36 [==============================] - 48s 1s/step - custom_loss: 0.0895 - val_custom_loss: 0.1546\n",
            "Epoch 49/100\n",
            "36/36 [==============================] - 48s 1s/step - custom_loss: 0.0845 - val_custom_loss: 0.1532\n",
            "Epoch 50/100\n",
            "36/36 [==============================] - 48s 1s/step - custom_loss: 0.0799 - val_custom_loss: 0.1339\n",
            "Epoch 51/100\n",
            "36/36 [==============================] - 48s 1s/step - custom_loss: 0.0759 - val_custom_loss: 0.1253\n",
            "Epoch 52/100\n",
            "36/36 [==============================] - 48s 1s/step - custom_loss: 0.0716 - val_custom_loss: 0.1563\n",
            "Epoch 53/100\n",
            "36/36 [==============================] - 48s 1s/step - custom_loss: 0.0684 - val_custom_loss: 0.1259\n",
            "Epoch 54/100\n",
            "36/36 [==============================] - 48s 1s/step - custom_loss: 0.0653 - val_custom_loss: 0.1431\n",
            "Epoch 55/100\n",
            "36/36 [==============================] - 48s 1s/step - custom_loss: 0.0628 - val_custom_loss: 0.1281\n",
            "Epoch 56/100\n",
            "36/36 [==============================] - 48s 1s/step - custom_loss: 0.0610 - val_custom_loss: 0.1363\n",
            "Restoring model weights from the end of the best epoch.\n",
            "Epoch 00056: early stopping\n"
          ],
          "name": "stdout"
        }
      ]
    },
    {
      "cell_type": "code",
      "metadata": {
        "colab": {
          "base_uri": "https://localhost:8080/"
        },
        "id": "3a4DATP6lBLX",
        "outputId": "9e9ec333-5d6c-4c39-f8c3-2a7468ea2711"
      },
      "source": [
        "Score = main_model.evaluate(input_tensor_test, target_tensor_test, batch_size = 1000 )"
      ],
      "execution_count": 47,
      "outputs": [
        {
          "output_type": "stream",
          "text": [
            "4/4 [==============================] - 2s 428ms/step - custom_loss: 0.8420\n"
          ],
          "name": "stdout"
        }
      ]
    },
    {
      "cell_type": "code",
      "metadata": {
        "colab": {
          "base_uri": "https://localhost:8080/"
        },
        "id": "ZZ1Dwgr8nqS8",
        "outputId": "0a430218-dccf-482e-edc8-5c6aa2d23411"
      },
      "source": [
        "Score"
      ],
      "execution_count": 48,
      "outputs": [
        {
          "output_type": "execute_result",
          "data": {
            "text/plain": [
              "0.873832106590271"
            ]
          },
          "metadata": {
            "tags": []
          },
          "execution_count": 48
        }
      ]
    },
    {
      "cell_type": "markdown",
      "metadata": {
        "id": "ioAMrBIAAnyo"
      },
      "source": [
        "# Inference"
      ]
    },
    {
      "cell_type": "code",
      "metadata": {
        "id": "lEuWMIFvIGjd"
      },
      "source": [
        "encoder = main_model.encoder\n",
        "decoder = main_model.decoder"
      ],
      "execution_count": 37,
      "outputs": []
    },
    {
      "cell_type": "code",
      "metadata": {
        "id": "__KD3JgK3WkI"
      },
      "source": [
        "def evaluate(sentence):\n",
        "    attention_plot = np.zeros((max_length_targ, max_length_inp))\n",
        "    sentence = preprocess_sentence(sentence)\n",
        "    inputs = [inp_lang.word_index[i] for i in sentence.split(' ')]\n",
        "    inputs = tf.keras.preprocessing.sequence.pad_sequences([inputs],maxlen=max_length_inp,padding='post')\n",
        "    inputs = tf.convert_to_tensor(inputs)\n",
        "    \n",
        "    result = ''\n",
        "    encoder_hidden_fwd = tf.zeros((1, units))\n",
        "    #encoder_hidden_bck = tf.zeros((1, units))\n",
        "    enc_out, enc_hidden_fwd = encoder(inputs, encoder_hidden_fwd)\n",
        "\n",
        "    dec_hidden = enc_hidden_fwd\n",
        "    dec_input = tf.expand_dims([targ_lang.word_index['<start>']], 0)\n",
        "\n",
        "    for t in range(max_length_targ):\n",
        "        predictions, dec_hidden, attention_weights = decoder(dec_input,dec_hidden,enc_out)\n",
        "        # storing the attention weights to plot later on\n",
        "        attention_weights = tf.reshape(attention_weights, (-1, ))\n",
        "        attention_plot[t] = attention_weights.numpy()\n",
        "        predicted_id = tf.argmax(predictions[0]).numpy()\n",
        "        result += targ_lang.index_word[predicted_id] + ' '\n",
        "        if targ_lang.index_word[predicted_id] == '<end>':\n",
        "            return result, sentence, attention_plot\n",
        "        # the predicted ID is fed back into the model\n",
        "        dec_input = tf.expand_dims([predicted_id], 0)\n",
        "    return result, sentence, attention_plot"
      ],
      "execution_count": 38,
      "outputs": []
    },
    {
      "cell_type": "code",
      "metadata": {
        "id": "ljxAmwz9EwF8"
      },
      "source": [
        "def plot_attention(attention, sentence, predicted_sentence):\n",
        "    fig = plt.figure(figsize=(10,10))\n",
        "    ax = fig.add_subplot(1, 1, 1)\n",
        "    ax.matshow(attention, cmap='viridis')\n",
        "\n",
        "    fontdict = {'fontsize': 14}\n",
        "\n",
        "    ax.set_xticklabels([''] + sentence, fontdict=fontdict, rotation=90)\n",
        "    ax.set_yticklabels([''] + predicted_sentence, fontdict=fontdict)\n",
        "\n",
        "    ax.xaxis.set_major_locator(ticker.MultipleLocator(1))\n",
        "    ax.yaxis.set_major_locator(ticker.MultipleLocator(1))\n",
        "\n",
        "    plt.show()"
      ],
      "execution_count": 39,
      "outputs": []
    },
    {
      "cell_type": "code",
      "metadata": {
        "id": "LtoSpfMkExjt"
      },
      "source": [
        "def translate(sentence):\n",
        "\n",
        "    result, sentence, attention_plot = evaluate(sentence)\n",
        "\n",
        "    print('Input: %s' % (sentence))\n",
        "    print('Predicted translation: {}'.format(result))\n",
        "\n",
        "    attention_plot = attention_plot[:len(result.split(' ')), :len(sentence.split(' '))]\n",
        "    plot_attention(attention_plot, sentence.split(' '), result.split(' '))"
      ],
      "execution_count": 40,
      "outputs": []
    },
    {
      "cell_type": "code",
      "metadata": {
        "id": "cn70PeXhFMGr"
      },
      "source": [
        "import numpy as np\n",
        "import matplotlib.pyplot as plt\n",
        "import matplotlib.ticker as ticker"
      ],
      "execution_count": 41,
      "outputs": []
    },
    {
      "cell_type": "code",
      "metadata": {
        "colab": {
          "base_uri": "https://localhost:8080/",
          "height": 674
        },
        "id": "7f82tco6rlWh",
        "outputId": "fad18ddf-22f5-4dea-d2c5-a46a92456574"
      },
      "source": [
        "translate(u'how are you?')"
      ],
      "execution_count": 42,
      "outputs": [
        {
          "output_type": "stream",
          "text": [
            "Input: <start> how are you ? <end>\n",
            "Predicted translation: ¿ como estan ustedes ? <end> \n"
          ],
          "name": "stdout"
        },
        {
          "output_type": "display_data",
          "data": {
            "image/png": "[encoded data removed]",
            "text/plain": [
              "<Figure size 720x720 with 1 Axes>"
            ]
          },
          "metadata": {
            "tags": [],
            "needs_background": "light"
          }
        }
      ]
    },
    {
      "cell_type": "code",
      "metadata": {
        "colab": {
          "base_uri": "https://localhost:8080/",
          "height": 674
        },
        "id": "GdgZArrYFIzo",
        "outputId": "c7514654-cee6-4edb-e608-5909233a8b3b"
      },
      "source": [
        "translate(u'i am good.')"
      ],
      "execution_count": 43,
      "outputs": [
        {
          "output_type": "stream",
          "text": [
            "Input: <start> i am good . <end>\n",
            "Predicted translation: se me da bien . <end> \n"
          ],
          "name": "stdout"
        },
        {
          "output_type": "display_data",
          "data": {
            "image/png": "[encoded data removed]",
            "text/plain": [
              "<Figure size 720x720 with 1 Axes>"
            ]
          },
          "metadata": {
            "tags": [],
            "needs_background": "light"
          }
        }
      ]
    },
    {
      "cell_type": "code",
      "metadata": {
        "colab": {
          "base_uri": "https://localhost:8080/",
          "height": 674
        },
        "id": "vJ4HqcmUFK9-",
        "outputId": "99a2c929-f538-4958-bb67-b5fdbaf552f2"
      },
      "source": [
        "translate(u'i am going to school')"
      ],
      "execution_count": null,
      "outputs": [
        {
          "output_type": "stream",
          "text": [
            "Input: <start> i am going to school <end>\n",
            "Predicted translation: voy a la escuela . <end> \n"
          ],
          "name": "stdout"
        },
        {
          "output_type": "display_data",
          "data": {
            "image/png": "[encoded data removed]",
            "text/plain": [
              "<Figure size 720x720 with 1 Axes>"
            ]
          },
          "metadata": {
            "tags": [],
            "needs_background": "light"
          }
        }
      ]
    },
    {
      "cell_type": "code",
      "metadata": {
        "colab": {
          "base_uri": "https://localhost:8080/",
          "height": 674
        },
        "id": "6mYXg0wOrvSG",
        "outputId": "e3227bf9-b22b-4b33-c877-18c3424bb257"
      },
      "source": [
        "translate(u'let us go home now')"
      ],
      "execution_count": null,
      "outputs": [
        {
          "output_type": "stream",
          "text": [
            "Input: <start> let us go home now <end>\n",
            "Predicted translation: dejanos irnos a casa . <end> \n"
          ],
          "name": "stdout"
        },
        {
          "output_type": "display_data",
          "data": {
            "image/png": "[encoded data removed]",
            "text/plain": [
              "<Figure size 720x720 with 1 Axes>"
            ]
          },
          "metadata": {
            "tags": [],
            "needs_background": "light"
          }
        }
      ]
    },
    {
      "cell_type": "code",
      "metadata": {
        "colab": {
          "base_uri": "https://localhost:8080/",
          "height": 674
        },
        "id": "NWKDFYtJ1eE0",
        "outputId": "4d8f21dd-9ee6-4d4f-97fd-01722f673117"
      },
      "source": [
        "translate(u'It is my turn')"
      ],
      "execution_count": null,
      "outputs": [
        {
          "output_type": "stream",
          "text": [
            "Input: <start> it is my turn <end>\n",
            "Predicted translation: es mi turno de verdad . <end> \n"
          ],
          "name": "stdout"
        },
        {
          "output_type": "display_data",
          "data": {
            "image/png": "[encoded data removed]",
            "text/plain": [
              "<Figure size 720x720 with 1 Axes>"
            ]
          },
          "metadata": {
            "tags": [],
            "needs_background": "light"
          }
        }
      ]
    },
    {
      "cell_type": "code",
      "metadata": {
        "id": "Ta0YbA8a1rwA"
      },
      "source": [
        ""
      ],
      "execution_count": null,
      "outputs": []
    }
  ]
}