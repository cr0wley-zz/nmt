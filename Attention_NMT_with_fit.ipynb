{
  "nbformat": 4,
  "nbformat_minor": 0,
  "metadata": {
    "colab": {
      "name": "Attention_NMT",
      "provenance": [],
      "collapsed_sections": []
    },
    "kernelspec": {
      "name": "python3",
      "display_name": "Python 3"
    },
    "accelerator": "GPU"
  },
  "cells": [
    {
      "cell_type": "code",
      "metadata": {
        "colab": {
          "base_uri": "https://localhost:8080/"
        },
        "id": "wpKAi1vptvQn",
        "outputId": "7f3ce405-51a8-48c9-90b9-efdf5e4bb0ee"
      },
      "source": [
        "# Which GPU is being used?\n",
        "! nvidia-smi"
      ],
      "execution_count": 1,
      "outputs": [
        {
          "output_type": "stream",
          "text": [
            "Mon Mar  1 09:59:37 2021       \n",
            "+-----------------------------------------------------------------------------+\n",
            "| NVIDIA-SMI 460.39       Driver Version: 460.32.03    CUDA Version: 11.2     |\n",
            "|-------------------------------+----------------------+----------------------+\n",
            "| GPU  Name        Persistence-M| Bus-Id        Disp.A | Volatile Uncorr. ECC |\n",
            "| Fan  Temp  Perf  Pwr:Usage/Cap|         Memory-Usage | GPU-Util  Compute M. |\n",
            "|                               |                      |               MIG M. |\n",
            "|===============================+======================+======================|\n",
            "|   0  Tesla P100-PCIE...  Off  | 00000000:00:04.0 Off |                    0 |\n",
            "| N/A   35C    P0    29W / 250W |      0MiB / 16280MiB |      0%      Default |\n",
            "|                               |                      |                  N/A |\n",
            "+-------------------------------+----------------------+----------------------+\n",
            "                                                                               \n",
            "+-----------------------------------------------------------------------------+\n",
            "| Processes:                                                                  |\n",
            "|  GPU   GI   CI        PID   Type   Process name                  GPU Memory |\n",
            "|        ID   ID                                                   Usage      |\n",
            "|=============================================================================|\n",
            "|  No running processes found                                                 |\n",
            "+-----------------------------------------------------------------------------+\n"
          ],
          "name": "stdout"
        }
      ]
    },
    {
      "cell_type": "markdown",
      "metadata": {
        "id": "D7P5aktQJXJW"
      },
      "source": [
        "# Introduction\n",
        "This notebook holds our experiments on Neural Machine Translation with Attention mechanism.\n",
        "Some notes:\n",
        "- Bahdanau\n",
        "- Luong\n",
        "- Softmax vs Sigmoid\n",
        "- Wrapping the function with `moodel.fit`\n",
        "\n",
        "We have taken heavy inspiration from the official [TensorFlow guide](https://www.tensorflow.org/tutorials/text/nmt_with_attention).\n",
        "> A note for the readers: We will be importing packages as we go along. You will not be looking at all the imports at one place."
      ]
    },
    {
      "cell_type": "code",
      "metadata": {
        "id": "5yz111FIXuc8"
      },
      "source": [
        "import tensorflow as tf\r\n",
        "from tensorflow.keras import layers as L"
      ],
      "execution_count": 2,
      "outputs": []
    },
    {
      "cell_type": "markdown",
      "metadata": {
        "id": "fZ8ZnvZWamdi"
      },
      "source": [
        "# Utilities And Downloads\r\n",
        "\r\n",
        "We use `tf.keras.utils.get_file` to download the English to Spanish dataset hosted by Google. We define the file name where the script will save the dataset"
      ]
    },
    {
      "cell_type": "code",
      "metadata": {
        "colab": {
          "base_uri": "https://localhost:8080/"
        },
        "id": "ybK1mMMaX1rj",
        "outputId": "a97e0728-7fef-4350-8697-33e4f4935d06"
      },
      "source": [
        "# Download the file\r\n",
        "path_to_zip = tf.keras.utils.get_file(\r\n",
        "    'spa-eng.zip',\r\n",
        "    origin='http://storage.googleapis.com/download.tensorflow.org/data/spa-eng.zip',\r\n",
        "    extract=True\r\n",
        ")\r\n",
        "\r\n",
        "print(f\"[INFO] PATH TO ZIP: {path_to_zip}\")"
      ],
      "execution_count": 3,
      "outputs": [
        {
          "output_type": "stream",
          "text": [
            "Downloading data from http://storage.googleapis.com/download.tensorflow.org/data/spa-eng.zip\n",
            "2646016/2638744 [==============================] - 0s 0us/step\n",
            "[INFO] PATH TO ZIP: /root/.keras/datasets/spa-eng.zip\n"
          ],
          "name": "stdout"
        }
      ]
    },
    {
      "cell_type": "code",
      "metadata": {
        "id": "Ysf93J57aJzn"
      },
      "source": [
        "import os"
      ],
      "execution_count": 4,
      "outputs": []
    },
    {
      "cell_type": "code",
      "metadata": {
        "colab": {
          "base_uri": "https://localhost:8080/"
        },
        "id": "n712-Bw4ZbtM",
        "outputId": "ce925c2c-f5df-466f-e2a7-b606ddf3267d"
      },
      "source": [
        "path_to_file = os.path.dirname(path_to_zip)+\"/spa-eng/spa.txt\"\r\n",
        "\r\n",
        "print(f\"[INFO] PATH TO FILE: {path_to_file}\")"
      ],
      "execution_count": 5,
      "outputs": [
        {
          "output_type": "stream",
          "text": [
            "[INFO] PATH TO FILE: /root/.keras/datasets/spa-eng/spa.txt\n"
          ],
          "name": "stdout"
        }
      ]
    },
    {
      "cell_type": "markdown",
      "metadata": {
        "id": "Z_Vw3-oXbfC2"
      },
      "source": [
        "# Cleaner functions\r\n",
        "\r\n"
      ]
    },
    {
      "cell_type": "code",
      "metadata": {
        "id": "ITOzXiv-cEaq"
      },
      "source": [
        "import unicodedata\n",
        "import re"
      ],
      "execution_count": 6,
      "outputs": []
    },
    {
      "cell_type": "code",
      "metadata": {
        "id": "rEwkRZ3vYAQN"
      },
      "source": [
        "def unicode_to_ascii(s):\r\n",
        "    return ''.join(c for c in unicodedata.normalize('NFD', s)\r\n",
        "    if unicodedata.category(c) != 'Mn')"
      ],
      "execution_count": 7,
      "outputs": []
    },
    {
      "cell_type": "code",
      "metadata": {
        "id": "ZYED3VNhdeN-"
      },
      "source": [
        "def preprocess_sentence(w):\r\n",
        "    w = unicode_to_ascii(w.lower().strip())\r\n",
        "    # creating a space between a word and the punctuation following it\r\n",
        "    # eg: \"he is a boy.\" => \"he is a boy .\"\r\n",
        "    # Reference:- https://stackoverflow.com/questions/3645931/python-padding-punctuation-with-white-spaces-keeping-punctuation\r\n",
        "    w = re.sub(r\"([?.!,¿])\", r\" \\1 \", w)\r\n",
        "    w = re.sub(r'[\" \"]+', \" \", w)\r\n",
        "    # replacing everything with space except (a-z, A-Z, \".\", \"?\", \"!\", \",\")\r\n",
        "    w = re.sub(r\"[^a-zA-Z?.!,¿]+\", \" \", w)\r\n",
        "    w = w.strip()\r\n",
        "    # adding a start and an end token to the sentence\r\n",
        "    # so that the model know when to start and stop predicting.\r\n",
        "    w = '<start> ' + w + ' <end>'\r\n",
        "    return w"
      ],
      "execution_count": 8,
      "outputs": []
    },
    {
      "cell_type": "code",
      "metadata": {
        "colab": {
          "base_uri": "https://localhost:8080/"
        },
        "id": "ThKXoortYFhm",
        "outputId": "23839369-b570-47dd-d011-c68e0746a59e"
      },
      "source": [
        "en_sentence = u\"May I borrow this book?\"\r\n",
        "sp_sentence = u\"¿Puedo tomar prestado este libro?\"\r\n",
        "print(preprocess_sentence(en_sentence))\r\n",
        "print(preprocess_sentence(sp_sentence).encode('utf-8'))"
      ],
      "execution_count": 9,
      "outputs": [
        {
          "output_type": "stream",
          "text": [
            "<start> may i borrow this book ? <end>\n",
            "b'<start> \\xc2\\xbf puedo tomar prestado este libro ? <end>'\n"
          ],
          "name": "stdout"
        }
      ]
    },
    {
      "cell_type": "code",
      "metadata": {
        "id": "cYqDUD4be3jz"
      },
      "source": [
        "import io"
      ],
      "execution_count": 10,
      "outputs": []
    },
    {
      "cell_type": "code",
      "metadata": {
        "id": "Q742cxMNYHN2"
      },
      "source": [
        "def create_dataset(path, num_examples):\r\n",
        "    lines = io.open(path, encoding='UTF-8').read().strip().split('\\n')\r\n",
        "\r\n",
        "    word_pairs = [[preprocess_sentence(w) for w in l.split('\\t')]  for l in lines[:num_examples]]\r\n",
        "\r\n",
        "    return zip(*word_pairs)"
      ],
      "execution_count": 11,
      "outputs": []
    },
    {
      "cell_type": "code",
      "metadata": {
        "colab": {
          "base_uri": "https://localhost:8080/"
        },
        "id": "YDpyz-fTYN0p",
        "outputId": "35807b7f-a288-4d70-b507-4bc9266d5c55"
      },
      "source": [
        "en, sp = create_dataset(path_to_file, None)\r\n",
        "print(en[-1])\r\n",
        "print(sp[-1])"
      ],
      "execution_count": 12,
      "outputs": [
        {
          "output_type": "stream",
          "text": [
            "<start> if you want to sound like a native speaker , you must be willing to practice saying the same sentence over and over in the same way that banjo players practice the same phrase over and over until they can play it correctly and at the desired tempo . <end>\n",
            "<start> si quieres sonar como un hablante nativo , debes estar dispuesto a practicar diciendo la misma frase una y otra vez de la misma manera en que un musico de banjo practica el mismo fraseo una y otra vez hasta que lo puedan tocar correctamente y en el tiempo esperado . <end>\n"
          ],
          "name": "stdout"
        }
      ]
    },
    {
      "cell_type": "code",
      "metadata": {
        "id": "AGN6i1X8YbWd"
      },
      "source": [
        "def tokenize(lang):\r\n",
        "    lang_tokenizer = tf.keras.preprocessing.text.Tokenizer(\r\n",
        "        filters='')\r\n",
        "    lang_tokenizer.fit_on_texts(lang)\r\n",
        "\r\n",
        "    tensor = lang_tokenizer.texts_to_sequences(lang)\r\n",
        "\r\n",
        "    tensor = tf.keras.preprocessing.sequence.pad_sequences(\r\n",
        "        tensor,\r\n",
        "        padding='post')\r\n",
        "\r\n",
        "    return tensor, lang_tokenizer"
      ],
      "execution_count": 13,
      "outputs": []
    },
    {
      "cell_type": "code",
      "metadata": {
        "id": "fELGs7xTgeGU"
      },
      "source": [
        "def load_dataset(path, num_examples=None):\r\n",
        "    # creating cleaned input, output pairs\r\n",
        "    inp_lang, targ_lang = create_dataset(path , num_examples)\r\n",
        "\r\n",
        "    input_tensor, inp_lang_tokenizer = tokenize(inp_lang)\r\n",
        "    target_tensor, targ_lang_tokenizer = tokenize(targ_lang)\r\n",
        "\r\n",
        "    return input_tensor, target_tensor, inp_lang_tokenizer, targ_lang_tokenizer"
      ],
      "execution_count": 14,
      "outputs": []
    },
    {
      "cell_type": "code",
      "metadata": {
        "id": "QVVJScpohR8f"
      },
      "source": [
        "num_examples = 70_000\r\n",
        "(input_tensor,target_tensor,inp_lang,targ_lang) = load_dataset(path_to_file,num_examples)\r\n",
        "\r\n",
        "# Calculate max_length of the target tensors\r\n",
        "max_length_targ, max_length_inp = target_tensor.shape[1], input_tensor.shape[1]"
      ],
      "execution_count": 15,
      "outputs": []
    },
    {
      "cell_type": "code",
      "metadata": {
        "id": "97jXhf-OiV2M"
      },
      "source": [
        "from sklearn.model_selection import train_test_split"
      ],
      "execution_count": 16,
      "outputs": []
    },
    {
      "cell_type": "code",
      "metadata": {
        "colab": {
          "base_uri": "https://localhost:8080/"
        },
        "id": "3saxDFMZiIM-",
        "outputId": "b35fc626-491f-4382-d95f-ae455014dd11"
      },
      "source": [
        "# Creating training and validation sets using an 80-20 split\r\n",
        "(input_tensor_train,input_tensor_val,target_tensor_train,target_tensor_val) = train_test_split(input_tensor,target_tensor,test_size=0.2)\r\n",
        "\r\n",
        "# Show length\r\n",
        "print(len(input_tensor_train),len(target_tensor_train),len(input_tensor_val),len(target_tensor_val))"
      ],
      "execution_count": 17,
      "outputs": [
        {
          "output_type": "stream",
          "text": [
            "56000 56000 14000 14000\n"
          ],
          "name": "stdout"
        }
      ]
    },
    {
      "cell_type": "code",
      "metadata": {
        "id": "6n7OY60fiXvW"
      },
      "source": [
        "def convert(lang, tensor):\r\n",
        "    for t in tensor:\r\n",
        "        if t!=0:\r\n",
        "            print (\"%d ----> %s\" % (t, lang.index_word[t]))"
      ],
      "execution_count": 18,
      "outputs": []
    },
    {
      "cell_type": "code",
      "metadata": {
        "colab": {
          "base_uri": "https://localhost:8080/"
        },
        "id": "PtEmQiqhimFW",
        "outputId": "8c789429-d3cb-4806-acec-62a6286fda74"
      },
      "source": [
        "print (\"Input Language; index to word mapping\")\r\n",
        "convert(inp_lang, input_tensor_train[0])\r\n",
        "print ()\r\n",
        "print (\"Target Language; index to word mapping\")\r\n",
        "convert(targ_lang, target_tensor_train[0])"
      ],
      "execution_count": 19,
      "outputs": [
        {
          "output_type": "stream",
          "text": [
            "Input Language; index to word mapping\n",
            "1 ----> <start>\n",
            "6 ----> tom\n",
            "29 ----> can\n",
            "12 ----> t\n",
            "127 ----> speak\n",
            "3 ----> .\n",
            "2 ----> <end>\n",
            "\n",
            "Target Language; index to word mapping\n",
            "1 ----> <start>\n",
            "6 ----> tom\n",
            "8 ----> no\n",
            "71 ----> puede\n",
            "106 ----> hablar\n",
            "3 ----> .\n",
            "2 ----> <end>\n"
          ],
          "name": "stdout"
        }
      ]
    },
    {
      "cell_type": "code",
      "metadata": {
        "id": "nQEuR_EminQm"
      },
      "source": [
        "# GLOBAL VARIABLES\r\n",
        "BUFFER_SIZE_TRAIN = len(input_tensor_train)\r\n",
        "BUFFER_SIZE_VAL = len(input_tensor_val)\r\n",
        "BATCH_SIZE = 1000\r\n",
        "steps_per_epoch = len(input_tensor_train)//BATCH_SIZE\r\n",
        "embedding_dim = 512\r\n",
        "units = 1024\r\n",
        "vocab_inp_size = len(inp_lang.word_index)+1\r\n",
        "vocab_tar_size = len(targ_lang.word_index)+1\r\n",
        "\r\n",
        "train_ds = tf.data.Dataset.from_tensor_slices((input_tensor_train, target_tensor_train)).shuffle(BUFFER_SIZE_TRAIN)\r\n",
        "train_ds = train_ds.batch(BATCH_SIZE, drop_remainder=True)\r\n",
        "\r\n",
        "val_ds = tf.data.Dataset.from_tensor_slices((input_tensor_val, target_tensor_val)).shuffle(BUFFER_SIZE_VAL)\r\n",
        "val_ds = val_ds.batch(BATCH_SIZE, drop_remainder=True)"
      ],
      "execution_count": 20,
      "outputs": []
    },
    {
      "cell_type": "code",
      "metadata": {
        "colab": {
          "base_uri": "https://localhost:8080/"
        },
        "id": "ZiqsOP8bjCUu",
        "outputId": "9c8ace87-e282-48f5-8c58-07990f81c477"
      },
      "source": [
        "# check the shape\r\n",
        "for en,sp in train_ds.take(1):\r\n",
        "    print(sp.shape)\r\n",
        "    print(en.shape)"
      ],
      "execution_count": 21,
      "outputs": [
        {
          "output_type": "stream",
          "text": [
            "(1000, 20)\n",
            "(1000, 14)\n"
          ],
          "name": "stdout"
        }
      ]
    },
    {
      "cell_type": "code",
      "metadata": {
        "id": "61NDaiqkjH6I"
      },
      "source": [
        "class Encoder(tf.keras.Model):\r\n",
        "  def __init__(self,\r\n",
        "               vocab_size,\r\n",
        "               embedding_dim,\r\n",
        "               enc_units,\r\n",
        "               batch_sz):\r\n",
        "    super(Encoder, self).__init__()\r\n",
        "    self.batch_sz = batch_sz\r\n",
        "    self.enc_units = enc_units\r\n",
        "    self.embedding = L.Embedding(vocab_size, embedding_dim)\r\n",
        "    self.gru = L.GRU(self.enc_units,\r\n",
        "                     return_sequences=True,\r\n",
        "                     return_state=True,\r\n",
        "                     recurrent_initializer='glorot_uniform')\r\n",
        "    self.bidirection = L.Bidirectional(self.gru, merge_mode='concat' )\r\n",
        "\r\n",
        "  def call(self,\r\n",
        "           x,\r\n",
        "           hidden_fd,\r\n",
        "           hidden_bd):\r\n",
        "    x = self.embedding(x)\r\n",
        "    output, fd_state, bd_state = self.bidirection(x, initial_state = [hidden_fd, hidden_bd])\r\n",
        "    return output, fd_state, bd_state\r\n",
        "\r\n",
        "  def initialize_hidden_state(self):\r\n",
        "    return [tf.zeros((self.batch_sz, self.enc_units)) for i in range(2)]"
      ],
      "execution_count": 22,
      "outputs": []
    },
    {
      "cell_type": "code",
      "metadata": {
        "colab": {
          "base_uri": "https://localhost:8080/"
        },
        "id": "yNspKGi1jThL",
        "outputId": "39a477f5-e249-401a-b7d3-39f976e2e802"
      },
      "source": [
        "encoder = Encoder(vocab_inp_size, embedding_dim, units, BATCH_SIZE)\r\n",
        "\r\n",
        "# sample input\r\n",
        "initial_fwd, initial_bck = encoder.initialize_hidden_state()\r\n",
        "for en, sp in train_ds.take(1):\r\n",
        "    sample_output, sample_hidden_fwd, sample_hidden_bck = encoder(en, initial_fwd, initial_bck)\r\n",
        "    print ('Encoder output shape: (batch size, sequence length, units) {}'.format(sample_output.shape))\r\n",
        "    print ('Encoder Hidden FWD state shape: (batch size, units) {}'.format(sample_hidden_fwd.shape))\r\n",
        "    print ('Encoder Hidden FWD state shape: (batch size, units) {}'.format(sample_hidden_bck.shape))"
      ],
      "execution_count": 23,
      "outputs": [
        {
          "output_type": "stream",
          "text": [
            "Encoder output shape: (batch size, sequence length, units) (1000, 14, 2048)\n",
            "Encoder Hidden FWD state shape: (batch size, units) (1000, 1024)\n",
            "Encoder Hidden FWD state shape: (batch size, units) (1000, 1024)\n"
          ],
          "name": "stdout"
        }
      ]
    },
    {
      "cell_type": "code",
      "metadata": {
        "id": "EE7jy2ACkj7r"
      },
      "source": [
        "class BahdanauAttention(tf.keras.layers.Layer):\r\n",
        "  def __init__(self, units):\r\n",
        "    super(BahdanauAttention, self).__init__()\r\n",
        "    self.W1 = L.Dense(units)\r\n",
        "    self.W2 = L.Dense(units)\r\n",
        "    self.V = L.Dense(1)\r\n",
        "\r\n",
        "  def call(self, query, values):\r\n",
        "    # Query Decoder Hidden state, Values belongs is the Encoder output\r\n",
        "    # query hidden state shape == (batch_size, hidden size)\r\n",
        "    # query_with_time_axis shape == (batch_size, 1, hidden size)\r\n",
        "    # values shape == (batch_size, max_len, hidden size)\r\n",
        "    # we are doing this to broadcast addition along the time axis to calculate the score\r\n",
        "    query_with_time_axis = tf.expand_dims(query, 1)\r\n",
        "\r\n",
        "    # score shape == (batch_size, max_length, 1)\r\n",
        "    # we get 1 at the last axis because we are applying score to self.V\r\n",
        "    # the shape of the tensor before applying self.V is (batch_size, max_length, units)\r\n",
        "    score = self.V(tf.nn.tanh(\r\n",
        "        self.W1(query_with_time_axis) + self.W2(values)))\r\n",
        "\r\n",
        "    # attention_weights shape == (batch_size, max_length, 1)\r\n",
        "    attention_weights = tf.nn.softmax(score, axis=1)\r\n",
        "    \r\n",
        "    # context_vector shape after sum == (batch_size, hidden_size)\r\n",
        "    context_vector = attention_weights * values\r\n",
        "    context_vector = tf.reduce_sum(context_vector, axis=1)\r\n",
        "\r\n",
        "    return context_vector, attention_weights"
      ],
      "execution_count": 24,
      "outputs": []
    },
    {
      "cell_type": "code",
      "metadata": {
        "id": "2YPxwKuwlGr1"
      },
      "source": [
        "class Decoder(tf.keras.Model):\r\n",
        "  def __init__(self, vocab_size, embedding_dim, dec_units, batch_sz):\r\n",
        "    super(Decoder, self).__init__()\r\n",
        "    self.batch_sz = batch_sz\r\n",
        "    self.dec_units = dec_units\r\n",
        "    self.embedding = L.Embedding(vocab_size, embedding_dim)\r\n",
        "    self.gru = L.GRU(self.dec_units,\r\n",
        "                     return_sequences=True,\r\n",
        "                     return_state=True,\r\n",
        "                     recurrent_initializer='glorot_uniform')\r\n",
        "    self.fc = L.Dense(vocab_size)\r\n",
        "    # used for attention\r\n",
        "    self.attention = BahdanauAttention(self.dec_units)\r\n",
        "\r\n",
        "  def call(self, x, hidden, enc_output):\r\n",
        "    # enc_output shape == (batch_size, max_length, hidden_size)\r\n",
        "    context_vector, attention_weights = self.attention(hidden, enc_output)\r\n",
        "    # x shape after passing through embedding == (batch_size, 1, embedding_dim)\r\n",
        "    x = self.embedding(x)\r\n",
        "    # x shape after concatenation == (batch_size, 1, embedding_dim + hidden_size)\r\n",
        "    x = tf.concat([tf.expand_dims(context_vector, 1), x], axis=-1)\r\n",
        "    # passing the concatenated vector to the GRU\r\n",
        "    output, state = self.gru(x)\r\n",
        "    # output shape == (batch_size * 1, hidden_size)\r\n",
        "    output = tf.reshape(output, (-1, output.shape[2]))\r\n",
        "    # output shape == (batch_size, vocab)\r\n",
        "    x = self.fc(output)\r\n",
        "    return x, state, attention_weights"
      ],
      "execution_count": 25,
      "outputs": []
    },
    {
      "cell_type": "code",
      "metadata": {
        "colab": {
          "base_uri": "https://localhost:8080/"
        },
        "id": "kA4jNHG0lJ52",
        "outputId": "624790e0-52a2-4786-a2b3-c1ccd5d210e4"
      },
      "source": [
        "encoder = Encoder(vocab_inp_size, embedding_dim, units, BATCH_SIZE)\r\n",
        "decoder = Decoder(vocab_tar_size, embedding_dim, units, BATCH_SIZE)\r\n",
        "\r\n",
        "initial_fwd, initial_bck = encoder.initialize_hidden_state()\r\n",
        "for en,sp in train_ds.take(1):\r\n",
        "    encoder_output, encoder_hidden_fwd, encoder_hidden_bck = encoder(en, initial_fwd, initial_bck)\r\n",
        "    dec_input = tf.expand_dims([targ_lang.word_index['<start>']] * BATCH_SIZE, 1)\r\n",
        "    decoder_output, decoder_hidden, att_weights = decoder(dec_input, encoder_hidden_fwd, encoder_output)\r\n",
        "\r\n",
        "    print ('Decoder output shape: (batch_size, vocab size) {}'.format(decoder_output.shape))"
      ],
      "execution_count": 26,
      "outputs": [
        {
          "output_type": "stream",
          "text": [
            "Decoder output shape: (batch_size, vocab size) (1000, 16132)\n"
          ],
          "name": "stdout"
        }
      ]
    },
    {
      "cell_type": "markdown",
      "metadata": {
        "id": "UDdohQmmukxV"
      },
      "source": [
        "# Model Class for easier training"
      ]
    },
    {
      "cell_type": "code",
      "metadata": {
        "colab": {
          "base_uri": "https://localhost:8080/"
        },
        "id": "IZHMpUufBy4h",
        "outputId": "2f5d63a2-2006-4592-d650-e500e7c656b3"
      },
      "source": [
        "for en, sp in val_ds.take(1):\n",
        "    print(en.shape)\n",
        "    print(sp.shape)"
      ],
      "execution_count": 27,
      "outputs": [
        {
          "output_type": "stream",
          "text": [
            "(1000, 14)\n",
            "(1000, 20)\n"
          ],
          "name": "stdout"
        }
      ]
    },
    {
      "cell_type": "code",
      "metadata": {
        "id": "3drm1HZdukcL"
      },
      "source": [
        "class NMT(tf.keras.Model):\n",
        "    def __init__(self, encoder, decoder):\n",
        "        super(NMT, self).__init__()\n",
        "        self.encoder = encoder\n",
        "        self.decoder = decoder\n",
        "\n",
        "    def train_step(self, data):\n",
        "        enc_hidden_fwd, enc_hidden_bck = self.encoder.initialize_hidden_state()\n",
        "        inp, targ = data\n",
        "        loss = 0\n",
        "        with tf.GradientTape() as tape:\n",
        "            enc_output, enc_hidden_fwd, enc_hidden_bck = self.encoder(inp, enc_hidden_fwd, enc_hidden_bck)\n",
        "            dec_hidden = enc_hidden_fwd\n",
        "            dec_input = tf.expand_dims([targ_lang.word_index['<start>']] * BATCH_SIZE, 1)\n",
        "            # Teacher forcing - feeding the target as the next input\n",
        "            for t in range(1, targ.shape[1]):\n",
        "                # passing enc_output to the decoder\n",
        "                predictions, dec_hidden, att_weights = self.decoder(dec_input, dec_hidden, enc_output)\n",
        "                loss += self.compiled_loss(targ[:, t], predictions)\n",
        "                # using teacher forcing\n",
        "                dec_input = tf.expand_dims(targ[:, t], 1)\n",
        "        batch_loss = (loss / int(targ.shape[1]))\n",
        "        variables = encoder.trainable_variables + decoder.trainable_variables\n",
        "        gradients = tape.gradient(loss, variables)\n",
        "        optimizer.apply_gradients(zip(gradients, variables))\n",
        "        return {\"custom_loss\": batch_loss}\n",
        "    \n",
        "    def test_step(self, data):\n",
        "        enc_hidden_fwd, enc_hidden_bck = self.encoder.initialize_hidden_state()\n",
        "        inp, targ = data\n",
        "        loss = 0\n",
        "        enc_output, enc_hidden_fwd, enc_hidden_bck = self.encoder(inp, enc_hidden_fwd, enc_hidden_bck)\n",
        "        dec_hidden = enc_hidden_fwd\n",
        "        dec_input = tf.expand_dims([targ_lang.word_index['<start>']] * BATCH_SIZE, 1)\n",
        "        # Teacher forcing - feeding the target as the next input\n",
        "        for t in range(1, targ.shape[1]):\n",
        "            # passing enc_output to the decoder\n",
        "            predictions, dec_hidden, att_weights = self.decoder(dec_input, dec_hidden, enc_output)\n",
        "            loss += self.compiled_loss(targ[:, t], predictions)\n",
        "            # using teacher forcing\n",
        "            dec_input = tf.expand_dims(targ[:, t], 1)\n",
        "        batch_loss = (loss / int(targ.shape[1]))\n",
        "        return {\"custom_loss\": batch_loss}"
      ],
      "execution_count": 28,
      "outputs": []
    },
    {
      "cell_type": "code",
      "metadata": {
        "id": "KMt2NvOiDkN0"
      },
      "source": [
        "# Early Stopping to prevent overfitting\n",
        "es = tf.keras.callbacks.EarlyStopping(monitor=\"val_custom_loss\", patience=5, verbose=2, restore_best_weights=True)"
      ],
      "execution_count": 29,
      "outputs": []
    },
    {
      "cell_type": "code",
      "metadata": {
        "colab": {
          "base_uri": "https://localhost:8080/"
        },
        "id": "NN0v-i_CxDdb",
        "outputId": "db2facc4-d222-43f0-ebd8-b276a8bf34ed"
      },
      "source": [
        "EPOCHS=100\n",
        "encoder = Encoder(vocab_inp_size, embedding_dim, units, BATCH_SIZE)\n",
        "decoder = Decoder(vocab_tar_size, embedding_dim, units, BATCH_SIZE)\n",
        "\n",
        "optimizer = tf.keras.optimizers.Adam()\n",
        "loss_object = tf.keras.losses.SparseCategoricalCrossentropy(\n",
        "    from_logits=True,\n",
        "    reduction='none')\n",
        "\n",
        "def loss_function(real, pred):\n",
        "    mask = tf.math.logical_not(tf.math.equal(real, 0))\n",
        "    loss_ = loss_object(real, pred)\n",
        "    mask = tf.cast(mask, dtype=loss_.dtype)\n",
        "    loss_ *= mask\n",
        "\n",
        "    return tf.reduce_mean(loss_)\n",
        "\n",
        "main_model = NMT(encoder, decoder)\n",
        "main_model.compile(loss=loss_function, optimizer=optimizer)\n",
        "\n",
        "history = main_model.fit(\n",
        "    train_ds,\n",
        "    validation_data=val_ds,\n",
        "    callbacks=[es],\n",
        "    epochs=EPOCHS)"
      ],
      "execution_count": 30,
      "outputs": [
        {
          "output_type": "stream",
          "text": [
            "Epoch 1/100\n",
            "56/56 [==============================] - 99s 1s/step - custom_loss: 1.9346 - val_custom_loss: 1.6623\n",
            "Epoch 2/100\n",
            "56/56 [==============================] - 76s 1s/step - custom_loss: 1.5258 - val_custom_loss: 1.4494\n",
            "Epoch 3/100\n",
            "56/56 [==============================] - 76s 1s/step - custom_loss: 1.4050 - val_custom_loss: 1.3803\n",
            "Epoch 4/100\n",
            "56/56 [==============================] - 76s 1s/step - custom_loss: 1.3098 - val_custom_loss: 1.2965\n",
            "Epoch 5/100\n",
            "56/56 [==============================] - 76s 1s/step - custom_loss: 1.2357 - val_custom_loss: 1.2613\n",
            "Epoch 6/100\n",
            "56/56 [==============================] - 76s 1s/step - custom_loss: 1.1438 - val_custom_loss: 1.1582\n",
            "Epoch 7/100\n",
            "56/56 [==============================] - 76s 1s/step - custom_loss: 1.0662 - val_custom_loss: 1.1084\n",
            "Epoch 8/100\n",
            "56/56 [==============================] - 76s 1s/step - custom_loss: 0.9989 - val_custom_loss: 1.0555\n",
            "Epoch 9/100\n",
            "56/56 [==============================] - 76s 1s/step - custom_loss: 0.9303 - val_custom_loss: 0.9765\n",
            "Epoch 10/100\n",
            "56/56 [==============================] - 76s 1s/step - custom_loss: 0.8666 - val_custom_loss: 0.9589\n",
            "Epoch 11/100\n",
            "56/56 [==============================] - 76s 1s/step - custom_loss: 0.8040 - val_custom_loss: 0.8866\n",
            "Epoch 12/100\n",
            "56/56 [==============================] - 75s 1s/step - custom_loss: 0.7442 - val_custom_loss: 0.8384\n",
            "Epoch 13/100\n",
            "56/56 [==============================] - 76s 1s/step - custom_loss: 0.6854 - val_custom_loss: 0.8163\n",
            "Epoch 14/100\n",
            "56/56 [==============================] - 76s 1s/step - custom_loss: 0.6271 - val_custom_loss: 0.7933\n",
            "Epoch 15/100\n",
            "56/56 [==============================] - 76s 1s/step - custom_loss: 0.5721 - val_custom_loss: 0.7264\n",
            "Epoch 16/100\n",
            "56/56 [==============================] - 76s 1s/step - custom_loss: 0.5181 - val_custom_loss: 0.7203\n",
            "Epoch 17/100\n",
            "56/56 [==============================] - 76s 1s/step - custom_loss: 0.4690 - val_custom_loss: 0.6753\n",
            "Epoch 18/100\n",
            "56/56 [==============================] - 76s 1s/step - custom_loss: 0.4224 - val_custom_loss: 0.6335\n",
            "Epoch 19/100\n",
            "56/56 [==============================] - 76s 1s/step - custom_loss: 0.3797 - val_custom_loss: 0.6612\n",
            "Epoch 20/100\n",
            "56/56 [==============================] - 76s 1s/step - custom_loss: 0.3423 - val_custom_loss: 0.6341\n",
            "Epoch 21/100\n",
            "56/56 [==============================] - 76s 1s/step - custom_loss: 0.3089 - val_custom_loss: 0.6162\n",
            "Epoch 22/100\n",
            "56/56 [==============================] - 76s 1s/step - custom_loss: 0.2772 - val_custom_loss: 0.6130\n",
            "Epoch 23/100\n",
            "56/56 [==============================] - 76s 1s/step - custom_loss: 0.2486 - val_custom_loss: 0.5737\n",
            "Epoch 24/100\n",
            "56/56 [==============================] - 76s 1s/step - custom_loss: 0.2239 - val_custom_loss: 0.6046\n",
            "Epoch 25/100\n",
            "56/56 [==============================] - 76s 1s/step - custom_loss: 0.2015 - val_custom_loss: 0.6151\n",
            "Epoch 26/100\n",
            "56/56 [==============================] - 76s 1s/step - custom_loss: 0.1813 - val_custom_loss: 0.6342\n",
            "Epoch 27/100\n",
            "56/56 [==============================] - 76s 1s/step - custom_loss: 0.1659 - val_custom_loss: 0.6053\n",
            "Epoch 28/100\n",
            "56/56 [==============================] - 76s 1s/step - custom_loss: 0.1505 - val_custom_loss: 0.5955\n",
            "Restoring model weights from the end of the best epoch.\n",
            "Epoch 00028: early stopping\n"
          ],
          "name": "stdout"
        }
      ]
    },
    {
      "cell_type": "markdown",
      "metadata": {
        "id": "ioAMrBIAAnyo"
      },
      "source": [
        "# Inference"
      ]
    },
    {
      "cell_type": "code",
      "metadata": {
        "id": "lEuWMIFvIGjd"
      },
      "source": [
        "encoder = main_model.encoder\n",
        "decoder = main_model.decoder"
      ],
      "execution_count": 31,
      "outputs": []
    },
    {
      "cell_type": "code",
      "metadata": {
        "id": "__KD3JgK3WkI"
      },
      "source": [
        "def evaluate(sentence):\r\n",
        "    attention_plot = np.zeros((max_length_targ, max_length_inp))\r\n",
        "    sentence = preprocess_sentence(sentence)\r\n",
        "    inputs = [inp_lang.word_index[i] for i in sentence.split(' ')]\r\n",
        "    inputs = tf.keras.preprocessing.sequence.pad_sequences([inputs],maxlen=max_length_inp,padding='post')\r\n",
        "    inputs = tf.convert_to_tensor(inputs)\r\n",
        "    \r\n",
        "    result = ''\r\n",
        "    encoder_hidden_fwd = tf.zeros((1, units))\r\n",
        "    encoder_hidden_bck = tf.zeros((1, units))\r\n",
        "    enc_out, enc_hidden_fwd, encoder_hidden_bck = encoder(inputs, encoder_hidden_fwd, encoder_hidden_bck)\r\n",
        "\r\n",
        "    dec_hidden = enc_hidden_fwd\r\n",
        "    dec_input = tf.expand_dims([targ_lang.word_index['<start>']], 0)\r\n",
        "\r\n",
        "    for t in range(max_length_targ):\r\n",
        "        predictions, dec_hidden, attention_weights = decoder(dec_input,dec_hidden,enc_out)\r\n",
        "        # storing the attention weights to plot later on\r\n",
        "        attention_weights = tf.reshape(attention_weights, (-1, ))\r\n",
        "        attention_plot[t] = attention_weights.numpy()\r\n",
        "        predicted_id = tf.argmax(predictions[0]).numpy()\r\n",
        "        result += targ_lang.index_word[predicted_id] + ' '\r\n",
        "        if targ_lang.index_word[predicted_id] == '<end>':\r\n",
        "            return result, sentence, attention_plot\r\n",
        "        # the predicted ID is fed back into the model\r\n",
        "        dec_input = tf.expand_dims([predicted_id], 0)\r\n",
        "    return result, sentence, attention_plot"
      ],
      "execution_count": 32,
      "outputs": []
    },
    {
      "cell_type": "code",
      "metadata": {
        "id": "ljxAmwz9EwF8"
      },
      "source": [
        "def plot_attention(attention, sentence, predicted_sentence):\r\n",
        "    fig = plt.figure(figsize=(10,10))\r\n",
        "    ax = fig.add_subplot(1, 1, 1)\r\n",
        "    ax.matshow(attention, cmap='viridis')\r\n",
        "\r\n",
        "    fontdict = {'fontsize': 14}\r\n",
        "\r\n",
        "    ax.set_xticklabels([''] + sentence, fontdict=fontdict, rotation=90)\r\n",
        "    ax.set_yticklabels([''] + predicted_sentence, fontdict=fontdict)\r\n",
        "\r\n",
        "    ax.xaxis.set_major_locator(ticker.MultipleLocator(1))\r\n",
        "    ax.yaxis.set_major_locator(ticker.MultipleLocator(1))\r\n",
        "\r\n",
        "    plt.show()"
      ],
      "execution_count": 33,
      "outputs": []
    },
    {
      "cell_type": "code",
      "metadata": {
        "id": "LtoSpfMkExjt"
      },
      "source": [
        "def translate(sentence):\r\n",
        "\r\n",
        "    result, sentence, attention_plot = evaluate(sentence)\r\n",
        "\r\n",
        "    print('Input: %s' % (sentence))\r\n",
        "    print('Predicted translation: {}'.format(result))\r\n",
        "\r\n",
        "    attention_plot = attention_plot[:len(result.split(' ')), :len(sentence.split(' '))]\r\n",
        "    plot_attention(attention_plot, sentence.split(' '), result.split(' '))"
      ],
      "execution_count": 34,
      "outputs": []
    },
    {
      "cell_type": "code",
      "metadata": {
        "id": "cn70PeXhFMGr"
      },
      "source": [
        "import numpy as np\r\n",
        "import matplotlib.pyplot as plt\r\n",
        "import matplotlib.ticker as ticker"
      ],
      "execution_count": 35,
      "outputs": []
    },
    {
      "cell_type": "code",
      "metadata": {
        "colab": {
          "base_uri": "https://localhost:8080/",
          "height": 675
        },
        "id": "7f82tco6rlWh",
        "outputId": "e8f69ac5-f4db-4ae5-f5e7-2c0b9bb107a2"
      },
      "source": [
        "translate(u'how are you?')"
      ],
      "execution_count": 36,
      "outputs": [
        {
          "output_type": "stream",
          "text": [
            "Input: <start> how are you ? <end>\n",
            "Predicted translation: ¿ como te ? <end> \n"
          ],
          "name": "stdout"
        },
        {
          "output_type": "display_data",
          "data": {
            "image/png": "[encoded data removed]",
            "text/plain": [
              "<Figure size 720x720 with 1 Axes>"
            ]
          },
          "metadata": {
            "tags": [],
            "needs_background": "light"
          }
        }
      ]
    },
    {
      "cell_type": "code",
      "metadata": {
        "id": "GdgZArrYFIzo",
        "colab": {
          "base_uri": "https://localhost:8080/",
          "height": 597
        },
        "outputId": "30c0059e-9942-4e15-a807-8c699b1adc0a"
      },
      "source": [
        "translate(u'i am good.')"
      ],
      "execution_count": 37,
      "outputs": [
        {
          "output_type": "stream",
          "text": [
            "Input: <start> i am good . <end>\n",
            "Predicted translation: soy bueno . <end> \n"
          ],
          "name": "stdout"
        },
        {
          "output_type": "display_data",
          "data": {
            "image/png": "[encoded data removed]",
            "text/plain": [
              "<Figure size 720x720 with 1 Axes>"
            ]
          },
          "metadata": {
            "tags": [],
            "needs_background": "light"
          }
        }
      ]
    },
    {
      "cell_type": "code",
      "metadata": {
        "colab": {
          "base_uri": "https://localhost:8080/",
          "height": 675
        },
        "id": "vJ4HqcmUFK9-",
        "outputId": "a4e45556-8ea9-4aa8-a00a-4fcdfa13eee0"
      },
      "source": [
        "translate(u'i am going to school')"
      ],
      "execution_count": 38,
      "outputs": [
        {
          "output_type": "stream",
          "text": [
            "Input: <start> i am going to school <end>\n",
            "Predicted translation: voy a la escuela . <end> \n"
          ],
          "name": "stdout"
        },
        {
          "output_type": "display_data",
          "data": {
            "image/png": "[encoded data removed]",
            "text/plain": [
              "<Figure size 720x720 with 1 Axes>"
            ]
          },
          "metadata": {
            "tags": [],
            "needs_background": "light"
          }
        }
      ]
    },
    {
      "cell_type": "code",
      "metadata": {
        "colab": {
          "base_uri": "https://localhost:8080/",
          "height": 675
        },
        "id": "6mYXg0wOrvSG",
        "outputId": "372da42b-9b3a-4dca-bcd6-6e843dc1532b"
      },
      "source": [
        "translate(u'let us go home now')"
      ],
      "execution_count": 39,
      "outputs": [
        {
          "output_type": "stream",
          "text": [
            "Input: <start> let us go home now <end>\n",
            "Predicted translation: dejanos irnos a casa ahora . <end> \n"
          ],
          "name": "stdout"
        },
        {
          "output_type": "display_data",
          "data": {
            "image/png": "[encoded data removed]",
            "text/plain": [
              "<Figure size 720x720 with 1 Axes>"
            ]
          },
          "metadata": {
            "tags": [],
            "needs_background": "light"
          }
        }
      ]
    }
  ]
}