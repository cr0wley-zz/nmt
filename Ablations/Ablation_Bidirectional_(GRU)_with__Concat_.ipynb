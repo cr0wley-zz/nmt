{
  "nbformat": 4,
  "nbformat_minor": 0,
  "metadata": {
    "accelerator": "GPU",
    "colab": {
      "name": "Ablation - Bidirectional (GRU) with \"Concat\".ipynb",
      "provenance": [],
      "collapsed_sections": []
    },
    "kernelspec": {
      "display_name": "Python 3",
      "language": "python",
      "name": "python3"
    },
    "language_info": {
      "codemirror_mode": {
        "name": "ipython",
        "version": 3
      },
      "file_extension": ".py",
      "mimetype": "text/x-python",
      "name": "python",
      "nbconvert_exporter": "python",
      "pygments_lexer": "ipython3",
      "version": "3.7.4"
    }
  },
  "cells": [
    {
      "cell_type": "code",
      "metadata": {
        "colab": {
          "base_uri": "https://localhost:8080/"
        },
        "id": "wpKAi1vptvQn",
        "outputId": "6cca1cb3-6dc0-48dd-a786-ff04287d2112"
      },
      "source": [
        "# Which GPU is being used?\n",
        "! nvidia-smi"
      ],
      "execution_count": null,
      "outputs": [
        {
          "output_type": "stream",
          "text": [
            "Tue Mar  2 13:25:44 2021       \n",
            "+-----------------------------------------------------------------------------+\n",
            "| NVIDIA-SMI 460.39       Driver Version: 460.32.03    CUDA Version: 11.2     |\n",
            "|-------------------------------+----------------------+----------------------+\n",
            "| GPU  Name        Persistence-M| Bus-Id        Disp.A | Volatile Uncorr. ECC |\n",
            "| Fan  Temp  Perf  Pwr:Usage/Cap|         Memory-Usage | GPU-Util  Compute M. |\n",
            "|                               |                      |               MIG M. |\n",
            "|===============================+======================+======================|\n",
            "|   0  Tesla K80           Off  | 00000000:00:04.0 Off |                    0 |\n",
            "| N/A   34C    P8    27W / 149W |      0MiB / 11441MiB |      0%      Default |\n",
            "|                               |                      |                  N/A |\n",
            "+-------------------------------+----------------------+----------------------+\n",
            "                                                                               \n",
            "+-----------------------------------------------------------------------------+\n",
            "| Processes:                                                                  |\n",
            "|  GPU   GI   CI        PID   Type   Process name                  GPU Memory |\n",
            "|        ID   ID                                                   Usage      |\n",
            "|=============================================================================|\n",
            "|  No running processes found                                                 |\n",
            "+-----------------------------------------------------------------------------+\n"
          ],
          "name": "stdout"
        }
      ]
    },
    {
      "cell_type": "markdown",
      "metadata": {
        "id": "D7P5aktQJXJW"
      },
      "source": [
        "# Introduction\n",
        "This notebook holds our experiments on Neural Machine Translation with Attention mechanism.\n",
        "Some notes:\n",
        "- Bahdanau\n",
        "- Luong\n",
        "- Softmax vs Sigmoid\n",
        "- Wrapping the function with `moodel.fit`\n",
        "\n",
        "We have taken heavy inspiration from the official [TensorFlow guide](https://www.tensorflow.org/tutorials/text/nmt_with_attention).\n",
        "> A note for the readers: We will be importing packages as we go along. You will not be looking at all the imports at one place."
      ]
    },
    {
      "cell_type": "code",
      "metadata": {
        "id": "5yz111FIXuc8"
      },
      "source": [
        "import tensorflow as tf\n",
        "from tensorflow.keras import layers as L"
      ],
      "execution_count": 7,
      "outputs": []
    },
    {
      "cell_type": "code",
      "metadata": {
        "id": "pdpEPm-kUuoz"
      },
      "source": [
        "tf.random.set_seed(7)"
      ],
      "execution_count": 8,
      "outputs": []
    },
    {
      "cell_type": "markdown",
      "metadata": {
        "id": "fZ8ZnvZWamdi"
      },
      "source": [
        "# Utilities And Downloads\n",
        "\n",
        "We use `tf.keras.utils.get_file` to download the English to Spanish dataset hosted by Google. We define the file name where the script will save the dataset"
      ]
    },
    {
      "cell_type": "code",
      "metadata": {
        "colab": {
          "base_uri": "https://localhost:8080/"
        },
        "id": "ybK1mMMaX1rj",
        "outputId": "6059f423-fa02-431b-884b-7d7f91a8b600"
      },
      "source": [
        "# Download the file\n",
        "path_to_zip = tf.keras.utils.get_file(\n",
        "    'spa-eng.zip',\n",
        "    origin='http://storage.googleapis.com/download.tensorflow.org/data/spa-eng.zip',\n",
        "    extract=True\n",
        ")\n",
        "\n",
        "print(f\"[INFO] PATH TO ZIP: {path_to_zip}\")"
      ],
      "execution_count": 9,
      "outputs": [
        {
          "output_type": "stream",
          "text": [
            "Downloading data from http://storage.googleapis.com/download.tensorflow.org/data/spa-eng.zip\n",
            "2646016/2638744 [==============================] - 0s 0us/step\n",
            "[INFO] PATH TO ZIP: /root/.keras/datasets/spa-eng.zip\n"
          ],
          "name": "stdout"
        }
      ]
    },
    {
      "cell_type": "code",
      "metadata": {
        "id": "Ysf93J57aJzn"
      },
      "source": [
        "import os"
      ],
      "execution_count": 10,
      "outputs": []
    },
    {
      "cell_type": "code",
      "metadata": {
        "colab": {
          "base_uri": "https://localhost:8080/"
        },
        "id": "n712-Bw4ZbtM",
        "outputId": "3dd1c31c-dd44-4067-c492-151fdd536b38"
      },
      "source": [
        "path_to_file = os.path.dirname(path_to_zip)+\"/spa-eng/spa.txt\"\n",
        "\n",
        "print(f\"[INFO] PATH TO FILE: {path_to_file}\")"
      ],
      "execution_count": 11,
      "outputs": [
        {
          "output_type": "stream",
          "text": [
            "[INFO] PATH TO FILE: /root/.keras/datasets/spa-eng/spa.txt\n"
          ],
          "name": "stdout"
        }
      ]
    },
    {
      "cell_type": "markdown",
      "metadata": {
        "id": "Z_Vw3-oXbfC2"
      },
      "source": [
        "# Cleaner functions\n",
        "\n"
      ]
    },
    {
      "cell_type": "code",
      "metadata": {
        "id": "ITOzXiv-cEaq"
      },
      "source": [
        "import unicodedata\n",
        "import re"
      ],
      "execution_count": 12,
      "outputs": []
    },
    {
      "cell_type": "code",
      "metadata": {
        "id": "rEwkRZ3vYAQN"
      },
      "source": [
        "def unicode_to_ascii(s):\n",
        "    return ''.join(c for c in unicodedata.normalize('NFD', s)\n",
        "    if unicodedata.category(c) != 'Mn')"
      ],
      "execution_count": 13,
      "outputs": []
    },
    {
      "cell_type": "code",
      "metadata": {
        "id": "ZYED3VNhdeN-"
      },
      "source": [
        "def preprocess_sentence(w):\n",
        "    w = unicode_to_ascii(w.lower().strip())\n",
        "    # creating a space between a word and the punctuation following it\n",
        "    # eg: \"he is a boy.\" => \"he is a boy .\"\n",
        "    # Reference:- https://stackoverflow.com/questions/3645931/python-padding-punctuation-with-white-spaces-keeping-punctuation\n",
        "    w = re.sub(r\"([?.!,¿])\", r\" \\1 \", w)\n",
        "    w = re.sub(r'[\" \"]+', \" \", w)\n",
        "    # replacing everything with space except (a-z, A-Z, \".\", \"?\", \"!\", \",\")\n",
        "    w = re.sub(r\"[^a-zA-Z?.!,¿]+\", \" \", w)\n",
        "    w = w.strip()\n",
        "    # adding a start and an end token to the sentence\n",
        "    # so that the model know when to start and stop predicting.\n",
        "    w = '<start> ' + w + ' <end>'\n",
        "    return w"
      ],
      "execution_count": 14,
      "outputs": []
    },
    {
      "cell_type": "code",
      "metadata": {
        "colab": {
          "base_uri": "https://localhost:8080/"
        },
        "id": "ThKXoortYFhm",
        "outputId": "4b577b6e-74e9-41fd-9bf9-3a6493063511"
      },
      "source": [
        "en_sentence = u\"May I borrow this book?\"\n",
        "sp_sentence = u\"¿Puedo tomar prestado este libro?\"\n",
        "print(preprocess_sentence(en_sentence))\n",
        "print(preprocess_sentence(sp_sentence).encode('utf-8'))"
      ],
      "execution_count": 15,
      "outputs": [
        {
          "output_type": "stream",
          "text": [
            "<start> may i borrow this book ? <end>\n",
            "b'<start> \\xc2\\xbf puedo tomar prestado este libro ? <end>'\n"
          ],
          "name": "stdout"
        }
      ]
    },
    {
      "cell_type": "code",
      "metadata": {
        "id": "cYqDUD4be3jz"
      },
      "source": [
        "import io"
      ],
      "execution_count": 16,
      "outputs": []
    },
    {
      "cell_type": "code",
      "metadata": {
        "id": "Q742cxMNYHN2"
      },
      "source": [
        "def create_dataset(path, num_examples):\n",
        "    lines = io.open(path, encoding='UTF-8').read().strip().split('\\n')\n",
        "\n",
        "    word_pairs = [[preprocess_sentence(w) for w in l.split('\\t')]  for l in lines[:num_examples]]\n",
        "\n",
        "    return zip(*word_pairs)"
      ],
      "execution_count": 17,
      "outputs": []
    },
    {
      "cell_type": "code",
      "metadata": {
        "colab": {
          "base_uri": "https://localhost:8080/"
        },
        "id": "YDpyz-fTYN0p",
        "outputId": "a2f4beb8-122d-4f85-fcbb-61351c0fe00f"
      },
      "source": [
        "en, sp = create_dataset(path_to_file, None)\n",
        "print(en[-1])\n",
        "print(sp[-1])"
      ],
      "execution_count": 18,
      "outputs": [
        {
          "output_type": "stream",
          "text": [
            "<start> if you want to sound like a native speaker , you must be willing to practice saying the same sentence over and over in the same way that banjo players practice the same phrase over and over until they can play it correctly and at the desired tempo . <end>\n",
            "<start> si quieres sonar como un hablante nativo , debes estar dispuesto a practicar diciendo la misma frase una y otra vez de la misma manera en que un musico de banjo practica el mismo fraseo una y otra vez hasta que lo puedan tocar correctamente y en el tiempo esperado . <end>\n"
          ],
          "name": "stdout"
        }
      ]
    },
    {
      "cell_type": "code",
      "metadata": {
        "id": "AGN6i1X8YbWd"
      },
      "source": [
        "def tokenize(lang):\n",
        "    lang_tokenizer = tf.keras.preprocessing.text.Tokenizer(\n",
        "        filters='')\n",
        "    lang_tokenizer.fit_on_texts(lang)\n",
        "\n",
        "    tensor = lang_tokenizer.texts_to_sequences(lang)\n",
        "\n",
        "    tensor = tf.keras.preprocessing.sequence.pad_sequences(\n",
        "        tensor,\n",
        "        padding='post')\n",
        "\n",
        "    return tensor, lang_tokenizer"
      ],
      "execution_count": 19,
      "outputs": []
    },
    {
      "cell_type": "code",
      "metadata": {
        "id": "fELGs7xTgeGU"
      },
      "source": [
        "def load_dataset(path, num_examples=None):\n",
        "    # creating cleaned input, output pairs\n",
        "    inp_lang, targ_lang = create_dataset(path , num_examples)\n",
        "\n",
        "    input_tensor, inp_lang_tokenizer = tokenize(inp_lang)\n",
        "    target_tensor, targ_lang_tokenizer = tokenize(targ_lang)\n",
        "\n",
        "    return input_tensor, target_tensor, inp_lang_tokenizer, targ_lang_tokenizer"
      ],
      "execution_count": 20,
      "outputs": []
    },
    {
      "cell_type": "code",
      "metadata": {
        "id": "QVVJScpohR8f"
      },
      "source": [
        "num_examples = 40000\n",
        "(input_tensor,target_tensor,inp_lang,targ_lang) = load_dataset(path_to_file,num_examples)\n",
        "\n",
        "# Calculate max_length of the target tensors\n",
        "max_length_targ, max_length_inp = target_tensor.shape[1], input_tensor.shape[1]"
      ],
      "execution_count": 21,
      "outputs": []
    },
    {
      "cell_type": "code",
      "metadata": {
        "id": "97jXhf-OiV2M"
      },
      "source": [
        "from sklearn.model_selection import train_test_split"
      ],
      "execution_count": 22,
      "outputs": []
    },
    {
      "cell_type": "code",
      "metadata": {
        "colab": {
          "base_uri": "https://localhost:8080/"
        },
        "id": "3saxDFMZiIM-",
        "outputId": "3d070ec4-c16a-4c00-88d1-a12bc8338d8a"
      },
      "source": [
        "# Creating training and validation sets using an 80-20 split\n",
        "(input_tensor_train,input_tensor_val,target_tensor_train,target_tensor_val) = train_test_split(input_tensor,target_tensor,test_size=0.2)\n",
        "(input_tensor_train,input_tensor_test,target_tensor_train,target_tensor_test) = train_test_split(input_tensor,target_tensor,test_size=0.1)\n",
        "\n",
        "# Show length\n",
        "print(len(input_tensor_train),len(target_tensor_train),len(input_tensor_val),len(target_tensor_val),len(input_tensor_test),len(target_tensor_test))"
      ],
      "execution_count": 23,
      "outputs": [
        {
          "output_type": "stream",
          "text": [
            "36000 36000 8000 8000 4000 4000\n"
          ],
          "name": "stdout"
        }
      ]
    },
    {
      "cell_type": "code",
      "metadata": {
        "id": "6n7OY60fiXvW"
      },
      "source": [
        "def convert(lang, tensor):\n",
        "    for t in tensor:\n",
        "        if t!=0:\n",
        "            print (\"%d ----> %s\" % (t, lang.index_word[t]))"
      ],
      "execution_count": 24,
      "outputs": []
    },
    {
      "cell_type": "code",
      "metadata": {
        "colab": {
          "base_uri": "https://localhost:8080/"
        },
        "id": "PtEmQiqhimFW",
        "outputId": "62d5c828-bdd4-43ad-9f9f-1f5bae6cfde6"
      },
      "source": [
        "print (\"Input Language; index to word mapping\")\n",
        "convert(inp_lang, input_tensor_train[0])\n",
        "print ()\n",
        "print (\"Target Language; index to word mapping\")\n",
        "convert(targ_lang, target_tensor_train[0])"
      ],
      "execution_count": 25,
      "outputs": [
        {
          "output_type": "stream",
          "text": [
            "Input Language; index to word mapping\n",
            "1 ----> <start>\n",
            "17 ----> we\n",
            "27 ----> re\n",
            "632 ----> trying\n",
            "3 ----> .\n",
            "2 ----> <end>\n",
            "\n",
            "Target Language; index to word mapping\n",
            "1 ----> <start>\n",
            "18 ----> lo\n",
            "4319 ----> intentamos\n",
            "3 ----> .\n",
            "2 ----> <end>\n"
          ],
          "name": "stdout"
        }
      ]
    },
    {
      "cell_type": "code",
      "metadata": {
        "id": "nQEuR_EminQm"
      },
      "source": [
        "# GLOBAL VARIABLES\n",
        "BUFFER_SIZE_TRAIN = len(input_tensor_train)\n",
        "BUFFER_SIZE_VAL = len(input_tensor_val)\n",
        "BATCH_SIZE = 1000\n",
        "steps_per_epoch = len(input_tensor_train)//BATCH_SIZE\n",
        "embedding_dim = 512\n",
        "units = 1024\n",
        "vocab_inp_size = len(inp_lang.word_index)+1\n",
        "vocab_tar_size = len(targ_lang.word_index)+1\n",
        "\n",
        "train_ds = tf.data.Dataset.from_tensor_slices((input_tensor_train, target_tensor_train)).shuffle(BUFFER_SIZE_TRAIN)\n",
        "train_ds = train_ds.batch(BATCH_SIZE, drop_remainder=True)\n",
        "\n",
        "val_ds = tf.data.Dataset.from_tensor_slices((input_tensor_val, target_tensor_val)).shuffle(BUFFER_SIZE_VAL)\n",
        "val_ds = val_ds.batch(BATCH_SIZE, drop_remainder=True)"
      ],
      "execution_count": 26,
      "outputs": []
    },
    {
      "cell_type": "code",
      "metadata": {
        "colab": {
          "base_uri": "https://localhost:8080/"
        },
        "id": "ZiqsOP8bjCUu",
        "outputId": "721c5198-d107-4566-dda0-0cfda32f4567"
      },
      "source": [
        "# check the shape\n",
        "for en,sp in train_ds.take(1):\n",
        "    print(sp.shape)\n",
        "    print(en.shape)"
      ],
      "execution_count": 27,
      "outputs": [
        {
          "output_type": "stream",
          "text": [
            "(1000, 16)\n",
            "(1000, 12)\n"
          ],
          "name": "stdout"
        }
      ]
    },
    {
      "cell_type": "code",
      "metadata": {
        "id": "61NDaiqkjH6I"
      },
      "source": [
        "class Encoder(tf.keras.Model):\n",
        "  def __init__(self,\n",
        "               vocab_size,\n",
        "               embedding_dim,\n",
        "               enc_units,\n",
        "               batch_sz):\n",
        "    super(Encoder, self).__init__()\n",
        "    self.batch_sz = batch_sz\n",
        "    self.enc_units = enc_units\n",
        "    self.embedding = L.Embedding(vocab_size, embedding_dim)\n",
        "    self.gru = L.GRU(self.enc_units,\n",
        "                     return_sequences=True,\n",
        "                     return_state=True,\n",
        "                     recurrent_initializer='glorot_uniform')\n",
        "    self.bidirection = L.Bidirectional(self.gru, merge_mode='concat' )\n",
        "\n",
        "  def call(self,\n",
        "           x,\n",
        "           hidden_fd,\n",
        "           hidden_bd):\n",
        "    x = self.embedding(x)\n",
        "    output, fd_state, bd_state = self.bidirection(x, initial_state = [hidden_fd, hidden_bd])\n",
        "    return output, fd_state, bd_state\n",
        "\n",
        "  def initialize_hidden_state(self):\n",
        "    return [tf.zeros((self.batch_sz, self.enc_units)) for i in range(2)]"
      ],
      "execution_count": 28,
      "outputs": []
    },
    {
      "cell_type": "code",
      "metadata": {
        "colab": {
          "base_uri": "https://localhost:8080/"
        },
        "id": "yNspKGi1jThL",
        "outputId": "0d43bda0-12ab-4aa5-d862-96893449041e"
      },
      "source": [
        "encoder = Encoder(vocab_inp_size, embedding_dim, units, BATCH_SIZE)\n",
        "\n",
        "# sample input\n",
        "initial_fwd, initial_bck = encoder.initialize_hidden_state()\n",
        "for en, sp in train_ds.take(1):\n",
        "    sample_output, sample_hidden_fwd, sample_hidden_bck = encoder(en, initial_fwd, initial_bck)\n",
        "    print ('Encoder output shape: (batch size, sequence length, units) {}'.format(sample_output.shape))\n",
        "    print ('Encoder Hidden FWD state shape: (batch size, units) {}'.format(sample_hidden_fwd.shape))\n",
        "    print ('Encoder Hidden FWD state shape: (batch size, units) {}'.format(sample_hidden_bck.shape))"
      ],
      "execution_count": 29,
      "outputs": [
        {
          "output_type": "stream",
          "text": [
            "Encoder output shape: (batch size, sequence length, units) (1000, 12, 2048)\n",
            "Encoder Hidden FWD state shape: (batch size, units) (1000, 1024)\n",
            "Encoder Hidden FWD state shape: (batch size, units) (1000, 1024)\n"
          ],
          "name": "stdout"
        }
      ]
    },
    {
      "cell_type": "code",
      "metadata": {
        "id": "EE7jy2ACkj7r"
      },
      "source": [
        "class BahdanauAttention(tf.keras.layers.Layer):\n",
        "  def __init__(self, units):\n",
        "    super(BahdanauAttention, self).__init__()\n",
        "    self.W1 = L.Dense(units)\n",
        "    self.W2 = L.Dense(units)\n",
        "    self.V = L.Dense(1)\n",
        "\n",
        "  def call(self, query, values):\n",
        "    # Query Decoder Hidden state, Values belongs is the Encoder output\n",
        "    # query hidden state shape == (batch_size, hidden size)\n",
        "    # query_with_time_axis shape == (batch_size, 1, hidden size)\n",
        "    # values shape == (batch_size, max_len, hidden size)\n",
        "    # we are doing this to broadcast addition along the time axis to calculate the score\n",
        "    query_with_time_axis = tf.expand_dims(query, 1)\n",
        "\n",
        "    # score shape == (batch_size, max_length, 1)\n",
        "    # we get 1 at the last axis because we are applying score to self.V\n",
        "    # the shape of the tensor before applying self.V is (batch_size, max_length, units)\n",
        "    score = self.V(tf.nn.tanh(\n",
        "        self.W1(query_with_time_axis) + self.W2(values)))\n",
        "\n",
        "    # attention_weights shape == (batch_size, max_length, 1)\n",
        "    attention_weights = tf.nn.softmax(score, axis=1)\n",
        "    \n",
        "    # context_vector shape after sum == (batch_size, hidden_size)\n",
        "    context_vector = attention_weights * values\n",
        "    context_vector = tf.reduce_sum(context_vector, axis=1)\n",
        "\n",
        "    return context_vector, attention_weights"
      ],
      "execution_count": 30,
      "outputs": []
    },
    {
      "cell_type": "code",
      "metadata": {
        "id": "2YPxwKuwlGr1"
      },
      "source": [
        "class Decoder(tf.keras.Model):\n",
        "  def __init__(self, vocab_size, embedding_dim, dec_units, batch_sz):\n",
        "    super(Decoder, self).__init__()\n",
        "    self.batch_sz = batch_sz\n",
        "    self.dec_units = dec_units\n",
        "    self.embedding = L.Embedding(vocab_size, embedding_dim)\n",
        "    self.gru = L.GRU(self.dec_units,\n",
        "                     return_sequences=True,\n",
        "                     return_state=True,\n",
        "                     recurrent_initializer='glorot_uniform')\n",
        "    self.fc = L.Dense(vocab_size)\n",
        "    # used for attention\n",
        "    self.attention = BahdanauAttention(self.dec_units)\n",
        "\n",
        "  def call(self, x, hidden, enc_output):\n",
        "    # enc_output shape == (batch_size, max_length, hidden_size)\n",
        "    context_vector, attention_weights = self.attention(hidden, enc_output)\n",
        "    # x shape after passing through embedding == (batch_size, 1, embedding_dim)\n",
        "    x = self.embedding(x)\n",
        "    # x shape after concatenation == (batch_size, 1, embedding_dim + hidden_size)\n",
        "    x = tf.concat([tf.expand_dims(context_vector, 1), x], axis=-1)\n",
        "    # passing the concatenated vector to the GRU\n",
        "    output, state = self.gru(x)\n",
        "    # output shape == (batch_size * 1, hidden_size)\n",
        "    output = tf.reshape(output, (-1, output.shape[2]))\n",
        "    # output shape == (batch_size, vocab)\n",
        "    x = self.fc(output)\n",
        "    return x, state, attention_weights"
      ],
      "execution_count": 31,
      "outputs": []
    },
    {
      "cell_type": "code",
      "metadata": {
        "colab": {
          "base_uri": "https://localhost:8080/"
        },
        "id": "kA4jNHG0lJ52",
        "outputId": "98c03d33-734e-4c15-fcad-4e9b09040c34"
      },
      "source": [
        "encoder = Encoder(vocab_inp_size, embedding_dim, units, BATCH_SIZE)\n",
        "decoder = Decoder(vocab_tar_size, embedding_dim, units, BATCH_SIZE)\n",
        "\n",
        "initial_fwd, initial_bck = encoder.initialize_hidden_state()\n",
        "for en,sp in train_ds.take(1):\n",
        "    encoder_output, encoder_hidden_fwd, encoder_hidden_bck = encoder(en, initial_fwd, initial_bck)\n",
        "    dec_input = tf.expand_dims([targ_lang.word_index['<start>']] * BATCH_SIZE, 1)\n",
        "    decoder_output, decoder_hidden, att_weights = decoder(dec_input, encoder_hidden_fwd, encoder_output)\n",
        "\n",
        "    print ('Decoder output shape: (batch_size, vocab size) {}'.format(decoder_output.shape))"
      ],
      "execution_count": 32,
      "outputs": [
        {
          "output_type": "stream",
          "text": [
            "Decoder output shape: (batch_size, vocab size) (1000, 11281)\n"
          ],
          "name": "stdout"
        }
      ]
    },
    {
      "cell_type": "markdown",
      "metadata": {
        "id": "UDdohQmmukxV"
      },
      "source": [
        "# Model Class for easier training"
      ]
    },
    {
      "cell_type": "code",
      "metadata": {
        "colab": {
          "base_uri": "https://localhost:8080/"
        },
        "id": "IZHMpUufBy4h",
        "outputId": "f88ec39e-a70b-4c53-9c2e-4ff34adbac6a"
      },
      "source": [
        "for en, sp in val_ds.take(1):\n",
        "    print(en.shape)\n",
        "    print(sp.shape)"
      ],
      "execution_count": 33,
      "outputs": [
        {
          "output_type": "stream",
          "text": [
            "(1000, 12)\n",
            "(1000, 16)\n"
          ],
          "name": "stdout"
        }
      ]
    },
    {
      "cell_type": "code",
      "metadata": {
        "id": "3drm1HZdukcL"
      },
      "source": [
        "class NMT(tf.keras.Model):\n",
        "    def __init__(self, encoder, decoder):\n",
        "        super(NMT, self).__init__()\n",
        "        self.encoder = encoder\n",
        "        self.decoder = decoder\n",
        "\n",
        "    def train_step(self, data):\n",
        "        enc_hidden_fwd, enc_hidden_bck = self.encoder.initialize_hidden_state()\n",
        "        inp, targ = data\n",
        "        loss = 0\n",
        "        with tf.GradientTape() as tape:\n",
        "            enc_output, enc_hidden_fwd, enc_hidden_bck = self.encoder(inp, enc_hidden_fwd, enc_hidden_bck)\n",
        "            dec_hidden = enc_hidden_fwd\n",
        "            dec_input = tf.expand_dims([targ_lang.word_index['<start>']] * BATCH_SIZE, 1)\n",
        "            # Teacher forcing - feeding the target as the next input\n",
        "            for t in range(1, targ.shape[1]):\n",
        "                # passing enc_output to the decoder\n",
        "                predictions, dec_hidden, att_weights = self.decoder(dec_input, dec_hidden, enc_output)\n",
        "                loss += self.compiled_loss(targ[:, t], predictions)\n",
        "                # using teacher forcing\n",
        "                dec_input = tf.expand_dims(targ[:, t], 1)\n",
        "        batch_loss = (loss / int(targ.shape[1]))\n",
        "        variables = encoder.trainable_variables + decoder.trainable_variables\n",
        "        gradients = tape.gradient(loss, variables)\n",
        "        optimizer.apply_gradients(zip(gradients, variables))\n",
        "        return {\"custom_loss\": batch_loss}\n",
        "    \n",
        "    def test_step(self, data):\n",
        "        enc_hidden_fwd, enc_hidden_bck = self.encoder.initialize_hidden_state()\n",
        "        inp, targ = data\n",
        "        loss = 0\n",
        "        enc_output, enc_hidden_fwd, enc_hidden_bck = self.encoder(inp, enc_hidden_fwd, enc_hidden_bck)\n",
        "        dec_hidden = enc_hidden_fwd\n",
        "        dec_input = tf.expand_dims([targ_lang.word_index['<start>']] * BATCH_SIZE, 1)\n",
        "        # Teacher forcing - feeding the target as the next input\n",
        "        for t in range(1, targ.shape[1]):\n",
        "            # passing enc_output to the decoder\n",
        "            predictions, dec_hidden, att_weights = self.decoder(dec_input, dec_hidden, enc_output)\n",
        "            loss += self.compiled_loss(targ[:, t], predictions)\n",
        "            # using teacher forcing\n",
        "            dec_input = tf.expand_dims(targ[:, t], 1)\n",
        "        batch_loss = (loss / int(targ.shape[1]))\n",
        "        return {\"custom_loss\": batch_loss}"
      ],
      "execution_count": 34,
      "outputs": []
    },
    {
      "cell_type": "code",
      "metadata": {
        "id": "KMt2NvOiDkN0"
      },
      "source": [
        "# Early Stopping to prevent overfitting\n",
        "es = tf.keras.callbacks.EarlyStopping(monitor=\"val_custom_loss\", patience=5, verbose=2, restore_best_weights=True)"
      ],
      "execution_count": 35,
      "outputs": []
    },
    {
      "cell_type": "code",
      "metadata": {
        "colab": {
          "base_uri": "https://localhost:8080/"
        },
        "id": "NN0v-i_CxDdb",
        "outputId": "879e21ef-0c9f-4e14-b05c-26caf0f71bbb"
      },
      "source": [
        "EPOCHS=100\n",
        "encoder = Encoder(vocab_inp_size, embedding_dim, units, BATCH_SIZE)\n",
        "decoder = Decoder(vocab_tar_size, embedding_dim, units, BATCH_SIZE)\n",
        "\n",
        "optimizer = tf.keras.optimizers.Adam()\n",
        "loss_object = tf.keras.losses.SparseCategoricalCrossentropy(\n",
        "    from_logits=True,\n",
        "    reduction='none')\n",
        "\n",
        "def loss_function(real, pred):\n",
        "    mask = tf.math.logical_not(tf.math.equal(real, 0))\n",
        "    loss_ = loss_object(real, pred)\n",
        "    mask = tf.cast(mask, dtype=loss_.dtype)\n",
        "    loss_ *= mask\n",
        "\n",
        "    return tf.reduce_mean(loss_)\n",
        "\n",
        "main_model = NMT(encoder, decoder)\n",
        "main_model.compile(loss=loss_function, optimizer=optimizer)\n",
        "\n",
        "history = main_model.fit(\n",
        "    train_ds,\n",
        "    validation_data=val_ds,\n",
        "    callbacks=[es],\n",
        "    epochs=EPOCHS)"
      ],
      "execution_count": 36,
      "outputs": [
        {
          "output_type": "stream",
          "text": [
            "Epoch 1/100\n",
            "36/36 [==============================] - 137s 3s/step - custom_loss: 2.2226 - val_custom_loss: 1.9281\n",
            "Epoch 2/100\n",
            "36/36 [==============================] - 114s 3s/step - custom_loss: 1.7784 - val_custom_loss: 1.6558\n",
            "Epoch 3/100\n",
            "36/36 [==============================] - 114s 3s/step - custom_loss: 1.6047 - val_custom_loss: 1.5548\n",
            "Epoch 4/100\n",
            "36/36 [==============================] - 114s 3s/step - custom_loss: 1.4922 - val_custom_loss: 1.4317\n",
            "Epoch 5/100\n",
            "36/36 [==============================] - 115s 3s/step - custom_loss: 1.3767 - val_custom_loss: 1.3145\n",
            "Epoch 6/100\n",
            "36/36 [==============================] - 115s 3s/step - custom_loss: 1.2750 - val_custom_loss: 1.2332\n",
            "Epoch 7/100\n",
            "36/36 [==============================] - 115s 3s/step - custom_loss: 1.2028 - val_custom_loss: 1.1361\n",
            "Epoch 8/100\n",
            "36/36 [==============================] - 114s 3s/step - custom_loss: 1.1252 - val_custom_loss: 1.0955\n",
            "Epoch 9/100\n",
            "36/36 [==============================] - 114s 3s/step - custom_loss: 1.0555 - val_custom_loss: 1.0120\n",
            "Epoch 10/100\n",
            "36/36 [==============================] - 115s 3s/step - custom_loss: 0.9899 - val_custom_loss: 0.9265\n",
            "Epoch 11/100\n",
            "36/36 [==============================] - 115s 3s/step - custom_loss: 0.9185 - val_custom_loss: 0.8783\n",
            "Epoch 12/100\n",
            "36/36 [==============================] - 115s 3s/step - custom_loss: 0.8502 - val_custom_loss: 0.8059\n",
            "Epoch 13/100\n",
            "36/36 [==============================] - 114s 3s/step - custom_loss: 0.7837 - val_custom_loss: 0.7508\n",
            "Epoch 14/100\n",
            "36/36 [==============================] - 115s 3s/step - custom_loss: 0.7206 - val_custom_loss: 0.6726\n",
            "Epoch 15/100\n",
            "36/36 [==============================] - 115s 3s/step - custom_loss: 0.6579 - val_custom_loss: 0.6446\n",
            "Epoch 16/100\n",
            "36/36 [==============================] - 115s 3s/step - custom_loss: 0.6009 - val_custom_loss: 0.5678\n",
            "Epoch 17/100\n",
            "36/36 [==============================] - 114s 3s/step - custom_loss: 0.5460 - val_custom_loss: 0.5126\n",
            "Epoch 18/100\n",
            "36/36 [==============================] - 114s 3s/step - custom_loss: 0.4995 - val_custom_loss: 0.4912\n",
            "Epoch 19/100\n",
            "36/36 [==============================] - 113s 3s/step - custom_loss: 0.4544 - val_custom_loss: 0.4326\n",
            "Epoch 20/100\n",
            "36/36 [==============================] - 112s 3s/step - custom_loss: 0.4136 - val_custom_loss: 0.4106\n",
            "Epoch 21/100\n",
            "36/36 [==============================] - 112s 3s/step - custom_loss: 0.3820 - val_custom_loss: 0.3799\n",
            "Epoch 22/100\n",
            "36/36 [==============================] - 112s 3s/step - custom_loss: 0.3482 - val_custom_loss: 0.3467\n",
            "Epoch 23/100\n",
            "36/36 [==============================] - 112s 3s/step - custom_loss: 0.3200 - val_custom_loss: 0.3230\n",
            "Epoch 24/100\n",
            "36/36 [==============================] - 112s 3s/step - custom_loss: 0.2942 - val_custom_loss: 0.2976\n",
            "Epoch 25/100\n",
            "36/36 [==============================] - 112s 3s/step - custom_loss: 0.2720 - val_custom_loss: 0.2919\n",
            "Epoch 26/100\n",
            "36/36 [==============================] - 113s 3s/step - custom_loss: 0.2546 - val_custom_loss: 0.2636\n",
            "Epoch 27/100\n",
            "36/36 [==============================] - 114s 3s/step - custom_loss: 0.2369 - val_custom_loss: 0.2512\n",
            "Epoch 28/100\n",
            "36/36 [==============================] - 114s 3s/step - custom_loss: 0.2222 - val_custom_loss: 0.2478\n",
            "Epoch 29/100\n",
            "36/36 [==============================] - 114s 3s/step - custom_loss: 0.2079 - val_custom_loss: 0.2343\n",
            "Epoch 30/100\n",
            "36/36 [==============================] - 114s 3s/step - custom_loss: 0.1958 - val_custom_loss: 0.2164\n",
            "Epoch 31/100\n",
            "36/36 [==============================] - 115s 3s/step - custom_loss: 0.1839 - val_custom_loss: 0.2261\n",
            "Epoch 32/100\n",
            "36/36 [==============================] - 114s 3s/step - custom_loss: 0.1744 - val_custom_loss: 0.2080\n",
            "Epoch 33/100\n",
            "36/36 [==============================] - 114s 3s/step - custom_loss: 0.1647 - val_custom_loss: 0.2003\n",
            "Epoch 34/100\n",
            "36/36 [==============================] - 114s 3s/step - custom_loss: 0.1558 - val_custom_loss: 0.1925\n",
            "Epoch 35/100\n",
            "36/36 [==============================] - 114s 3s/step - custom_loss: 0.1484 - val_custom_loss: 0.1916\n",
            "Epoch 36/100\n",
            "36/36 [==============================] - 115s 3s/step - custom_loss: 0.1403 - val_custom_loss: 0.1795\n",
            "Epoch 37/100\n",
            "36/36 [==============================] - 114s 3s/step - custom_loss: 0.1335 - val_custom_loss: 0.1714\n",
            "Epoch 38/100\n",
            "36/36 [==============================] - 114s 3s/step - custom_loss: 0.1268 - val_custom_loss: 0.1740\n",
            "Epoch 39/100\n",
            "36/36 [==============================] - 114s 3s/step - custom_loss: 0.1210 - val_custom_loss: 0.1850\n",
            "Epoch 40/100\n",
            "36/36 [==============================] - 114s 3s/step - custom_loss: 0.1150 - val_custom_loss: 0.1584\n",
            "Epoch 41/100\n",
            "36/36 [==============================] - 114s 3s/step - custom_loss: 0.1095 - val_custom_loss: 0.1544\n",
            "Epoch 42/100\n",
            "36/36 [==============================] - 114s 3s/step - custom_loss: 0.1065 - val_custom_loss: 0.1697\n",
            "Epoch 43/100\n",
            "36/36 [==============================] - 114s 3s/step - custom_loss: 0.1019 - val_custom_loss: 0.1406\n",
            "Epoch 44/100\n",
            "36/36 [==============================] - 112s 3s/step - custom_loss: 0.0956 - val_custom_loss: 0.1487\n",
            "Epoch 45/100\n",
            "36/36 [==============================] - 112s 3s/step - custom_loss: 0.0914 - val_custom_loss: 0.1495\n",
            "Epoch 46/100\n",
            "36/36 [==============================] - 112s 3s/step - custom_loss: 0.0876 - val_custom_loss: 0.1510\n",
            "Epoch 47/100\n",
            "36/36 [==============================] - 112s 3s/step - custom_loss: 0.0838 - val_custom_loss: 0.1581\n",
            "Epoch 48/100\n",
            "36/36 [==============================] - 112s 3s/step - custom_loss: 0.0814 - val_custom_loss: 0.1291\n",
            "Epoch 49/100\n",
            "36/36 [==============================] - 112s 3s/step - custom_loss: 0.0782 - val_custom_loss: 0.1213\n",
            "Epoch 50/100\n",
            "36/36 [==============================] - 112s 3s/step - custom_loss: 0.0756 - val_custom_loss: 0.1358\n",
            "Epoch 51/100\n",
            "36/36 [==============================] - 112s 3s/step - custom_loss: 0.0727 - val_custom_loss: 0.1177\n",
            "Epoch 52/100\n",
            "36/36 [==============================] - 112s 3s/step - custom_loss: 0.0696 - val_custom_loss: 0.1402\n",
            "Epoch 53/100\n",
            "36/36 [==============================] - 112s 3s/step - custom_loss: 0.0679 - val_custom_loss: 0.1280\n",
            "Epoch 54/100\n",
            "36/36 [==============================] - 112s 3s/step - custom_loss: 0.0650 - val_custom_loss: 0.1289\n",
            "Epoch 55/100\n",
            "36/36 [==============================] - 112s 3s/step - custom_loss: 0.0630 - val_custom_loss: 0.1132\n",
            "Epoch 56/100\n",
            "36/36 [==============================] - 112s 3s/step - custom_loss: 0.0610 - val_custom_loss: 0.1205\n",
            "Epoch 57/100\n",
            "36/36 [==============================] - 112s 3s/step - custom_loss: 0.0586 - val_custom_loss: 0.1252\n",
            "Epoch 58/100\n",
            "36/36 [==============================] - 112s 3s/step - custom_loss: 0.0569 - val_custom_loss: 0.1201\n",
            "Epoch 59/100\n",
            "36/36 [==============================] - 112s 3s/step - custom_loss: 0.0551 - val_custom_loss: 0.1375\n",
            "Epoch 60/100\n",
            "36/36 [==============================] - 112s 3s/step - custom_loss: 0.0538 - val_custom_loss: 0.1136\n",
            "Restoring model weights from the end of the best epoch.\n",
            "Epoch 00060: early stopping\n"
          ],
          "name": "stdout"
        }
      ]
    },
    {
      "cell_type": "markdown",
      "metadata": {
        "id": "ioAMrBIAAnyo"
      },
      "source": [
        "# Inference"
      ]
    },
    {
      "cell_type": "code",
      "metadata": {
        "colab": {
          "base_uri": "https://localhost:8080/"
        },
        "id": "ZBlh4b3QrWYP",
        "outputId": "814d1ee3-819d-443c-a6ad-8428d975ab3f"
      },
      "source": [
        "Score = main_model.evaluate(input_tensor_test, target_tensor_test, batch_size = 1000 )\r\n",
        "print(Score)"
      ],
      "execution_count": 37,
      "outputs": [
        {
          "output_type": "stream",
          "text": [
            "4/4 [==============================] - 4s 956ms/step - custom_loss: 0.7183\n",
            "0.7296208143234253\n"
          ],
          "name": "stdout"
        }
      ]
    },
    {
      "cell_type": "code",
      "metadata": {
        "id": "lEuWMIFvIGjd"
      },
      "source": [
        "encoder = main_model.encoder\n",
        "decoder = main_model.decoder"
      ],
      "execution_count": 38,
      "outputs": []
    },
    {
      "cell_type": "code",
      "metadata": {
        "id": "__KD3JgK3WkI"
      },
      "source": [
        "def evaluate(sentence):\n",
        "    attention_plot = np.zeros((max_length_targ, max_length_inp))\n",
        "    sentence = preprocess_sentence(sentence)\n",
        "    inputs = [inp_lang.word_index[i] for i in sentence.split(' ')]\n",
        "    inputs = tf.keras.preprocessing.sequence.pad_sequences([inputs],maxlen=max_length_inp,padding='post')\n",
        "    inputs = tf.convert_to_tensor(inputs)\n",
        "    \n",
        "    result = ''\n",
        "    encoder_hidden_fwd = tf.zeros((1, units))\n",
        "    encoder_hidden_bck = tf.zeros((1, units))\n",
        "    enc_out, enc_hidden_fwd, encoder_hidden_bck = encoder(inputs, encoder_hidden_fwd, encoder_hidden_bck)\n",
        "\n",
        "    dec_hidden = enc_hidden_fwd\n",
        "    dec_input = tf.expand_dims([targ_lang.word_index['<start>']], 0)\n",
        "\n",
        "    for t in range(max_length_targ):\n",
        "        predictions, dec_hidden, attention_weights = decoder(dec_input,dec_hidden,enc_out)\n",
        "        # storing the attention weights to plot later on\n",
        "        attention_weights = tf.reshape(attention_weights, (-1, ))\n",
        "        attention_plot[t] = attention_weights.numpy()\n",
        "        predicted_id = tf.argmax(predictions[0]).numpy()\n",
        "        result += targ_lang.index_word[predicted_id] + ' '\n",
        "        if targ_lang.index_word[predicted_id] == '<end>':\n",
        "            return result, sentence, attention_plot\n",
        "        # the predicted ID is fed back into the model\n",
        "        dec_input = tf.expand_dims([predicted_id], 0)\n",
        "    return result, sentence, attention_plot"
      ],
      "execution_count": 39,
      "outputs": []
    },
    {
      "cell_type": "code",
      "metadata": {
        "id": "ljxAmwz9EwF8"
      },
      "source": [
        "def plot_attention(attention, sentence, predicted_sentence):\n",
        "    fig = plt.figure(figsize=(10,10))\n",
        "    ax = fig.add_subplot(1, 1, 1)\n",
        "    ax.matshow(attention, cmap='viridis')\n",
        "\n",
        "    fontdict = {'fontsize': 14}\n",
        "\n",
        "    ax.set_xticklabels([''] + sentence, fontdict=fontdict, rotation=90)\n",
        "    ax.set_yticklabels([''] + predicted_sentence, fontdict=fontdict)\n",
        "\n",
        "    ax.xaxis.set_major_locator(ticker.MultipleLocator(1))\n",
        "    ax.yaxis.set_major_locator(ticker.MultipleLocator(1))\n",
        "\n",
        "    plt.show()"
      ],
      "execution_count": 40,
      "outputs": []
    },
    {
      "cell_type": "code",
      "metadata": {
        "id": "LtoSpfMkExjt"
      },
      "source": [
        "def translate(sentence):\n",
        "\n",
        "    result, sentence, attention_plot = evaluate(sentence)\n",
        "\n",
        "    print('Input: %s' % (sentence))\n",
        "    print('Predicted translation: {}'.format(result))\n",
        "\n",
        "    attention_plot = attention_plot[:len(result.split(' ')), :len(sentence.split(' '))]\n",
        "    plot_attention(attention_plot, sentence.split(' '), result.split(' '))"
      ],
      "execution_count": 41,
      "outputs": []
    },
    {
      "cell_type": "code",
      "metadata": {
        "id": "cn70PeXhFMGr"
      },
      "source": [
        "import numpy as np\n",
        "import matplotlib.pyplot as plt\n",
        "import matplotlib.ticker as ticker"
      ],
      "execution_count": 42,
      "outputs": []
    },
    {
      "cell_type": "code",
      "metadata": {
        "colab": {
          "base_uri": "https://localhost:8080/",
          "height": 674
        },
        "id": "7f82tco6rlWh",
        "outputId": "00e78a9b-6af9-42c3-9968-9dc3d62d0509"
      },
      "source": [
        "translate(u'how are you?')"
      ],
      "execution_count": 43,
      "outputs": [
        {
          "output_type": "stream",
          "text": [
            "Input: <start> how are you ? <end>\n",
            "Predicted translation: ¿ como lo has cumplido ? <end> \n"
          ],
          "name": "stdout"
        },
        {
          "output_type": "display_data",
          "data": {
            "image/png": "[encoded data removed]",
            "text/plain": [
              "<Figure size 720x720 with 1 Axes>"
            ]
          },
          "metadata": {
            "tags": [],
            "needs_background": "light"
          }
        }
      ]
    },
    {
      "cell_type": "code",
      "metadata": {
        "colab": {
          "base_uri": "https://localhost:8080/",
          "height": 674
        },
        "id": "GdgZArrYFIzo",
        "outputId": "09e75c59-d112-40a9-899d-80ac97e6bdbd"
      },
      "source": [
        "translate(u'i am good.')"
      ],
      "execution_count": 44,
      "outputs": [
        {
          "output_type": "stream",
          "text": [
            "Input: <start> i am good . <end>\n",
            "Predicted translation: yo soy bueno . <end> \n"
          ],
          "name": "stdout"
        },
        {
          "output_type": "display_data",
          "data": {
            "image/png": "[encoded data removed]",
            "text/plain": [
              "<Figure size 720x720 with 1 Axes>"
            ]
          },
          "metadata": {
            "tags": [],
            "needs_background": "light"
          }
        }
      ]
    },
    {
      "cell_type": "code",
      "metadata": {
        "colab": {
          "base_uri": "https://localhost:8080/",
          "height": 674
        },
        "id": "vJ4HqcmUFK9-",
        "outputId": "e76256d4-377a-4010-b025-a0d8caab51a4"
      },
      "source": [
        "translate(u'i am going to school')"
      ],
      "execution_count": 45,
      "outputs": [
        {
          "output_type": "stream",
          "text": [
            "Input: <start> i am going to school <end>\n",
            "Predicted translation: voy a la escuela . <end> \n"
          ],
          "name": "stdout"
        },
        {
          "output_type": "display_data",
          "data": {
            "image/png": "[encoded data removed]",
            "text/plain": [
              "<Figure size 720x720 with 1 Axes>"
            ]
          },
          "metadata": {
            "tags": [],
            "needs_background": "light"
          }
        }
      ]
    },
    {
      "cell_type": "code",
      "metadata": {
        "colab": {
          "base_uri": "https://localhost:8080/",
          "height": 450
        },
        "id": "6mYXg0wOrvSG",
        "outputId": "98b2f470-2b7c-473d-c82c-8e322f7b4f4c"
      },
      "source": [
        "translate(u'let us go home now')"
      ],
      "execution_count": 46,
      "outputs": [
        {
          "output_type": "stream",
          "text": [
            "Input: <start> let us go home now <end>\n",
            "Predicted translation: sentemonos . <end> \n"
          ],
          "name": "stdout"
        },
        {
          "output_type": "display_data",
          "data": {
            "image/png": "[encoded data removed]",
            "text/plain": [
              "<Figure size 720x720 with 1 Axes>"
            ]
          },
          "metadata": {
            "tags": [],
            "needs_background": "light"
          }
        }
      ]
    },
    {
      "cell_type": "code",
      "metadata": {
        "colab": {
          "base_uri": "https://localhost:8080/",
          "height": 674
        },
        "id": "kQJYdaaDruLy",
        "outputId": "0052b645-a954-4a3c-937c-886fb8187678"
      },
      "source": [
        "translate(u'will you marry me')"
      ],
      "execution_count": 47,
      "outputs": [
        {
          "output_type": "stream",
          "text": [
            "Input: <start> will you marry me <end>\n",
            "Predicted translation: ¿ me acompanais ? <end> \n"
          ],
          "name": "stdout"
        },
        {
          "output_type": "display_data",
          "data": {
            "image/png": "[encoded data removed]",
            "text/plain": [
              "<Figure size 720x720 with 1 Axes>"
            ]
          },
          "metadata": {
            "tags": [],
            "needs_background": "light"
          }
        }
      ]
    },
    {
      "cell_type": "code",
      "metadata": {
        "id": "ltePbyj5rxRi"
      },
      "source": [
        ""
      ],
      "execution_count": null,
      "outputs": []
    }
  ]
}