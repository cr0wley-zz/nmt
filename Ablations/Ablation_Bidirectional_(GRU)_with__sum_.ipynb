{
  "nbformat": 4,
  "nbformat_minor": 0,
  "metadata": {
    "accelerator": "GPU",
    "colab": {
      "name": "Ablation - Bidirectional (GRU) with \"sum\".ipynb",
      "provenance": [],
      "collapsed_sections": []
    },
    "kernelspec": {
      "display_name": "Python 3",
      "language": "python",
      "name": "python3"
    },
    "language_info": {
      "codemirror_mode": {
        "name": "ipython",
        "version": 3
      },
      "file_extension": ".py",
      "mimetype": "text/x-python",
      "name": "python",
      "nbconvert_exporter": "python",
      "pygments_lexer": "ipython3",
      "version": "3.7.4"
    }
  },
  "cells": [
    {
      "cell_type": "code",
      "metadata": {
        "colab": {
          "base_uri": "https://localhost:8080/"
        },
        "id": "wpKAi1vptvQn",
        "outputId": "689281fd-ee4a-4c2a-8b42-5f8d9b69f118"
      },
      "source": [
        "# Which GPU is being used?\n",
        "! nvidia-smi"
      ],
      "execution_count": 1,
      "outputs": [
        {
          "output_type": "stream",
          "text": [
            "Tue Mar  2 13:27:58 2021       \n",
            "+-----------------------------------------------------------------------------+\n",
            "| NVIDIA-SMI 460.39       Driver Version: 460.32.03    CUDA Version: 11.2     |\n",
            "|-------------------------------+----------------------+----------------------+\n",
            "| GPU  Name        Persistence-M| Bus-Id        Disp.A | Volatile Uncorr. ECC |\n",
            "| Fan  Temp  Perf  Pwr:Usage/Cap|         Memory-Usage | GPU-Util  Compute M. |\n",
            "|                               |                      |               MIG M. |\n",
            "|===============================+======================+======================|\n",
            "|   0  Tesla K80           Off  | 00000000:00:04.0 Off |                    0 |\n",
            "| N/A   45C    P8    30W / 149W |      0MiB / 11441MiB |      0%      Default |\n",
            "|                               |                      |                  N/A |\n",
            "+-------------------------------+----------------------+----------------------+\n",
            "                                                                               \n",
            "+-----------------------------------------------------------------------------+\n",
            "| Processes:                                                                  |\n",
            "|  GPU   GI   CI        PID   Type   Process name                  GPU Memory |\n",
            "|        ID   ID                                                   Usage      |\n",
            "|=============================================================================|\n",
            "|  No running processes found                                                 |\n",
            "+-----------------------------------------------------------------------------+\n"
          ],
          "name": "stdout"
        }
      ]
    },
    {
      "cell_type": "markdown",
      "metadata": {
        "id": "D7P5aktQJXJW"
      },
      "source": [
        "# Introduction\n",
        "This notebook holds our experiments on Neural Machine Translation with Attention mechanism.\n",
        "Some notes:\n",
        "- Bahdanau\n",
        "- Luong\n",
        "- Softmax vs Sigmoid\n",
        "- Wrapping the function with `moodel.fit`\n",
        "\n",
        "We have taken heavy inspiration from the official [TensorFlow guide](https://www.tensorflow.org/tutorials/text/nmt_with_attention).\n",
        "> A note for the readers: We will be importing packages as we go along. You will not be looking at all the imports at one place."
      ]
    },
    {
      "cell_type": "code",
      "metadata": {
        "id": "5yz111FIXuc8"
      },
      "source": [
        "import tensorflow as tf\n",
        "from tensorflow.keras import layers as L"
      ],
      "execution_count": 4,
      "outputs": []
    },
    {
      "cell_type": "markdown",
      "metadata": {
        "id": "fZ8ZnvZWamdi"
      },
      "source": [
        "# Utilities And Downloads\n",
        "\n",
        "We use `tf.keras.utils.get_file` to download the English to Spanish dataset hosted by Google. We define the file name where the script will save the dataset"
      ]
    },
    {
      "cell_type": "code",
      "metadata": {
        "colab": {
          "base_uri": "https://localhost:8080/"
        },
        "id": "ybK1mMMaX1rj",
        "outputId": "0a54e861-b76a-4c1a-ea05-ba3120398533"
      },
      "source": [
        "# Download the file\n",
        "path_to_zip = tf.keras.utils.get_file(\n",
        "    'spa-eng.zip',\n",
        "    origin='http://storage.googleapis.com/download.tensorflow.org/data/spa-eng.zip',\n",
        "    extract=True\n",
        ")\n",
        "\n",
        "print(f\"[INFO] PATH TO ZIP: {path_to_zip}\")"
      ],
      "execution_count": 16,
      "outputs": [
        {
          "output_type": "stream",
          "text": [
            "[INFO] PATH TO ZIP: /root/.keras/datasets/spa-eng.zip\n"
          ],
          "name": "stdout"
        }
      ]
    },
    {
      "cell_type": "code",
      "metadata": {
        "id": "Ysf93J57aJzn"
      },
      "source": [
        "import os"
      ],
      "execution_count": 17,
      "outputs": []
    },
    {
      "cell_type": "code",
      "metadata": {
        "colab": {
          "base_uri": "https://localhost:8080/"
        },
        "id": "n712-Bw4ZbtM",
        "outputId": "b63b00bd-6825-4b54-e91e-acaa33d70879"
      },
      "source": [
        "path_to_file = os.path.dirname(path_to_zip)+\"/spa-eng/spa.txt\"\n",
        "\n",
        "print(f\"[INFO] PATH TO FILE: {path_to_file}\")"
      ],
      "execution_count": 18,
      "outputs": [
        {
          "output_type": "stream",
          "text": [
            "[INFO] PATH TO FILE: /root/.keras/datasets/spa-eng/spa.txt\n"
          ],
          "name": "stdout"
        }
      ]
    },
    {
      "cell_type": "markdown",
      "metadata": {
        "id": "Z_Vw3-oXbfC2"
      },
      "source": [
        "# Cleaner functions\n",
        "\n"
      ]
    },
    {
      "cell_type": "code",
      "metadata": {
        "id": "ITOzXiv-cEaq"
      },
      "source": [
        "import unicodedata\n",
        "import re"
      ],
      "execution_count": 11,
      "outputs": []
    },
    {
      "cell_type": "code",
      "metadata": {
        "id": "rEwkRZ3vYAQN"
      },
      "source": [
        "def unicode_to_ascii(s):\n",
        "    return ''.join(c for c in unicodedata.normalize('NFD', s)\n",
        "    if unicodedata.category(c) != 'Mn')"
      ],
      "execution_count": 7,
      "outputs": []
    },
    {
      "cell_type": "code",
      "metadata": {
        "id": "ZYED3VNhdeN-"
      },
      "source": [
        "def preprocess_sentence(w):\n",
        "    w = unicode_to_ascii(w.lower().strip())\n",
        "    # creating a space between a word and the punctuation following it\n",
        "    # eg: \"he is a boy.\" => \"he is a boy .\"\n",
        "    # Reference:- https://stackoverflow.com/questions/3645931/python-padding-punctuation-with-white-spaces-keeping-punctuation\n",
        "    w = re.sub(r\"([?.!,¿])\", r\" \\1 \", w)\n",
        "    w = re.sub(r'[\" \"]+', \" \", w)\n",
        "    # replacing everything with space except (a-z, A-Z, \".\", \"?\", \"!\", \",\")\n",
        "    w = re.sub(r\"[^a-zA-Z?.!,¿]+\", \" \", w)\n",
        "    w = w.strip()\n",
        "    # adding a start and an end token to the sentence\n",
        "    # so that the model know when to start and stop predicting.\n",
        "    w = '<start> ' + w + ' <end>'\n",
        "    return w"
      ],
      "execution_count": 8,
      "outputs": []
    },
    {
      "cell_type": "code",
      "metadata": {
        "colab": {
          "base_uri": "https://localhost:8080/"
        },
        "id": "ThKXoortYFhm",
        "outputId": "cce29eff-bfb6-4eb9-fe9f-b0a949c055bd"
      },
      "source": [
        "en_sentence = u\"May I borrow this book?\"\n",
        "sp_sentence = u\"¿Puedo tomar prestado este libro?\"\n",
        "print(preprocess_sentence(en_sentence))\n",
        "print(preprocess_sentence(sp_sentence).encode('utf-8'))"
      ],
      "execution_count": 12,
      "outputs": [
        {
          "output_type": "stream",
          "text": [
            "<start> may i borrow this book ? <end>\n",
            "b'<start> \\xc2\\xbf puedo tomar prestado este libro ? <end>'\n"
          ],
          "name": "stdout"
        }
      ]
    },
    {
      "cell_type": "code",
      "metadata": {
        "id": "cYqDUD4be3jz"
      },
      "source": [
        "import io"
      ],
      "execution_count": 13,
      "outputs": []
    },
    {
      "cell_type": "code",
      "metadata": {
        "id": "Q742cxMNYHN2"
      },
      "source": [
        "def create_dataset(path, num_examples):\n",
        "    lines = io.open(path, encoding='UTF-8').read().strip().split('\\n')\n",
        "\n",
        "    word_pairs = [[preprocess_sentence(w) for w in l.split('\\t')]  for l in lines[:num_examples]]\n",
        "\n",
        "    return zip(*word_pairs)"
      ],
      "execution_count": 14,
      "outputs": []
    },
    {
      "cell_type": "code",
      "metadata": {
        "colab": {
          "base_uri": "https://localhost:8080/"
        },
        "id": "YDpyz-fTYN0p",
        "outputId": "e618ade7-32eb-48c2-dad3-6df47c460df5"
      },
      "source": [
        "en, sp = create_dataset(path_to_file, None)\n",
        "print(en[-1])\n",
        "print(sp[-1])"
      ],
      "execution_count": 19,
      "outputs": [
        {
          "output_type": "stream",
          "text": [
            "<start> if you want to sound like a native speaker , you must be willing to practice saying the same sentence over and over in the same way that banjo players practice the same phrase over and over until they can play it correctly and at the desired tempo . <end>\n",
            "<start> si quieres sonar como un hablante nativo , debes estar dispuesto a practicar diciendo la misma frase una y otra vez de la misma manera en que un musico de banjo practica el mismo fraseo una y otra vez hasta que lo puedan tocar correctamente y en el tiempo esperado . <end>\n"
          ],
          "name": "stdout"
        }
      ]
    },
    {
      "cell_type": "code",
      "metadata": {
        "id": "AGN6i1X8YbWd"
      },
      "source": [
        "def tokenize(lang):\n",
        "    lang_tokenizer = tf.keras.preprocessing.text.Tokenizer(\n",
        "        filters='')\n",
        "    lang_tokenizer.fit_on_texts(lang)\n",
        "\n",
        "    tensor = lang_tokenizer.texts_to_sequences(lang)\n",
        "\n",
        "    tensor = tf.keras.preprocessing.sequence.pad_sequences(\n",
        "        tensor,\n",
        "        padding='post')\n",
        "\n",
        "    return tensor, lang_tokenizer"
      ],
      "execution_count": 20,
      "outputs": []
    },
    {
      "cell_type": "code",
      "metadata": {
        "id": "fELGs7xTgeGU"
      },
      "source": [
        "def load_dataset(path, num_examples=None):\n",
        "    # creating cleaned input, output pairs\n",
        "    inp_lang, targ_lang = create_dataset(path , num_examples)\n",
        "\n",
        "    input_tensor, inp_lang_tokenizer = tokenize(inp_lang)\n",
        "    target_tensor, targ_lang_tokenizer = tokenize(targ_lang)\n",
        "\n",
        "    return input_tensor, target_tensor, inp_lang_tokenizer, targ_lang_tokenizer"
      ],
      "execution_count": 21,
      "outputs": []
    },
    {
      "cell_type": "code",
      "metadata": {
        "id": "QVVJScpohR8f"
      },
      "source": [
        "num_examples = 40000\n",
        "(input_tensor,target_tensor,inp_lang,targ_lang) = load_dataset(path_to_file,num_examples)\n",
        "\n",
        "# Calculate max_length of the target tensors\n",
        "max_length_targ, max_length_inp = target_tensor.shape[1], input_tensor.shape[1]"
      ],
      "execution_count": 26,
      "outputs": []
    },
    {
      "cell_type": "code",
      "metadata": {
        "id": "97jXhf-OiV2M"
      },
      "source": [
        "from sklearn.model_selection import train_test_split"
      ],
      "execution_count": 27,
      "outputs": []
    },
    {
      "cell_type": "code",
      "metadata": {
        "colab": {
          "base_uri": "https://localhost:8080/"
        },
        "id": "3saxDFMZiIM-",
        "outputId": "0121695b-aeba-4acf-c611-7213e4e19caa"
      },
      "source": [
        "# Creating training and validation sets using an 80-20 split\n",
        "(input_tensor_train,input_tensor_val,target_tensor_train,target_tensor_val) = train_test_split(input_tensor,target_tensor,test_size=0.2)\n",
        "(input_tensor_train,input_tensor_test,target_tensor_train,target_tensor_test) = train_test_split(input_tensor,target_tensor,test_size=0.1)\n",
        "\n",
        "# Show length\n",
        "print(len(input_tensor_train),len(target_tensor_train),len(input_tensor_val),len(target_tensor_val),len(input_tensor_test),len(target_tensor_test))"
      ],
      "execution_count": 28,
      "outputs": [
        {
          "output_type": "stream",
          "text": [
            "36000 36000 8000 8000 4000 4000\n"
          ],
          "name": "stdout"
        }
      ]
    },
    {
      "cell_type": "code",
      "metadata": {
        "id": "6n7OY60fiXvW"
      },
      "source": [
        "def convert(lang, tensor):\n",
        "    for t in tensor:\n",
        "        if t!=0:\n",
        "            print (\"%d ----> %s\" % (t, lang.index_word[t]))"
      ],
      "execution_count": 29,
      "outputs": []
    },
    {
      "cell_type": "code",
      "metadata": {
        "colab": {
          "base_uri": "https://localhost:8080/"
        },
        "id": "PtEmQiqhimFW",
        "outputId": "8bcca4d5-1f5f-4a0b-a5a6-6dc86a5e7d72"
      },
      "source": [
        "print (\"Input Language; index to word mapping\")\n",
        "convert(inp_lang, input_tensor_train[0])\n",
        "print ()\n",
        "print (\"Target Language; index to word mapping\")\n",
        "convert(targ_lang, target_tensor_train[0])"
      ],
      "execution_count": 30,
      "outputs": [
        {
          "output_type": "stream",
          "text": [
            "Input Language; index to word mapping\n",
            "1 ----> <start>\n",
            "4 ----> i\n",
            "21 ----> m\n",
            "287 ----> broke\n",
            "134 ----> and\n",
            "175 ----> tired\n",
            "3 ----> .\n",
            "2 ----> <end>\n",
            "\n",
            "Target Language; index to word mapping\n",
            "1 ----> <start>\n",
            "25 ----> estoy\n",
            "2381 ----> quebrado\n",
            "82 ----> y\n",
            "220 ----> cansado\n",
            "3 ----> .\n",
            "2 ----> <end>\n"
          ],
          "name": "stdout"
        }
      ]
    },
    {
      "cell_type": "code",
      "metadata": {
        "id": "nQEuR_EminQm"
      },
      "source": [
        "# GLOBAL VARIABLES\n",
        "BUFFER_SIZE_TRAIN = len(input_tensor_train)\n",
        "BUFFER_SIZE_VAL = len(input_tensor_val)\n",
        "BATCH_SIZE = 1000\n",
        "steps_per_epoch = len(input_tensor_train)//BATCH_SIZE\n",
        "embedding_dim = 512\n",
        "units = 1024\n",
        "vocab_inp_size = len(inp_lang.word_index)+1\n",
        "vocab_tar_size = len(targ_lang.word_index)+1\n",
        "\n",
        "train_ds = tf.data.Dataset.from_tensor_slices((input_tensor_train, target_tensor_train)).shuffle(BUFFER_SIZE_TRAIN)\n",
        "train_ds = train_ds.batch(BATCH_SIZE, drop_remainder=True)\n",
        "\n",
        "val_ds = tf.data.Dataset.from_tensor_slices((input_tensor_val, target_tensor_val)).shuffle(BUFFER_SIZE_VAL)\n",
        "val_ds = val_ds.batch(BATCH_SIZE, drop_remainder=True)"
      ],
      "execution_count": 31,
      "outputs": []
    },
    {
      "cell_type": "code",
      "metadata": {
        "colab": {
          "base_uri": "https://localhost:8080/"
        },
        "id": "ZiqsOP8bjCUu",
        "outputId": "c9fe4058-5bb1-444d-91e7-48aaf3705cb9"
      },
      "source": [
        "# check the shape\n",
        "for en,sp in train_ds.take(1):\n",
        "    print(sp.shape)\n",
        "    print(en.shape)"
      ],
      "execution_count": 32,
      "outputs": [
        {
          "output_type": "stream",
          "text": [
            "(1000, 16)\n",
            "(1000, 12)\n"
          ],
          "name": "stdout"
        }
      ]
    },
    {
      "cell_type": "code",
      "metadata": {
        "id": "61NDaiqkjH6I"
      },
      "source": [
        "class Encoder(tf.keras.Model):\n",
        "  def __init__(self,\n",
        "               vocab_size,\n",
        "               embedding_dim,\n",
        "               enc_units,\n",
        "               batch_sz):\n",
        "    super(Encoder, self).__init__()\n",
        "    self.batch_sz = batch_sz\n",
        "    self.enc_units = enc_units\n",
        "    self.embedding = L.Embedding(vocab_size, embedding_dim)\n",
        "    self.gru = L.GRU(self.enc_units,\n",
        "                     return_sequences=True,\n",
        "                     return_state=True,\n",
        "                     recurrent_initializer='glorot_uniform')\n",
        "    self.bidirection = L.Bidirectional(self.gru, merge_mode='sum' )\n",
        "\n",
        "  def call(self,\n",
        "           x,\n",
        "           hidden_fd,\n",
        "           hidden_bd):\n",
        "    x = self.embedding(x)\n",
        "    output, fd_state, bd_state = self.bidirection(x, initial_state = [hidden_fd, hidden_bd])\n",
        "    return output, fd_state, bd_state\n",
        "\n",
        "  def initialize_hidden_state(self):\n",
        "    return [tf.zeros((self.batch_sz, self.enc_units)) for i in range(2)]"
      ],
      "execution_count": 35,
      "outputs": []
    },
    {
      "cell_type": "code",
      "metadata": {
        "colab": {
          "base_uri": "https://localhost:8080/"
        },
        "id": "yNspKGi1jThL",
        "outputId": "9bbcc08c-710b-4d4d-ac55-fbfcf5fbe453"
      },
      "source": [
        "encoder = Encoder(vocab_inp_size, embedding_dim, units, BATCH_SIZE)\n",
        "\n",
        "# sample input\n",
        "initial_fwd, initial_bck = encoder.initialize_hidden_state()\n",
        "for en, sp in train_ds.take(1):\n",
        "    sample_output, sample_hidden_fwd, sample_hidden_bck = encoder(en, initial_fwd, initial_bck)\n",
        "    print ('Encoder output shape: (batch size, sequence length, units) {}'.format(sample_output.shape))\n",
        "    print ('Encoder Hidden FWD state shape: (batch size, units) {}'.format(sample_hidden_fwd.shape))\n",
        "    print ('Encoder Hidden FWD state shape: (batch size, units) {}'.format(sample_hidden_bck.shape))"
      ],
      "execution_count": 36,
      "outputs": [
        {
          "output_type": "stream",
          "text": [
            "Encoder output shape: (batch size, sequence length, units) (1000, 12, 1024)\n",
            "Encoder Hidden FWD state shape: (batch size, units) (1000, 1024)\n",
            "Encoder Hidden FWD state shape: (batch size, units) (1000, 1024)\n"
          ],
          "name": "stdout"
        }
      ]
    },
    {
      "cell_type": "code",
      "metadata": {
        "id": "EE7jy2ACkj7r"
      },
      "source": [
        "\n",
        "class BahdanauAttention(tf.keras.layers.Layer):\n",
        "  def __init__(self, units):\n",
        "    super(BahdanauAttention, self).__init__()\n",
        "    self.W1 = L.Dense(units)\n",
        "    self.W2 = L.Dense(units)\n",
        "    self.V = L.Dense(1)\n",
        "\n",
        "  def call(self, query, values):\n",
        "    # Query Decoder Hidden state, Values belongs is the Encoder output\n",
        "    # query hidden state shape == (batch_size, hidden size)\n",
        "    # query_with_time_axis shape == (batch_size, 1, hidden size)\n",
        "    # values shape == (batch_size, max_len, hidden size)\n",
        "    # we are doing this to broadcast addition along the time axis to calculate the score\n",
        "    query_with_time_axis = tf.expand_dims(query, 1)\n",
        "\n",
        "    # score shape == (batch_size, max_length, 1)\n",
        "    # we get 1 at the last axis because we are applying score to self.V\n",
        "    # the shape of the tensor before applying self.V is (batch_size, max_length, units)\n",
        "    score = self.V(tf.nn.tanh(\n",
        "        self.W1(query_with_time_axis) + self.W2(values)))\n",
        "\n",
        "    # attention_weights shape == (batch_size, max_length, 1)\n",
        "    attention_weights = tf.nn.softmax(score, axis=1)\n",
        "    \n",
        "    # context_vector shape after sum == (batch_size, hidden_size)\n",
        "    context_vector = attention_weights * values\n",
        "    context_vector = tf.reduce_sum(context_vector, axis=1)\n",
        "\n",
        "    return context_vector, attention_weights"
      ],
      "execution_count": 37,
      "outputs": []
    },
    {
      "cell_type": "code",
      "metadata": {
        "id": "2YPxwKuwlGr1"
      },
      "source": [
        "class Decoder(tf.keras.Model):\n",
        "  def __init__(self, vocab_size, embedding_dim, dec_units, batch_sz):\n",
        "    super(Decoder, self).__init__()\n",
        "    self.batch_sz = batch_sz\n",
        "    self.dec_units = dec_units\n",
        "    self.embedding = L.Embedding(vocab_size, embedding_dim)\n",
        "    self.gru = L.GRU(self.dec_units,\n",
        "                     return_sequences=True,\n",
        "                     return_state=True,\n",
        "                     recurrent_initializer='glorot_uniform')\n",
        "    self.fc = L.Dense(vocab_size)\n",
        "    # used for attention\n",
        "    self.attention = BahdanauAttention(self.dec_units)\n",
        "\n",
        "  def call(self, x, hidden, enc_output):\n",
        "    # enc_output shape == (batch_size, max_length, hidden_size)\n",
        "    context_vector, attention_weights = self.attention(hidden, enc_output)\n",
        "    # x shape after passing through embedding == (batch_size, 1, embedding_dim)\n",
        "    x = self.embedding(x)\n",
        "    # x shape after concatenation == (batch_size, 1, embedding_dim + hidden_size)\n",
        "    x = tf.concat([tf.expand_dims(context_vector, 1), x], axis=-1)\n",
        "    # passing the concatenated vector to the GRU\n",
        "    output, state = self.gru(x)\n",
        "    # output shape == (batch_size * 1, hidden_size)\n",
        "    output = tf.reshape(output, (-1, output.shape[2]))\n",
        "    # output shape == (batch_size, vocab)\n",
        "    x = self.fc(output)\n",
        "    return x, state, attention_weights"
      ],
      "execution_count": 38,
      "outputs": []
    },
    {
      "cell_type": "code",
      "metadata": {
        "colab": {
          "base_uri": "https://localhost:8080/"
        },
        "id": "kA4jNHG0lJ52",
        "outputId": "e0b903e9-1cde-46ae-d28e-d1b4e9b52154"
      },
      "source": [
        "encoder = Encoder(vocab_inp_size, embedding_dim, units, BATCH_SIZE)\n",
        "decoder = Decoder(vocab_tar_size, embedding_dim, units, BATCH_SIZE)\n",
        "\n",
        "initial_fwd, initial_bck = encoder.initialize_hidden_state()\n",
        "for en,sp in train_ds.take(1):\n",
        "    encoder_output, encoder_hidden_fwd, encoder_hidden_bck = encoder(en, initial_fwd, initial_bck)\n",
        "    dec_input = tf.expand_dims([targ_lang.word_index['<start>']] * BATCH_SIZE, 1)\n",
        "    decoder_output, decoder_hidden, att_weights = decoder(dec_input, encoder_hidden_fwd, encoder_output)\n",
        "\n",
        "    print ('Decoder output shape: (batch_size, vocab size) {}'.format(decoder_output.shape))"
      ],
      "execution_count": 39,
      "outputs": [
        {
          "output_type": "stream",
          "text": [
            "Decoder output shape: (batch_size, vocab size) (1000, 11281)\n"
          ],
          "name": "stdout"
        }
      ]
    },
    {
      "cell_type": "markdown",
      "metadata": {
        "id": "UDdohQmmukxV"
      },
      "source": [
        "# Model Class for easier training"
      ]
    },
    {
      "cell_type": "code",
      "metadata": {
        "colab": {
          "base_uri": "https://localhost:8080/"
        },
        "id": "IZHMpUufBy4h",
        "outputId": "da11bb37-e02a-4640-e6c5-dcd054e5aa15"
      },
      "source": [
        "for en, sp in val_ds.take(1):\n",
        "    print(en.shape)\n",
        "    print(sp.shape)"
      ],
      "execution_count": 40,
      "outputs": [
        {
          "output_type": "stream",
          "text": [
            "(1000, 12)\n",
            "(1000, 16)\n"
          ],
          "name": "stdout"
        }
      ]
    },
    {
      "cell_type": "code",
      "metadata": {
        "id": "3drm1HZdukcL"
      },
      "source": [
        "class NMT(tf.keras.Model):\n",
        "    def __init__(self, encoder, decoder):\n",
        "        super(NMT, self).__init__()\n",
        "        self.encoder = encoder\n",
        "        self.decoder = decoder\n",
        "\n",
        "    def train_step(self, data):\n",
        "        enc_hidden_fwd, enc_hidden_bck = self.encoder.initialize_hidden_state()\n",
        "        inp, targ = data\n",
        "        loss = 0\n",
        "        with tf.GradientTape() as tape:\n",
        "            enc_output, enc_hidden_fwd, enc_hidden_bck = self.encoder(inp, enc_hidden_fwd, enc_hidden_bck)\n",
        "            dec_hidden = enc_hidden_fwd\n",
        "            dec_input = tf.expand_dims([targ_lang.word_index['<start>']] * BATCH_SIZE, 1)\n",
        "            # Teacher forcing - feeding the target as the next input\n",
        "            for t in range(1, targ.shape[1]):\n",
        "                # passing enc_output to the decoder\n",
        "                predictions, dec_hidden, att_weights = self.decoder(dec_input, dec_hidden, enc_output)\n",
        "                loss += self.compiled_loss(targ[:, t], predictions)\n",
        "                # using teacher forcing\n",
        "                dec_input = tf.expand_dims(targ[:, t], 1)\n",
        "        batch_loss = (loss / int(targ.shape[1]))\n",
        "        variables = encoder.trainable_variables + decoder.trainable_variables\n",
        "        gradients = tape.gradient(loss, variables)\n",
        "        optimizer.apply_gradients(zip(gradients, variables))\n",
        "        return {\"custom_loss\": batch_loss}\n",
        "    \n",
        "    def test_step(self, data):\n",
        "        enc_hidden_fwd, enc_hidden_bck = self.encoder.initialize_hidden_state()\n",
        "        inp, targ = data\n",
        "        loss = 0\n",
        "        enc_output, enc_hidden_fwd, enc_hidden_bck = self.encoder(inp, enc_hidden_fwd, enc_hidden_bck)\n",
        "        dec_hidden = enc_hidden_fwd\n",
        "        dec_input = tf.expand_dims([targ_lang.word_index['<start>']] * BATCH_SIZE, 1)\n",
        "        # Teacher forcing - feeding the target as the next input\n",
        "        for t in range(1, targ.shape[1]):\n",
        "            # passing enc_output to the decoder\n",
        "            predictions, dec_hidden, att_weights = self.decoder(dec_input, dec_hidden, enc_output)\n",
        "            loss += self.compiled_loss(targ[:, t], predictions)\n",
        "            # using teacher forcing\n",
        "            dec_input = tf.expand_dims(targ[:, t], 1)\n",
        "        batch_loss = (loss / int(targ.shape[1]))\n",
        "        return {\"custom_loss\": batch_loss}"
      ],
      "execution_count": 41,
      "outputs": []
    },
    {
      "cell_type": "code",
      "metadata": {
        "id": "KMt2NvOiDkN0"
      },
      "source": [
        "# Early Stopping to prevent overfitting\n",
        "es = tf.keras.callbacks.EarlyStopping(monitor=\"val_custom_loss\", patience=5, verbose=2, restore_best_weights=True)"
      ],
      "execution_count": 42,
      "outputs": []
    },
    {
      "cell_type": "code",
      "metadata": {
        "colab": {
          "base_uri": "https://localhost:8080/"
        },
        "id": "NN0v-i_CxDdb",
        "outputId": "b4d05dc6-09b4-4f6b-8733-9c7fcac34458"
      },
      "source": [
        "EPOCHS=100\n",
        "encoder = Encoder(vocab_inp_size, embedding_dim, units, BATCH_SIZE)\n",
        "decoder = Decoder(vocab_tar_size, embedding_dim, units, BATCH_SIZE)\n",
        "\n",
        "optimizer = tf.keras.optimizers.Adam()\n",
        "loss_object = tf.keras.losses.SparseCategoricalCrossentropy(\n",
        "    from_logits=True,\n",
        "    reduction='none')\n",
        "\n",
        "def loss_function(real, pred):\n",
        "    mask = tf.math.logical_not(tf.math.equal(real, 0))\n",
        "    loss_ = loss_object(real, pred)\n",
        "    mask = tf.cast(mask, dtype=loss_.dtype)\n",
        "    loss_ *= mask\n",
        "\n",
        "    return tf.reduce_mean(loss_)\n",
        "\n",
        "main_model = NMT(encoder, decoder)\n",
        "main_model.compile(loss=loss_function, optimizer=optimizer)\n",
        "\n",
        "history = main_model.fit(\n",
        "    train_ds,\n",
        "    validation_data=val_ds,\n",
        "    callbacks=[es],\n",
        "    epochs=EPOCHS)"
      ],
      "execution_count": 43,
      "outputs": [
        {
          "output_type": "stream",
          "text": [
            "Epoch 1/100\n",
            "36/36 [==============================] - 112s 3s/step - custom_loss: 2.2109 - val_custom_loss: 1.8748\n",
            "Epoch 2/100\n",
            "36/36 [==============================] - 87s 2s/step - custom_loss: 1.7485 - val_custom_loss: 1.6162\n",
            "Epoch 3/100\n",
            "36/36 [==============================] - 87s 2s/step - custom_loss: 1.5848 - val_custom_loss: 1.5487\n",
            "Epoch 4/100\n",
            "36/36 [==============================] - 87s 2s/step - custom_loss: 1.4837 - val_custom_loss: 1.4107\n",
            "Epoch 5/100\n",
            "36/36 [==============================] - 87s 2s/step - custom_loss: 1.3919 - val_custom_loss: 1.3266\n",
            "Epoch 6/100\n",
            "36/36 [==============================] - 87s 2s/step - custom_loss: 1.3105 - val_custom_loss: 1.2574\n",
            "Epoch 7/100\n",
            "36/36 [==============================] - 87s 2s/step - custom_loss: 1.2394 - val_custom_loss: 1.1800\n",
            "Epoch 8/100\n",
            "36/36 [==============================] - 87s 2s/step - custom_loss: 1.1678 - val_custom_loss: 1.1341\n",
            "Epoch 9/100\n",
            "36/36 [==============================] - 87s 2s/step - custom_loss: 1.1081 - val_custom_loss: 1.0741\n",
            "Epoch 10/100\n",
            "36/36 [==============================] - 87s 2s/step - custom_loss: 1.0472 - val_custom_loss: 1.0248\n",
            "Epoch 11/100\n",
            "36/36 [==============================] - 87s 2s/step - custom_loss: 0.9922 - val_custom_loss: 0.9588\n",
            "Epoch 12/100\n",
            "36/36 [==============================] - 86s 2s/step - custom_loss: 0.9403 - val_custom_loss: 0.8918\n",
            "Epoch 13/100\n",
            "36/36 [==============================] - 87s 2s/step - custom_loss: 0.8902 - val_custom_loss: 0.8776\n",
            "Epoch 14/100\n",
            "36/36 [==============================] - 87s 2s/step - custom_loss: 0.8472 - val_custom_loss: 0.8220\n",
            "Epoch 15/100\n",
            "36/36 [==============================] - 87s 2s/step - custom_loss: 0.7987 - val_custom_loss: 0.7832\n",
            "Epoch 16/100\n",
            "36/36 [==============================] - 86s 2s/step - custom_loss: 0.7580 - val_custom_loss: 0.7266\n",
            "Epoch 17/100\n",
            "36/36 [==============================] - 87s 2s/step - custom_loss: 0.7194 - val_custom_loss: 0.6922\n",
            "Epoch 18/100\n",
            "36/36 [==============================] - 87s 2s/step - custom_loss: 0.6800 - val_custom_loss: 0.6608\n",
            "Epoch 19/100\n",
            "36/36 [==============================] - 87s 2s/step - custom_loss: 0.6457 - val_custom_loss: 0.6321\n",
            "Epoch 20/100\n",
            "36/36 [==============================] - 87s 2s/step - custom_loss: 0.6077 - val_custom_loss: 0.6014\n",
            "Epoch 21/100\n",
            "36/36 [==============================] - 87s 2s/step - custom_loss: 0.5772 - val_custom_loss: 0.5723\n",
            "Epoch 22/100\n",
            "36/36 [==============================] - 87s 2s/step - custom_loss: 0.5465 - val_custom_loss: 0.5315\n",
            "Epoch 23/100\n",
            "36/36 [==============================] - 87s 2s/step - custom_loss: 0.5140 - val_custom_loss: 0.5090\n",
            "Epoch 24/100\n",
            "36/36 [==============================] - 87s 2s/step - custom_loss: 0.4823 - val_custom_loss: 0.4800\n",
            "Epoch 25/100\n",
            "36/36 [==============================] - 87s 2s/step - custom_loss: 0.4540 - val_custom_loss: 0.4641\n",
            "Epoch 26/100\n",
            "36/36 [==============================] - 87s 2s/step - custom_loss: 0.4259 - val_custom_loss: 0.4328\n",
            "Epoch 27/100\n",
            "36/36 [==============================] - 87s 2s/step - custom_loss: 0.4012 - val_custom_loss: 0.3953\n",
            "Epoch 28/100\n",
            "36/36 [==============================] - 86s 2s/step - custom_loss: 0.3741 - val_custom_loss: 0.3884\n",
            "Epoch 29/100\n",
            "36/36 [==============================] - 87s 2s/step - custom_loss: 0.3499 - val_custom_loss: 0.3553\n",
            "Epoch 30/100\n",
            "36/36 [==============================] - 87s 2s/step - custom_loss: 0.3264 - val_custom_loss: 0.3456\n",
            "Epoch 31/100\n",
            "36/36 [==============================] - 87s 2s/step - custom_loss: 0.3049 - val_custom_loss: 0.3267\n",
            "Epoch 32/100\n",
            "36/36 [==============================] - 87s 2s/step - custom_loss: 0.2859 - val_custom_loss: 0.3080\n",
            "Epoch 33/100\n",
            "36/36 [==============================] - 87s 2s/step - custom_loss: 0.2659 - val_custom_loss: 0.2878\n",
            "Epoch 34/100\n",
            "36/36 [==============================] - 87s 2s/step - custom_loss: 0.2487 - val_custom_loss: 0.2782\n",
            "Epoch 35/100\n",
            "36/36 [==============================] - 87s 2s/step - custom_loss: 0.2322 - val_custom_loss: 0.2670\n",
            "Epoch 36/100\n",
            "36/36 [==============================] - 87s 2s/step - custom_loss: 0.2160 - val_custom_loss: 0.2484\n",
            "Epoch 37/100\n",
            "36/36 [==============================] - 87s 2s/step - custom_loss: 0.2015 - val_custom_loss: 0.2381\n",
            "Epoch 38/100\n",
            "36/36 [==============================] - 87s 2s/step - custom_loss: 0.1885 - val_custom_loss: 0.2376\n",
            "Epoch 39/100\n",
            "36/36 [==============================] - 87s 2s/step - custom_loss: 0.1767 - val_custom_loss: 0.2136\n",
            "Epoch 40/100\n",
            "36/36 [==============================] - 86s 2s/step - custom_loss: 0.1654 - val_custom_loss: 0.2025\n",
            "Epoch 41/100\n",
            "36/36 [==============================] - 87s 2s/step - custom_loss: 0.1540 - val_custom_loss: 0.1851\n",
            "Epoch 42/100\n",
            "36/36 [==============================] - 87s 2s/step - custom_loss: 0.1445 - val_custom_loss: 0.1918\n",
            "Epoch 43/100\n",
            "36/36 [==============================] - 87s 2s/step - custom_loss: 0.1346 - val_custom_loss: 0.2033\n",
            "Epoch 44/100\n",
            "36/36 [==============================] - 86s 2s/step - custom_loss: 0.1268 - val_custom_loss: 0.1803\n",
            "Epoch 45/100\n",
            "36/36 [==============================] - 87s 2s/step - custom_loss: 0.1194 - val_custom_loss: 0.1859\n",
            "Epoch 46/100\n",
            "36/36 [==============================] - 87s 2s/step - custom_loss: 0.1127 - val_custom_loss: 0.1601\n",
            "Epoch 47/100\n",
            "36/36 [==============================] - 87s 2s/step - custom_loss: 0.1054 - val_custom_loss: 0.1654\n",
            "Epoch 48/100\n",
            "36/36 [==============================] - 87s 2s/step - custom_loss: 0.0989 - val_custom_loss: 0.1533\n",
            "Epoch 49/100\n",
            "36/36 [==============================] - 87s 2s/step - custom_loss: 0.0933 - val_custom_loss: 0.1594\n",
            "Epoch 50/100\n",
            "36/36 [==============================] - 87s 2s/step - custom_loss: 0.0889 - val_custom_loss: 0.1593\n",
            "Epoch 51/100\n",
            "36/36 [==============================] - 87s 2s/step - custom_loss: 0.0844 - val_custom_loss: 0.1541\n",
            "Epoch 52/100\n",
            "36/36 [==============================] - 87s 2s/step - custom_loss: 0.0803 - val_custom_loss: 0.1432\n",
            "Epoch 53/100\n",
            "36/36 [==============================] - 87s 2s/step - custom_loss: 0.0760 - val_custom_loss: 0.1295\n",
            "Epoch 54/100\n",
            "36/36 [==============================] - 87s 2s/step - custom_loss: 0.0726 - val_custom_loss: 0.1522\n",
            "Epoch 55/100\n",
            "36/36 [==============================] - 87s 2s/step - custom_loss: 0.0693 - val_custom_loss: 0.1262\n",
            "Epoch 56/100\n",
            "36/36 [==============================] - 87s 2s/step - custom_loss: 0.0663 - val_custom_loss: 0.1261\n",
            "Epoch 57/100\n",
            "36/36 [==============================] - 87s 2s/step - custom_loss: 0.0636 - val_custom_loss: 0.1263\n",
            "Epoch 58/100\n",
            "36/36 [==============================] - 87s 2s/step - custom_loss: 0.0614 - val_custom_loss: 0.1417\n",
            "Epoch 59/100\n",
            "36/36 [==============================] - 87s 2s/step - custom_loss: 0.0589 - val_custom_loss: 0.1178\n",
            "Epoch 60/100\n",
            "36/36 [==============================] - 86s 2s/step - custom_loss: 0.0572 - val_custom_loss: 0.1188\n",
            "Epoch 61/100\n",
            "36/36 [==============================] - 87s 2s/step - custom_loss: 0.0550 - val_custom_loss: 0.1317\n",
            "Epoch 62/100\n",
            "36/36 [==============================] - 87s 2s/step - custom_loss: 0.0531 - val_custom_loss: 0.1217\n",
            "Epoch 63/100\n",
            "36/36 [==============================] - 87s 2s/step - custom_loss: 0.0519 - val_custom_loss: 0.1231\n",
            "Epoch 64/100\n",
            "36/36 [==============================] - 86s 2s/step - custom_loss: 0.0506 - val_custom_loss: 0.1192\n",
            "Restoring model weights from the end of the best epoch.\n",
            "Epoch 00064: early stopping\n"
          ],
          "name": "stdout"
        }
      ]
    },
    {
      "cell_type": "code",
      "metadata": {
        "colab": {
          "base_uri": "https://localhost:8080/"
        },
        "id": "vYWLJjHjgJHS",
        "outputId": "04b30a8c-e266-42da-ad0e-46609a3f0483"
      },
      "source": [
        "Score = main_model.evaluate(input_tensor_test, target_tensor_test, batch_size = 1000 )\r\n",
        "print(Score)"
      ],
      "execution_count": 44,
      "outputs": [
        {
          "output_type": "stream",
          "text": [
            "4/4 [==============================] - 3s 755ms/step - custom_loss: 0.8642\n",
            "0.8809604048728943\n"
          ],
          "name": "stdout"
        }
      ]
    },
    {
      "cell_type": "markdown",
      "metadata": {
        "id": "ioAMrBIAAnyo"
      },
      "source": [
        "# Inference"
      ]
    },
    {
      "cell_type": "code",
      "metadata": {
        "id": "lEuWMIFvIGjd"
      },
      "source": [
        "encoder = main_model.encoder\n",
        "decoder = main_model.decoder"
      ],
      "execution_count": 45,
      "outputs": []
    },
    {
      "cell_type": "code",
      "metadata": {
        "id": "__KD3JgK3WkI"
      },
      "source": [
        "def evaluate(sentence):\n",
        "    attention_plot = np.zeros((max_length_targ, max_length_inp))\n",
        "    sentence = preprocess_sentence(sentence)\n",
        "    inputs = [inp_lang.word_index[i] for i in sentence.split(' ')]\n",
        "    inputs = tf.keras.preprocessing.sequence.pad_sequences([inputs],maxlen=max_length_inp,padding='post')\n",
        "    inputs = tf.convert_to_tensor(inputs)\n",
        "    \n",
        "    result = ''\n",
        "    encoder_hidden_fwd = tf.zeros((1, units))\n",
        "    encoder_hidden_bck = tf.zeros((1, units))\n",
        "    enc_out, enc_hidden_fwd, encoder_hidden_bck = encoder(inputs, encoder_hidden_fwd, encoder_hidden_bck)\n",
        "\n",
        "    dec_hidden = enc_hidden_fwd\n",
        "    dec_input = tf.expand_dims([targ_lang.word_index['<start>']], 0)\n",
        "\n",
        "    for t in range(max_length_targ):\n",
        "        predictions, dec_hidden, attention_weights = decoder(dec_input,dec_hidden,enc_out)\n",
        "        # storing the attention weights to plot later on\n",
        "        attention_weights = tf.reshape(attention_weights, (-1, ))\n",
        "        attention_plot[t] = attention_weights.numpy()\n",
        "        predicted_id = tf.argmax(predictions[0]).numpy()\n",
        "        result += targ_lang.index_word[predicted_id] + ' '\n",
        "        if targ_lang.index_word[predicted_id] == '<end>':\n",
        "            return result, sentence, attention_plot\n",
        "        # the predicted ID is fed back into the model\n",
        "        dec_input = tf.expand_dims([predicted_id], 0)\n",
        "    return result, sentence, attention_plot"
      ],
      "execution_count": 46,
      "outputs": []
    },
    {
      "cell_type": "code",
      "metadata": {
        "id": "ljxAmwz9EwF8"
      },
      "source": [
        "def plot_attention(attention, sentence, predicted_sentence):\n",
        "    fig = plt.figure(figsize=(10,10))\n",
        "    ax = fig.add_subplot(1, 1, 1)\n",
        "    ax.matshow(attention, cmap='viridis')\n",
        "\n",
        "    fontdict = {'fontsize': 14}\n",
        "\n",
        "    ax.set_xticklabels([''] + sentence, fontdict=fontdict, rotation=90)\n",
        "    ax.set_yticklabels([''] + predicted_sentence, fontdict=fontdict)\n",
        "\n",
        "    ax.xaxis.set_major_locator(ticker.MultipleLocator(1))\n",
        "    ax.yaxis.set_major_locator(ticker.MultipleLocator(1))\n",
        "\n",
        "    plt.show()"
      ],
      "execution_count": 47,
      "outputs": []
    },
    {
      "cell_type": "code",
      "metadata": {
        "id": "LtoSpfMkExjt"
      },
      "source": [
        "def translate(sentence):\n",
        "\n",
        "    result, sentence, attention_plot = evaluate(sentence)\n",
        "\n",
        "    print('Input: %s' % (sentence))\n",
        "    print('Predicted translation: {}'.format(result))\n",
        "\n",
        "    attention_plot = attention_plot[:len(result.split(' ')), :len(sentence.split(' '))]\n",
        "    plot_attention(attention_plot, sentence.split(' '), result.split(' '))"
      ],
      "execution_count": 48,
      "outputs": []
    },
    {
      "cell_type": "code",
      "metadata": {
        "id": "cn70PeXhFMGr"
      },
      "source": [
        "import numpy as np\n",
        "import matplotlib.pyplot as plt\n",
        "import matplotlib.ticker as ticker"
      ],
      "execution_count": 49,
      "outputs": []
    },
    {
      "cell_type": "code",
      "metadata": {
        "colab": {
          "base_uri": "https://localhost:8080/",
          "height": 674
        },
        "id": "7f82tco6rlWh",
        "outputId": "289b2549-37be-4d0f-9113-505ad392f9bc"
      },
      "source": [
        "translate(u'how are you?')"
      ],
      "execution_count": 50,
      "outputs": [
        {
          "output_type": "stream",
          "text": [
            "Input: <start> how are you ? <end>\n",
            "Predicted translation: ¿ como estas ? <end> \n"
          ],
          "name": "stdout"
        },
        {
          "output_type": "display_data",
          "data": {
            "image/png": "[encoded data removed]",
            "text/plain": [
              "<Figure size 720x720 with 1 Axes>"
            ]
          },
          "metadata": {
            "tags": [],
            "needs_background": "light"
          }
        }
      ]
    },
    {
      "cell_type": "code",
      "metadata": {
        "colab": {
          "base_uri": "https://localhost:8080/",
          "height": 597
        },
        "id": "GdgZArrYFIzo",
        "outputId": "bfb9fb90-bf3c-41a7-a709-ae574ecd5eed"
      },
      "source": [
        "translate(u'i am good.')"
      ],
      "execution_count": 51,
      "outputs": [
        {
          "output_type": "stream",
          "text": [
            "Input: <start> i am good . <end>\n",
            "Predicted translation: soy bueno . <end> \n"
          ],
          "name": "stdout"
        },
        {
          "output_type": "display_data",
          "data": {
            "image/png": "[encoded data removed]",
            "text/plain": [
              "<Figure size 720x720 with 1 Axes>"
            ]
          },
          "metadata": {
            "tags": [],
            "needs_background": "light"
          }
        }
      ]
    },
    {
      "cell_type": "code",
      "metadata": {
        "colab": {
          "base_uri": "https://localhost:8080/",
          "height": 674
        },
        "id": "vJ4HqcmUFK9-",
        "outputId": "ef253398-cc3e-407f-8c95-3c8ddcbdb425"
      },
      "source": [
        "translate(u'i am going to school')"
      ],
      "execution_count": 52,
      "outputs": [
        {
          "output_type": "stream",
          "text": [
            "Input: <start> i am going to school <end>\n",
            "Predicted translation: voy a la escuela . <end> \n"
          ],
          "name": "stdout"
        },
        {
          "output_type": "display_data",
          "data": {
            "image/png": "[encoded data removed]",
            "text/plain": [
              "<Figure size 720x720 with 1 Axes>"
            ]
          },
          "metadata": {
            "tags": [],
            "needs_background": "light"
          }
        }
      ]
    },
    {
      "cell_type": "code",
      "metadata": {
        "colab": {
          "base_uri": "https://localhost:8080/",
          "height": 674
        },
        "id": "6mYXg0wOrvSG",
        "outputId": "ee734600-ebba-48aa-a60e-5b43e94cf74f"
      },
      "source": [
        "translate(u'let us go home now')"
      ],
      "execution_count": 53,
      "outputs": [
        {
          "output_type": "stream",
          "text": [
            "Input: <start> let us go home now <end>\n",
            "Predicted translation: nos vemos en casa . <end> \n"
          ],
          "name": "stdout"
        },
        {
          "output_type": "display_data",
          "data": {
            "image/png": "[encoded data removed]",
            "text/plain": [
              "<Figure size 720x720 with 1 Axes>"
            ]
          },
          "metadata": {
            "tags": [],
            "needs_background": "light"
          }
        }
      ]
    },
    {
      "cell_type": "code",
      "metadata": {
        "id": "uTD1FumAgRmo"
      },
      "source": [
        ""
      ],
      "execution_count": null,
      "outputs": []
    }
  ]
}