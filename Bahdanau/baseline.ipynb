{
  "nbformat": 4,
  "nbformat_minor": 0,
  "metadata": {
    "accelerator": "GPU",
    "colab": {
      "name": "Attention_NMT",
      "provenance": [],
      "collapsed_sections": []
    },
    "kernelspec": {
      "display_name": "Python 3",
      "language": "python",
      "name": "python3"
    },
    "language_info": {
      "codemirror_mode": {
        "name": "ipython",
        "version": 3
      },
      "file_extension": ".py",
      "mimetype": "text/x-python",
      "name": "python",
      "nbconvert_exporter": "python",
      "pygments_lexer": "ipython3",
      "version": "3.8.6"
    },
    "widgets": {
      "application/vnd.jupyter.widget-state+json": {
        "80155bd7afda4d45b0bc328cad8503c7": {
          "model_module": "@jupyter-widgets/controls",
          "model_name": "VBoxModel",
          "state": {
            "_view_name": "VBoxView",
            "_dom_classes": [],
            "_model_name": "VBoxModel",
            "_view_module": "@jupyter-widgets/controls",
            "_model_module_version": "1.5.0",
            "_view_count": null,
            "_view_module_version": "1.5.0",
            "box_style": "",
            "layout": "IPY_MODEL_6146cf942a5448f6b2b73599fc13ca9f",
            "_model_module": "@jupyter-widgets/controls",
            "children": [
              "IPY_MODEL_77cf680db16c422192c6916c427bce36",
              "IPY_MODEL_172e127605d445e789b52d71bbf117d0"
            ]
          }
        },
        "6146cf942a5448f6b2b73599fc13ca9f": {
          "model_module": "@jupyter-widgets/base",
          "model_name": "LayoutModel",
          "state": {
            "_view_name": "LayoutView",
            "grid_template_rows": null,
            "right": null,
            "justify_content": null,
            "_view_module": "@jupyter-widgets/base",
            "overflow": null,
            "_model_module_version": "1.2.0",
            "_view_count": null,
            "flex_flow": null,
            "width": null,
            "min_width": null,
            "border": null,
            "align_items": null,
            "bottom": null,
            "_model_module": "@jupyter-widgets/base",
            "top": null,
            "grid_column": null,
            "overflow_y": null,
            "overflow_x": null,
            "grid_auto_flow": null,
            "grid_area": null,
            "grid_template_columns": null,
            "flex": null,
            "_model_name": "LayoutModel",
            "justify_items": null,
            "grid_row": null,
            "max_height": null,
            "align_content": null,
            "visibility": null,
            "align_self": null,
            "height": null,
            "min_height": null,
            "padding": null,
            "grid_auto_rows": null,
            "grid_gap": null,
            "max_width": null,
            "order": null,
            "_view_module_version": "1.2.0",
            "grid_template_areas": null,
            "object_position": null,
            "object_fit": null,
            "grid_auto_columns": null,
            "margin": null,
            "display": null,
            "left": null
          }
        },
        "77cf680db16c422192c6916c427bce36": {
          "model_module": "@jupyter-widgets/controls",
          "model_name": "LabelModel",
          "state": {
            "_view_name": "LabelView",
            "style": "IPY_MODEL_552895fa19f041c0adbc025bdd136779",
            "_dom_classes": [],
            "description": "",
            "_model_name": "LabelModel",
            "placeholder": "​",
            "_view_module": "@jupyter-widgets/controls",
            "_model_module_version": "1.5.0",
            "value": " 0.09MB of 0.09MB uploaded (0.00MB deduped)\r",
            "_view_count": null,
            "_view_module_version": "1.5.0",
            "description_tooltip": null,
            "_model_module": "@jupyter-widgets/controls",
            "layout": "IPY_MODEL_e526333948fa46c49f3ea831df3c325a"
          }
        },
        "172e127605d445e789b52d71bbf117d0": {
          "model_module": "@jupyter-widgets/controls",
          "model_name": "FloatProgressModel",
          "state": {
            "_view_name": "ProgressView",
            "style": "IPY_MODEL_5b38cc4940114b6a8e06837220b29528",
            "_dom_classes": [],
            "description": "",
            "_model_name": "FloatProgressModel",
            "bar_style": "",
            "max": 1,
            "_view_module": "@jupyter-widgets/controls",
            "_model_module_version": "1.5.0",
            "value": 1,
            "_view_count": null,
            "_view_module_version": "1.5.0",
            "orientation": "horizontal",
            "min": 0,
            "description_tooltip": null,
            "_model_module": "@jupyter-widgets/controls",
            "layout": "IPY_MODEL_e4d8280e323141adaa1c63c3fb1e9074"
          }
        },
        "552895fa19f041c0adbc025bdd136779": {
          "model_module": "@jupyter-widgets/controls",
          "model_name": "DescriptionStyleModel",
          "state": {
            "_view_name": "StyleView",
            "_model_name": "DescriptionStyleModel",
            "description_width": "",
            "_view_module": "@jupyter-widgets/base",
            "_model_module_version": "1.5.0",
            "_view_count": null,
            "_view_module_version": "1.2.0",
            "_model_module": "@jupyter-widgets/controls"
          }
        },
        "e526333948fa46c49f3ea831df3c325a": {
          "model_module": "@jupyter-widgets/base",
          "model_name": "LayoutModel",
          "state": {
            "_view_name": "LayoutView",
            "grid_template_rows": null,
            "right": null,
            "justify_content": null,
            "_view_module": "@jupyter-widgets/base",
            "overflow": null,
            "_model_module_version": "1.2.0",
            "_view_count": null,
            "flex_flow": null,
            "width": null,
            "min_width": null,
            "border": null,
            "align_items": null,
            "bottom": null,
            "_model_module": "@jupyter-widgets/base",
            "top": null,
            "grid_column": null,
            "overflow_y": null,
            "overflow_x": null,
            "grid_auto_flow": null,
            "grid_area": null,
            "grid_template_columns": null,
            "flex": null,
            "_model_name": "LayoutModel",
            "justify_items": null,
            "grid_row": null,
            "max_height": null,
            "align_content": null,
            "visibility": null,
            "align_self": null,
            "height": null,
            "min_height": null,
            "padding": null,
            "grid_auto_rows": null,
            "grid_gap": null,
            "max_width": null,
            "order": null,
            "_view_module_version": "1.2.0",
            "grid_template_areas": null,
            "object_position": null,
            "object_fit": null,
            "grid_auto_columns": null,
            "margin": null,
            "display": null,
            "left": null
          }
        },
        "5b38cc4940114b6a8e06837220b29528": {
          "model_module": "@jupyter-widgets/controls",
          "model_name": "ProgressStyleModel",
          "state": {
            "_view_name": "StyleView",
            "_model_name": "ProgressStyleModel",
            "description_width": "",
            "_view_module": "@jupyter-widgets/base",
            "_model_module_version": "1.5.0",
            "_view_count": null,
            "_view_module_version": "1.2.0",
            "bar_color": null,
            "_model_module": "@jupyter-widgets/controls"
          }
        },
        "e4d8280e323141adaa1c63c3fb1e9074": {
          "model_module": "@jupyter-widgets/base",
          "model_name": "LayoutModel",
          "state": {
            "_view_name": "LayoutView",
            "grid_template_rows": null,
            "right": null,
            "justify_content": null,
            "_view_module": "@jupyter-widgets/base",
            "overflow": null,
            "_model_module_version": "1.2.0",
            "_view_count": null,
            "flex_flow": null,
            "width": null,
            "min_width": null,
            "border": null,
            "align_items": null,
            "bottom": null,
            "_model_module": "@jupyter-widgets/base",
            "top": null,
            "grid_column": null,
            "overflow_y": null,
            "overflow_x": null,
            "grid_auto_flow": null,
            "grid_area": null,
            "grid_template_columns": null,
            "flex": null,
            "_model_name": "LayoutModel",
            "justify_items": null,
            "grid_row": null,
            "max_height": null,
            "align_content": null,
            "visibility": null,
            "align_self": null,
            "height": null,
            "min_height": null,
            "padding": null,
            "grid_auto_rows": null,
            "grid_gap": null,
            "max_width": null,
            "order": null,
            "_view_module_version": "1.2.0",
            "grid_template_areas": null,
            "object_position": null,
            "object_fit": null,
            "grid_auto_columns": null,
            "margin": null,
            "display": null,
            "left": null
          }
        }
      }
    }
  },
  "cells": [
    {
      "cell_type": "markdown",
      "metadata": {
        "id": "p3I3A06DlNL_"
      },
      "source": [
        "Checking which GPU is being used in this session."
      ]
    },
    {
      "cell_type": "code",
      "metadata": {
        "colab": {
          "base_uri": "https://localhost:8080/"
        },
        "id": "wpKAi1vptvQn",
        "outputId": "67bdf479-d0af-4ca3-f2dc-dfec797555ab"
      },
      "source": [
        "! nvidia-smi"
      ],
      "execution_count": 1,
      "outputs": [
        {
          "output_type": "stream",
          "text": [
            "Mon Mar 15 17:20:06 2021       \n",
            "+-----------------------------------------------------------------------------+\n",
            "| NVIDIA-SMI 460.56       Driver Version: 460.32.03    CUDA Version: 11.2     |\n",
            "|-------------------------------+----------------------+----------------------+\n",
            "| GPU  Name        Persistence-M| Bus-Id        Disp.A | Volatile Uncorr. ECC |\n",
            "| Fan  Temp  Perf  Pwr:Usage/Cap|         Memory-Usage | GPU-Util  Compute M. |\n",
            "|                               |                      |               MIG M. |\n",
            "|===============================+======================+======================|\n",
            "|   0  Tesla K80           Off  | 00000000:00:04.0 Off |                    0 |\n",
            "| N/A   68C    P8    33W / 149W |      0MiB / 11441MiB |      0%      Default |\n",
            "|                               |                      |                  N/A |\n",
            "+-------------------------------+----------------------+----------------------+\n",
            "                                                                               \n",
            "+-----------------------------------------------------------------------------+\n",
            "| Processes:                                                                  |\n",
            "|  GPU   GI   CI        PID   Type   Process name                  GPU Memory |\n",
            "|        ID   ID                                                   Usage      |\n",
            "|=============================================================================|\n",
            "|  No running processes found                                                 |\n",
            "+-----------------------------------------------------------------------------+\n"
          ],
          "name": "stdout"
        }
      ]
    },
    {
      "cell_type": "markdown",
      "metadata": {
        "id": "D7P5aktQJXJW"
      },
      "source": [
        "# Introduction\n",
        "We have taken heavy inspiration from the official [TensorFlow guide for NMT with Attention](https://www.tensorflow.org/tutorials/text/nmt_with_attention).\n",
        "In this notebook we have tried documenting the code better with mathametical interpretations. We have also tried wrapping the custom `encoder` and `decoder` into a `tf.keras.Model` class upon which we can apply the `model.fit` method. \n",
        "> While TensoFlow uses unidirectional GRU for the encoder and decoder we go on to using Bi-directional layers as mentioned by [Bahdanau et al.](https://arxiv.org/abs/1409.0473) "
      ]
    },
    {
      "cell_type": "code",
      "metadata": {
        "id": "5yz111FIXuc8"
      },
      "source": [
        "import os\n",
        "import re\n",
        "import io\n",
        "import unicodedata\n",
        "import numpy as np\n",
        "import tensorflow as tf\n",
        "import matplotlib.pyplot as plt\n",
        "import matplotlib.ticker as ticker\n",
        "from tensorflow.keras import layers as L\n",
        "from sklearn.model_selection import train_test_split\n",
        "\n",
        "# For reproducibility\n",
        "tf.random.set_seed(666)\n",
        "os.environ['PYTHONHASHSEED'] = str(666)\n",
        "np.random.seed(666)"
      ],
      "execution_count": 2,
      "outputs": []
    },
    {
      "cell_type": "markdown",
      "metadata": {
        "id": "fZ8ZnvZWamdi"
      },
      "source": [
        "# Utilities And Downloads\n",
        "\n",
        "We use `tf.keras.utils.get_file` to download the English to Spanish dataset hosted by Google."
      ]
    },
    {
      "cell_type": "code",
      "metadata": {
        "colab": {
          "base_uri": "https://localhost:8080/"
        },
        "id": "ybK1mMMaX1rj",
        "outputId": "07c5979f-1faf-4958-cf19-f7d6d6d95d92"
      },
      "source": [
        "# Download the file\n",
        "path_to_zip = tf.keras.utils.get_file(\n",
        "    'spa-eng.zip',\n",
        "    origin='http://storage.googleapis.com/download.tensorflow.org/data/spa-eng.zip',\n",
        "    extract=True\n",
        ")\n",
        "\n",
        "print(f\"[INFO] PATH TO ZIP: {path_to_zip}\")"
      ],
      "execution_count": 3,
      "outputs": [
        {
          "output_type": "stream",
          "text": [
            "Downloading data from http://storage.googleapis.com/download.tensorflow.org/data/spa-eng.zip\n",
            "2646016/2638744 [==============================] - 0s 0us/step\n",
            "[INFO] PATH TO ZIP: /root/.keras/datasets/spa-eng.zip\n"
          ],
          "name": "stdout"
        }
      ]
    },
    {
      "cell_type": "code",
      "metadata": {
        "colab": {
          "base_uri": "https://localhost:8080/"
        },
        "id": "n712-Bw4ZbtM",
        "outputId": "593cd1b5-6bfb-4545-f5d4-9f3b2ff6d258"
      },
      "source": [
        "path_to_file = os.path.dirname(path_to_zip)+\"/spa-eng/spa.txt\"\n",
        "\n",
        "print(f\"[INFO] PATH TO FILE: {path_to_file}\")"
      ],
      "execution_count": 4,
      "outputs": [
        {
          "output_type": "stream",
          "text": [
            "[INFO] PATH TO FILE: /root/.keras/datasets/spa-eng/spa.txt\n"
          ],
          "name": "stdout"
        }
      ]
    },
    {
      "cell_type": "markdown",
      "metadata": {
        "id": "Z_Vw3-oXbfC2"
      },
      "source": [
        "# Preprocessing functions\n",
        "In the later snippets we use some functions that are used to pre-process the data.\n",
        "\n"
      ]
    },
    {
      "cell_type": "code",
      "metadata": {
        "id": "rEwkRZ3vYAQN"
      },
      "source": [
        "def unicode_to_ascii(s):\n",
        "    return ''.join(c for c in unicodedata.normalize('NFD', s)\n",
        "    if unicodedata.category(c) != 'Mn')"
      ],
      "execution_count": 5,
      "outputs": []
    },
    {
      "cell_type": "code",
      "metadata": {
        "id": "ZYED3VNhdeN-"
      },
      "source": [
        "def preprocess_sentence(w):\n",
        "    w = unicode_to_ascii(w.lower().strip())\n",
        "    # creating a space between a word and the punctuation following it\n",
        "    # eg: \"he is a boy.\" => \"he is a boy .\"\n",
        "    # Reference:- https://stackoverflow.com/questions/3645931/python-padding-punctuation-with-white-spaces-keeping-punctuation\n",
        "    w = re.sub(r\"([?.!,¿])\", r\" \\1 \", w)\n",
        "    w = re.sub(r'[\" \"]+', \" \", w)\n",
        "    # replacing everything with space except (a-z, A-Z, \".\", \"?\", \"!\", \",\")\n",
        "    w = re.sub(r\"[^a-zA-Z?.!,¿]+\", \" \", w)\n",
        "    w = w.strip()\n",
        "    # adding a start and an end token to the sentence\n",
        "    # so that the model know when to start and stop predicting.\n",
        "    w = '<start> ' + w + ' <end>'\n",
        "    return w"
      ],
      "execution_count": 6,
      "outputs": []
    },
    {
      "cell_type": "code",
      "metadata": {
        "colab": {
          "base_uri": "https://localhost:8080/"
        },
        "id": "ThKXoortYFhm",
        "outputId": "c0e33acd-6636-45a0-c702-3a71ca469364"
      },
      "source": [
        "en_sentence = u\"May I borrow this book?\"\n",
        "sp_sentence = u\"¿Puedo tomar prestado este libro?\"\n",
        "print(preprocess_sentence(en_sentence))\n",
        "print(preprocess_sentence(sp_sentence).encode('utf-8'))"
      ],
      "execution_count": 7,
      "outputs": [
        {
          "output_type": "stream",
          "text": [
            "<start> may i borrow this book ? <end>\n",
            "b'<start> \\xc2\\xbf puedo tomar prestado este libro ? <end>'\n"
          ],
          "name": "stdout"
        }
      ]
    },
    {
      "cell_type": "code",
      "metadata": {
        "id": "Q742cxMNYHN2"
      },
      "source": [
        "def create_dataset(path, num_examples):\n",
        "    lines = io.open(path, encoding='UTF-8').read().strip().split('\\n')\n",
        "\n",
        "    word_pairs = [[preprocess_sentence(w) for w in l.split('\\t')]  for l in lines[:num_examples]]\n",
        "\n",
        "    return zip(*word_pairs)"
      ],
      "execution_count": 8,
      "outputs": []
    },
    {
      "cell_type": "code",
      "metadata": {
        "colab": {
          "base_uri": "https://localhost:8080/"
        },
        "id": "YDpyz-fTYN0p",
        "outputId": "923e28fd-8414-4084-9e3a-4aacae197614"
      },
      "source": [
        "en, sp = create_dataset(path_to_file, None)\n",
        "print(en[100])\n",
        "print(sp[100])"
      ],
      "execution_count": 9,
      "outputs": [
        {
          "output_type": "stream",
          "text": [
            "<start> go away ! <end>\n",
            "<start> salga de aqui ! <end>\n"
          ],
          "name": "stdout"
        }
      ]
    },
    {
      "cell_type": "code",
      "metadata": {
        "id": "AGN6i1X8YbWd"
      },
      "source": [
        "def tokenize(lang):\n",
        "    lang_tokenizer = tf.keras.preprocessing.text.Tokenizer(\n",
        "        filters='')\n",
        "    lang_tokenizer.fit_on_texts(lang)\n",
        "\n",
        "    tensor = lang_tokenizer.texts_to_sequences(lang)\n",
        "\n",
        "    tensor = tf.keras.preprocessing.sequence.pad_sequences(\n",
        "        tensor,\n",
        "        padding='post')\n",
        "\n",
        "    return tensor, lang_tokenizer"
      ],
      "execution_count": 10,
      "outputs": []
    },
    {
      "cell_type": "code",
      "metadata": {
        "id": "fELGs7xTgeGU"
      },
      "source": [
        "def load_dataset(path, num_examples=None):\n",
        "    # creating cleaned input, output pairs\n",
        "    inp_lang, targ_lang = create_dataset(path , num_examples)\n",
        "\n",
        "    input_tensor, inp_lang_tokenizer = tokenize(inp_lang)\n",
        "    target_tensor, targ_lang_tokenizer = tokenize(targ_lang)\n",
        "\n",
        "    return input_tensor, target_tensor, inp_lang_tokenizer, targ_lang_tokenizer"
      ],
      "execution_count": 11,
      "outputs": []
    },
    {
      "cell_type": "code",
      "metadata": {
        "id": "QVVJScpohR8f"
      },
      "source": [
        "num_examples = 70_000\n",
        "(input_tensor,target_tensor,inp_lang,targ_lang) = load_dataset(path_to_file,num_examples)\n",
        "\n",
        "# Calculate max_length of the target tensors\n",
        "max_length_targ, max_length_inp = target_tensor.shape[1], input_tensor.shape[1]"
      ],
      "execution_count": 12,
      "outputs": []
    },
    {
      "cell_type": "code",
      "metadata": {
        "colab": {
          "base_uri": "https://localhost:8080/"
        },
        "id": "lrUealSjmMM3",
        "outputId": "45ddac91-42c2-45b5-c63c-bb8506955893"
      },
      "source": [
        "print(f'[INFO] Max length of target: {max_length_targ}')\n",
        "print(f'[INFO] Max length of input: {max_length_inp}')"
      ],
      "execution_count": 13,
      "outputs": [
        {
          "output_type": "stream",
          "text": [
            "[INFO] Max length of target: 20\n",
            "[INFO] Max length of input: 14\n"
          ],
          "name": "stdout"
        }
      ]
    },
    {
      "cell_type": "markdown",
      "metadata": {
        "id": "GrXQTcFdmaYX"
      },
      "source": [
        "# Dataset\n",
        "Here we use the `tf.data.Dataset` API for better dataset pipeline."
      ]
    },
    {
      "cell_type": "code",
      "metadata": {
        "colab": {
          "base_uri": "https://localhost:8080/"
        },
        "id": "3saxDFMZiIM-",
        "outputId": "a08ed3b6-7873-4fed-afbf-cd5fa47441a7"
      },
      "source": [
        "# Creating training and validation sets using an 80-20 split\n",
        "(input_tensor_train,input_tensor_val,target_tensor_train,target_tensor_val) = train_test_split(input_tensor,target_tensor,test_size=0.3)\n",
        "(input_tensor_val,input_tensor_test,target_tensor_val,target_tensor_test) = train_test_split(input_tensor_val,target_tensor_val,test_size=0.6)\n",
        "\n",
        "# Show length\n",
        "print(f'[INFO] Input_Train: {input_tensor_train.shape} Target_Train: {target_tensor_train.shape}')\n",
        "print(f'[INFO] Input_Val: {input_tensor_val.shape} Target_Val: {target_tensor_val.shape}')\n",
        "print(f'[INFO] Input_Test: {input_tensor_test.shape} Target_Test: {target_tensor_test.shape}')"
      ],
      "execution_count": 14,
      "outputs": [
        {
          "output_type": "stream",
          "text": [
            "[INFO] Input_Train: (49000, 14) Target_Train: (49000, 20)\n",
            "[INFO] Input_Val: (8400, 14) Target_Val: (8400, 20)\n",
            "[INFO] Input_Test: (12600, 14) Target_Test: (12600, 20)\n"
          ],
          "name": "stdout"
        }
      ]
    },
    {
      "cell_type": "code",
      "metadata": {
        "id": "6n7OY60fiXvW"
      },
      "source": [
        "def convert(lang, tensor):\n",
        "    for t in tensor:\n",
        "        if t!=0:\n",
        "            print (\"%d ----> %s\" % (t, lang.index_word[t]))"
      ],
      "execution_count": 15,
      "outputs": []
    },
    {
      "cell_type": "code",
      "metadata": {
        "colab": {
          "base_uri": "https://localhost:8080/"
        },
        "id": "PtEmQiqhimFW",
        "outputId": "a1e0e43d-cd0e-4950-a07a-3a71b18b39cf"
      },
      "source": [
        "print (\"Input Language; index to word mapping\")\n",
        "convert(inp_lang, input_tensor_train[0])\n",
        "print ()\n",
        "print (\"Target Language; index to word mapping\")\n",
        "convert(targ_lang, target_tensor_train[0])"
      ],
      "execution_count": 16,
      "outputs": [
        {
          "output_type": "stream",
          "text": [
            "Input Language; index to word mapping\n",
            "1 ----> <start>\n",
            "4 ----> i\n",
            "29 ----> can\n",
            "132 ----> still\n",
            "266 ----> hear\n",
            "32 ----> your\n",
            "761 ----> voice\n",
            "3 ----> .\n",
            "2 ----> <end>\n",
            "\n",
            "Target Language; index to word mapping\n",
            "1 ----> <start>\n",
            "124 ----> todavia\n",
            "46 ----> puedo\n",
            "920 ----> oir\n",
            "28 ----> tu\n",
            "599 ----> voz\n",
            "3 ----> .\n",
            "2 ----> <end>\n"
          ],
          "name": "stdout"
        }
      ]
    },
    {
      "cell_type": "markdown",
      "metadata": {
        "id": "oh7cmsnS5mke"
      },
      "source": [
        "# NMT with Bahdanau Attention\n",
        "In this section we discuss the implementation of attention with NMT as mentioned by [Bahdanau et al](https://arxiv.org/abs/1409.0473)."
      ]
    },
    {
      "cell_type": "code",
      "metadata": {
        "id": "nQEuR_EminQm"
      },
      "source": [
        "# GLOBAL VARIABLES\n",
        "BUFFER_SIZE_TRAIN = len(input_tensor_train)\n",
        "BUFFER_SIZE_VAL = len(input_tensor_val)\n",
        "BATCH_SIZE = 1000\n",
        "steps_per_epoch = len(input_tensor_train)//BATCH_SIZE\n",
        "embedding_dim = 512\n",
        "units = 1024\n",
        "vocab_inp_size = len(inp_lang.word_index)+1\n",
        "vocab_tar_size = len(targ_lang.word_index)+1\n",
        "\n",
        "train_ds = tf.data.Dataset.from_tensor_slices((input_tensor_train, target_tensor_train)).shuffle(BUFFER_SIZE_TRAIN)\n",
        "train_ds = train_ds.batch(BATCH_SIZE, drop_remainder=True)\n",
        "\n",
        "val_ds = tf.data.Dataset.from_tensor_slices((input_tensor_val, target_tensor_val)).shuffle(BUFFER_SIZE_VAL)\n",
        "val_ds = val_ds.batch(BATCH_SIZE, drop_remainder=True)\n",
        "\n",
        "test_ds = tf.data.Dataset.from_tensor_slices((input_tensor_test, target_tensor_test)).shuffle(BUFFER_SIZE_VAL)\n",
        "test_ds = test_ds.batch(BATCH_SIZE, drop_remainder=True)"
      ],
      "execution_count": 17,
      "outputs": []
    },
    {
      "cell_type": "markdown",
      "metadata": {
        "id": "kG-O3hyr5mkf"
      },
      "source": [
        "## Encoder\n",
        "Bahdanau suggested that the encoder should consist of a `Bi-directional` recurrent unit. For our implementation we use the `bidirection` layer along with the `GRU` layer.\n",
        "\n",
        "An encoder takes a sentence as input, and provides with annotations. Let us break the formation of annotation in two parts.\n",
        "1. Formation of the hidden states for a unidirectional recurrent unit. \n",
        "$$\n",
        "h_{t}=f(h_{t-1},x_{t})\\\\\n",
        "\\boxed{\\Longrightarrow h_{t}=\\tanh{(w_{h}h_{t-1}+W_{x}x_{t}+b)}}\n",
        "$$\n",
        "    where \n",
        "    - $h_{t}$ is the present hidden state\n",
        "    - $h_{t-1}$ is the previous hidden state\n",
        "    - $x_{t}$ is the present input.\n",
        "2. Concatenation of the forward hidden states and backward hidden state.\n",
        "    We are using a `bidirectional` layer. This means that we have two set of hidden states, one for the forward     processing $\\vec{h_{t}}$ and the other for the backward processing $\\overleftarrow{h_{t}}$.\n",
        "    Bahdanau suggest to concat the two set of hidden states and move ahead with our implementations. This concatenated hidden state is the `annotation`.\n",
        "$$\n",
        "h_{t}=[\\vec{h};\\overleftarrow{h}]\n",
        "$$"
      ]
    },
    {
      "cell_type": "code",
      "metadata": {
        "id": "61NDaiqkjH6I"
      },
      "source": [
        "class Encoder(tf.keras.Model):\n",
        "  def __init__(self,\n",
        "               vocab_size,\n",
        "               embedding_dim,\n",
        "               enc_units,\n",
        "               batch_sz):\n",
        "    super(Encoder, self).__init__()\n",
        "    self.batch_sz = batch_sz\n",
        "    self.enc_units = enc_units\n",
        "    self.embedding = L.Embedding(vocab_size, embedding_dim)\n",
        "    self.gru = L.GRU(self.enc_units,\n",
        "                     return_sequences=True,\n",
        "                     return_state=True,\n",
        "                     recurrent_initializer='glorot_uniform')\n",
        "    self.bidirection = L.Bidirectional(self.gru, merge_mode='concat')\n",
        "\n",
        "  def call(self,\n",
        "           x,\n",
        "           hidden_fd,\n",
        "           hidden_bd):\n",
        "    x = self.embedding(x)\n",
        "    enc_hidden_states, fd_state, bd_state = self.bidirection(x, initial_state = [hidden_fd, hidden_bd])\n",
        "    return enc_hidden_states, fd_state, bd_state\n",
        "\n",
        "  def initialize_hidden_state(self):\n",
        "    return [tf.zeros((self.batch_sz, self.enc_units)) for i in range(2)]"
      ],
      "execution_count": 18,
      "outputs": []
    },
    {
      "cell_type": "code",
      "metadata": {
        "colab": {
          "base_uri": "https://localhost:8080/"
        },
        "id": "yNspKGi1jThL",
        "outputId": "0c3ae781-1c2d-423e-af9a-5279482378a9"
      },
      "source": [
        "# Sanity check the shapes\n",
        "encoder = Encoder(vocab_inp_size, embedding_dim, units, BATCH_SIZE)\n",
        "\n",
        "# sample input\n",
        "initial_fwd, initial_bck = encoder.initialize_hidden_state()\n",
        "for en, sp in train_ds.take(1):\n",
        "    sample_enc_hidden_states, sample_hidden_fwd, sample_hidden_bck = encoder(en, initial_fwd, initial_bck)\n",
        "    print ('Encoder output shape: (batch size, sequence length, units) {}'.format(sample_enc_hidden_states.shape))\n",
        "    print ('Encoder Hidden FWD state shape: (batch size, units) {}'.format(sample_hidden_fwd.shape))\n",
        "    print ('Encoder Hidden FWD state shape: (batch size, units) {}'.format(sample_hidden_bck.shape))"
      ],
      "execution_count": 19,
      "outputs": [
        {
          "output_type": "stream",
          "text": [
            "Encoder output shape: (batch size, sequence length, units) (1000, 14, 2048)\n",
            "Encoder Hidden FWD state shape: (batch size, units) (1000, 1024)\n",
            "Encoder Hidden FWD state shape: (batch size, units) (1000, 1024)\n"
          ],
          "name": "stdout"
        }
      ]
    },
    {
      "cell_type": "markdown",
      "metadata": {
        "id": "qAbfRAq35mkg"
      },
      "source": [
        "## Attention and Decoder\n",
        "In the two consecutive code blocks we would be building our Attention and Decoder model.\n",
        "\n",
        "I have found it easier to approach the models from the decoder's point of view. Let's first describe a regular recurrent decoder and move into applying attention.\n",
        "\n",
        "A regular decoder with recurrent units takes as input a fixed latent representation $c=f(\\{h_{enc,1},h_{enc,2},...,h_{enc,T_{x}}\\})$ which depends on the encoder hidden states, and label words $y_{t}$. We notice that $c$ the fixed latent representation is a static entity. This is also called the context vector that holds information of the entire source sentence in a compressed way.\n",
        "\n",
        "Attention is a mechanism that helps in building the context vector $c$ for every step of the decoder. This time, we attend to important parts of the source sentence. This happens through a Dense model being learned end to end with the objective of good translation. The only differnece with regular decoder and a decoder with attention is that the context vector $c$ now is dynamic $c_{i}$ where $i$ indices all the decoding step."
      ]
    },
    {
      "cell_type": "code",
      "metadata": {
        "id": "EE7jy2ACkj7r"
      },
      "source": [
        "class BahdanauAttention(tf.keras.layers.Layer):\n",
        "  def __init__(self, units):\n",
        "    super(BahdanauAttention, self).__init__()\n",
        "    self.W1 = L.Dense(units)\n",
        "    self.W2 = L.Dense(units)\n",
        "    self.V = L.Dense(1)\n",
        "\n",
        "  def call(self, dec_hidden_state, annotations):\n",
        "    dec_hidden_state_time = tf.expand_dims(dec_hidden_state, 1)\n",
        "\n",
        "    score = self.V(tf.nn.tanh(\n",
        "        self.W1(dec_hidden_state_time) + self.W2(annotations)))\n",
        "\n",
        "    # attention_weights shape == (batch_size, max_length, 1)\n",
        "    attention_weights = tf.nn.softmax(score, axis=1)\n",
        "    \n",
        "    # context_vector shape after sum == (batch_size, hidden_size)\n",
        "    context_vector = attention_weights * annotations\n",
        "    context_vector = tf.reduce_sum(context_vector, axis=1)\n",
        "\n",
        "    return context_vector, attention_weights"
      ],
      "execution_count": 20,
      "outputs": []
    },
    {
      "cell_type": "code",
      "metadata": {
        "id": "2YPxwKuwlGr1"
      },
      "source": [
        "class Decoder(tf.keras.Model):\n",
        "  def __init__(self, vocab_size, embedding_dim, dec_units, batch_sz):\n",
        "    super(Decoder, self).__init__()\n",
        "    self.batch_sz = batch_sz\n",
        "    self.dec_units = dec_units\n",
        "    self.embedding = L.Embedding(vocab_size, embedding_dim)\n",
        "    self.gru = L.GRU(self.dec_units,\n",
        "                     return_sequences=True,\n",
        "                     return_state=True,\n",
        "                     recurrent_initializer='glorot_uniform')\n",
        "    self.fc = L.Dense(vocab_size)\n",
        "    # used for attention\n",
        "    self.attention = BahdanauAttention(self.dec_units)\n",
        "\n",
        "  def call(self, x, dec_hidden_state, annotations):\n",
        "    context_vector, attention_weights = self.attention(dec_hidden_state, annotations)\n",
        "\n",
        "    x = self.embedding(x)\n",
        "    x = tf.concat([tf.expand_dims(context_vector, 1), x], axis=-1)\n",
        "    output, state = self.gru(x)\n",
        "    output = tf.reshape(output, (-1, output.shape[2]))\n",
        "    x = self.fc(output)\n",
        "    return x, state, attention_weights"
      ],
      "execution_count": 21,
      "outputs": []
    },
    {
      "cell_type": "code",
      "metadata": {
        "colab": {
          "base_uri": "https://localhost:8080/"
        },
        "id": "kA4jNHG0lJ52",
        "outputId": "c189da79-e351-4398-e25f-b104696eb467"
      },
      "source": [
        "# Sanity check the shapes\n",
        "encoder = Encoder(vocab_inp_size, embedding_dim, units, BATCH_SIZE)\n",
        "decoder = Decoder(vocab_tar_size, embedding_dim, units, BATCH_SIZE)\n",
        "\n",
        "initial_fd, initial_bd = encoder.initialize_hidden_state()\n",
        "for en,sp in train_ds.take(1):\n",
        "    annotations, enc_fd_hidden, enc_bd_hidden = encoder(en, initial_fd, initial_bd)\n",
        "    dec_input = tf.expand_dims([targ_lang.word_index['<start>']] * BATCH_SIZE, 1)\n",
        "    prediction, dec_hidden, att_weights = decoder(dec_input, enc_fd_hidden, annotations)\n",
        "\n",
        "    print ('Prediction shape: (batch_size, vocab size) {}'.format(prediction.shape))\n",
        "    print ('Decoder hidden state shape: (batch_size, GRU units) {}'.format(dec_hidden.shape))\n",
        "    print ('Attention weights shape: (batch_size, inputs length, 1) {}'.format(att_weights.shape))"
      ],
      "execution_count": 22,
      "outputs": [
        {
          "output_type": "stream",
          "text": [
            "Prediction shape: (batch_size, vocab size) (1000, 16132)\n",
            "Decoder hidden state shape: (batch_size, GRU units) (1000, 1024)\n",
            "Attention weights shape: (batch_size, inputs length, 1) (1000, 14, 1)\n"
          ],
          "name": "stdout"
        }
      ]
    },
    {
      "cell_type": "markdown",
      "metadata": {
        "id": "UDdohQmmukxV"
      },
      "source": [
        "# Model Class for easier training\n",
        "Here we encapsulate the entire training process in a custom model. This is a good practise as this provides off the chart compatibility with a lot of features provided by tensorflow and keras."
      ]
    },
    {
      "cell_type": "code",
      "metadata": {
        "id": "3drm1HZdukcL"
      },
      "source": [
        "class NMT(tf.keras.Model):\n",
        "    def __init__(self, encoder, decoder):\n",
        "        super(NMT, self).__init__()\n",
        "        self.encoder = encoder\n",
        "        self.decoder = decoder\n",
        "\n",
        "    def train_step(self, data):\n",
        "        # Every sentence is different\n",
        "        # We would not want the memory state to flow from\n",
        "        # one sentence to other\n",
        "        enc_hidden_fd, enc_hidden_bd = self.encoder.initialize_hidden_state()\n",
        "        inp, targ = data\n",
        "        loss = 0\n",
        "        with tf.GradientTape() as tape:\n",
        "            annotations, enc_hidden_fd, _ = self.encoder(inp, enc_hidden_fd, enc_hidden_bd)\n",
        "            dec_hidden = enc_hidden_fd\n",
        "            dec_input = tf.expand_dims([targ_lang.word_index['<start>']] * BATCH_SIZE, 1)\n",
        "            # Teacher forcing - feeding the target as the next input\n",
        "            for t in range(1, targ.shape[1]):\n",
        "                # passing enc_output to the decoder\n",
        "                predictions, dec_hidden, att_weights = self.decoder(dec_input, dec_hidden, annotations)\n",
        "                loss += self.compiled_loss(targ[:, t], predictions)\n",
        "                # using teacher forcing\n",
        "                dec_input = tf.expand_dims(targ[:, t], 1)\n",
        "        batch_loss = (loss / int(targ.shape[1]))\n",
        "        variables = encoder.trainable_variables + decoder.trainable_variables\n",
        "        gradients = tape.gradient(loss, variables)\n",
        "        optimizer.apply_gradients(zip(gradients, variables))\n",
        "        return {\"custom_loss\": batch_loss}\n",
        "    \n",
        "    def test_step(self, data):\n",
        "        enc_hidden_fd, enc_hidden_bd = self.encoder.initialize_hidden_state()\n",
        "        inp, targ = data\n",
        "        loss = 0\n",
        "        enc_output, enc_hidden_fd, _ = self.encoder(inp, enc_hidden_fd, enc_hidden_bd)\n",
        "        dec_hidden = enc_hidden_fd\n",
        "        dec_input = tf.expand_dims([targ_lang.word_index['<start>']] * BATCH_SIZE, 1)\n",
        "        # Teacher forcing - feeding the target as the next input\n",
        "        for t in range(1, targ.shape[1]):\n",
        "            # passing enc_output to the decoder\n",
        "            predictions, dec_hidden, att_weights = self.decoder(dec_input, dec_hidden, annotations)\n",
        "            loss += self.compiled_loss(targ[:, t], predictions)\n",
        "            # using teacher forcing\n",
        "            dec_input = tf.expand_dims(targ[:, t], 1)\n",
        "        batch_loss = (loss / int(targ.shape[1]))\n",
        "        return {\"custom_loss\": batch_loss}"
      ],
      "execution_count": 23,
      "outputs": []
    },
    {
      "cell_type": "code",
      "metadata": {
        "id": "KMt2NvOiDkN0"
      },
      "source": [
        "# Early Stopping to prevent overfitting\n",
        "es = tf.keras.callbacks.EarlyStopping(monitor=\"val_custom_loss\", patience=5, verbose=2, restore_best_weights=True)"
      ],
      "execution_count": 24,
      "outputs": []
    },
    {
      "cell_type": "markdown",
      "metadata": {
        "id": "ISJ1AUB-7_Jy"
      },
      "source": [
        "# Including wandb\n",
        "Here we will be including weights and biases in the training loop and track the metrics we need."
      ]
    },
    {
      "cell_type": "code",
      "metadata": {
        "colab": {
          "base_uri": "https://localhost:8080/"
        },
        "id": "adHlKqG-7_BX",
        "outputId": "d62c9709-5ff9-4070-90ed-84a066d715be"
      },
      "source": [
        "! pip install wandb -qqq\n",
        "import wandb"
      ],
      "execution_count": 25,
      "outputs": [
        {
          "output_type": "stream",
          "text": [
            "\u001b[K     |████████████████████████████████| 2.0MB 4.7MB/s \n",
            "\u001b[K     |████████████████████████████████| 102kB 7.6MB/s \n",
            "\u001b[K     |████████████████████████████████| 163kB 13.5MB/s \n",
            "\u001b[K     |████████████████████████████████| 133kB 14.0MB/s \n",
            "\u001b[K     |████████████████████████████████| 71kB 6.7MB/s \n",
            "\u001b[?25h  Building wheel for pathtools (setup.py) ... \u001b[?25l\u001b[?25hdone\n",
            "  Building wheel for subprocess32 (setup.py) ... \u001b[?25l\u001b[?25hdone\n"
          ],
          "name": "stdout"
        }
      ]
    },
    {
      "cell_type": "code",
      "metadata": {
        "id": "0XnhNzve8QXy"
      },
      "source": [
        "from wandb.keras import WandbCallback\n",
        "run = wandb.init(entity=\"authors\", project=\"under-attention\", group=\"Bahdanau\", name=\"Baseline\")"
      ],
      "execution_count": null,
      "outputs": []
    },
    {
      "cell_type": "code",
      "metadata": {
        "colab": {
          "base_uri": "https://localhost:8080/"
        },
        "id": "NN0v-i_CxDdb",
        "outputId": "c9716da1-4ee0-4d10-da26-018a5ed5a57d"
      },
      "source": [
        "EPOCHS=100\n",
        "encoder = Encoder(vocab_inp_size, embedding_dim, units, BATCH_SIZE)\n",
        "decoder = Decoder(vocab_tar_size, embedding_dim, units, BATCH_SIZE)\n",
        "\n",
        "optimizer = tf.keras.optimizers.Adam()\n",
        "loss_object = tf.keras.losses.SparseCategoricalCrossentropy(\n",
        "    from_logits=True,\n",
        "    reduction='none')\n",
        "\n",
        "def loss_function(real, pred):\n",
        "    mask = tf.math.logical_not(tf.math.equal(real, 0))\n",
        "    loss_ = loss_object(real, pred)\n",
        "    mask = tf.cast(mask, dtype=loss_.dtype)\n",
        "    loss_ *= mask\n",
        "    return tf.reduce_mean(loss_)\n",
        "\n",
        "main_model = NMT(encoder, decoder)\n",
        "main_model.compile(loss=loss_function, optimizer=optimizer)\n",
        "\n",
        "history = main_model.fit(\n",
        "    train_ds,\n",
        "    validation_data=val_ds,\n",
        "    callbacks=[es, WandbCallback(validation_data=val_ds)],\n",
        "    epochs=EPOCHS)"
      ],
      "execution_count": 27,
      "outputs": [
        {
          "output_type": "stream",
          "text": [
            "Epoch 1/100\n",
            "49/49 [==============================] - 261s 5s/step - custom_loss: 1.9656 - val_custom_loss: 2.9679\n",
            "Epoch 2/100\n",
            "49/49 [==============================] - 229s 5s/step - custom_loss: 1.5750 - val_custom_loss: 2.5927\n",
            "Epoch 3/100\n",
            "49/49 [==============================] - 229s 5s/step - custom_loss: 1.4246 - val_custom_loss: 2.5178\n",
            "Epoch 4/100\n",
            "49/49 [==============================] - 227s 5s/step - custom_loss: 1.3136 - val_custom_loss: 2.4455\n",
            "Epoch 5/100\n",
            "49/49 [==============================] - 229s 5s/step - custom_loss: 1.2122 - val_custom_loss: 2.4326\n",
            "Epoch 6/100\n",
            "49/49 [==============================] - 230s 5s/step - custom_loss: 1.1205 - val_custom_loss: 2.3406\n",
            "Epoch 7/100\n",
            "49/49 [==============================] - 231s 5s/step - custom_loss: 1.0377 - val_custom_loss: 2.3234\n",
            "Epoch 8/100\n",
            "49/49 [==============================] - 230s 5s/step - custom_loss: 0.9618 - val_custom_loss: 2.3349\n",
            "Epoch 9/100\n",
            "49/49 [==============================] - 230s 5s/step - custom_loss: 0.8923 - val_custom_loss: 2.3322\n",
            "Epoch 10/100\n",
            "49/49 [==============================] - 229s 5s/step - custom_loss: 0.8301 - val_custom_loss: 2.3365\n",
            "Epoch 11/100\n",
            "49/49 [==============================] - 230s 5s/step - custom_loss: 0.7698 - val_custom_loss: 2.3433\n",
            "Epoch 12/100\n",
            "49/49 [==============================] - 229s 5s/step - custom_loss: 0.7117 - val_custom_loss: 2.3221\n",
            "Epoch 13/100\n",
            "49/49 [==============================] - 226s 5s/step - custom_loss: 0.6550 - val_custom_loss: 2.3502\n",
            "Epoch 14/100\n",
            "49/49 [==============================] - 227s 5s/step - custom_loss: 0.6038 - val_custom_loss: 2.2883\n",
            "Epoch 15/100\n",
            "49/49 [==============================] - 230s 5s/step - custom_loss: 0.5503 - val_custom_loss: 2.3705\n",
            "Epoch 16/100\n",
            "49/49 [==============================] - 226s 5s/step - custom_loss: 0.5033 - val_custom_loss: 2.3995\n",
            "Epoch 17/100\n",
            "49/49 [==============================] - 228s 5s/step - custom_loss: 0.4630 - val_custom_loss: 2.3552\n",
            "Epoch 18/100\n",
            "49/49 [==============================] - 229s 5s/step - custom_loss: 0.4173 - val_custom_loss: 2.3717\n",
            "Epoch 19/100\n",
            "49/49 [==============================] - 230s 5s/step - custom_loss: 0.3781 - val_custom_loss: 2.3525\n",
            "Restoring model weights from the end of the best epoch.\n",
            "Epoch 00019: early stopping\n"
          ],
          "name": "stdout"
        }
      ]
    },
    {
      "cell_type": "code",
      "metadata": {
        "colab": {
          "base_uri": "https://localhost:8080/",
          "height": 295
        },
        "id": "oq8dkT_g8ejp",
        "outputId": "439e2d19-0de5-4b42-ba74-eda035b762d1"
      },
      "source": [
        "plt.plot(history.history[\"custom_loss\"], label=\"train_loss\")\n",
        "plt.plot(history.history[\"val_custom_loss\"], label=\"val_loss\")\n",
        "plt.title(\"Loss vs. Epoch\")\n",
        "plt.xlabel(\"Epoch #\")\n",
        "plt.ylabel(\"Loss\")\n",
        "plt.legend(loc=\"lower left\")\n",
        "plt.show()"
      ],
      "execution_count": 28,
      "outputs": [
        {
          "output_type": "display_data",
          "data": {
            "image/png": "[encoded data removed]",
            "text/plain": [
              "<Figure size 432x288 with 1 Axes>"
            ]
          },
          "metadata": {
            "tags": [],
            "needs_background": "light"
          }
        }
      ]
    },
    {
      "cell_type": "markdown",
      "metadata": {
        "id": "ELTlMRzg82iA"
      },
      "source": [
        "> A basic thing to notice here is the gap between the validation and the training loss. This indicates to the scope of parameters that can be inserted to better train the model."
      ]
    },
    {
      "cell_type": "code",
      "metadata": {
        "colab": {
          "base_uri": "https://localhost:8080/"
        },
        "id": "Y4TBkzF-9DYX",
        "outputId": "a5939b38-0037-48de-ced1-e8cd1ee5af39"
      },
      "source": [
        "custom_test_loss = main_model.evaluate(test_ds)\n",
        "print(f'[INFO] Test Loss: {custom_test_loss}')"
      ],
      "execution_count": 29,
      "outputs": [
        {
          "output_type": "stream",
          "text": [
            "12/12 [==============================] - 17s 1s/step - custom_loss: 2.3430\n",
            "[INFO] Test Loss: 2.3329434394836426\n"
          ],
          "name": "stdout"
        }
      ]
    },
    {
      "cell_type": "code",
      "metadata": {
        "colab": {
          "base_uri": "https://localhost:8080/"
        },
        "id": "t0MtA9eE9HJh",
        "outputId": "3c7753b7-e94b-476f-e905-c945d1efe57f"
      },
      "source": [
        "# Save the weights of the model for better reproducibility\n",
        "main_model.encoder.save_weights(\"encoder.h5\")\n",
        "main_model.decoder.save_weights(\"decoder.h5\")\n",
        "\n",
        "artifact = wandb.Artifact('model-weights', type='model')\n",
        "\n",
        "# Add a file to the artifact's contents\n",
        "artifact.add_file('encoder.h5')\n",
        "artifact.add_file('decoder.h5')\n",
        "\n",
        "# Save the artifact version to W&B and mark it as the output of this run\n",
        "run.log_artifact(artifact)"
      ],
      "execution_count": 30,
      "outputs": [
        {
          "output_type": "execute_result",
          "data": {
            "text/plain": [
              "<wandb.sdk.wandb_artifacts.Artifact at 0x7fe4b4cf93d0>"
            ]
          },
          "metadata": {
            "tags": []
          },
          "execution_count": 30
        }
      ]
    },
    {
      "cell_type": "markdown",
      "metadata": {
        "id": "ioAMrBIAAnyo"
      },
      "source": [
        "# Inference\n",
        "The inference module holds the code snippet to have translations from english to spanish. We also plot the attention weights of the translations. The attention weights are pretty neat to build intuitions."
      ]
    },
    {
      "cell_type": "code",
      "metadata": {
        "id": "lEuWMIFvIGjd"
      },
      "source": [
        "encoder = main_model.encoder\n",
        "decoder = main_model.decoder"
      ],
      "execution_count": 31,
      "outputs": []
    },
    {
      "cell_type": "code",
      "metadata": {
        "id": "__KD3JgK3WkI"
      },
      "source": [
        "def evaluate(sentence):\n",
        "    attention_plot = np.zeros((max_length_targ, max_length_inp))\n",
        "    sentence = preprocess_sentence(sentence)\n",
        "    inputs = [inp_lang.word_index[i] for i in sentence.split(' ')]\n",
        "    inputs = tf.keras.preprocessing.sequence.pad_sequences([inputs],maxlen=max_length_inp,padding='post')\n",
        "    inputs = tf.convert_to_tensor(inputs)\n",
        "    \n",
        "    result = ''\n",
        "    encoder_hidden_fwd = tf.zeros((1, units))\n",
        "    encoder_hidden_bck = tf.zeros((1, units))\n",
        "    enc_out, enc_hidden_fwd, encoder_hidden_bck = encoder(inputs, encoder_hidden_fwd, encoder_hidden_bck)\n",
        "\n",
        "    dec_hidden = enc_hidden_fwd\n",
        "    dec_input = tf.expand_dims([targ_lang.word_index['<start>']], 0)\n",
        "\n",
        "    for t in range(max_length_targ):\n",
        "        predictions, dec_hidden, attention_weights = decoder(dec_input,dec_hidden,enc_out)\n",
        "        # storing the attention weights to plot later on\n",
        "        attention_weights = tf.reshape(attention_weights, (-1, ))\n",
        "        attention_plot[t] = attention_weights.numpy()\n",
        "        predicted_id = tf.argmax(predictions[0]).numpy()\n",
        "        result += targ_lang.index_word[predicted_id] + ' '\n",
        "        if targ_lang.index_word[predicted_id] == '<end>':\n",
        "            return result, sentence, attention_plot\n",
        "        # the predicted ID is fed back into the model\n",
        "        dec_input = tf.expand_dims([predicted_id], 0)\n",
        "    return result, sentence, attention_plot"
      ],
      "execution_count": 32,
      "outputs": []
    },
    {
      "cell_type": "code",
      "metadata": {
        "id": "ljxAmwz9EwF8"
      },
      "source": [
        "def plot_attention(attention, sentence, predicted_sentence, run, param):\n",
        "    fig = plt.figure(figsize=(10,10))\n",
        "    ax = fig.add_subplot(1, 1, 1)\n",
        "    ax.matshow(attention, cmap='viridis')\n",
        "\n",
        "    fontdict = {'fontsize': 14}\n",
        "\n",
        "    ax.set_xticklabels([''] + sentence, fontdict=fontdict, rotation=90)\n",
        "    ax.set_yticklabels([''] + predicted_sentence, fontdict=fontdict)\n",
        "\n",
        "    ax.xaxis.set_major_locator(ticker.MultipleLocator(1))\n",
        "    ax.yaxis.set_major_locator(ticker.MultipleLocator(1))\n",
        "    run.log({f\"{param}\": plt})\n",
        "    plt.show()"
      ],
      "execution_count": 86,
      "outputs": []
    },
    {
      "cell_type": "code",
      "metadata": {
        "id": "LtoSpfMkExjt"
      },
      "source": [
        "def translate(sentence, run, param):\n",
        "\n",
        "    result, sentence, attention_plot = evaluate(sentence)\n",
        "\n",
        "    print('Input: %s' % (sentence))\n",
        "    print('Predicted translation: {}'.format(result))\n",
        "\n",
        "    attention_plot = attention_plot[:len(result.split(' ')), :len(sentence.split(' '))]\n",
        "    plot_attention(attention_plot, sentence.split(' '), result.split(' '), run, param)"
      ],
      "execution_count": 87,
      "outputs": []
    },
    {
      "cell_type": "markdown",
      "metadata": {
        "id": "ougKJI0S-Fjr"
      },
      "source": [
        "## Make custom charts for wandb"
      ]
    },
    {
      "cell_type": "code",
      "metadata": {
        "id": "RBOPv6DJByuV"
      },
      "source": [
        "def custom_chart(src, run, param):\n",
        "    \"\"\"Logs tables needed for custom charts\n",
        "\n",
        "    Args:\n",
        "        src: The source sentence\n",
        "        run: The run object in wandb\n",
        "        param: The parameter that is logged\n",
        "    \"\"\"\n",
        "    translation, src, attn = evaluate(src)\n",
        "    print(f\"SRC: {src}\")\n",
        "    print(f\"TRANSLATION: {translation}\")\n",
        "    print()\n",
        "    \n",
        "    attn_data = []\n",
        "    src = src.split()\n",
        "    translation =  translation.split()\n",
        "    for m in range(len(translation)):\n",
        "        for n in range(len(src)):\n",
        "            attn_data.append([n, m, src[n], translation[m], attn[m, n]])\n",
        "\n",
        "    run.log({f\"{param}\": wandb.Table(data=attn_data, columns=[\"s_ind\", \"t_ind\", \"s_word\", \"t_word\", \"attn\"])})"
      ],
      "execution_count": 38,
      "outputs": []
    },
    {
      "cell_type": "code",
      "metadata": {
        "id": "cn70PeXhFMGr",
        "colab": {
          "base_uri": "https://localhost:8080/"
        },
        "outputId": "440df3fa-ba24-4ff0-ec9d-a09104aa3165"
      },
      "source": [
        "custom_chart(u\"i am a good boy.\", run, \"first_table\")\n",
        "custom_chart(u\"will you come with me?\", run, \"second_table\")\n",
        "custom_chart(u\"i want to go to your house.\", run, \"third_table\")"
      ],
      "execution_count": 39,
      "outputs": [
        {
          "output_type": "stream",
          "text": [
            "SRC: <start> i am a good boy . <end>\n",
            "TRANSLATION: soy un hombre . <end> \n",
            "\n",
            "SRC: <start> will you come with me ? <end>\n",
            "TRANSLATION: ¿ vas a tom ? <end> \n",
            "\n",
            "SRC: <start> i want to go to your house . <end>\n",
            "TRANSLATION: quiero ir a casa . <end> \n",
            "\n"
          ],
          "name": "stdout"
        }
      ]
    },
    {
      "cell_type": "markdown",
      "metadata": {
        "id": "vhKnHkmM-IqO"
      },
      "source": [
        "## Upload the heat maps as images"
      ]
    },
    {
      "cell_type": "code",
      "metadata": {
        "colab": {
          "base_uri": "https://localhost:8080/",
          "height": 675
        },
        "id": "7f82tco6rlWh",
        "outputId": "e1de74e1-933e-4606-e28d-a24dea3c8bb1"
      },
      "source": [
        "translate(u'how are you?', run, \"first_heatmap\")"
      ],
      "execution_count": 88,
      "outputs": [
        {
          "output_type": "stream",
          "text": [
            "Input: <start> how are you ? <end>\n",
            "Predicted translation: ¿ como estan ? <end> \n"
          ],
          "name": "stdout"
        },
        {
          "output_type": "display_data",
          "data": {
            "image/png": "[encoded data removed]",
            "text/plain": [
              "<Figure size 720x720 with 1 Axes>"
            ]
          },
          "metadata": {
            "tags": [],
            "needs_background": "light"
          }
        }
      ]
    },
    {
      "cell_type": "code",
      "metadata": {
        "colab": {
          "base_uri": "https://localhost:8080/",
          "height": 597
        },
        "id": "GdgZArrYFIzo",
        "outputId": "da0695e1-2dbf-4d40-b097-c1fd081ac065"
      },
      "source": [
        "translate(u'i am good.', run, \"second_heatmap\")"
      ],
      "execution_count": 89,
      "outputs": [
        {
          "output_type": "stream",
          "text": [
            "Input: <start> i am good . <end>\n",
            "Predicted translation: estoy muy . <end> \n"
          ],
          "name": "stdout"
        },
        {
          "output_type": "display_data",
          "data": {
            "image/png": "[encoded data removed]",
            "text/plain": [
              "<Figure size 720x720 with 1 Axes>"
            ]
          },
          "metadata": {
            "tags": [],
            "needs_background": "light"
          }
        }
      ]
    },
    {
      "cell_type": "code",
      "metadata": {
        "colab": {
          "base_uri": "https://localhost:8080/",
          "height": 675
        },
        "id": "vJ4HqcmUFK9-",
        "outputId": "cfa59a60-f19b-4fa7-99d0-c883d69d5756"
      },
      "source": [
        "translate(u'i am going to school', run, \"third_heatmap\")"
      ],
      "execution_count": 90,
      "outputs": [
        {
          "output_type": "stream",
          "text": [
            "Input: <start> i am going to school <end>\n",
            "Predicted translation: voy a estudiar en la cabeza . <end> \n"
          ],
          "name": "stdout"
        },
        {
          "output_type": "display_data",
          "data": {
            "image/png": "[encoded data removed]",
            "text/plain": [
              "<Figure size 720x720 with 1 Axes>"
            ]
          },
          "metadata": {
            "tags": [],
            "needs_background": "light"
          }
        }
      ]
    },
    {
      "cell_type": "code",
      "metadata": {
        "colab": {
          "base_uri": "https://localhost:8080/",
          "height": 675
        },
        "id": "6mYXg0wOrvSG",
        "outputId": "3df7633a-dd90-4b3c-b05c-9d986710534a"
      },
      "source": [
        "translate(u'let us go home now', run, \"forth_heatmap\")"
      ],
      "execution_count": 91,
      "outputs": [
        {
          "output_type": "stream",
          "text": [
            "Input: <start> let us go home now <end>\n",
            "Predicted translation: te quedare en casa . <end> \n"
          ],
          "name": "stdout"
        },
        {
          "output_type": "display_data",
          "data": {
            "image/png": "[encoded data removed]",
            "text/plain": [
              "<Figure size 720x720 with 1 Axes>"
            ]
          },
          "metadata": {
            "tags": [],
            "needs_background": "light"
          }
        }
      ]
    },
    {
      "cell_type": "code",
      "metadata": {
        "colab": {
          "base_uri": "https://localhost:8080/",
          "height": 675
        },
        "id": "CfznEMANcnh1",
        "outputId": "3abd70cf-f6d6-406c-b81e-1bb74da94887"
      },
      "source": [
        "translate(u'why would you do this?', run, \"fifth_heatmap\")"
      ],
      "execution_count": 92,
      "outputs": [
        {
          "output_type": "stream",
          "text": [
            "Input: <start> why would you do this ? <end>\n",
            "Predicted translation: ¿ por que hiciste eso ? <end> \n"
          ],
          "name": "stdout"
        },
        {
          "output_type": "display_data",
          "data": {
            "image/png": "[encoded data removed]",
            "text/plain": [
              "<Figure size 720x720 with 1 Axes>"
            ]
          },
          "metadata": {
            "tags": [],
            "needs_background": "light"
          }
        }
      ]
    },
    {
      "cell_type": "code",
      "metadata": {
        "colab": {
          "base_uri": "https://localhost:8080/",
          "height": 578
        },
        "id": "pzvKHdt5LDVX",
        "outputId": "db36974a-0f60-4ec8-bef8-3caf0730c424"
      },
      "source": [
        "translate(u'do you want to see some magic?', run, \"sixth_heatmap\")"
      ],
      "execution_count": 93,
      "outputs": [
        {
          "output_type": "stream",
          "text": [
            "Input: <start> do you want to see some magic ? <end>\n",
            "Predicted translation: ¿ quieres ir a comprar ? <end> \n"
          ],
          "name": "stdout"
        },
        {
          "output_type": "display_data",
          "data": {
            "image/png": "[encoded data removed]",
            "text/plain": [
              "<Figure size 720x720 with 1 Axes>"
            ]
          },
          "metadata": {
            "tags": [],
            "needs_background": "light"
          }
        }
      ]
    },
    {
      "cell_type": "code",
      "metadata": {
        "id": "3YpUgXFhSUG-",
        "outputId": "a23e7bff-0511-4c09-d08e-913c575e418e",
        "colab": {
          "base_uri": "https://localhost:8080/",
          "height": 417,
          "referenced_widgets": [
            "80155bd7afda4d45b0bc328cad8503c7",
            "6146cf942a5448f6b2b73599fc13ca9f",
            "77cf680db16c422192c6916c427bce36",
            "172e127605d445e789b52d71bbf117d0",
            "552895fa19f041c0adbc025bdd136779",
            "e526333948fa46c49f3ea831df3c325a",
            "5b38cc4940114b6a8e06837220b29528",
            "e4d8280e323141adaa1c63c3fb1e9074"
          ]
        }
      },
      "source": [
        "run.finish()"
      ],
      "execution_count": 94,
      "outputs": [
        {
          "output_type": "display_data",
          "data": {
            "text/html": [
              "<br/>Waiting for W&B process to finish, PID 1266<br/>Program ended successfully."
            ],
            "text/plain": [
              "<IPython.core.display.HTML object>"
            ]
          },
          "metadata": {
            "tags": []
          }
        },
        {
          "output_type": "display_data",
          "data": {
            "application/vnd.jupyter.widget-view+json": {
              "model_id": "80155bd7afda4d45b0bc328cad8503c7",
              "version_minor": 0,
              "version_major": 2
            },
            "text/plain": [
              "VBox(children=(Label(value=' 0.08MB of 0.08MB uploaded (0.00MB deduped)\\r'), FloatProgress(value=1.0, max=1.0)…"
            ]
          },
          "metadata": {
            "tags": []
          }
        },
        {
          "output_type": "display_data",
          "data": {
            "text/html": [
              "Find user logs for this run at: <code>/content/wandb/run-20210315_193950-og1688lq/logs/debug.log</code>"
            ],
            "text/plain": [
              "<IPython.core.display.HTML object>"
            ]
          },
          "metadata": {
            "tags": []
          }
        },
        {
          "output_type": "display_data",
          "data": {
            "text/html": [
              "Find internal logs for this run at: <code>/content/wandb/run-20210315_193950-og1688lq/logs/debug-internal.log</code>"
            ],
            "text/plain": [
              "<IPython.core.display.HTML object>"
            ]
          },
          "metadata": {
            "tags": []
          }
        },
        {
          "output_type": "display_data",
          "data": {
            "text/html": [
              "<h3>Run summary:</h3><br/><style>\n",
              "    table.wandb td:nth-child(1) { padding: 0 10px; text-align: right }\n",
              "    </style><table class=\"wandb\">\n",
              "<tr><td>_runtime</td><td>109</td></tr><tr><td>_timestamp</td><td>1615837299</td></tr><tr><td>_step</td><td>5</td></tr></table>"
            ],
            "text/plain": [
              "<IPython.core.display.HTML object>"
            ]
          },
          "metadata": {
            "tags": []
          }
        },
        {
          "output_type": "display_data",
          "data": {
            "text/html": [
              "<h3>Run history:</h3><br/><style>\n",
              "    table.wandb td:nth-child(1) { padding: 0 10px; text-align: right }\n",
              "    </style><table class=\"wandb\">\n",
              "<tr><td>_runtime</td><td>▁▅▅▅██</td></tr><tr><td>_timestamp</td><td>▁▅▅▅██</td></tr><tr><td>_step</td><td>▁▂▄▅▇█</td></tr></table><br/>"
            ],
            "text/plain": [
              "<IPython.core.display.HTML object>"
            ]
          },
          "metadata": {
            "tags": []
          }
        },
        {
          "output_type": "display_data",
          "data": {
            "text/html": [
              "Synced 5 W&B file(s), 6 media file(s), 0 artifact file(s) and 0 other file(s)"
            ],
            "text/plain": [
              "<IPython.core.display.HTML object>"
            ]
          },
          "metadata": {
            "tags": []
          }
        },
        {
          "output_type": "display_data",
          "data": {
            "text/html": [
              "\n",
              "                    <br/>Synced <strong style=\"color:#cdcd00\">Baseline-Heatmans</strong>: <a href=\"https://wandb.ai/authors/under-attention/runs/og1688lq\" target=\"_blank\">https://wandb.ai/authors/under-attention/runs/og1688lq</a><br/>\n",
              "                "
            ],
            "text/plain": [
              "<IPython.core.display.HTML object>"
            ]
          },
          "metadata": {
            "tags": []
          }
        }
      ]
    }
  ]
}