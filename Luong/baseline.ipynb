{
  "nbformat": 4,
  "nbformat_minor": 0,
  "metadata": {
    "accelerator": "GPU",
    "colab": {
      "name": "Luong_Baseline.ipynb",
      "provenance": [],
      "collapsed_sections": []
    },
    "kernelspec": {
      "display_name": "Python 3",
      "language": "python",
      "name": "python3"
    },
    "language_info": {
      "codemirror_mode": {
        "name": "ipython",
        "version": 3
      },
      "file_extension": ".py",
      "mimetype": "text/x-python",
      "name": "python",
      "nbconvert_exporter": "python",
      "pygments_lexer": "ipython3",
      "version": "3.7.4"
    },
    "widgets": {
      "application/vnd.jupyter.widget-state+json": {
        "4a8b2006e09344d781a547f952400959": {
          "model_module": "@jupyter-widgets/controls",
          "model_name": "VBoxModel",
          "state": {
            "_view_name": "VBoxView",
            "_dom_classes": [],
            "_model_name": "VBoxModel",
            "_view_module": "@jupyter-widgets/controls",
            "_model_module_version": "1.5.0",
            "_view_count": null,
            "_view_module_version": "1.5.0",
            "box_style": "",
            "layout": "IPY_MODEL_6d1a4392f8694ba68246e662218bd511",
            "_model_module": "@jupyter-widgets/controls",
            "children": [
              "IPY_MODEL_8f2bca4ec5d943f4815baf54d1e908cf",
              "IPY_MODEL_4b9f9585eadc4327ae1443db755b82d8"
            ]
          }
        },
        "6d1a4392f8694ba68246e662218bd511": {
          "model_module": "@jupyter-widgets/base",
          "model_name": "LayoutModel",
          "state": {
            "_view_name": "LayoutView",
            "grid_template_rows": null,
            "right": null,
            "justify_content": null,
            "_view_module": "@jupyter-widgets/base",
            "overflow": null,
            "_model_module_version": "1.2.0",
            "_view_count": null,
            "flex_flow": null,
            "width": null,
            "min_width": null,
            "border": null,
            "align_items": null,
            "bottom": null,
            "_model_module": "@jupyter-widgets/base",
            "top": null,
            "grid_column": null,
            "overflow_y": null,
            "overflow_x": null,
            "grid_auto_flow": null,
            "grid_area": null,
            "grid_template_columns": null,
            "flex": null,
            "_model_name": "LayoutModel",
            "justify_items": null,
            "grid_row": null,
            "max_height": null,
            "align_content": null,
            "visibility": null,
            "align_self": null,
            "height": null,
            "min_height": null,
            "padding": null,
            "grid_auto_rows": null,
            "grid_gap": null,
            "max_width": null,
            "order": null,
            "_view_module_version": "1.2.0",
            "grid_template_areas": null,
            "object_position": null,
            "object_fit": null,
            "grid_auto_columns": null,
            "margin": null,
            "display": null,
            "left": null
          }
        },
        "8f2bca4ec5d943f4815baf54d1e908cf": {
          "model_module": "@jupyter-widgets/controls",
          "model_name": "LabelModel",
          "state": {
            "_view_name": "LabelView",
            "style": "IPY_MODEL_70377c57993941c899626f6015d14576",
            "_dom_classes": [],
            "description": "",
            "_model_name": "LabelModel",
            "placeholder": "​",
            "_view_module": "@jupyter-widgets/controls",
            "_model_module_version": "1.5.0",
            "value": " 0.12MB of 0.12MB uploaded (0.00MB deduped)\r",
            "_view_count": null,
            "_view_module_version": "1.5.0",
            "description_tooltip": null,
            "_model_module": "@jupyter-widgets/controls",
            "layout": "IPY_MODEL_23c60dddfe0144218f8e99d76f686813"
          }
        },
        "4b9f9585eadc4327ae1443db755b82d8": {
          "model_module": "@jupyter-widgets/controls",
          "model_name": "FloatProgressModel",
          "state": {
            "_view_name": "ProgressView",
            "style": "IPY_MODEL_982c3b823609415c821f35fd6386432c",
            "_dom_classes": [],
            "description": "",
            "_model_name": "FloatProgressModel",
            "bar_style": "",
            "max": 1,
            "_view_module": "@jupyter-widgets/controls",
            "_model_module_version": "1.5.0",
            "value": 1,
            "_view_count": null,
            "_view_module_version": "1.5.0",
            "orientation": "horizontal",
            "min": 0,
            "description_tooltip": null,
            "_model_module": "@jupyter-widgets/controls",
            "layout": "IPY_MODEL_31e793ada5e442dd80246fc200feac01"
          }
        },
        "70377c57993941c899626f6015d14576": {
          "model_module": "@jupyter-widgets/controls",
          "model_name": "DescriptionStyleModel",
          "state": {
            "_view_name": "StyleView",
            "_model_name": "DescriptionStyleModel",
            "description_width": "",
            "_view_module": "@jupyter-widgets/base",
            "_model_module_version": "1.5.0",
            "_view_count": null,
            "_view_module_version": "1.2.0",
            "_model_module": "@jupyter-widgets/controls"
          }
        },
        "23c60dddfe0144218f8e99d76f686813": {
          "model_module": "@jupyter-widgets/base",
          "model_name": "LayoutModel",
          "state": {
            "_view_name": "LayoutView",
            "grid_template_rows": null,
            "right": null,
            "justify_content": null,
            "_view_module": "@jupyter-widgets/base",
            "overflow": null,
            "_model_module_version": "1.2.0",
            "_view_count": null,
            "flex_flow": null,
            "width": null,
            "min_width": null,
            "border": null,
            "align_items": null,
            "bottom": null,
            "_model_module": "@jupyter-widgets/base",
            "top": null,
            "grid_column": null,
            "overflow_y": null,
            "overflow_x": null,
            "grid_auto_flow": null,
            "grid_area": null,
            "grid_template_columns": null,
            "flex": null,
            "_model_name": "LayoutModel",
            "justify_items": null,
            "grid_row": null,
            "max_height": null,
            "align_content": null,
            "visibility": null,
            "align_self": null,
            "height": null,
            "min_height": null,
            "padding": null,
            "grid_auto_rows": null,
            "grid_gap": null,
            "max_width": null,
            "order": null,
            "_view_module_version": "1.2.0",
            "grid_template_areas": null,
            "object_position": null,
            "object_fit": null,
            "grid_auto_columns": null,
            "margin": null,
            "display": null,
            "left": null
          }
        },
        "982c3b823609415c821f35fd6386432c": {
          "model_module": "@jupyter-widgets/controls",
          "model_name": "ProgressStyleModel",
          "state": {
            "_view_name": "StyleView",
            "_model_name": "ProgressStyleModel",
            "description_width": "",
            "_view_module": "@jupyter-widgets/base",
            "_model_module_version": "1.5.0",
            "_view_count": null,
            "_view_module_version": "1.2.0",
            "bar_color": null,
            "_model_module": "@jupyter-widgets/controls"
          }
        },
        "31e793ada5e442dd80246fc200feac01": {
          "model_module": "@jupyter-widgets/base",
          "model_name": "LayoutModel",
          "state": {
            "_view_name": "LayoutView",
            "grid_template_rows": null,
            "right": null,
            "justify_content": null,
            "_view_module": "@jupyter-widgets/base",
            "overflow": null,
            "_model_module_version": "1.2.0",
            "_view_count": null,
            "flex_flow": null,
            "width": null,
            "min_width": null,
            "border": null,
            "align_items": null,
            "bottom": null,
            "_model_module": "@jupyter-widgets/base",
            "top": null,
            "grid_column": null,
            "overflow_y": null,
            "overflow_x": null,
            "grid_auto_flow": null,
            "grid_area": null,
            "grid_template_columns": null,
            "flex": null,
            "_model_name": "LayoutModel",
            "justify_items": null,
            "grid_row": null,
            "max_height": null,
            "align_content": null,
            "visibility": null,
            "align_self": null,
            "height": null,
            "min_height": null,
            "padding": null,
            "grid_auto_rows": null,
            "grid_gap": null,
            "max_width": null,
            "order": null,
            "_view_module_version": "1.2.0",
            "grid_template_areas": null,
            "object_position": null,
            "object_fit": null,
            "grid_auto_columns": null,
            "margin": null,
            "display": null,
            "left": null
          }
        }
      }
    }
  },
  "cells": [
    {
      "cell_type": "markdown",
      "metadata": {
        "id": "ilMeoZ0xCBfg"
      },
      "source": [
        "Checking which GPU is being used in this session."
      ]
    },
    {
      "cell_type": "code",
      "metadata": {
        "colab": {
          "base_uri": "https://localhost:8080/"
        },
        "id": "wpKAi1vptvQn",
        "outputId": "0346c693-3de2-473f-b0b2-ecd6cbfe26ed"
      },
      "source": [
        "# Which GPU is being used?\n",
        "! nvidia-smi"
      ],
      "execution_count": 1,
      "outputs": [
        {
          "output_type": "stream",
          "text": [
            "Tue Mar 16 14:09:06 2021       \n",
            "+-----------------------------------------------------------------------------+\n",
            "| NVIDIA-SMI 460.56       Driver Version: 460.32.03    CUDA Version: 11.2     |\n",
            "|-------------------------------+----------------------+----------------------+\n",
            "| GPU  Name        Persistence-M| Bus-Id        Disp.A | Volatile Uncorr. ECC |\n",
            "| Fan  Temp  Perf  Pwr:Usage/Cap|         Memory-Usage | GPU-Util  Compute M. |\n",
            "|                               |                      |               MIG M. |\n",
            "|===============================+======================+======================|\n",
            "|   0  Tesla P100-PCIE...  Off  | 00000000:00:04.0 Off |                    0 |\n",
            "| N/A   40C    P0    26W / 250W |      0MiB / 16280MiB |      0%      Default |\n",
            "|                               |                      |                  N/A |\n",
            "+-------------------------------+----------------------+----------------------+\n",
            "                                                                               \n",
            "+-----------------------------------------------------------------------------+\n",
            "| Processes:                                                                  |\n",
            "|  GPU   GI   CI        PID   Type   Process name                  GPU Memory |\n",
            "|        ID   ID                                                   Usage      |\n",
            "|=============================================================================|\n",
            "|  No running processes found                                                 |\n",
            "+-----------------------------------------------------------------------------+\n"
          ],
          "name": "stdout"
        }
      ]
    },
    {
      "cell_type": "code",
      "metadata": {
        "id": "5yz111FIXuc8"
      },
      "source": [
        "import os\n",
        "import re\n",
        "import io\n",
        "import unicodedata\n",
        "import numpy as np\n",
        "import tensorflow as tf\n",
        "import matplotlib.pyplot as plt\n",
        "import matplotlib.ticker as ticker\n",
        "from tensorflow.keras import layers as L\n",
        "from sklearn.model_selection import train_test_split\n",
        "\n",
        "# For reproducibility\n",
        "tf.random.set_seed(666)\n",
        "os.environ['PYTHONHASHSEED'] = str(666)\n",
        "np.random.seed(666)"
      ],
      "execution_count": 2,
      "outputs": []
    },
    {
      "cell_type": "markdown",
      "metadata": {
        "id": "fZ8ZnvZWamdi"
      },
      "source": [
        "# Utilities And Downloads\n",
        "\n",
        "We use `tf.keras.utils.get_file` to download the English to Spanish dataset hosted by Google. We define the file name where the script will save the dataset"
      ]
    },
    {
      "cell_type": "code",
      "metadata": {
        "colab": {
          "base_uri": "https://localhost:8080/"
        },
        "id": "ybK1mMMaX1rj",
        "outputId": "0bebc54e-e9bf-420c-a99e-7bbb0f151f81"
      },
      "source": [
        "# Download the file\n",
        "path_to_zip = tf.keras.utils.get_file(\n",
        "    'spa-eng.zip',\n",
        "    origin='http://storage.googleapis.com/download.tensorflow.org/data/spa-eng.zip',\n",
        "    extract=True\n",
        ")\n",
        "\n",
        "print(f\"[INFO] PATH TO ZIP: {path_to_zip}\")"
      ],
      "execution_count": 3,
      "outputs": [
        {
          "output_type": "stream",
          "text": [
            "Downloading data from http://storage.googleapis.com/download.tensorflow.org/data/spa-eng.zip\n",
            "2646016/2638744 [==============================] - 0s 0us/step\n",
            "[INFO] PATH TO ZIP: /root/.keras/datasets/spa-eng.zip\n"
          ],
          "name": "stdout"
        }
      ]
    },
    {
      "cell_type": "code",
      "metadata": {
        "colab": {
          "base_uri": "https://localhost:8080/"
        },
        "id": "n712-Bw4ZbtM",
        "outputId": "045d562c-2705-446f-d937-619b71123812"
      },
      "source": [
        "path_to_file = os.path.dirname(path_to_zip)+\"/spa-eng/spa.txt\"\n",
        "\n",
        "print(f\"[INFO] PATH TO FILE: {path_to_file}\")"
      ],
      "execution_count": 4,
      "outputs": [
        {
          "output_type": "stream",
          "text": [
            "[INFO] PATH TO FILE: /root/.keras/datasets/spa-eng/spa.txt\n"
          ],
          "name": "stdout"
        }
      ]
    },
    {
      "cell_type": "markdown",
      "metadata": {
        "id": "Z_Vw3-oXbfC2"
      },
      "source": [
        "# Preprocessing functions\n",
        "In the later snippets we use some functions that are used to pre-process the data.\n",
        "\n",
        "\n"
      ]
    },
    {
      "cell_type": "code",
      "metadata": {
        "id": "rEwkRZ3vYAQN"
      },
      "source": [
        "def unicode_to_ascii(s):\n",
        "    return ''.join(c for c in unicodedata.normalize('NFD', s)\n",
        "    if unicodedata.category(c) != 'Mn')"
      ],
      "execution_count": 5,
      "outputs": []
    },
    {
      "cell_type": "code",
      "metadata": {
        "id": "ZYED3VNhdeN-"
      },
      "source": [
        "def preprocess_sentence(w):\n",
        "    w = unicode_to_ascii(w.lower().strip())\n",
        "    # creating a space between a word and the punctuation following it\n",
        "    # eg: \"he is a boy.\" => \"he is a boy .\"\n",
        "    # Reference:- https://stackoverflow.com/questions/3645931/python-padding-punctuation-with-white-spaces-keeping-punctuation\n",
        "    w = re.sub(r\"([?.!,¿])\", r\" \\1 \", w)\n",
        "    w = re.sub(r'[\" \"]+', \" \", w)\n",
        "    # replacing everything with space except (a-z, A-Z, \".\", \"?\", \"!\", \",\")\n",
        "    w = re.sub(r\"[^a-zA-Z?.!,¿]+\", \" \", w)\n",
        "    w = w.strip()\n",
        "    # adding a start and an end token to the sentence\n",
        "    # so that the model know when to start and stop predicting.\n",
        "    w = '<start> ' + w + ' <end>'\n",
        "    return w"
      ],
      "execution_count": 6,
      "outputs": []
    },
    {
      "cell_type": "code",
      "metadata": {
        "colab": {
          "base_uri": "https://localhost:8080/"
        },
        "id": "ThKXoortYFhm",
        "outputId": "abf5f6af-301a-4b2b-9a36-6c4cc66ab673"
      },
      "source": [
        "en_sentence = u\"May I borrow this book?\"\n",
        "sp_sentence = u\"¿Puedo tomar prestado este libro?\"\n",
        "print(preprocess_sentence(en_sentence))\n",
        "print(preprocess_sentence(sp_sentence).encode('utf-8'))"
      ],
      "execution_count": 7,
      "outputs": [
        {
          "output_type": "stream",
          "text": [
            "<start> may i borrow this book ? <end>\n",
            "b'<start> \\xc2\\xbf puedo tomar prestado este libro ? <end>'\n"
          ],
          "name": "stdout"
        }
      ]
    },
    {
      "cell_type": "code",
      "metadata": {
        "id": "Q742cxMNYHN2"
      },
      "source": [
        "def create_dataset(path, num_examples):\n",
        "    lines = io.open(path, encoding='UTF-8').read().strip().split('\\n')\n",
        "\n",
        "    word_pairs = [[preprocess_sentence(w) for w in l.split('\\t')]  for l in lines[:num_examples]]\n",
        "\n",
        "    return zip(*word_pairs)"
      ],
      "execution_count": 8,
      "outputs": []
    },
    {
      "cell_type": "code",
      "metadata": {
        "colab": {
          "base_uri": "https://localhost:8080/"
        },
        "id": "YDpyz-fTYN0p",
        "outputId": "e6a9ded1-dafe-467d-a9d6-cc4b6cae5591"
      },
      "source": [
        "en, sp = create_dataset(path_to_file, None)\n",
        "print(en[100])\n",
        "print(sp[100])"
      ],
      "execution_count": 9,
      "outputs": [
        {
          "output_type": "stream",
          "text": [
            "<start> go away ! <end>\n",
            "<start> salga de aqui ! <end>\n"
          ],
          "name": "stdout"
        }
      ]
    },
    {
      "cell_type": "code",
      "metadata": {
        "id": "AGN6i1X8YbWd"
      },
      "source": [
        "def tokenize(lang):\n",
        "    lang_tokenizer = tf.keras.preprocessing.text.Tokenizer(\n",
        "        filters='')\n",
        "    lang_tokenizer.fit_on_texts(lang)\n",
        "\n",
        "    tensor = lang_tokenizer.texts_to_sequences(lang)\n",
        "\n",
        "    tensor = tf.keras.preprocessing.sequence.pad_sequences(\n",
        "        tensor,\n",
        "        padding='post')\n",
        "\n",
        "    return tensor, lang_tokenizer"
      ],
      "execution_count": 10,
      "outputs": []
    },
    {
      "cell_type": "code",
      "metadata": {
        "id": "fELGs7xTgeGU"
      },
      "source": [
        "def load_dataset(path, num_examples=None):\n",
        "    # creating cleaned input, output pairs\n",
        "    inp_lang, targ_lang = create_dataset(path , num_examples)\n",
        "\n",
        "    input_tensor, inp_lang_tokenizer = tokenize(inp_lang)\n",
        "    target_tensor, targ_lang_tokenizer = tokenize(targ_lang)\n",
        "\n",
        "    return input_tensor, target_tensor, inp_lang_tokenizer, targ_lang_tokenizer"
      ],
      "execution_count": 11,
      "outputs": []
    },
    {
      "cell_type": "code",
      "metadata": {
        "id": "QVVJScpohR8f"
      },
      "source": [
        "num_examples = 70_000\n",
        "(input_tensor,target_tensor,inp_lang,targ_lang) = load_dataset(path_to_file,num_examples)\n",
        "\n",
        "# Calculate max_length of the target tensors\n",
        "max_length_targ, max_length_inp = target_tensor.shape[1], input_tensor.shape[1]"
      ],
      "execution_count": 12,
      "outputs": []
    },
    {
      "cell_type": "code",
      "metadata": {
        "id": "97jXhf-OiV2M",
        "colab": {
          "base_uri": "https://localhost:8080/"
        },
        "outputId": "2d0f796d-ae29-416c-c60c-f5f04999b91b"
      },
      "source": [
        "print(f'[INFO] Max length of target: {max_length_targ}')\n",
        "print(f'[INFO] Max length of input: {max_length_inp}')"
      ],
      "execution_count": 13,
      "outputs": [
        {
          "output_type": "stream",
          "text": [
            "[INFO] Max length of target: 20\n",
            "[INFO] Max length of input: 14\n"
          ],
          "name": "stdout"
        }
      ]
    },
    {
      "cell_type": "markdown",
      "metadata": {
        "id": "f82qT7GQC7VG"
      },
      "source": [
        "# Dataset\n",
        "Here we use the `tf.data.Dataset` API for better dataset pipeline."
      ]
    },
    {
      "cell_type": "code",
      "metadata": {
        "colab": {
          "base_uri": "https://localhost:8080/"
        },
        "id": "3saxDFMZiIM-",
        "outputId": "49830cf8-10e8-44eb-8dfe-791259e88cbd"
      },
      "source": [
        "# Creating training and validation sets using an 80-20 split\n",
        "(input_tensor_train,input_tensor_val,target_tensor_train,target_tensor_val) = train_test_split(input_tensor,target_tensor,test_size=0.3)\n",
        "(input_tensor_val,input_tensor_test,target_tensor_val,target_tensor_test) = train_test_split(input_tensor_val,target_tensor_val,test_size=0.6)\n",
        "\n",
        "# Show length\n",
        "print(f'[INFO] Input_Train: {input_tensor_train.shape} Target_Train: {target_tensor_train.shape}')\n",
        "print(f'[INFO] Input_Val: {input_tensor_val.shape} Target_Val: {target_tensor_val.shape}')\n",
        "print(f'[INFO] Input_Test: {input_tensor_test.shape} Target_Test: {target_tensor_test.shape}')"
      ],
      "execution_count": 14,
      "outputs": [
        {
          "output_type": "stream",
          "text": [
            "[INFO] Input_Train: (49000, 14) Target_Train: (49000, 20)\n",
            "[INFO] Input_Val: (8400, 14) Target_Val: (8400, 20)\n",
            "[INFO] Input_Test: (12600, 14) Target_Test: (12600, 20)\n"
          ],
          "name": "stdout"
        }
      ]
    },
    {
      "cell_type": "code",
      "metadata": {
        "id": "6n7OY60fiXvW"
      },
      "source": [
        "def convert(lang, tensor):\n",
        "    for t in tensor:\n",
        "        if t!=0:\n",
        "            print (\"%d ----> %s\" % (t, lang.index_word[t]))"
      ],
      "execution_count": 15,
      "outputs": []
    },
    {
      "cell_type": "code",
      "metadata": {
        "colab": {
          "base_uri": "https://localhost:8080/"
        },
        "id": "PtEmQiqhimFW",
        "outputId": "95c33008-459e-4ed5-c882-66e7c1e77b40"
      },
      "source": [
        "print (\"Input Language; index to word mapping\")\n",
        "convert(inp_lang, input_tensor_train[0])\n",
        "print ()\n",
        "print (\"Target Language; index to word mapping\")\n",
        "convert(targ_lang, target_tensor_train[0])"
      ],
      "execution_count": 16,
      "outputs": [
        {
          "output_type": "stream",
          "text": [
            "Input Language; index to word mapping\n",
            "1 ----> <start>\n",
            "4 ----> i\n",
            "29 ----> can\n",
            "132 ----> still\n",
            "266 ----> hear\n",
            "32 ----> your\n",
            "761 ----> voice\n",
            "3 ----> .\n",
            "2 ----> <end>\n",
            "\n",
            "Target Language; index to word mapping\n",
            "1 ----> <start>\n",
            "124 ----> todavia\n",
            "46 ----> puedo\n",
            "920 ----> oir\n",
            "28 ----> tu\n",
            "599 ----> voz\n",
            "3 ----> .\n",
            "2 ----> <end>\n"
          ],
          "name": "stdout"
        }
      ]
    },
    {
      "cell_type": "markdown",
      "metadata": {
        "id": "E1BQOy7sDEky"
      },
      "source": [
        "# NMT with Luong\n",
        "In this section we discuss the implementation of attention with NMT as mentioned by [Luong et al](https://arxiv.org/abs/1508.04025)."
      ]
    },
    {
      "cell_type": "code",
      "metadata": {
        "id": "nQEuR_EminQm"
      },
      "source": [
        "# GLOBAL VARIABLES\n",
        "BUFFER_SIZE_TRAIN = len(input_tensor_train)\n",
        "BUFFER_SIZE_VAL = len(input_tensor_val)\n",
        "BATCH_SIZE = 1000\n",
        "steps_per_epoch = len(input_tensor_train)//BATCH_SIZE\n",
        "embedding_dim = 512\n",
        "units = 1024\n",
        "vocab_inp_size = len(inp_lang.word_index)+1\n",
        "vocab_tar_size = len(targ_lang.word_index)+1\n",
        "\n",
        "train_ds = tf.data.Dataset.from_tensor_slices((input_tensor_train, target_tensor_train)).shuffle(BUFFER_SIZE_TRAIN)\n",
        "train_ds = train_ds.batch(BATCH_SIZE, drop_remainder=True)\n",
        "\n",
        "val_ds = tf.data.Dataset.from_tensor_slices((input_tensor_val, target_tensor_val)).shuffle(BUFFER_SIZE_VAL)\n",
        "val_ds = val_ds.batch(BATCH_SIZE, drop_remainder=True)\n",
        "\n",
        "test_ds = tf.data.Dataset.from_tensor_slices((input_tensor_test, target_tensor_test)).shuffle(BUFFER_SIZE_VAL)\n",
        "test_ds = test_ds.batch(BATCH_SIZE, drop_remainder=True)"
      ],
      "execution_count": 17,
      "outputs": []
    },
    {
      "cell_type": "code",
      "metadata": {
        "id": "61NDaiqkjH6I"
      },
      "source": [
        "class Encoder(tf.keras.Model):\n",
        "  def __init__(self,\n",
        "               vocab_size,\n",
        "               embedding_dim,\n",
        "               enc_units,\n",
        "               batch_sz):\n",
        "    super(Encoder, self).__init__()\n",
        "    self.batch_sz = batch_sz\n",
        "    self.enc_units = enc_units\n",
        "    self.embedding = L.Embedding(vocab_size, embedding_dim)\n",
        "    self.gru = L.GRU(self.enc_units,\n",
        "                     return_sequences=True,\n",
        "                     return_state=True,\n",
        "                     recurrent_initializer='glorot_uniform')\n",
        "\n",
        "  def call(self,\n",
        "           x,\n",
        "           hidden_fd):\n",
        "    x = self.embedding(x)\n",
        "    output, fd_state = self.gru(x, initial_state = [hidden_fd])\n",
        "    return output, fd_state\n",
        "\n",
        "  def initialize_hidden_state(self):\n",
        "    return tf.zeros((self.batch_sz, self.enc_units))"
      ],
      "execution_count": 18,
      "outputs": []
    },
    {
      "cell_type": "code",
      "metadata": {
        "colab": {
          "base_uri": "https://localhost:8080/"
        },
        "id": "yNspKGi1jThL",
        "outputId": "f815f24b-8149-49af-886b-b284edd29049"
      },
      "source": [
        "encoder = Encoder(vocab_inp_size, embedding_dim, units, BATCH_SIZE)\n",
        "\n",
        "# sample input\n",
        "initial_fwd = encoder.initialize_hidden_state()\n",
        "for en, sp in train_ds.take(1):\n",
        "    sample_output, sample_hidden_fwd = encoder(en, initial_fwd)\n",
        "    print ('Encoder output shape: (batch size, sequence length, units) {}'.format(sample_output.shape))\n",
        "    print ('Encoder Hidden state shape: (batch size, units) {}'.format(sample_hidden_fwd.shape))"
      ],
      "execution_count": null,
      "outputs": [
        {
          "output_type": "stream",
          "text": [
            "Encoder output shape: (batch size, sequence length, units) (1000, 14, 1024)\n",
            "Encoder Hidden state shape: (batch size, units) (1000, 1024)\n"
          ],
          "name": "stdout"
        }
      ]
    },
    {
      "cell_type": "markdown",
      "metadata": {
        "id": "ydantO6XjTJC"
      },
      "source": [
        "# Global Attention\n",
        "- We get the hidden state of the decoder $h_{t}$.\n",
        "- We send the decoder hidden state to the attention layer.\n",
        "- The attention layer produces alignment $a_{t}$ between the decoder $h_{t}$ and the encoder hidden states $\\overline{h_{s}}$.\n",
        "$$\n",
        "a_{t}=\\sigma({score(\\overline{h_s},h_t)})\\\\\n",
        "score(\\overline{h_s},h_t)=v_{a}^{T}\\tanh({W_{a}[h_t;\\overline{h_s}]})\n",
        "$$\n",
        "- We then use the weighted average of the alignment matrix with the encoder hhidden states to get the context vector $c_{t}$\n",
        "$$\n",
        "c_{t}=\\sum{a_{t}\\times{\\overline{h_s}}}\n",
        "$$\n",
        "- Now the context vector $c_{t}$ is fed into a dense layer so that we obtain the mutated decoder hidden state $\\overline{h_t}$\n",
        "$$\n",
        "\\overline{h_t}=\\tanh{(W_c[c_t;h_t])}\\\\\n",
        "p(y_t|y_{<t},x)=\\sigma(W_s\\overline{h_t}) \n",
        "$$"
      ]
    },
    {
      "cell_type": "code",
      "metadata": {
        "id": "EE7jy2ACkj7r"
      },
      "source": [
        "class LuongAttention(tf.keras.layers.Layer):\n",
        "  def __init__(self, units):\n",
        "    super(LuongAttention, self).__init__()\n",
        "    self.W1 = L.Dense(units)\n",
        "    self.W2 = L.Dense(units)\n",
        "    self.W3 = L.Dense(units)\n",
        "    self.W4 = L.Dense(units)\n",
        "    self.V = L.Dense(1)\n",
        "\n",
        "  def call(self, dec_hidden_state, annotations):\n",
        "    dec_hidden_state_time = tf.expand_dims(dec_hidden_state, 1)\n",
        "\n",
        "    score = self.V(tf.nn.tanh(\n",
        "        self.W1(dec_hidden_state_time) + self.W2(annotations)))\n",
        "\n",
        "    # attention_weights shape == (batch_size, max_length, 1)\n",
        "    attention_weights = tf.nn.softmax(score, axis=1)\n",
        "    \n",
        "    # context_vector shape after sum == (batch_size, hidden_size)\n",
        "    context_vector = attention_weights * annotations\n",
        "    context_vector = tf.reduce_sum(context_vector, axis=1)\n",
        "\n",
        "    mod_hidden = tf.nn.tanh(\n",
        "        self.W3(context_vector) + self.W4(dec_hidden_state)\n",
        "    )\n",
        "\n",
        "    return mod_hidden, attention_weights"
      ],
      "execution_count": 19,
      "outputs": []
    },
    {
      "cell_type": "code",
      "metadata": {
        "id": "2YPxwKuwlGr1"
      },
      "source": [
        "class Decoder(tf.keras.Model):\n",
        "    def __init__(self, vocab_size, embedding_dim, dec_units, batch_sz):\n",
        "        super(Decoder, self).__init__()\n",
        "        self.batch_sz = batch_sz\n",
        "        self.dec_units = dec_units\n",
        "        self.embedding = L.Embedding(vocab_size, embedding_dim)\n",
        "        self.gru = L.GRU(self.dec_units,\n",
        "                            recurrent_initializer='glorot_uniform')\n",
        "        self.fc = L.Dense(vocab_size)\n",
        "        # used for attention\n",
        "        self.attention = LuongAttention(self.dec_units)\n",
        "\n",
        "    def call(self, x, dec_hidden_state, mod_hidden, annotations):\n",
        "        x = self.embedding(x)\n",
        "        x = tf.concat([tf.expand_dims(mod_hidden, 1), x], axis=-1)\n",
        "        output = self.gru(x) #output here is the ht\n",
        "\n",
        "        mod_hidden, attention_weights = self.attention(output, annotations)\n",
        "        pred = self.fc(mod_hidden)\n",
        "        return pred, output,  mod_hidden, attention_weights\n",
        "    \n",
        "    def initialize_hidden_state(self):\n",
        "        return tf.zeros((self.batch_sz, self.dec_units))"
      ],
      "execution_count": 20,
      "outputs": []
    },
    {
      "cell_type": "code",
      "metadata": {
        "colab": {
          "base_uri": "https://localhost:8080/"
        },
        "id": "kA4jNHG0lJ52",
        "outputId": "22e1aedc-9fff-444e-fcc5-6350afe5b822"
      },
      "source": [
        "# Sanity check the shapes\n",
        "encoder = Encoder(vocab_inp_size, embedding_dim, units, BATCH_SIZE)\n",
        "decoder = Decoder(vocab_tar_size, embedding_dim, units, BATCH_SIZE)\n",
        "\n",
        "initial_fd = encoder.initialize_hidden_state()\n",
        "inital_mod_hidden = decoder.initialize_hidden_state()\n",
        "for en,sp in train_ds.take(1):\n",
        "    annotations, enc_fd_hidden = encoder(en, initial_fd)\n",
        "    dec_input = tf.expand_dims([targ_lang.word_index['<start>']] * BATCH_SIZE, 1)\n",
        "    prediction, dec_hidden, mod_hidden, att_weights = decoder(dec_input, enc_fd_hidden, inital_mod_hidden, annotations)\n",
        "\n",
        "    print ('Prediction shape: (batch_size, vocab size) {}'.format(prediction.shape))\n",
        "    print ('Decoder hidden state shape: (batch_size, GRU units) {}'.format(dec_hidden.shape))\n",
        "    print ('Attention weights shape: (batch_size, inputs length, 1) {}'.format(att_weights.shape))"
      ],
      "execution_count": null,
      "outputs": [
        {
          "output_type": "stream",
          "text": [
            "Prediction shape: (batch_size, vocab size) (1000, 16132)\n",
            "Decoder hidden state shape: (batch_size, GRU units) (1000, 1024)\n",
            "Attention weights shape: (batch_size, inputs length, 1) (1000, 14, 1)\n"
          ],
          "name": "stdout"
        }
      ]
    },
    {
      "cell_type": "markdown",
      "metadata": {
        "id": "UDdohQmmukxV"
      },
      "source": [
        "# Model Class for easier training\n",
        "Here we encapsulate the entire training process in a custom model. This is a good practise as this provides off the chart compatibility with a lot of features provided by tensorflow and keras."
      ]
    },
    {
      "cell_type": "code",
      "metadata": {
        "id": "3drm1HZdukcL"
      },
      "source": [
        "class NMT(tf.keras.Model):\n",
        "    def __init__(self, encoder, decoder):\n",
        "        super(NMT, self).__init__()\n",
        "        self.encoder = encoder\n",
        "        self.decoder = decoder\n",
        "\n",
        "    def train_step(self, data):\n",
        "        # Every sentence is different\n",
        "        # We would not want the memory state to flow from\n",
        "        # one sentence to other\n",
        "        enc_hidden_fd = self.encoder.initialize_hidden_state()\n",
        "        mod_hidden = self.decoder.initialize_hidden_state()\n",
        "        inp, targ = data\n",
        "        loss = 0\n",
        "        with tf.GradientTape() as tape:\n",
        "            annotations, enc_hidden_fd = self.encoder(inp, enc_hidden_fd)\n",
        "            dec_hidden = enc_hidden_fd\n",
        "            dec_input = tf.expand_dims([targ_lang.word_index['<start>']] * BATCH_SIZE, 1)\n",
        "            # Teacher forcing - feeding the target as the next input\n",
        "            for t in range(1, targ.shape[1]):\n",
        "                # passing enc_output to the decoder\n",
        "                predictions, dec_hidden, mod_hidden, att_weights = self.decoder(dec_input, dec_hidden, mod_hidden, annotations)\n",
        "                loss += self.compiled_loss(targ[:, t], predictions)\n",
        "                # using teacher forcing\n",
        "                dec_input = tf.expand_dims(targ[:, t], 1)\n",
        "        batch_loss = (loss / int(targ.shape[1]))\n",
        "        variables = encoder.trainable_variables + decoder.trainable_variables\n",
        "        gradients = tape.gradient(loss, variables)\n",
        "        optimizer.apply_gradients(zip(gradients, variables))\n",
        "        return {\"custom_loss\": batch_loss}\n",
        "    \n",
        "    def test_step(self, data):\n",
        "        enc_hidden_fd = self.encoder.initialize_hidden_state()\n",
        "        mod_hidden = self.decoder.initialize_hidden_state()\n",
        "        inp, targ = data\n",
        "        loss = 0\n",
        "        annotations, enc_hidden_fd = self.encoder(inp, enc_hidden_fd)\n",
        "        dec_hidden = enc_hidden_fd\n",
        "        dec_input = tf.expand_dims([targ_lang.word_index['<start>']] * BATCH_SIZE, 1)\n",
        "        # Teacher forcing - feeding the target as the next input\n",
        "        for t in range(1, targ.shape[1]):\n",
        "            # passing enc_output to the decoder\n",
        "            predictions, dec_hidden, mod_hidden, att_weights = self.decoder(dec_input, dec_hidden, mod_hidden, annotations)\n",
        "            loss += self.compiled_loss(targ[:, t], predictions)\n",
        "            # using teacher forcing\n",
        "            dec_input = tf.expand_dims(targ[:, t], 1)\n",
        "        batch_loss = (loss / int(targ.shape[1]))\n",
        "        return {\"custom_loss\": batch_loss}"
      ],
      "execution_count": null,
      "outputs": []
    },
    {
      "cell_type": "code",
      "metadata": {
        "id": "KMt2NvOiDkN0"
      },
      "source": [
        "# Early Stopping to prevent overfitting\n",
        "es = tf.keras.callbacks.EarlyStopping(monitor=\"val_custom_loss\", patience=5, verbose=2, restore_best_weights=True)"
      ],
      "execution_count": null,
      "outputs": []
    },
    {
      "cell_type": "markdown",
      "metadata": {
        "id": "eiGdfbO4D2Oo"
      },
      "source": [
        "# Including wandb\n",
        "Here we will be including weights and biases in the training loop and track the metrics we need."
      ]
    },
    {
      "cell_type": "code",
      "metadata": {
        "colab": {
          "base_uri": "https://localhost:8080/"
        },
        "id": "LPv2__IbD4Mk",
        "outputId": "30e87779-ef9d-49b5-a246-6f8dc1d42117"
      },
      "source": [
        "! pip install wandb -qqq\n",
        "import wandb"
      ],
      "execution_count": 21,
      "outputs": [
        {
          "output_type": "stream",
          "text": [
            "\u001b[K     |████████████████████████████████| 2.0MB 8.1MB/s \n",
            "\u001b[K     |████████████████████████████████| 102kB 12.9MB/s \n",
            "\u001b[K     |████████████████████████████████| 163kB 54.4MB/s \n",
            "\u001b[K     |████████████████████████████████| 133kB 47.7MB/s \n",
            "\u001b[K     |████████████████████████████████| 71kB 10.9MB/s \n",
            "\u001b[?25h  Building wheel for pathtools (setup.py) ... \u001b[?25l\u001b[?25hdone\n",
            "  Building wheel for subprocess32 (setup.py) ... \u001b[?25l\u001b[?25hdone\n"
          ],
          "name": "stdout"
        }
      ]
    },
    {
      "cell_type": "code",
      "metadata": {
        "colab": {
          "base_uri": "https://localhost:8080/",
          "height": 136
        },
        "id": "wDHXY7M6D6vw",
        "outputId": "8ca213f4-11ce-401b-91e0-8f6faf825c12"
      },
      "source": [
        "from wandb.keras import WandbCallback\n",
        "run = wandb.init(entity=\"authors\",\n",
        "                 project=\"under-attention\",\n",
        "                 group=\"Luong\",\n",
        "                 job_type=\"baseline\",\n",
        "                 name=\"Baseline-Inference\",\n",
        "                 tags=[\"heatmaps\",\"custom\", \"good\"],\n",
        "                 notes=\"Inference of the Baseline Luong\")"
      ],
      "execution_count": 23,
      "outputs": [
        {
          "output_type": "stream",
          "text": [
            "\u001b[34m\u001b[1mwandb\u001b[0m: Currently logged in as: \u001b[33marig23498\u001b[0m (use `wandb login --relogin` to force relogin)\n"
          ],
          "name": "stderr"
        },
        {
          "output_type": "display_data",
          "data": {
            "text/html": [
              "\n",
              "                Tracking run with wandb version 0.10.22<br/>\n",
              "                Syncing run <strong style=\"color:#cdcd00\">Baseline-Inference</strong> to <a href=\"https://wandb.ai\" target=\"_blank\">Weights & Biases</a> <a href=\"https://docs.wandb.com/integrations/jupyter.html\" target=\"_blank\">(Documentation)</a>.<br/>\n",
              "                Project page: <a href=\"https://wandb.ai/authors/under-attention\" target=\"_blank\">https://wandb.ai/authors/under-attention</a><br/>\n",
              "                Run page: <a href=\"https://wandb.ai/authors/under-attention/runs/n6w6aor2\" target=\"_blank\">https://wandb.ai/authors/under-attention/runs/n6w6aor2</a><br/>\n",
              "                Run data is saved locally in <code>/content/wandb/run-20210316_141040-n6w6aor2</code><br/><br/>\n",
              "            "
            ],
            "text/plain": [
              "<IPython.core.display.HTML object>"
            ]
          },
          "metadata": {
            "tags": []
          }
        }
      ]
    },
    {
      "cell_type": "code",
      "metadata": {
        "colab": {
          "base_uri": "https://localhost:8080/"
        },
        "id": "NN0v-i_CxDdb",
        "outputId": "f0686831-0b81-449b-a4be-220901a89a83"
      },
      "source": [
        "EPOCHS=100\n",
        "encoder = Encoder(vocab_inp_size, embedding_dim, units, BATCH_SIZE)\n",
        "decoder = Decoder(vocab_tar_size, embedding_dim, units, BATCH_SIZE)\n",
        "\n",
        "optimizer = tf.keras.optimizers.Adam()\n",
        "loss_object = tf.keras.losses.SparseCategoricalCrossentropy(\n",
        "    from_logits=True,\n",
        "    reduction='none')\n",
        "\n",
        "def loss_function(real, pred):\n",
        "    mask = tf.math.logical_not(tf.math.equal(real, 0))\n",
        "    loss_ = loss_object(real, pred)\n",
        "    mask = tf.cast(mask, dtype=loss_.dtype)\n",
        "    loss_ *= mask\n",
        "\n",
        "    return tf.reduce_mean(loss_)\n",
        "\n",
        "main_model = NMT(encoder, decoder)\n",
        "main_model.compile(loss=loss_function, optimizer=optimizer)\n",
        "\n",
        "history = main_model.fit(\n",
        "    train_ds,\n",
        "    validation_data=val_ds,\n",
        "    callbacks=[es, WandbCallback(validation_data=val_ds)],\n",
        "    epochs=EPOCHS)"
      ],
      "execution_count": null,
      "outputs": [
        {
          "output_type": "stream",
          "text": [
            "Epoch 1/100\n",
            "49/49 [==============================] - 79s 1s/step - custom_loss: 1.9599 - val_custom_loss: 1.8057\n",
            "Epoch 2/100\n",
            "49/49 [==============================] - 48s 989ms/step - custom_loss: 1.6717 - val_custom_loss: 1.6111\n",
            "Epoch 3/100\n",
            "49/49 [==============================] - 48s 975ms/step - custom_loss: 1.5646 - val_custom_loss: 1.5610\n",
            "Epoch 4/100\n",
            "49/49 [==============================] - 48s 984ms/step - custom_loss: 1.5061 - val_custom_loss: 1.5373\n",
            "Epoch 5/100\n",
            "49/49 [==============================] - 48s 981ms/step - custom_loss: 1.4687 - val_custom_loss: 1.4933\n",
            "Epoch 6/100\n",
            "49/49 [==============================] - 48s 986ms/step - custom_loss: 1.4349 - val_custom_loss: 1.4684\n",
            "Epoch 7/100\n",
            "49/49 [==============================] - 48s 977ms/step - custom_loss: 1.3960 - val_custom_loss: 1.4118\n",
            "Epoch 8/100\n",
            "49/49 [==============================] - 48s 983ms/step - custom_loss: 1.3614 - val_custom_loss: 1.3909\n",
            "Epoch 9/100\n",
            "49/49 [==============================] - 48s 982ms/step - custom_loss: 1.3268 - val_custom_loss: 1.3332\n",
            "Epoch 10/100\n",
            "49/49 [==============================] - 48s 988ms/step - custom_loss: 1.2856 - val_custom_loss: 1.3673\n",
            "Epoch 11/100\n",
            "49/49 [==============================] - 48s 986ms/step - custom_loss: 1.2359 - val_custom_loss: 1.3072\n",
            "Epoch 12/100\n",
            "49/49 [==============================] - 48s 981ms/step - custom_loss: 1.2049 - val_custom_loss: 1.2411\n",
            "Epoch 13/100\n",
            "49/49 [==============================] - 48s 983ms/step - custom_loss: 1.1489 - val_custom_loss: 1.2015\n",
            "Epoch 14/100\n",
            "49/49 [==============================] - 48s 983ms/step - custom_loss: 1.1056 - val_custom_loss: 1.1699\n",
            "Epoch 15/100\n",
            "49/49 [==============================] - 48s 988ms/step - custom_loss: 1.0561 - val_custom_loss: 1.1220\n",
            "Epoch 16/100\n",
            "49/49 [==============================] - 48s 986ms/step - custom_loss: 1.0055 - val_custom_loss: 1.0775\n",
            "Epoch 17/100\n",
            "49/49 [==============================] - 48s 989ms/step - custom_loss: 0.9479 - val_custom_loss: 1.0058\n",
            "Epoch 18/100\n",
            "49/49 [==============================] - 48s 989ms/step - custom_loss: 0.8830 - val_custom_loss: 0.9540\n",
            "Epoch 19/100\n",
            "49/49 [==============================] - 48s 981ms/step - custom_loss: 0.8164 - val_custom_loss: 0.9027\n",
            "Epoch 20/100\n",
            "49/49 [==============================] - 48s 983ms/step - custom_loss: 0.7443 - val_custom_loss: 0.8349\n",
            "Epoch 21/100\n",
            "49/49 [==============================] - 48s 984ms/step - custom_loss: 0.6718 - val_custom_loss: 0.7616\n",
            "Epoch 22/100\n",
            "49/49 [==============================] - 48s 979ms/step - custom_loss: 0.6012 - val_custom_loss: 0.7012\n",
            "Epoch 23/100\n",
            "49/49 [==============================] - 48s 983ms/step - custom_loss: 0.5384 - val_custom_loss: 0.6760\n",
            "Epoch 24/100\n",
            "49/49 [==============================] - 48s 989ms/step - custom_loss: 0.4822 - val_custom_loss: 0.6319\n",
            "Epoch 25/100\n",
            "49/49 [==============================] - 48s 984ms/step - custom_loss: 0.4307 - val_custom_loss: 0.6066\n",
            "Epoch 26/100\n",
            "49/49 [==============================] - 48s 983ms/step - custom_loss: 0.3868 - val_custom_loss: 0.6305\n",
            "Epoch 27/100\n",
            "49/49 [==============================] - 48s 985ms/step - custom_loss: 0.3477 - val_custom_loss: 0.5906\n",
            "Epoch 28/100\n",
            "49/49 [==============================] - 48s 983ms/step - custom_loss: 0.3147 - val_custom_loss: 0.5839\n",
            "Epoch 29/100\n",
            "49/49 [==============================] - 48s 982ms/step - custom_loss: 0.2874 - val_custom_loss: 0.5546\n",
            "Epoch 30/100\n",
            "49/49 [==============================] - 48s 984ms/step - custom_loss: 0.2604 - val_custom_loss: 0.5492\n",
            "Epoch 31/100\n",
            "49/49 [==============================] - 48s 988ms/step - custom_loss: 0.2365 - val_custom_loss: 0.5308\n",
            "Epoch 32/100\n",
            "49/49 [==============================] - 48s 985ms/step - custom_loss: 0.2158 - val_custom_loss: 0.5356\n",
            "Epoch 33/100\n",
            "49/49 [==============================] - 48s 982ms/step - custom_loss: 0.1982 - val_custom_loss: 0.5531\n",
            "Epoch 34/100\n",
            "49/49 [==============================] - 48s 984ms/step - custom_loss: 0.1835 - val_custom_loss: 0.5675\n",
            "Epoch 35/100\n",
            "49/49 [==============================] - 48s 985ms/step - custom_loss: 0.1714 - val_custom_loss: 0.5481\n",
            "Epoch 36/100\n",
            "49/49 [==============================] - 48s 982ms/step - custom_loss: 0.1591 - val_custom_loss: 0.5468\n",
            "Restoring model weights from the end of the best epoch.\n",
            "Epoch 00036: early stopping\n"
          ],
          "name": "stdout"
        }
      ]
    },
    {
      "cell_type": "code",
      "metadata": {
        "colab": {
          "base_uri": "https://localhost:8080/",
          "height": 295
        },
        "id": "esGIrpYXENN_",
        "outputId": "77100aec-1ef3-42bb-a66d-d40059e5485a"
      },
      "source": [
        "plt.plot(history.history[\"custom_loss\"], label=\"train_loss\")\n",
        "plt.plot(history.history[\"val_custom_loss\"], label=\"val_loss\")\n",
        "plt.title(\"Loss vs. Epoch\")\n",
        "plt.xlabel(\"Epoch #\")\n",
        "plt.ylabel(\"Loss\")\n",
        "plt.legend(loc=\"lower left\")\n",
        "plt.show()"
      ],
      "execution_count": null,
      "outputs": [
        {
          "output_type": "display_data",
          "data": {
            "image/png": "[encoded data removed]",
            "text/plain": [
              "<Figure size 432x288 with 1 Axes>"
            ]
          },
          "metadata": {
            "tags": [],
            "needs_background": "light"
          }
        }
      ]
    },
    {
      "cell_type": "code",
      "metadata": {
        "colab": {
          "base_uri": "https://localhost:8080/"
        },
        "id": "ikKSWIASEPjA",
        "outputId": "edca600c-d4a2-4ff7-880e-768d58039bd4"
      },
      "source": [
        "custom_test_loss = main_model.evaluate(test_ds)\n",
        "print(f'[INFO] Test Loss: {custom_test_loss}')"
      ],
      "execution_count": null,
      "outputs": [
        {
          "output_type": "stream",
          "text": [
            "12/12 [==============================] - 4s 316ms/step - custom_loss: 0.5635\n",
            "[INFO] Test Loss: 0.5831267237663269\n"
          ],
          "name": "stdout"
        }
      ]
    },
    {
      "cell_type": "code",
      "metadata": {
        "colab": {
          "base_uri": "https://localhost:8080/"
        },
        "id": "7TRWiK7RERhg",
        "outputId": "01dc061b-f503-4b95-9a2d-dfa5cb54d111"
      },
      "source": [
        "# Save the weights of the model for better reproducibility\n",
        "main_model.encoder.save_weights(\"encoder.h5\")\n",
        "main_model.decoder.save_weights(\"decoder.h5\")\n",
        "\n",
        "artifact = wandb.Artifact('model-weights', type='model')\n",
        "\n",
        "# Add a file to the artifact's contents\n",
        "artifact.add_file('encoder.h5')\n",
        "artifact.add_file('decoder.h5')\n",
        "\n",
        "# Save the artifact version to W&B and mark it as the output of this run\n",
        "run.log_artifact(artifact)"
      ],
      "execution_count": null,
      "outputs": [
        {
          "output_type": "execute_result",
          "data": {
            "text/plain": [
              "<wandb.sdk.wandb_artifacts.Artifact at 0x7fd841f60cd0>"
            ]
          },
          "metadata": {
            "tags": []
          },
          "execution_count": 31
        }
      ]
    },
    {
      "cell_type": "markdown",
      "metadata": {
        "id": "ioAMrBIAAnyo"
      },
      "source": [
        "# Inference\n",
        "The inference module holds the code snippet to have translations from english to spanish. We also plot the attention weights of the translations. The attention weights are pretty neat to build intuitions."
      ]
    },
    {
      "cell_type": "code",
      "metadata": {
        "id": "lEuWMIFvIGjd"
      },
      "source": [
        "encoder = main_model.encoder\n",
        "decoder = main_model.decoder"
      ],
      "execution_count": null,
      "outputs": []
    },
    {
      "cell_type": "code",
      "metadata": {
        "id": "__KD3JgK3WkI"
      },
      "source": [
        "def evaluate(sentence):\n",
        "    attention_plot = np.zeros((max_length_targ, max_length_inp))\n",
        "    sentence = preprocess_sentence(sentence)\n",
        "    inputs = [inp_lang.word_index[i] for i in sentence.split(' ')]\n",
        "    inputs = tf.keras.preprocessing.sequence.pad_sequences([inputs],maxlen=max_length_inp,padding='post')\n",
        "    inputs = tf.convert_to_tensor(inputs)\n",
        "    \n",
        "    result = ''\n",
        "    encoder_hidden_fwd = tf.zeros((1, units))\n",
        "    mod_hidden = tf.zeros((1, units))\n",
        "    enc_out, enc_hidden_fwd = encoder(inputs, encoder_hidden_fwd)\n",
        "\n",
        "    dec_hidden = enc_hidden_fwd\n",
        "    dec_input = tf.expand_dims([targ_lang.word_index['<start>']], 0)\n",
        "\n",
        "    for t in range(max_length_targ):\n",
        "        predictions, dec_hidden, mod_hidden, attention_weights = decoder(dec_input, dec_hidden, mod_hidden, enc_out)\n",
        "        # storing the attention weights to plot later on\n",
        "        attention_weights = tf.reshape(attention_weights, (-1, ))\n",
        "        attention_plot[t] = attention_weights.numpy()\n",
        "        predicted_id = tf.argmax(predictions[0]).numpy()\n",
        "        result += targ_lang.index_word[predicted_id] + ' '\n",
        "        if targ_lang.index_word[predicted_id] == '<end>':\n",
        "            return result, sentence, attention_plot\n",
        "        # the predicted ID is fed back into the model\n",
        "        dec_input = tf.expand_dims([predicted_id], 0)\n",
        "    return result, sentence, attention_plot"
      ],
      "execution_count": 32,
      "outputs": []
    },
    {
      "cell_type": "code",
      "metadata": {
        "id": "ljxAmwz9EwF8"
      },
      "source": [
        "def plot_attention(attention, sentence, predicted_sentence, run, param):\n",
        "    fig = plt.figure(figsize=(10,10))\n",
        "    ax = fig.add_subplot(1, 1, 1)\n",
        "    ax.matshow(attention, cmap='viridis')\n",
        "\n",
        "    fontdict = {'fontsize': 14}\n",
        "\n",
        "    ax.set_xticklabels([''] + sentence, fontdict=fontdict, rotation=90)\n",
        "    ax.set_yticklabels([''] + predicted_sentence, fontdict=fontdict)\n",
        "\n",
        "    ax.xaxis.set_major_locator(ticker.MultipleLocator(1))\n",
        "    ax.yaxis.set_major_locator(ticker.MultipleLocator(1))\n",
        "    run.log({f\"{param}\": plt})\n",
        "    plt.show()"
      ],
      "execution_count": 33,
      "outputs": []
    },
    {
      "cell_type": "code",
      "metadata": {
        "id": "LtoSpfMkExjt"
      },
      "source": [
        "def translate(sentence, run, param):\n",
        "\n",
        "    result, sentence, attention_plot = evaluate(sentence)\n",
        "\n",
        "    print('Input: %s' % (sentence))\n",
        "    print('Predicted translation: {}'.format(result))\n",
        "\n",
        "    attention_plot = attention_plot[:len(result.split(' ')), :len(sentence.split(' '))]\n",
        "    plot_attention(attention_plot, sentence.split(' '), result.split(' '), run, param)"
      ],
      "execution_count": 34,
      "outputs": []
    },
    {
      "cell_type": "markdown",
      "metadata": {
        "id": "aw-Iy9mUEioA"
      },
      "source": [
        "## Make custom charts for wandb"
      ]
    },
    {
      "cell_type": "code",
      "metadata": {
        "id": "i9-J8JD9Emcz"
      },
      "source": [
        "def custom_chart(src, run, param):\n",
        "    \"\"\"Logs tables needed for custom charts\n",
        "\n",
        "    Args:\n",
        "        src: The source sentence\n",
        "        run: The run object in wandb\n",
        "        param: The parameter that is logged\n",
        "    \"\"\"\n",
        "    translation, src, attn = evaluate(src)\n",
        "    print(f\"SRC: {src}\")\n",
        "    print(f\"TRANSLATION: {translation}\")\n",
        "    print()\n",
        "    \n",
        "    attn_data = []\n",
        "    src = src.split()\n",
        "    translation =  translation.split()\n",
        "    for m in range(len(translation)):\n",
        "        for n in range(len(src)):\n",
        "            attn_data.append([n, m, src[n], translation[m], attn[m, n]])\n",
        "\n",
        "    run.log({f\"{param}\": wandb.Table(data=attn_data, columns=[\"s_ind\", \"t_ind\", \"s_word\", \"t_word\", \"attn\"])})"
      ],
      "execution_count": 35,
      "outputs": []
    },
    {
      "cell_type": "code",
      "metadata": {
        "colab": {
          "base_uri": "https://localhost:8080/"
        },
        "id": "LeHp_4vBEogx",
        "outputId": "b65ed471-fa23-4379-e950-c900d407a0f7"
      },
      "source": [
        "custom_chart(u\"i am a good boy.\", run, \"first_table\")\n",
        "custom_chart(u\"will you come with me?\", run, \"second_table\")\n",
        "custom_chart(u\"i want to go to your house.\", run, \"third_table\")"
      ],
      "execution_count": 36,
      "outputs": [
        {
          "output_type": "stream",
          "text": [
            "SRC: <start> i am a good boy . <end>\n",
            "TRANSLATION: soy un buen chico . <end> \n",
            "\n",
            "SRC: <start> will you come with me ? <end>\n",
            "TRANSLATION: ¿ vas a venir conmigo ? <end> \n",
            "\n",
            "SRC: <start> i want to go to your house . <end>\n",
            "TRANSLATION: quiero ir a tu casa . <end> \n",
            "\n"
          ],
          "name": "stdout"
        }
      ]
    },
    {
      "cell_type": "markdown",
      "metadata": {
        "id": "p6aVV1VaEqVA"
      },
      "source": [
        "## Upload the heat maps as images"
      ]
    },
    {
      "cell_type": "code",
      "metadata": {
        "colab": {
          "base_uri": "https://localhost:8080/",
          "height": 675
        },
        "id": "7f82tco6rlWh",
        "outputId": "e405e078-2e83-4bb7-a195-7c5d137b4131"
      },
      "source": [
        "translate(u'how are you?', run, \"first_heatmap\")"
      ],
      "execution_count": 37,
      "outputs": [
        {
          "output_type": "stream",
          "text": [
            "Input: <start> how are you ? <end>\n",
            "Predicted translation: ¿ como tal ? <end> \n"
          ],
          "name": "stdout"
        },
        {
          "output_type": "display_data",
          "data": {
            "image/png": "[encoded data removed]",
            "text/plain": [
              "<Figure size 720x720 with 1 Axes>"
            ]
          },
          "metadata": {
            "tags": [],
            "needs_background": "light"
          }
        }
      ]
    },
    {
      "cell_type": "code",
      "metadata": {
        "colab": {
          "base_uri": "https://localhost:8080/",
          "height": 597
        },
        "id": "GdgZArrYFIzo",
        "outputId": "94265eef-68a0-4e5b-8798-5c884c364047"
      },
      "source": [
        "translate(u'i am good.', run, \"second_heatmap\")"
      ],
      "execution_count": 38,
      "outputs": [
        {
          "output_type": "stream",
          "text": [
            "Input: <start> i am good . <end>\n",
            "Predicted translation: soy bueno . <end> \n"
          ],
          "name": "stdout"
        },
        {
          "output_type": "display_data",
          "data": {
            "image/png": "[encoded data removed]",
            "text/plain": [
              "<Figure size 720x720 with 1 Axes>"
            ]
          },
          "metadata": {
            "tags": [],
            "needs_background": "light"
          }
        }
      ]
    },
    {
      "cell_type": "code",
      "metadata": {
        "colab": {
          "base_uri": "https://localhost:8080/",
          "height": 675
        },
        "id": "vJ4HqcmUFK9-",
        "outputId": "c5d87c6b-ccc0-41ae-a5a2-43e28e3503e5"
      },
      "source": [
        "translate(u'i am going to school', run, \"third_heatmap\")"
      ],
      "execution_count": 39,
      "outputs": [
        {
          "output_type": "stream",
          "text": [
            "Input: <start> i am going to school <end>\n",
            "Predicted translation: voy a la escuela . <end> \n"
          ],
          "name": "stdout"
        },
        {
          "output_type": "display_data",
          "data": {
            "image/png": "[encoded data removed]",
            "text/plain": [
              "<Figure size 720x720 with 1 Axes>"
            ]
          },
          "metadata": {
            "tags": [],
            "needs_background": "light"
          }
        }
      ]
    },
    {
      "cell_type": "code",
      "metadata": {
        "colab": {
          "base_uri": "https://localhost:8080/",
          "height": 675
        },
        "id": "6mYXg0wOrvSG",
        "outputId": "dd1ff26b-aa92-4646-d5fa-0245ae7a3d54"
      },
      "source": [
        "translate(u'let us go home now', run, \"forth_heatmap\")"
      ],
      "execution_count": 40,
      "outputs": [
        {
          "output_type": "stream",
          "text": [
            "Input: <start> let us go home now <end>\n",
            "Predicted translation: dejanos irnos a casa ahora . <end> \n"
          ],
          "name": "stdout"
        },
        {
          "output_type": "display_data",
          "data": {
            "image/png": "[encoded data removed]",
            "text/plain": [
              "<Figure size 720x720 with 1 Axes>"
            ]
          },
          "metadata": {
            "tags": [],
            "needs_background": "light"
          }
        }
      ]
    },
    {
      "cell_type": "code",
      "metadata": {
        "colab": {
          "base_uri": "https://localhost:8080/",
          "height": 675
        },
        "id": "kQJYdaaDruLy",
        "outputId": "2f168c5c-5a0e-4039-e227-8004e470c19f"
      },
      "source": [
        "translate(u'why would you do this?', run, \"fifth_heatmap\")"
      ],
      "execution_count": 41,
      "outputs": [
        {
          "output_type": "stream",
          "text": [
            "Input: <start> why would you do this ? <end>\n",
            "Predicted translation: ¿ por que hiciste esto ? <end> \n"
          ],
          "name": "stdout"
        },
        {
          "output_type": "display_data",
          "data": {
            "image/png": "[encoded data removed]",
            "text/plain": [
              "<Figure size 720x720 with 1 Axes>"
            ]
          },
          "metadata": {
            "tags": [],
            "needs_background": "light"
          }
        }
      ]
    },
    {
      "cell_type": "code",
      "metadata": {
        "id": "ltePbyj5rxRi",
        "colab": {
          "base_uri": "https://localhost:8080/",
          "height": 675
        },
        "outputId": "be9678b6-54d5-4c64-eea1-018595e2a537"
      },
      "source": [
        "translate(u'do you want to see some magic?', run, \"sixth_heatmap\")"
      ],
      "execution_count": 42,
      "outputs": [
        {
          "output_type": "stream",
          "text": [
            "Input: <start> do you want to see some magic ? <end>\n",
            "Predicted translation: ¿ quieres ver un poco de magia ? <end> \n"
          ],
          "name": "stdout"
        },
        {
          "output_type": "display_data",
          "data": {
            "image/png": "[encoded data removed]",
            "text/plain": [
              "<Figure size 720x720 with 1 Axes>"
            ]
          },
          "metadata": {
            "tags": [],
            "needs_background": "light"
          }
        }
      ]
    },
    {
      "cell_type": "code",
      "metadata": {
        "colab": {
          "base_uri": "https://localhost:8080/",
          "height": 415,
          "referenced_widgets": [
            "4a8b2006e09344d781a547f952400959",
            "6d1a4392f8694ba68246e662218bd511",
            "8f2bca4ec5d943f4815baf54d1e908cf",
            "4b9f9585eadc4327ae1443db755b82d8",
            "70377c57993941c899626f6015d14576",
            "23c60dddfe0144218f8e99d76f686813",
            "982c3b823609415c821f35fd6386432c",
            "31e793ada5e442dd80246fc200feac01"
          ]
        },
        "id": "h7yg_GdEE5gx",
        "outputId": "f1d1d0bf-4a62-4bab-b79d-25edbe265f1a"
      },
      "source": [
        "run.finish()"
      ],
      "execution_count": 43,
      "outputs": [
        {
          "output_type": "display_data",
          "data": {
            "text/html": [
              "<br/>Waiting for W&B process to finish, PID 170<br/>Program ended successfully."
            ],
            "text/plain": [
              "<IPython.core.display.HTML object>"
            ]
          },
          "metadata": {
            "tags": []
          }
        },
        {
          "output_type": "display_data",
          "data": {
            "application/vnd.jupyter.widget-view+json": {
              "model_id": "4a8b2006e09344d781a547f952400959",
              "version_minor": 0,
              "version_major": 2
            },
            "text/plain": [
              "VBox(children=(Label(value=' 0.11MB of 0.11MB uploaded (0.00MB deduped)\\r'), FloatProgress(value=1.0, max=1.0)…"
            ]
          },
          "metadata": {
            "tags": []
          }
        },
        {
          "output_type": "display_data",
          "data": {
            "text/html": [
              "Find user logs for this run at: <code>/content/wandb/run-20210316_141040-n6w6aor2/logs/debug.log</code>"
            ],
            "text/plain": [
              "<IPython.core.display.HTML object>"
            ]
          },
          "metadata": {
            "tags": []
          }
        },
        {
          "output_type": "display_data",
          "data": {
            "text/html": [
              "Find internal logs for this run at: <code>/content/wandb/run-20210316_141040-n6w6aor2/logs/debug-internal.log</code>"
            ],
            "text/plain": [
              "<IPython.core.display.HTML object>"
            ]
          },
          "metadata": {
            "tags": []
          }
        },
        {
          "output_type": "display_data",
          "data": {
            "text/html": [
              "<h3>Run summary:</h3><br/><style>\n",
              "    table.wandb td:nth-child(1) { padding: 0 10px; text-align: right }\n",
              "    </style><table class=\"wandb\">\n",
              "<tr><td>_runtime</td><td>241</td></tr><tr><td>_timestamp</td><td>1615904081</td></tr><tr><td>_step</td><td>11</td></tr></table>"
            ],
            "text/plain": [
              "<IPython.core.display.HTML object>"
            ]
          },
          "metadata": {
            "tags": []
          }
        },
        {
          "output_type": "display_data",
          "data": {
            "text/html": [
              "<h3>Run history:</h3><br/><style>\n",
              "    table.wandb td:nth-child(1) { padding: 0 10px; text-align: right }\n",
              "    </style><table class=\"wandb\">\n",
              "<tr><td>_runtime</td><td>▁▁▁▆▆▆▇█████</td></tr><tr><td>_timestamp</td><td>▁▁▁▆▆▆▇█████</td></tr><tr><td>_step</td><td>▁▂▂▃▄▄▅▅▆▇▇█</td></tr></table><br/>"
            ],
            "text/plain": [
              "<IPython.core.display.HTML object>"
            ]
          },
          "metadata": {
            "tags": []
          }
        },
        {
          "output_type": "display_data",
          "data": {
            "text/html": [
              "Synced 5 W&B file(s), 12 media file(s), 0 artifact file(s) and 0 other file(s)"
            ],
            "text/plain": [
              "<IPython.core.display.HTML object>"
            ]
          },
          "metadata": {
            "tags": []
          }
        },
        {
          "output_type": "display_data",
          "data": {
            "text/html": [
              "\n",
              "                    <br/>Synced <strong style=\"color:#cdcd00\">Baseline-Inference</strong>: <a href=\"https://wandb.ai/authors/under-attention/runs/n6w6aor2\" target=\"_blank\">https://wandb.ai/authors/under-attention/runs/n6w6aor2</a><br/>\n",
              "                "
            ],
            "text/plain": [
              "<IPython.core.display.HTML object>"
            ]
          },
          "metadata": {
            "tags": []
          }
        }
      ]
    }
  ]
}