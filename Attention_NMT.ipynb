{
  "nbformat": 4,
  "nbformat_minor": 0,
  "metadata": {
    "colab": {
      "name": "Attention_NMT",
      "provenance": []
    },
    "kernelspec": {
      "name": "python3",
      "display_name": "Python 3"
    },
    "accelerator": "GPU"
  },
  "cells": [
    {
      "cell_type": "markdown",
      "metadata": {
        "id": "D7P5aktQJXJW"
      },
      "source": [
        "# Introduction\n",
        "This notebook holds our experiments on Neural Machine Translation with Attention mechanism.\n",
        "Some notes:\n",
        "- Bahdanau\n",
        "- Luong\n",
        "- Softmax vs Sigmoid\n",
        "- Wrapping the function with `moodel.fit`\n",
        "\n",
        "We have taken heavy inspiration from the official [TensorFlow guide](https://www.tensorflow.org/tutorials/text/nmt_with_attention).\n",
        "> A note for the readers: We will be importing packages as we go along. You will not be looking at all the imports at one place."
      ]
    },
    {
      "cell_type": "code",
      "metadata": {
        "id": "5yz111FIXuc8"
      },
      "source": [
        "import tensorflow as tf\r\n",
        "from tensorflow.keras import layers as L"
      ],
      "execution_count": 1,
      "outputs": []
    },
    {
      "cell_type": "markdown",
      "metadata": {
        "id": "fZ8ZnvZWamdi"
      },
      "source": [
        "# Utilities And Downloads\r\n",
        "\r\n",
        "We use `tf.keras.utils.get_file` to download the English to Spanish dataset hosted by Google. We define the file name where the script will save the dataset"
      ]
    },
    {
      "cell_type": "code",
      "metadata": {
        "colab": {
          "base_uri": "https://localhost:8080/"
        },
        "id": "ybK1mMMaX1rj",
        "outputId": "de3dbe3d-501a-4bb1-fe16-ff88b49cf464"
      },
      "source": [
        "# Download the file\r\n",
        "path_to_zip = tf.keras.utils.get_file(\r\n",
        "    'spa-eng.zip',\r\n",
        "    origin='http://storage.googleapis.com/download.tensorflow.org/data/spa-eng.zip',\r\n",
        "    extract=True\r\n",
        ")\r\n",
        "\r\n",
        "print(f\"[INFO] PATH TO ZIP: {path_to_zip}\")"
      ],
      "execution_count": 2,
      "outputs": [
        {
          "output_type": "stream",
          "text": [
            "Downloading data from http://storage.googleapis.com/download.tensorflow.org/data/spa-eng.zip\n",
            "2646016/2638744 [==============================] - 0s 0us/step\n",
            "[INFO] PATH TO ZIP: /root/.keras/datasets/spa-eng.zip\n"
          ],
          "name": "stdout"
        }
      ]
    },
    {
      "cell_type": "code",
      "metadata": {
        "id": "Ysf93J57aJzn"
      },
      "source": [
        "import os"
      ],
      "execution_count": 3,
      "outputs": []
    },
    {
      "cell_type": "code",
      "metadata": {
        "colab": {
          "base_uri": "https://localhost:8080/"
        },
        "id": "n712-Bw4ZbtM",
        "outputId": "626aa492-51d3-4f37-8f0c-4fbc9b048e32"
      },
      "source": [
        "path_to_file = os.path.dirname(path_to_zip)+\"/spa-eng/spa.txt\"\r\n",
        "\r\n",
        "print(f\"[INFO] PATH TO FILE: {path_to_file}\")"
      ],
      "execution_count": 4,
      "outputs": [
        {
          "output_type": "stream",
          "text": [
            "[INFO] PATH TO FILE: /root/.keras/datasets/spa-eng/spa.txt\n"
          ],
          "name": "stdout"
        }
      ]
    },
    {
      "cell_type": "markdown",
      "metadata": {
        "id": "Z_Vw3-oXbfC2"
      },
      "source": [
        "# Cleaner functions\r\n",
        "\r\n"
      ]
    },
    {
      "cell_type": "code",
      "metadata": {
        "id": "ITOzXiv-cEaq"
      },
      "source": [
        "import unicodedata\n",
        "import re"
      ],
      "execution_count": 5,
      "outputs": []
    },
    {
      "cell_type": "code",
      "metadata": {
        "id": "rEwkRZ3vYAQN"
      },
      "source": [
        "def unicode_to_ascii(s):\r\n",
        "    return ''.join(c for c in unicodedata.normalize('NFD', s)\r\n",
        "    if unicodedata.category(c) != 'Mn')"
      ],
      "execution_count": 6,
      "outputs": []
    },
    {
      "cell_type": "code",
      "metadata": {
        "id": "ZYED3VNhdeN-"
      },
      "source": [
        "def preprocess_sentence(w):\r\n",
        "    w = unicode_to_ascii(w.lower().strip())\r\n",
        "    # creating a space between a word and the punctuation following it\r\n",
        "    # eg: \"he is a boy.\" => \"he is a boy .\"\r\n",
        "    # Reference:- https://stackoverflow.com/questions/3645931/python-padding-punctuation-with-white-spaces-keeping-punctuation\r\n",
        "    w = re.sub(r\"([?.!,¿])\", r\" \\1 \", w)\r\n",
        "    w = re.sub(r'[\" \"]+', \" \", w)\r\n",
        "    # replacing everything with space except (a-z, A-Z, \".\", \"?\", \"!\", \",\")\r\n",
        "    w = re.sub(r\"[^a-zA-Z?.!,¿]+\", \" \", w)\r\n",
        "    w = w.strip()\r\n",
        "    # adding a start and an end token to the sentence\r\n",
        "    # so that the model know when to start and stop predicting.\r\n",
        "    w = '<start> ' + w + ' <end>'\r\n",
        "    return w"
      ],
      "execution_count": 7,
      "outputs": []
    },
    {
      "cell_type": "code",
      "metadata": {
        "colab": {
          "base_uri": "https://localhost:8080/"
        },
        "id": "ThKXoortYFhm",
        "outputId": "1b4c071e-3fe1-43e9-81ce-b4b5036b85ea"
      },
      "source": [
        "en_sentence = u\"May I borrow this book?\"\r\n",
        "sp_sentence = u\"¿Puedo tomar prestado este libro?\"\r\n",
        "print(preprocess_sentence(en_sentence))\r\n",
        "print(preprocess_sentence(sp_sentence).encode('utf-8'))"
      ],
      "execution_count": 8,
      "outputs": [
        {
          "output_type": "stream",
          "text": [
            "<start> may i borrow this book ? <end>\n",
            "b'<start> \\xc2\\xbf puedo tomar prestado este libro ? <end>'\n"
          ],
          "name": "stdout"
        }
      ]
    },
    {
      "cell_type": "code",
      "metadata": {
        "id": "cYqDUD4be3jz"
      },
      "source": [
        "import io"
      ],
      "execution_count": 9,
      "outputs": []
    },
    {
      "cell_type": "code",
      "metadata": {
        "id": "Q742cxMNYHN2"
      },
      "source": [
        "def create_dataset(path, num_examples):\r\n",
        "    lines = io.open(path, encoding='UTF-8').read().strip().split('\\n')\r\n",
        "\r\n",
        "    word_pairs = [[preprocess_sentence(w) for w in l.split('\\t')]  for l in lines[:num_examples]]\r\n",
        "\r\n",
        "    return zip(*word_pairs)"
      ],
      "execution_count": 10,
      "outputs": []
    },
    {
      "cell_type": "code",
      "metadata": {
        "colab": {
          "base_uri": "https://localhost:8080/"
        },
        "id": "YDpyz-fTYN0p",
        "outputId": "9d0cbf3c-7444-46dd-d59c-54441301a3c9"
      },
      "source": [
        "en, sp = create_dataset(path_to_file, None)\r\n",
        "print(en[-1])\r\n",
        "print(sp[-1])"
      ],
      "execution_count": 11,
      "outputs": [
        {
          "output_type": "stream",
          "text": [
            "<start> if you want to sound like a native speaker , you must be willing to practice saying the same sentence over and over in the same way that banjo players practice the same phrase over and over until they can play it correctly and at the desired tempo . <end>\n",
            "<start> si quieres sonar como un hablante nativo , debes estar dispuesto a practicar diciendo la misma frase una y otra vez de la misma manera en que un musico de banjo practica el mismo fraseo una y otra vez hasta que lo puedan tocar correctamente y en el tiempo esperado . <end>\n"
          ],
          "name": "stdout"
        }
      ]
    },
    {
      "cell_type": "code",
      "metadata": {
        "id": "AGN6i1X8YbWd"
      },
      "source": [
        "def tokenize(lang):\r\n",
        "    lang_tokenizer = tf.keras.preprocessing.text.Tokenizer(\r\n",
        "        filters='')\r\n",
        "    lang_tokenizer.fit_on_texts(lang)\r\n",
        "\r\n",
        "    tensor = lang_tokenizer.texts_to_sequences(lang)\r\n",
        "\r\n",
        "    tensor = tf.keras.preprocessing.sequence.pad_sequences(\r\n",
        "        tensor,\r\n",
        "        padding='post')\r\n",
        "\r\n",
        "    return tensor, lang_tokenizer"
      ],
      "execution_count": 12,
      "outputs": []
    },
    {
      "cell_type": "code",
      "metadata": {
        "id": "fELGs7xTgeGU"
      },
      "source": [
        "def load_dataset(path, num_examples=None):\r\n",
        "    # creating cleaned input, output pairs\r\n",
        "    inp_lang, targ_lang = create_dataset(path , num_examples)\r\n",
        "\r\n",
        "    input_tensor, inp_lang_tokenizer = tokenize(inp_lang)\r\n",
        "    target_tensor, targ_lang_tokenizer = tokenize(targ_lang)\r\n",
        "\r\n",
        "    return input_tensor, target_tensor, inp_lang_tokenizer, targ_lang_tokenizer"
      ],
      "execution_count": 13,
      "outputs": []
    },
    {
      "cell_type": "code",
      "metadata": {
        "id": "QVVJScpohR8f"
      },
      "source": [
        "num_examples = 50_000\r\n",
        "(input_tensor,target_tensor,inp_lang,targ_lang) = load_dataset(path_to_file,num_examples)\r\n",
        "\r\n",
        "# Calculate max_length of the target tensors\r\n",
        "max_length_targ, max_length_inp = target_tensor.shape[1], input_tensor.shape[1]"
      ],
      "execution_count": 14,
      "outputs": []
    },
    {
      "cell_type": "code",
      "metadata": {
        "id": "97jXhf-OiV2M"
      },
      "source": [
        "from sklearn.model_selection import train_test_split"
      ],
      "execution_count": 15,
      "outputs": []
    },
    {
      "cell_type": "code",
      "metadata": {
        "colab": {
          "base_uri": "https://localhost:8080/"
        },
        "id": "3saxDFMZiIM-",
        "outputId": "57920630-d752-4acf-e70f-e4309946071f"
      },
      "source": [
        "# Creating training and validation sets using an 80-20 split\r\n",
        "(input_tensor_train,input_tensor_val,target_tensor_train,target_tensor_val) = train_test_split(input_tensor,target_tensor,test_size=0.2)\r\n",
        "\r\n",
        "# Show length\r\n",
        "print(len(input_tensor_train),len(target_tensor_train),len(input_tensor_val),len(target_tensor_val))"
      ],
      "execution_count": 16,
      "outputs": [
        {
          "output_type": "stream",
          "text": [
            "40000 40000 10000 10000\n"
          ],
          "name": "stdout"
        }
      ]
    },
    {
      "cell_type": "code",
      "metadata": {
        "id": "6n7OY60fiXvW"
      },
      "source": [
        "def convert(lang, tensor):\r\n",
        "    for t in tensor:\r\n",
        "        if t!=0:\r\n",
        "            print (\"%d ----> %s\" % (t, lang.index_word[t]))"
      ],
      "execution_count": 17,
      "outputs": []
    },
    {
      "cell_type": "code",
      "metadata": {
        "colab": {
          "base_uri": "https://localhost:8080/"
        },
        "id": "PtEmQiqhimFW",
        "outputId": "4b0182f5-db7f-4ebb-fea6-b11eea053610"
      },
      "source": [
        "print (\"Input Language; index to word mapping\")\r\n",
        "convert(inp_lang, input_tensor_train[0])\r\n",
        "print ()\r\n",
        "print (\"Target Language; index to word mapping\")\r\n",
        "convert(targ_lang, target_tensor_train[0])"
      ],
      "execution_count": 18,
      "outputs": [
        {
          "output_type": "stream",
          "text": [
            "Input Language; index to word mapping\n",
            "1 ----> <start>\n",
            "13 ----> it\n",
            "8 ----> is\n",
            "546 ----> important\n",
            "40 ----> for\n",
            "16 ----> me\n",
            "3 ----> .\n",
            "2 ----> <end>\n",
            "\n",
            "Target Language; index to word mapping\n",
            "1 ----> <start>\n",
            "9 ----> es\n",
            "503 ----> importante\n",
            "51 ----> para\n",
            "22 ----> mi\n",
            "3 ----> .\n",
            "2 ----> <end>\n"
          ],
          "name": "stdout"
        }
      ]
    },
    {
      "cell_type": "code",
      "metadata": {
        "id": "nQEuR_EminQm"
      },
      "source": [
        "BUFFER_SIZE = len(input_tensor_train)\r\n",
        "BATCH_SIZE = 512\r\n",
        "steps_per_epoch = len(input_tensor_train)//BATCH_SIZE\r\n",
        "embedding_dim = 512\r\n",
        "units = 1024\r\n",
        "vocab_inp_size = len(inp_lang.word_index)+1\r\n",
        "vocab_tar_size = len(targ_lang.word_index)+1\r\n",
        "\r\n",
        "dataset = tf.data.Dataset.from_tensor_slices((input_tensor_train, target_tensor_train)).shuffle(BUFFER_SIZE)\r\n",
        "dataset = dataset.batch(BATCH_SIZE, drop_remainder=True)"
      ],
      "execution_count": 19,
      "outputs": []
    },
    {
      "cell_type": "code",
      "metadata": {
        "colab": {
          "base_uri": "https://localhost:8080/"
        },
        "id": "ZiqsOP8bjCUu",
        "outputId": "16d3d30b-2138-449e-be3e-a29c1c7aa194"
      },
      "source": [
        "for en,sp in dataset.take(1):\r\n",
        "    print(sp.shape)\r\n",
        "    print(en.shape)"
      ],
      "execution_count": 20,
      "outputs": [
        {
          "output_type": "stream",
          "text": [
            "(512, 16)\n",
            "(512, 12)\n"
          ],
          "name": "stdout"
        }
      ]
    },
    {
      "cell_type": "code",
      "metadata": {
        "id": "61NDaiqkjH6I"
      },
      "source": [
        "class Encoder(tf.keras.Model):\r\n",
        "  def __init__(self,\r\n",
        "               vocab_size,\r\n",
        "               embedding_dim,\r\n",
        "               enc_units,\r\n",
        "               batch_sz):\r\n",
        "    super(Encoder, self).__init__()\r\n",
        "    self.batch_sz = batch_sz\r\n",
        "    self.enc_units = enc_units\r\n",
        "    self.embedding = L.Embedding(vocab_size, embedding_dim)\r\n",
        "    self.gru = L.GRU(self.enc_units,\r\n",
        "                     return_sequences=True,\r\n",
        "                     return_state=True,\r\n",
        "                     recurrent_initializer='glorot_uniform')\r\n",
        "    self.bidirection = L.Bidirectional(self.gru, merge_mode='concat' )\r\n",
        "\r\n",
        "  def call(self,\r\n",
        "           x,\r\n",
        "           hidden_fd,\r\n",
        "           hidden_bd):\r\n",
        "    x = self.embedding(x)\r\n",
        "    output, fd_state, bd_state = self.bidirection(x, initial_state = [hidden_fd, hidden_bd])\r\n",
        "    return output, fd_state, bd_state\r\n",
        "\r\n",
        "  def initialize_hidden_state(self):\r\n",
        "    return [tf.zeros((self.batch_sz, self.enc_units)) for i in range(2)]"
      ],
      "execution_count": 28,
      "outputs": []
    },
    {
      "cell_type": "code",
      "metadata": {
        "colab": {
          "base_uri": "https://localhost:8080/"
        },
        "id": "yNspKGi1jThL",
        "outputId": "8bdfc657-092c-448e-fd08-4527238def62"
      },
      "source": [
        "encoder = Encoder(vocab_inp_size, embedding_dim, units, BATCH_SIZE)\r\n",
        "\r\n",
        "# sample input\r\n",
        "initial_fwd, initial_bck = encoder.initialize_hidden_state()\r\n",
        "for en, sp in dataset.take(1):\r\n",
        "    sample_output, sample_hidden_fwd, sample_hidden_bck = encoder(en, initial_fwd, initial_bck)\r\n",
        "    print ('Encoder output shape: (batch size, sequence length, units) {}'.format(sample_output.shape))\r\n",
        "    print ('Encoder Hidden FWD state shape: (batch size, units) {}'.format(sample_hidden_fwd.shape))\r\n",
        "    print ('Encoder Hidden FWD state shape: (batch size, units) {}'.format(sample_hidden_bck.shape))"
      ],
      "execution_count": 29,
      "outputs": [
        {
          "output_type": "stream",
          "text": [
            "Encoder output shape: (batch size, sequence length, units) (512, 12, 2048)\n",
            "Encoder Hidden FWD state shape: (batch size, units) (512, 1024)\n",
            "Encoder Hidden FWD state shape: (batch size, units) (512, 1024)\n"
          ],
          "name": "stdout"
        }
      ]
    },
    {
      "cell_type": "code",
      "metadata": {
        "id": "EE7jy2ACkj7r"
      },
      "source": [
        "class BahdanauAttention(tf.keras.layers.Layer):\r\n",
        "  def __init__(self, units):\r\n",
        "    super(BahdanauAttention, self).__init__()\r\n",
        "    self.W1 = L.Dense(units)\r\n",
        "    self.W2 = L.Dense(units)\r\n",
        "    self.V = L.Dense(1)\r\n",
        "\r\n",
        "  def call(self, query, values):\r\n",
        "    # Query Decoder Hidden state, Values belongs is the Encoder output\r\n",
        "    # query hidden state shape == (batch_size, hidden size)\r\n",
        "    # query_with_time_axis shape == (batch_size, 1, hidden size)\r\n",
        "    # values shape == (batch_size, max_len, hidden size)\r\n",
        "    # we are doing this to broadcast addition along the time axis to calculate the score\r\n",
        "    query_with_time_axis = tf.expand_dims(query, 1)\r\n",
        "\r\n",
        "    # score shape == (batch_size, max_length, 1)\r\n",
        "    # we get 1 at the last axis because we are applying score to self.V\r\n",
        "    # the shape of the tensor before applying self.V is (batch_size, max_length, units)\r\n",
        "    score = self.V(tf.nn.tanh(\r\n",
        "        self.W1(query_with_time_axis) + self.W2(values)))\r\n",
        "\r\n",
        "    # attention_weights shape == (batch_size, max_length, 1)\r\n",
        "    attention_weights = tf.nn.softmax(score, axis=1)\r\n",
        "    \r\n",
        "    # context_vector shape after sum == (batch_size, hidden_size)\r\n",
        "    context_vector = attention_weights * values\r\n",
        "    context_vector = tf.reduce_sum(context_vector, axis=1)\r\n",
        "\r\n",
        "    return context_vector, attention_weights"
      ],
      "execution_count": 30,
      "outputs": []
    },
    {
      "cell_type": "code",
      "metadata": {
        "id": "2YPxwKuwlGr1"
      },
      "source": [
        "class Decoder(tf.keras.Model):\r\n",
        "  def __init__(self, vocab_size, embedding_dim, dec_units, batch_sz):\r\n",
        "    super(Decoder, self).__init__()\r\n",
        "    self.batch_sz = batch_sz\r\n",
        "    self.dec_units = dec_units\r\n",
        "    self.embedding = L.Embedding(vocab_size, embedding_dim)\r\n",
        "    self.gru = L.GRU(self.dec_units,\r\n",
        "                     return_sequences=True,\r\n",
        "                     return_state=True,\r\n",
        "                     recurrent_initializer='glorot_uniform')\r\n",
        "    self.fc = L.Dense(vocab_size)\r\n",
        "    # used for attention\r\n",
        "    self.attention = BahdanauAttention(self.dec_units)\r\n",
        "\r\n",
        "  def call(self, x, hidden, enc_output):\r\n",
        "    # enc_output shape == (batch_size, max_length, hidden_size)\r\n",
        "    context_vector, attention_weights = self.attention(hidden, enc_output)\r\n",
        "    # x shape after passing through embedding == (batch_size, 1, embedding_dim)\r\n",
        "    x = self.embedding(x)\r\n",
        "    # x shape after concatenation == (batch_size, 1, embedding_dim + hidden_size)\r\n",
        "    x = tf.concat([tf.expand_dims(context_vector, 1), x], axis=-1)\r\n",
        "    # passing the concatenated vector to the GRU\r\n",
        "    output, state = self.gru(x)\r\n",
        "    # output shape == (batch_size * 1, hidden_size)\r\n",
        "    output = tf.reshape(output, (-1, output.shape[2]))\r\n",
        "    # output shape == (batch_size, vocab)\r\n",
        "    x = self.fc(output)\r\n",
        "    return x, state, attention_weights"
      ],
      "execution_count": 31,
      "outputs": []
    },
    {
      "cell_type": "code",
      "metadata": {
        "colab": {
          "base_uri": "https://localhost:8080/"
        },
        "id": "kA4jNHG0lJ52",
        "outputId": "41beb1a8-cdbe-4cf6-95f1-b83e4ffe73f2"
      },
      "source": [
        "encoder = Encoder(vocab_inp_size, embedding_dim, units, BATCH_SIZE)\r\n",
        "decoder = Decoder(vocab_tar_size, embedding_dim, units, BATCH_SIZE)\r\n",
        "\r\n",
        "initial_fwd, initial_bck = encoder.initialize_hidden_state()\r\n",
        "for en,sp in dataset.take(1):\r\n",
        "    encoder_output, encoder_hidden_fwd, encoder_hidden_bck = encoder(en, initial_fwd, initial_bck)\r\n",
        "    dec_input = tf.expand_dims([targ_lang.word_index['<start>']] * BATCH_SIZE, 1)\r\n",
        "    decoder_output, decoder_hidden, att_weights = decoder(dec_input, encoder_hidden_fwd, encoder_output)\r\n",
        "\r\n",
        "    print ('Decoder output shape: (batch_size, vocab size) {}'.format(decoder_output.shape))"
      ],
      "execution_count": 32,
      "outputs": [
        {
          "output_type": "stream",
          "text": [
            "Decoder output shape: (batch_size, vocab size) (512, 12999)\n"
          ],
          "name": "stdout"
        }
      ]
    },
    {
      "cell_type": "code",
      "metadata": {
        "id": "-dUTzysg3L65"
      },
      "source": [
        "optimizer = tf.keras.optimizers.Adam()\r\n",
        "loss_object = tf.keras.losses.SparseCategoricalCrossentropy(\r\n",
        "    from_logits=True,\r\n",
        "    reduction='none')\r\n",
        "\r\n",
        "def loss_function(real, pred):\r\n",
        "    mask = tf.math.logical_not(tf.math.equal(real, 0))\r\n",
        "    loss_ = loss_object(real, pred)\r\n",
        "    mask = tf.cast(mask, dtype=loss_.dtype)\r\n",
        "    loss_ *= mask\r\n",
        "\r\n",
        "    return tf.reduce_mean(loss_)"
      ],
      "execution_count": 33,
      "outputs": []
    },
    {
      "cell_type": "code",
      "metadata": {
        "id": "x8EuyBNwlLXX"
      },
      "source": [
        "@tf.function\r\n",
        "def train_step(inp, targ, enc_hidden_fwd, enc_hidden_bck):\r\n",
        "    loss = 0\r\n",
        "    with tf.GradientTape() as tape:\r\n",
        "        enc_output, enc_hidden_fwd, enc_hidden_bck = encoder(inp, enc_hidden_fwd, enc_hidden_bck)\r\n",
        "        dec_hidden = enc_hidden_fwd\r\n",
        "        dec_input = tf.expand_dims([targ_lang.word_index['<start>']] * BATCH_SIZE, 1)\r\n",
        "        # Teacher forcing - feeding the target as the next input\r\n",
        "        for t in range(1, targ.shape[1]):\r\n",
        "            # passing enc_output to the decoder\r\n",
        "            predictions, dec_hidden, att_weights = decoder(dec_input, dec_hidden, enc_output)\r\n",
        "            loss += loss_function(targ[:, t], predictions)\r\n",
        "            # using teacher forcing\r\n",
        "            dec_input = tf.expand_dims(targ[:, t], 1)\r\n",
        "    batch_loss = (loss / int(targ.shape[1]))\r\n",
        "    variables = encoder.trainable_variables + decoder.trainable_variables\r\n",
        "    gradients = tape.gradient(loss, variables)\r\n",
        "    optimizer.apply_gradients(zip(gradients, variables))\r\n",
        "    return batch_loss"
      ],
      "execution_count": 34,
      "outputs": []
    },
    {
      "cell_type": "code",
      "metadata": {
        "id": "JIfObUMR4ovE"
      },
      "source": [
        "import time"
      ],
      "execution_count": 35,
      "outputs": []
    },
    {
      "cell_type": "code",
      "metadata": {
        "colab": {
          "base_uri": "https://localhost:8080/"
        },
        "id": "gQSyyZe904vO",
        "outputId": "622b9596-c706-4190-e74b-ebe1ba06e9dd"
      },
      "source": [
        "EPOCHS = 20\r\n",
        "for epoch in range(EPOCHS):\r\n",
        "    start = time.time()\r\n",
        "    total_loss = 0\r\n",
        "    for (batch, (inp, targ)) in enumerate(dataset.take(steps_per_epoch)):\r\n",
        "        enc_hidden_fwd, encoder_hidden_bck = encoder.initialize_hidden_state()\r\n",
        "        batch_loss = train_step(inp, targ, enc_hidden_fwd, encoder_hidden_bck)\r\n",
        "        total_loss += batch_loss\r\n",
        "        if batch % 10 == 0:\r\n",
        "            print('Epoch {} Batch {} Loss {:.4f}'.format(epoch + 1,batch,batch_loss.numpy()))\r\n",
        "    print('Epoch {} Loss {:.4f}'.format(epoch + 1,total_loss/steps_per_epoch))\r\n",
        "    print('Time taken for 1 epoch {:.4f} sec\\n'.format(time.time() - start))"
      ],
      "execution_count": 36,
      "outputs": [
        {
          "output_type": "stream",
          "text": [
            "Epoch 1 Batch 0 Loss 3.7350\n",
            "Epoch 1 Batch 10 Loss 2.2750\n",
            "Epoch 1 Batch 20 Loss 2.1445\n",
            "Epoch 1 Batch 30 Loss 2.0492\n",
            "Epoch 1 Batch 40 Loss 1.9224\n",
            "Epoch 1 Batch 50 Loss 1.8806\n",
            "Epoch 1 Batch 60 Loss 1.8855\n",
            "Epoch 1 Batch 70 Loss 1.8392\n",
            "Epoch 1 Loss 2.0991\n",
            "Time taken for 1 epoch 82.6764 sec\n",
            "\n",
            "Epoch 2 Batch 0 Loss 1.8232\n",
            "Epoch 2 Batch 10 Loss 1.7731\n",
            "Epoch 2 Batch 20 Loss 1.7643\n",
            "Epoch 2 Batch 30 Loss 1.7352\n",
            "Epoch 2 Batch 40 Loss 1.7805\n",
            "Epoch 2 Batch 50 Loss 1.7350\n",
            "Epoch 2 Batch 60 Loss 1.7530\n",
            "Epoch 2 Batch 70 Loss 1.7525\n",
            "Epoch 2 Loss 1.7463\n",
            "Time taken for 1 epoch 66.5413 sec\n",
            "\n",
            "Epoch 3 Batch 0 Loss 1.6271\n",
            "Epoch 3 Batch 10 Loss 1.6717\n",
            "Epoch 3 Batch 20 Loss 1.6408\n",
            "Epoch 3 Batch 30 Loss 1.6007\n",
            "Epoch 3 Batch 40 Loss 1.5856\n",
            "Epoch 3 Batch 50 Loss 1.5672\n",
            "Epoch 3 Batch 60 Loss 1.5709\n",
            "Epoch 3 Batch 70 Loss 1.5469\n",
            "Epoch 3 Loss 1.6020\n",
            "Time taken for 1 epoch 66.8205 sec\n",
            "\n",
            "Epoch 4 Batch 0 Loss 1.5168\n",
            "Epoch 4 Batch 10 Loss 1.5126\n",
            "Epoch 4 Batch 20 Loss 1.4749\n",
            "Epoch 4 Batch 30 Loss 1.4312\n",
            "Epoch 4 Batch 40 Loss 1.4250\n",
            "Epoch 4 Batch 50 Loss 1.4560\n",
            "Epoch 4 Batch 60 Loss 1.3957\n",
            "Epoch 4 Batch 70 Loss 1.3637\n",
            "Epoch 4 Loss 1.4430\n",
            "Time taken for 1 epoch 66.9832 sec\n",
            "\n",
            "Epoch 5 Batch 0 Loss 1.3396\n",
            "Epoch 5 Batch 10 Loss 1.3111\n",
            "Epoch 5 Batch 20 Loss 1.3171\n",
            "Epoch 5 Batch 30 Loss 1.3226\n",
            "Epoch 5 Batch 40 Loss 1.2658\n",
            "Epoch 5 Batch 50 Loss 1.2783\n",
            "Epoch 5 Batch 60 Loss 1.2734\n",
            "Epoch 5 Batch 70 Loss 1.2713\n",
            "Epoch 5 Loss 1.2938\n",
            "Time taken for 1 epoch 67.1584 sec\n",
            "\n",
            "Epoch 6 Batch 0 Loss 1.2198\n",
            "Epoch 6 Batch 10 Loss 1.1975\n",
            "Epoch 6 Batch 20 Loss 1.1882\n",
            "Epoch 6 Batch 30 Loss 1.1343\n",
            "Epoch 6 Batch 40 Loss 1.1471\n",
            "Epoch 6 Batch 50 Loss 1.1509\n",
            "Epoch 6 Batch 60 Loss 1.1650\n",
            "Epoch 6 Batch 70 Loss 1.1753\n",
            "Epoch 6 Loss 1.1610\n",
            "Time taken for 1 epoch 66.9096 sec\n",
            "\n",
            "Epoch 7 Batch 0 Loss 1.0773\n",
            "Epoch 7 Batch 10 Loss 1.0646\n",
            "Epoch 7 Batch 20 Loss 1.0410\n",
            "Epoch 7 Batch 30 Loss 1.0174\n",
            "Epoch 7 Batch 40 Loss 1.0762\n",
            "Epoch 7 Batch 50 Loss 1.0405\n",
            "Epoch 7 Batch 60 Loss 1.0625\n",
            "Epoch 7 Batch 70 Loss 1.0174\n",
            "Epoch 7 Loss 1.0432\n",
            "Time taken for 1 epoch 67.3010 sec\n",
            "\n",
            "Epoch 8 Batch 0 Loss 0.9598\n",
            "Epoch 8 Batch 10 Loss 0.9189\n",
            "Epoch 8 Batch 20 Loss 0.9592\n",
            "Epoch 8 Batch 30 Loss 0.9174\n",
            "Epoch 8 Batch 40 Loss 0.9293\n",
            "Epoch 8 Batch 50 Loss 0.9436\n",
            "Epoch 8 Batch 60 Loss 0.9745\n",
            "Epoch 8 Batch 70 Loss 0.9377\n",
            "Epoch 8 Loss 0.9403\n",
            "Time taken for 1 epoch 67.2750 sec\n",
            "\n",
            "Epoch 9 Batch 0 Loss 0.8794\n",
            "Epoch 9 Batch 10 Loss 0.8343\n",
            "Epoch 9 Batch 20 Loss 0.8424\n",
            "Epoch 9 Batch 30 Loss 0.8493\n",
            "Epoch 9 Batch 40 Loss 0.8724\n",
            "Epoch 9 Batch 50 Loss 0.8580\n",
            "Epoch 9 Batch 60 Loss 0.8297\n",
            "Epoch 9 Batch 70 Loss 0.8468\n",
            "Epoch 9 Loss 0.8459\n",
            "Time taken for 1 epoch 67.2610 sec\n",
            "\n",
            "Epoch 10 Batch 0 Loss 0.7986\n",
            "Epoch 10 Batch 10 Loss 0.7739\n",
            "Epoch 10 Batch 20 Loss 0.8026\n",
            "Epoch 10 Batch 30 Loss 0.7759\n",
            "Epoch 10 Batch 40 Loss 0.7838\n",
            "Epoch 10 Batch 50 Loss 0.7779\n",
            "Epoch 10 Batch 60 Loss 0.7585\n",
            "Epoch 10 Batch 70 Loss 0.7699\n",
            "Epoch 10 Loss 0.7601\n",
            "Time taken for 1 epoch 67.2555 sec\n",
            "\n",
            "Epoch 11 Batch 0 Loss 0.6939\n",
            "Epoch 11 Batch 10 Loss 0.6791\n",
            "Epoch 11 Batch 20 Loss 0.6861\n",
            "Epoch 11 Batch 30 Loss 0.6973\n",
            "Epoch 11 Batch 40 Loss 0.6667\n",
            "Epoch 11 Batch 50 Loss 0.6794\n",
            "Epoch 11 Batch 60 Loss 0.6757\n",
            "Epoch 11 Batch 70 Loss 0.6688\n",
            "Epoch 11 Loss 0.6770\n",
            "Time taken for 1 epoch 67.3127 sec\n",
            "\n",
            "Epoch 12 Batch 0 Loss 0.6015\n",
            "Epoch 12 Batch 10 Loss 0.5767\n",
            "Epoch 12 Batch 20 Loss 0.5909\n",
            "Epoch 12 Batch 30 Loss 0.5990\n",
            "Epoch 12 Batch 40 Loss 0.5995\n",
            "Epoch 12 Batch 50 Loss 0.6137\n",
            "Epoch 12 Batch 60 Loss 0.5741\n",
            "Epoch 12 Batch 70 Loss 0.5752\n",
            "Epoch 12 Loss 0.6030\n",
            "Time taken for 1 epoch 67.2530 sec\n",
            "\n",
            "Epoch 13 Batch 0 Loss 0.5220\n",
            "Epoch 13 Batch 10 Loss 0.5307\n",
            "Epoch 13 Batch 20 Loss 0.5619\n",
            "Epoch 13 Batch 30 Loss 0.5310\n",
            "Epoch 13 Batch 40 Loss 0.5632\n",
            "Epoch 13 Batch 50 Loss 0.5140\n",
            "Epoch 13 Batch 60 Loss 0.5634\n",
            "Epoch 13 Batch 70 Loss 0.5424\n",
            "Epoch 13 Loss 0.5353\n",
            "Time taken for 1 epoch 67.3803 sec\n",
            "\n",
            "Epoch 14 Batch 0 Loss 0.4220\n",
            "Epoch 14 Batch 10 Loss 0.4739\n",
            "Epoch 14 Batch 20 Loss 0.4714\n",
            "Epoch 14 Batch 30 Loss 0.4718\n",
            "Epoch 14 Batch 40 Loss 0.5127\n",
            "Epoch 14 Batch 50 Loss 0.4863\n",
            "Epoch 14 Batch 60 Loss 0.4950\n",
            "Epoch 14 Batch 70 Loss 0.4828\n",
            "Epoch 14 Loss 0.4764\n",
            "Time taken for 1 epoch 67.4887 sec\n",
            "\n",
            "Epoch 15 Batch 0 Loss 0.4117\n",
            "Epoch 15 Batch 10 Loss 0.4280\n",
            "Epoch 15 Batch 20 Loss 0.4360\n",
            "Epoch 15 Batch 30 Loss 0.4415\n",
            "Epoch 15 Batch 40 Loss 0.4102\n",
            "Epoch 15 Batch 50 Loss 0.4092\n",
            "Epoch 15 Batch 60 Loss 0.4374\n",
            "Epoch 15 Batch 70 Loss 0.4501\n",
            "Epoch 15 Loss 0.4240\n",
            "Time taken for 1 epoch 67.4016 sec\n",
            "\n",
            "Epoch 16 Batch 0 Loss 0.3913\n",
            "Epoch 16 Batch 10 Loss 0.3647\n",
            "Epoch 16 Batch 20 Loss 0.3862\n",
            "Epoch 16 Batch 30 Loss 0.3812\n",
            "Epoch 16 Batch 40 Loss 0.3708\n",
            "Epoch 16 Batch 50 Loss 0.3764\n",
            "Epoch 16 Batch 60 Loss 0.4112\n",
            "Epoch 16 Batch 70 Loss 0.3682\n",
            "Epoch 16 Loss 0.3774\n",
            "Time taken for 1 epoch 67.3676 sec\n",
            "\n",
            "Epoch 17 Batch 0 Loss 0.3371\n",
            "Epoch 17 Batch 10 Loss 0.3370\n",
            "Epoch 17 Batch 20 Loss 0.3210\n",
            "Epoch 17 Batch 30 Loss 0.3577\n",
            "Epoch 17 Batch 40 Loss 0.3404\n",
            "Epoch 17 Batch 50 Loss 0.3362\n",
            "Epoch 17 Batch 60 Loss 0.3450\n",
            "Epoch 17 Batch 70 Loss 0.3521\n",
            "Epoch 17 Loss 0.3397\n",
            "Time taken for 1 epoch 67.2553 sec\n",
            "\n",
            "Epoch 18 Batch 0 Loss 0.2988\n",
            "Epoch 18 Batch 10 Loss 0.2906\n",
            "Epoch 18 Batch 20 Loss 0.2965\n",
            "Epoch 18 Batch 30 Loss 0.3097\n",
            "Epoch 18 Batch 40 Loss 0.3042\n",
            "Epoch 18 Batch 50 Loss 0.3076\n",
            "Epoch 18 Batch 60 Loss 0.3174\n",
            "Epoch 18 Batch 70 Loss 0.3216\n",
            "Epoch 18 Loss 0.3054\n",
            "Time taken for 1 epoch 67.4855 sec\n",
            "\n",
            "Epoch 19 Batch 0 Loss 0.2546\n",
            "Epoch 19 Batch 10 Loss 0.2851\n",
            "Epoch 19 Batch 20 Loss 0.2773\n",
            "Epoch 19 Batch 30 Loss 0.2727\n",
            "Epoch 19 Batch 40 Loss 0.2698\n",
            "Epoch 19 Batch 50 Loss 0.3014\n",
            "Epoch 19 Batch 60 Loss 0.2746\n",
            "Epoch 19 Batch 70 Loss 0.2837\n",
            "Epoch 19 Loss 0.2752\n",
            "Time taken for 1 epoch 67.3336 sec\n",
            "\n",
            "Epoch 20 Batch 0 Loss 0.2233\n",
            "Epoch 20 Batch 10 Loss 0.2331\n",
            "Epoch 20 Batch 20 Loss 0.2384\n",
            "Epoch 20 Batch 30 Loss 0.2555\n",
            "Epoch 20 Batch 40 Loss 0.2372\n",
            "Epoch 20 Batch 50 Loss 0.2437\n",
            "Epoch 20 Batch 60 Loss 0.2385\n",
            "Epoch 20 Batch 70 Loss 0.2623\n",
            "Epoch 20 Loss 0.2500\n",
            "Time taken for 1 epoch 67.4461 sec\n",
            "\n"
          ],
          "name": "stdout"
        }
      ]
    },
    {
      "cell_type": "code",
      "metadata": {
        "id": "__KD3JgK3WkI"
      },
      "source": [
        "def evaluate(sentence):\r\n",
        "    attention_plot = np.zeros((max_length_targ, max_length_inp))\r\n",
        "    sentence = preprocess_sentence(sentence)\r\n",
        "    inputs = [inp_lang.word_index[i] for i in sentence.split(' ')]\r\n",
        "    inputs = tf.keras.preprocessing.sequence.pad_sequences([inputs],maxlen=max_length_inp,padding='post')\r\n",
        "    inputs = tf.convert_to_tensor(inputs)\r\n",
        "    \r\n",
        "    result = ''\r\n",
        "    encoder_hidden_fwd = tf.zeros((1, units))\r\n",
        "    encoder_hidden_bck = tf.zeros((1, units))\r\n",
        "    enc_out, enc_hidden_fwd, encoder_hidden_bck = encoder(inputs, encoder_hidden_fwd, encoder_hidden_bck)\r\n",
        "\r\n",
        "    dec_hidden = enc_hidden_fwd\r\n",
        "    dec_input = tf.expand_dims([targ_lang.word_index['<start>']], 0)\r\n",
        "\r\n",
        "    for t in range(max_length_targ):\r\n",
        "        predictions, dec_hidden, attention_weights = decoder(dec_input,dec_hidden,enc_out)\r\n",
        "        # storing the attention weights to plot later on\r\n",
        "        attention_weights = tf.reshape(attention_weights, (-1, ))\r\n",
        "        attention_plot[t] = attention_weights.numpy()\r\n",
        "        predicted_id = tf.argmax(predictions[0]).numpy()\r\n",
        "        result += targ_lang.index_word[predicted_id] + ' '\r\n",
        "        if targ_lang.index_word[predicted_id] == '<end>':\r\n",
        "            return result, sentence, attention_plot\r\n",
        "        # the predicted ID is fed back into the model\r\n",
        "        dec_input = tf.expand_dims([predicted_id], 0)\r\n",
        "    return result, sentence, attention_plot"
      ],
      "execution_count": 37,
      "outputs": []
    },
    {
      "cell_type": "code",
      "metadata": {
        "id": "ljxAmwz9EwF8"
      },
      "source": [
        "def plot_attention(attention, sentence, predicted_sentence):\r\n",
        "    fig = plt.figure(figsize=(10,10))\r\n",
        "    ax = fig.add_subplot(1, 1, 1)\r\n",
        "    ax.matshow(attention, cmap='viridis')\r\n",
        "\r\n",
        "    fontdict = {'fontsize': 14}\r\n",
        "\r\n",
        "    ax.set_xticklabels([''] + sentence, fontdict=fontdict, rotation=90)\r\n",
        "    ax.set_yticklabels([''] + predicted_sentence, fontdict=fontdict)\r\n",
        "\r\n",
        "    ax.xaxis.set_major_locator(ticker.MultipleLocator(1))\r\n",
        "    ax.yaxis.set_major_locator(ticker.MultipleLocator(1))\r\n",
        "\r\n",
        "    plt.show()"
      ],
      "execution_count": 38,
      "outputs": []
    },
    {
      "cell_type": "code",
      "metadata": {
        "id": "LtoSpfMkExjt"
      },
      "source": [
        "def translate(sentence):\r\n",
        "\r\n",
        "    result, sentence, attention_plot = evaluate(sentence)\r\n",
        "\r\n",
        "    print('Input: %s' % (sentence))\r\n",
        "    print('Predicted translation: {}'.format(result))\r\n",
        "\r\n",
        "    attention_plot = attention_plot[:len(result.split(' ')), :len(sentence.split(' '))]\r\n",
        "    plot_attention(attention_plot, sentence.split(' '), result.split(' '))"
      ],
      "execution_count": 39,
      "outputs": []
    },
    {
      "cell_type": "code",
      "metadata": {
        "id": "cn70PeXhFMGr"
      },
      "source": [
        "import numpy as np\r\n",
        "import matplotlib.pyplot as plt\r\n",
        "import matplotlib.ticker as ticker"
      ],
      "execution_count": 40,
      "outputs": []
    },
    {
      "cell_type": "code",
      "metadata": {
        "colab": {
          "base_uri": "https://localhost:8080/",
          "height": 675
        },
        "id": "7f82tco6rlWh",
        "outputId": "4928be4b-87b5-4802-ecfa-ff2195b55159"
      },
      "source": [
        "translate(u'how are you?')"
      ],
      "execution_count": 41,
      "outputs": [
        {
          "output_type": "stream",
          "text": [
            "Input: <start> how are you ? <end>\n",
            "Predicted translation: ¿ como estas ? <end> \n"
          ],
          "name": "stdout"
        },
        {
          "output_type": "display_data",
          "data": {
            "image/png": "[encoded data removed]",
            "text/plain": [
              "<Figure size 720x720 with 1 Axes>"
            ]
          },
          "metadata": {
            "tags": [],
            "needs_background": "light"
          }
        }
      ]
    },
    {
      "cell_type": "code",
      "metadata": {
        "id": "GdgZArrYFIzo",
        "colab": {
          "base_uri": "https://localhost:8080/",
          "height": 597
        },
        "outputId": "ee2f8cf8-4432-4b43-e0f8-d1ccd6c1d043"
      },
      "source": [
        "translate(u'i am good.')"
      ],
      "execution_count": 42,
      "outputs": [
        {
          "output_type": "stream",
          "text": [
            "Input: <start> i am good . <end>\n",
            "Predicted translation: soy bueno . <end> \n"
          ],
          "name": "stdout"
        },
        {
          "output_type": "display_data",
          "data": {
            "image/png": "[encoded data removed]",
            "text/plain": [
              "<Figure size 720x720 with 1 Axes>"
            ]
          },
          "metadata": {
            "tags": [],
            "needs_background": "light"
          }
        }
      ]
    },
    {
      "cell_type": "code",
      "metadata": {
        "colab": {
          "base_uri": "https://localhost:8080/",
          "height": 675
        },
        "id": "vJ4HqcmUFK9-",
        "outputId": "8c43462a-8427-4f73-aee9-ab5dba8d0621"
      },
      "source": [
        "translate(u'i am going to school')"
      ],
      "execution_count": 43,
      "outputs": [
        {
          "output_type": "stream",
          "text": [
            "Input: <start> i am going to school <end>\n",
            "Predicted translation: voy a la escuela . <end> \n"
          ],
          "name": "stdout"
        },
        {
          "output_type": "display_data",
          "data": {
            "image/png": "[encoded data removed]",
            "text/plain": [
              "<Figure size 720x720 with 1 Axes>"
            ]
          },
          "metadata": {
            "tags": [],
            "needs_background": "light"
          }
        }
      ]
    },
    {
      "cell_type": "code",
      "metadata": {
        "colab": {
          "base_uri": "https://localhost:8080/",
          "height": 675
        },
        "id": "6mYXg0wOrvSG",
        "outputId": "5adfcb06-bc12-436e-c2ae-f9f878b2f204"
      },
      "source": [
        "translate(u'let us go home now')"
      ],
      "execution_count": 44,
      "outputs": [
        {
          "output_type": "stream",
          "text": [
            "Input: <start> let us go home now <end>\n",
            "Predicted translation: dejanos irnos a tom . <end> \n"
          ],
          "name": "stdout"
        },
        {
          "output_type": "display_data",
          "data": {
            "image/png": "[encoded data removed]",
            "text/plain": [
              "<Figure size 720x720 with 1 Axes>"
            ]
          },
          "metadata": {
            "tags": [],
            "needs_background": "light"
          }
        }
      ]
    }
  ]
}