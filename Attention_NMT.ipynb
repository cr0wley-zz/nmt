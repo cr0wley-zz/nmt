{
 "cells": [
  {
   "cell_type": "markdown",
   "metadata": {
    "id": "p3I3A06DlNL_"
   },
   "source": [
    "Checking which GPU is being used in this session."
   ]
  },
  {
   "cell_type": "code",
   "execution_count": null,
   "metadata": {
    "colab": {
     "base_uri": "https://localhost:8080/"
    },
    "id": "wpKAi1vptvQn",
    "outputId": "575030b1-a78c-438f-a838-53b97e050c73"
   },
   "outputs": [
    {
     "name": "stdout",
     "output_type": "stream",
     "text": [
      "Thu Mar  4 07:15:01 2021       \n",
      "+-----------------------------------------------------------------------------+\n",
      "| NVIDIA-SMI 460.39       Driver Version: 460.32.03    CUDA Version: 11.2     |\n",
      "|-------------------------------+----------------------+----------------------+\n",
      "| GPU  Name        Persistence-M| Bus-Id        Disp.A | Volatile Uncorr. ECC |\n",
      "| Fan  Temp  Perf  Pwr:Usage/Cap|         Memory-Usage | GPU-Util  Compute M. |\n",
      "|                               |                      |               MIG M. |\n",
      "|===============================+======================+======================|\n",
      "|   0  Tesla P100-PCIE...  Off  | 00000000:00:04.0 Off |                    0 |\n",
      "| N/A   42C    P0    27W / 250W |      0MiB / 16280MiB |      0%      Default |\n",
      "|                               |                      |                  N/A |\n",
      "+-------------------------------+----------------------+----------------------+\n",
      "                                                                               \n",
      "+-----------------------------------------------------------------------------+\n",
      "| Processes:                                                                  |\n",
      "|  GPU   GI   CI        PID   Type   Process name                  GPU Memory |\n",
      "|        ID   ID                                                   Usage      |\n",
      "|=============================================================================|\n",
      "|  No running processes found                                                 |\n",
      "+-----------------------------------------------------------------------------+\n"
     ]
    }
   ],
   "source": [
    "! nvidia-smi"
   ]
  },
  {
   "cell_type": "markdown",
   "metadata": {
    "id": "D7P5aktQJXJW"
   },
   "source": [
    "# Introduction\n",
    "We have taken heavy inspiration from the official [TensorFlow guide for NMT wiht Attention](https://www.tensorflow.org/tutorials/text/nmt_with_attention).\n",
    "In this notebook we have tried documenting the code better with mathametical interpretations. We have also tried wrapping the custom `encoder` and `decoder` into a `tf.keras.Model` class upon which we can apply the `model.fit` method. \n",
    "> While TensoFlow uses unidirectional GRU for the encoder and decoder we go on to using Bi-directional layers. "
   ]
  },
  {
   "cell_type": "code",
   "execution_count": null,
   "metadata": {
    "id": "5yz111FIXuc8"
   },
   "outputs": [],
   "source": [
    "import tensorflow as tf\n",
    "from tensorflow.keras import layers as L\n",
    "\n",
    "import os\n",
    "import numpy as np\n",
    "tf.random.set_seed(666)\n",
    "os.environ['PYTHONHASHSEED'] = str(666)\n",
    "np.random.seed(666)"
   ]
  },
  {
   "cell_type": "markdown",
   "metadata": {
    "id": "fZ8ZnvZWamdi"
   },
   "source": [
    "# Utilities And Downloads\n",
    "\n",
    "We use `tf.keras.utils.get_file` to download the English to Spanish dataset hosted by Google."
   ]
  },
  {
   "cell_type": "code",
   "execution_count": null,
   "metadata": {
    "colab": {
     "base_uri": "https://localhost:8080/"
    },
    "id": "ybK1mMMaX1rj",
    "outputId": "6c1d6ed7-da7e-4c8f-b397-4ce2412e80e3"
   },
   "outputs": [
    {
     "name": "stdout",
     "output_type": "stream",
     "text": [
      "Downloading data from http://storage.googleapis.com/download.tensorflow.org/data/spa-eng.zip\n",
      "2646016/2638744 [==============================] - 0s 0us/step\n",
      "[INFO] PATH TO ZIP: /root/.keras/datasets/spa-eng.zip\n"
     ]
    }
   ],
   "source": [
    "# Download the file\n",
    "path_to_zip = tf.keras.utils.get_file(\n",
    "    'spa-eng.zip',\n",
    "    origin='http://storage.googleapis.com/download.tensorflow.org/data/spa-eng.zip',\n",
    "    extract=True\n",
    ")\n",
    "\n",
    "print(f\"[INFO] PATH TO ZIP: {path_to_zip}\")"
   ]
  },
  {
   "cell_type": "code",
   "execution_count": null,
   "metadata": {
    "colab": {
     "base_uri": "https://localhost:8080/"
    },
    "id": "n712-Bw4ZbtM",
    "outputId": "d26a4cb2-3322-4729-c31c-621c97e6bf67"
   },
   "outputs": [
    {
     "name": "stdout",
     "output_type": "stream",
     "text": [
      "[INFO] PATH TO FILE: /root/.keras/datasets/spa-eng/spa.txt\n"
     ]
    }
   ],
   "source": [
    "path_to_file = os.path.dirname(path_to_zip)+\"/spa-eng/spa.txt\"\n",
    "\n",
    "print(f\"[INFO] PATH TO FILE: {path_to_file}\")"
   ]
  },
  {
   "cell_type": "markdown",
   "metadata": {
    "id": "Z_Vw3-oXbfC2"
   },
   "source": [
    "# Preprocessing functions\n",
    "In the later snippets we use some functions that are used to pre-process the data.\n",
    "\n"
   ]
  },
  {
   "cell_type": "code",
   "execution_count": null,
   "metadata": {
    "id": "ITOzXiv-cEaq"
   },
   "outputs": [],
   "source": [
    "import unicodedata\n",
    "import re"
   ]
  },
  {
   "cell_type": "code",
   "execution_count": null,
   "metadata": {
    "id": "rEwkRZ3vYAQN"
   },
   "outputs": [],
   "source": [
    "def unicode_to_ascii(s):\n",
    "    return ''.join(c for c in unicodedata.normalize('NFD', s)\n",
    "    if unicodedata.category(c) != 'Mn')"
   ]
  },
  {
   "cell_type": "code",
   "execution_count": null,
   "metadata": {
    "id": "ZYED3VNhdeN-"
   },
   "outputs": [],
   "source": [
    "def preprocess_sentence(w):\n",
    "    w = unicode_to_ascii(w.lower().strip())\n",
    "    # creating a space between a word and the punctuation following it\n",
    "    # eg: \"he is a boy.\" => \"he is a boy .\"\n",
    "    # Reference:- https://stackoverflow.com/questions/3645931/python-padding-punctuation-with-white-spaces-keeping-punctuation\n",
    "    w = re.sub(r\"([?.!,¿])\", r\" \\1 \", w)\n",
    "    w = re.sub(r'[\" \"]+', \" \", w)\n",
    "    # replacing everything with space except (a-z, A-Z, \".\", \"?\", \"!\", \",\")\n",
    "    w = re.sub(r\"[^a-zA-Z?.!,¿]+\", \" \", w)\n",
    "    w = w.strip()\n",
    "    # adding a start and an end token to the sentence\n",
    "    # so that the model know when to start and stop predicting.\n",
    "    w = '<start> ' + w + ' <end>'\n",
    "    return w"
   ]
  },
  {
   "cell_type": "code",
   "execution_count": null,
   "metadata": {
    "colab": {
     "base_uri": "https://localhost:8080/"
    },
    "id": "ThKXoortYFhm",
    "outputId": "71ba1fe4-205b-4885-fb64-f559325074e4"
   },
   "outputs": [
    {
     "name": "stdout",
     "output_type": "stream",
     "text": [
      "<start> may i borrow this book ? <end>\n",
      "b'<start> \\xc2\\xbf puedo tomar prestado este libro ? <end>'\n"
     ]
    }
   ],
   "source": [
    "en_sentence = u\"May I borrow this book?\"\n",
    "sp_sentence = u\"¿Puedo tomar prestado este libro?\"\n",
    "print(preprocess_sentence(en_sentence))\n",
    "print(preprocess_sentence(sp_sentence).encode('utf-8'))"
   ]
  },
  {
   "cell_type": "code",
   "execution_count": null,
   "metadata": {
    "id": "cYqDUD4be3jz"
   },
   "outputs": [],
   "source": [
    "import io"
   ]
  },
  {
   "cell_type": "code",
   "execution_count": null,
   "metadata": {
    "id": "Q742cxMNYHN2"
   },
   "outputs": [],
   "source": [
    "def create_dataset(path, num_examples):\n",
    "    lines = io.open(path, encoding='UTF-8').read().strip().split('\\n')\n",
    "\n",
    "    word_pairs = [[preprocess_sentence(w) for w in l.split('\\t')]  for l in lines[:num_examples]]\n",
    "\n",
    "    return zip(*word_pairs)"
   ]
  },
  {
   "cell_type": "code",
   "execution_count": null,
   "metadata": {
    "colab": {
     "base_uri": "https://localhost:8080/"
    },
    "id": "YDpyz-fTYN0p",
    "outputId": "780ad04c-fcce-43a5-e5d0-41a477dbf891"
   },
   "outputs": [
    {
     "name": "stdout",
     "output_type": "stream",
     "text": [
      "<start> go away ! <end>\n",
      "<start> salga de aqui ! <end>\n"
     ]
    }
   ],
   "source": [
    "en, sp = create_dataset(path_to_file, None)\n",
    "print(en[100])\n",
    "print(sp[100])"
   ]
  },
  {
   "cell_type": "code",
   "execution_count": null,
   "metadata": {
    "id": "AGN6i1X8YbWd"
   },
   "outputs": [],
   "source": [
    "def tokenize(lang):\n",
    "    lang_tokenizer = tf.keras.preprocessing.text.Tokenizer(\n",
    "        filters='')\n",
    "    lang_tokenizer.fit_on_texts(lang)\n",
    "\n",
    "    tensor = lang_tokenizer.texts_to_sequences(lang)\n",
    "\n",
    "    tensor = tf.keras.preprocessing.sequence.pad_sequences(\n",
    "        tensor,\n",
    "        padding='post')\n",
    "\n",
    "    return tensor, lang_tokenizer"
   ]
  },
  {
   "cell_type": "code",
   "execution_count": null,
   "metadata": {
    "id": "fELGs7xTgeGU"
   },
   "outputs": [],
   "source": [
    "def load_dataset(path, num_examples=None):\n",
    "    # creating cleaned input, output pairs\n",
    "    inp_lang, targ_lang = create_dataset(path , num_examples)\n",
    "\n",
    "    input_tensor, inp_lang_tokenizer = tokenize(inp_lang)\n",
    "    target_tensor, targ_lang_tokenizer = tokenize(targ_lang)\n",
    "\n",
    "    return input_tensor, target_tensor, inp_lang_tokenizer, targ_lang_tokenizer"
   ]
  },
  {
   "cell_type": "code",
   "execution_count": null,
   "metadata": {
    "id": "QVVJScpohR8f"
   },
   "outputs": [],
   "source": [
    "num_examples = 70_000\n",
    "(input_tensor,target_tensor,inp_lang,targ_lang) = load_dataset(path_to_file,num_examples)\n",
    "\n",
    "# Calculate max_length of the target tensors\n",
    "max_length_targ, max_length_inp = target_tensor.shape[1], input_tensor.shape[1]"
   ]
  },
  {
   "cell_type": "code",
   "execution_count": null,
   "metadata": {
    "colab": {
     "base_uri": "https://localhost:8080/"
    },
    "id": "lrUealSjmMM3",
    "outputId": "c5d58562-fbd8-4d88-fd8a-6e6e151e03cc"
   },
   "outputs": [
    {
     "name": "stdout",
     "output_type": "stream",
     "text": [
      "[INFO] Max length of target: 20\n",
      "[INFO] Max length of input: 14\n"
     ]
    }
   ],
   "source": [
    "print(f'[INFO] Max length of target: {max_length_targ}')\n",
    "print(f'[INFO] Max length of input: {max_length_inp}')"
   ]
  },
  {
   "cell_type": "markdown",
   "metadata": {
    "id": "GrXQTcFdmaYX"
   },
   "source": [
    "# Dataset\n",
    "Here we use the `tf.data.Dataset` API for better dataset pipeline."
   ]
  },
  {
   "cell_type": "code",
   "execution_count": null,
   "metadata": {
    "id": "97jXhf-OiV2M"
   },
   "outputs": [],
   "source": [
    "from sklearn.model_selection import train_test_split"
   ]
  },
  {
   "cell_type": "code",
   "execution_count": null,
   "metadata": {
    "colab": {
     "base_uri": "https://localhost:8080/"
    },
    "id": "3saxDFMZiIM-",
    "outputId": "a33c1822-1f4b-4bb9-f18f-1f3fea084dea"
   },
   "outputs": [
    {
     "name": "stdout",
     "output_type": "stream",
     "text": [
      "[INFO] Input_Train: (49000, 14) Target_Train: (49000, 20)\n",
      "[INFO] Input_Val: (8400, 14) Target_Val: (8400, 20)\n",
      "[INFO] Input_Test: (12600, 14) Target_Test: (12600, 20)\n"
     ]
    }
   ],
   "source": [
    "# Creating training and validation sets using an 80-20 split\n",
    "(input_tensor_train,input_tensor_val,target_tensor_train,target_tensor_val) = train_test_split(input_tensor,target_tensor,test_size=0.3)\n",
    "(input_tensor_val,input_tensor_test,target_tensor_val,target_tensor_test) = train_test_split(input_tensor_val,target_tensor_val,test_size=0.6)\n",
    "\n",
    "# Show length\n",
    "print(f'[INFO] Input_Train: {input_tensor_train.shape} Target_Train: {target_tensor_train.shape}')\n",
    "print(f'[INFO] Input_Val: {input_tensor_val.shape} Target_Val: {target_tensor_val.shape}')\n",
    "print(f'[INFO] Input_Test: {input_tensor_test.shape} Target_Test: {target_tensor_test.shape}')"
   ]
  },
  {
   "cell_type": "code",
   "execution_count": null,
   "metadata": {
    "id": "6n7OY60fiXvW"
   },
   "outputs": [],
   "source": [
    "def convert(lang, tensor):\n",
    "    for t in tensor:\n",
    "        if t!=0:\n",
    "            print (\"%d ----> %s\" % (t, lang.index_word[t]))"
   ]
  },
  {
   "cell_type": "code",
   "execution_count": null,
   "metadata": {
    "colab": {
     "base_uri": "https://localhost:8080/"
    },
    "id": "PtEmQiqhimFW",
    "outputId": "3edde535-7248-4445-950c-bb84b72641d6"
   },
   "outputs": [
    {
     "name": "stdout",
     "output_type": "stream",
     "text": [
      "Input Language; index to word mapping\n",
      "1 ----> <start>\n",
      "4 ----> i\n",
      "29 ----> can\n",
      "132 ----> still\n",
      "266 ----> hear\n",
      "32 ----> your\n",
      "761 ----> voice\n",
      "3 ----> .\n",
      "2 ----> <end>\n",
      "\n",
      "Target Language; index to word mapping\n",
      "1 ----> <start>\n",
      "124 ----> todavia\n",
      "46 ----> puedo\n",
      "920 ----> oir\n",
      "28 ----> tu\n",
      "599 ----> voz\n",
      "3 ----> .\n",
      "2 ----> <end>\n"
     ]
    }
   ],
   "source": [
    "print (\"Input Language; index to word mapping\")\n",
    "convert(inp_lang, input_tensor_train[0])\n",
    "print ()\n",
    "print (\"Target Language; index to word mapping\")\n",
    "convert(targ_lang, target_tensor_train[0])"
   ]
  },
  {
   "cell_type": "markdown",
   "metadata": {},
   "source": [
    "# NMT with Attention\n",
    "In this section we discuss the implementation of attention with NMT."
   ]
  },
  {
   "cell_type": "code",
   "execution_count": null,
   "metadata": {
    "id": "nQEuR_EminQm"
   },
   "outputs": [],
   "source": [
    "# GLOBAL VARIABLES\n",
    "BUFFER_SIZE_TRAIN = len(input_tensor_train)\n",
    "BUFFER_SIZE_VAL = len(input_tensor_val)\n",
    "BATCH_SIZE = 1000\n",
    "steps_per_epoch = len(input_tensor_train)//BATCH_SIZE\n",
    "embedding_dim = 512\n",
    "units = 1024\n",
    "vocab_inp_size = len(inp_lang.word_index)+1\n",
    "vocab_tar_size = len(targ_lang.word_index)+1\n",
    "\n",
    "train_ds = tf.data.Dataset.from_tensor_slices((input_tensor_train, target_tensor_train)).shuffle(BUFFER_SIZE_TRAIN)\n",
    "train_ds = train_ds.batch(BATCH_SIZE, drop_remainder=True)\n",
    "\n",
    "val_ds = tf.data.Dataset.from_tensor_slices((input_tensor_val, target_tensor_val)).shuffle(BUFFER_SIZE_VAL)\n",
    "val_ds = val_ds.batch(BATCH_SIZE, drop_remainder=True)\n",
    "\n",
    "test_ds = tf.data.Dataset.from_tensor_slices((input_tensor_test, target_tensor_test)).shuffle(BUFFER_SIZE_VAL)\n",
    "test_ds = test_ds.batch(BATCH_SIZE, drop_remainder=True)"
   ]
  },
  {
   "cell_type": "code",
   "execution_count": null,
   "metadata": {
    "colab": {
     "base_uri": "https://localhost:8080/"
    },
    "id": "ZiqsOP8bjCUu",
    "outputId": "21de4960-bd6e-48b3-ef07-2217daea689d"
   },
   "outputs": [
    {
     "name": "stdout",
     "output_type": "stream",
     "text": [
      "(1000, 20)\n",
      "(1000, 14)\n"
     ]
    }
   ],
   "source": [
    "# check the shape\n",
    "for en,sp in train_ds.take(1):\n",
    "    print(sp.shape)\n",
    "    print(en.shape)"
   ]
  },
  {
   "cell_type": "markdown",
   "metadata": {},
   "source": [
    "## Encoder\n",
    "Bahdanau suggested that the encoder should consist of a `Bi-directional` recurrent unit. For our implementation we use the `bidirection` layer along with the `GRU` layer.\n",
    "\n",
    "An encoder takes a sentence as input, and provides with annotations. Let us break the formation of annotation in two parts.\n",
    "1. Formation of the hidden states for a unidirectional recurrent unit. \n",
    "    $$\n",
    "    h_{t}=f(h_{t-1},x_{t})\\\\\n",
    "    \\boxed{\\Longrightarrow h_{t}=\\tanh{(w_{h}h_{t-1}+W_{x}x_{t}+b)}}\n",
    "    $$\n",
    "    where \n",
    "    - $h_{t}$ is the present hidden state\n",
    "    - $h_{t-1}$ is the previous hidden state\n",
    "    - $x_{t}$ is the present input.\n",
    "2. Concatenation of the forward hidden states and backward hidden state.\n",
    "    We are using a `bidirectional` layer. This means that we have two set of hidden states, one for the forward     processing $\\vec{h_{t}}$ and the other for the backward processing $\\overleftarrow{h_{t}}$.\n",
    "    Bahdanau suggest to concat the two set of hidden states and move ahead with our implementations. This concatenated hidden state is the `annotation`.\n",
    "    $$\n",
    "    h_{t}=[\\vec{h};\\overleftarrow{h}]\n",
    "    $$"
   ]
  },
  {
   "cell_type": "code",
   "execution_count": null,
   "metadata": {
    "id": "61NDaiqkjH6I"
   },
   "outputs": [],
   "source": [
    "class Encoder(tf.keras.Model):\n",
    "  def __init__(self,\n",
    "               vocab_size,\n",
    "               embedding_dim,\n",
    "               enc_units,\n",
    "               batch_sz):\n",
    "    super(Encoder, self).__init__()\n",
    "    self.batch_sz = batch_sz\n",
    "    self.enc_units = enc_units\n",
    "    self.embedding = L.Embedding(vocab_size, embedding_dim)\n",
    "    self.gru = L.GRU(self.enc_units,\n",
    "                     return_sequences=True,\n",
    "                     return_state=True,\n",
    "                     recurrent_initializer='glorot_uniform')\n",
    "    self.bidirection = L.Bidirectional(self.gru, merge_mode='concat')\n",
    "\n",
    "  def call(self,\n",
    "           x,\n",
    "           hidden_fd,\n",
    "           hidden_bd):\n",
    "    x = self.embedding(x)\n",
    "    enc_hidden_states, fd_state, bd_state = self.bidirection(x, initial_state = [hidden_fd, hidden_bd])\n",
    "    return enc_hidden_states, fd_state, bd_state\n",
    "\n",
    "  def initialize_hidden_state(self):\n",
    "    return [tf.zeros((self.batch_sz, self.enc_units)) for i in range(2)]"
   ]
  },
  {
   "cell_type": "code",
   "execution_count": null,
   "metadata": {
    "colab": {
     "base_uri": "https://localhost:8080/"
    },
    "id": "yNspKGi1jThL",
    "outputId": "82692290-429a-4db1-c3b2-6fa8d3417400"
   },
   "outputs": [
    {
     "name": "stdout",
     "output_type": "stream",
     "text": [
      "Encoder output shape: (batch size, sequence length, units) (1000, 14, 2048)\n",
      "Encoder Hidden FWD state shape: (batch size, units) (1000, 1024)\n",
      "Encoder Hidden FWD state shape: (batch size, units) (1000, 1024)\n"
     ]
    }
   ],
   "source": [
    "encoder = Encoder(vocab_inp_size, embedding_dim, units, BATCH_SIZE)\n",
    "\n",
    "# sample input\n",
    "initial_fwd, initial_bck = encoder.initialize_hidden_state()\n",
    "for en, sp in train_ds.take(1):\n",
    "    sample_enc_hidden_states, sample_hidden_fwd, sample_hidden_bck = encoder(en, initial_fwd, initial_bck)\n",
    "    print ('Encoder output shape: (batch size, sequence length, units) {}'.format(sample_enc_hidden_states.shape))\n",
    "    print ('Encoder Hidden FWD state shape: (batch size, units) {}'.format(sample_hidden_fwd.shape))\n",
    "    print ('Encoder Hidden FWD state shape: (batch size, units) {}'.format(sample_hidden_bck.shape))"
   ]
  },
  {
   "cell_type": "markdown",
   "metadata": {},
   "source": [
    "## Attention and Decoder\n",
    "In the two consecutive code blocks we would be building our Attention and Decoder model.\n",
    "\n",
    "I have found it easier to approach the models from the decoder's point of view. Let's first describe a regular recurrent decoder and move into applying attention.\n",
    "\n",
    "A regular decoder with recurrent units takes as input a fixed latent representation $c=f(\\{h_{enc,1},h_{enc,2},...,h_{enc,T_{x}}\\})$ which depends on the encoder hidden states, and label words $y_{t}$. We notice that $c$ the fixed latent representation is a static entity. This is also called the context vector that holds information of the entire source sentence in a compressed way.\n",
    "\n",
    "Attention is a mechanism that helps in building the context vector $c$ for every step of the decoder. This time, we attend to important parts of the source sentence. This happens through a Dense model being learned end to end with the objective of good translation. The only differnece with regular decoder and a decoder with attention is that the context vector $c$ now is dynamic $c_{i}$ where $i$ indices all the decoding step."
   ]
  },
  {
   "cell_type": "code",
   "execution_count": null,
   "metadata": {
    "id": "EE7jy2ACkj7r"
   },
   "outputs": [],
   "source": [
    "class BahdanauAttention(tf.keras.layers.Layer):\n",
    "  def __init__(self, units):\n",
    "    super(BahdanauAttention, self).__init__()\n",
    "    self.W1 = L.Dense(units)\n",
    "    self.W2 = L.Dense(units)\n",
    "    self.V = L.Dense(1)\n",
    "\n",
    "  def call(self, dec_hidden_state, annotations):\n",
    "    dec_hidden_state_time = tf.expand_dims(dec_hidden_state, 1)\n",
    "\n",
    "    score = self.V(tf.nn.tanh(\n",
    "        self.W1(dec_hidden_state_time) + self.W2(annotations)))\n",
    "\n",
    "    # attention_weights shape == (batch_size, max_length, 1)\n",
    "    attention_weights = tf.nn.softmax(score, axis=1)\n",
    "    \n",
    "    # context_vector shape after sum == (batch_size, hidden_size)\n",
    "    context_vector = attention_weights * annotations\n",
    "    context_vector = tf.reduce_sum(context_vector, axis=1)\n",
    "\n",
    "    return context_vector, attention_weights"
   ]
  },
  {
   "cell_type": "code",
   "execution_count": null,
   "metadata": {
    "id": "2YPxwKuwlGr1"
   },
   "outputs": [],
   "source": [
    "class Decoder(tf.keras.Model):\n",
    "  def __init__(self, vocab_size, embedding_dim, dec_units, batch_sz):\n",
    "    super(Decoder, self).__init__()\n",
    "    self.batch_sz = batch_sz\n",
    "    self.dec_units = dec_units\n",
    "    self.embedding = L.Embedding(vocab_size, embedding_dim)\n",
    "    self.gru = L.GRU(self.dec_units,\n",
    "                     return_sequences=True,\n",
    "                     return_state=True,\n",
    "                     recurrent_initializer='glorot_uniform')\n",
    "    self.fc = L.Dense(vocab_size)\n",
    "    # used for attention\n",
    "    self.attention = BahdanauAttention(self.dec_units)\n",
    "\n",
    "  def call(self, x, dec_hidden_state, annotations):\n",
    "    context_vector, attention_weights = self.attention(dec_hidden_state, annotations)\n",
    "\n",
    "    x = self.embedding(x)\n",
    "    x = tf.concat([tf.expand_dims(context_vector, 1), x], axis=-1)\n",
    "    output, state = self.gru(x)\n",
    "    output = tf.reshape(output, (-1, output.shape[2]))\n",
    "    x = self.fc(output)\n",
    "    return x, state, attention_weights"
   ]
  },
  {
   "cell_type": "code",
   "execution_count": null,
   "metadata": {
    "colab": {
     "base_uri": "https://localhost:8080/"
    },
    "id": "kA4jNHG0lJ52",
    "outputId": "88c58725-e581-4d62-b70e-be73f42627b9"
   },
   "outputs": [
    {
     "name": "stdout",
     "output_type": "stream",
     "text": [
      "Prediction shape: (batch_size, vocab size) (1000, 16132)\n",
      "Decoder hidden state shape: (batch_size, GRU units) (1000, 1024)\n",
      "Attention weights shape: (batch_size, inputs length, 1) (1000, 14, 1)\n"
     ]
    }
   ],
   "source": [
    "encoder = Encoder(vocab_inp_size, embedding_dim, units, BATCH_SIZE)\n",
    "decoder = Decoder(vocab_tar_size, embedding_dim, units, BATCH_SIZE)\n",
    "\n",
    "initial_fd, initial_bd = encoder.initialize_hidden_state()\n",
    "for en,sp in train_ds.take(1):\n",
    "    annotations, enc_fd_hidden, enc_bd_hidden = encoder(en, initial_fd, initial_bd)\n",
    "    dec_input = tf.expand_dims([targ_lang.word_index['<start>']] * BATCH_SIZE, 1)\n",
    "    prediction, dec_hidden, att_weights = decoder(dec_input, enc_fd_hidden, annotations)\n",
    "\n",
    "    print ('Prediction shape: (batch_size, vocab size) {}'.format(prediction.shape))\n",
    "    print ('Decoder hidden state shape: (batch_size, GRU units) {}'.format(dec_hidden.shape))\n",
    "    print ('Attention weights shape: (batch_size, inputs length, 1) {}'.format(att_weights.shape))"
   ]
  },
  {
   "cell_type": "markdown",
   "metadata": {
    "id": "UDdohQmmukxV"
   },
   "source": [
    "# Model Class for easier training\n",
    "Here we encapsulate the entire training process in a custom model. This is a good practise as this provides off the chart compatibility with a lot of features provided by tensorflow and keras."
   ]
  },
  {
   "cell_type": "code",
   "execution_count": null,
   "metadata": {
    "id": "3drm1HZdukcL"
   },
   "outputs": [],
   "source": [
    "class NMT(tf.keras.Model):\n",
    "    def __init__(self, encoder, decoder):\n",
    "        super(NMT, self).__init__()\n",
    "        self.encoder = encoder\n",
    "        self.decoder = decoder\n",
    "\n",
    "    def train_step(self, data):\n",
    "        # Every sentence is different\n",
    "        # We would not want the memory state to flow from\n",
    "        # one sentence to other\n",
    "        enc_hidden_fd, enc_hidden_bd = self.encoder.initialize_hidden_state()\n",
    "        inp, targ = data\n",
    "        loss = 0\n",
    "        with tf.GradientTape() as tape:\n",
    "            annotations, enc_hidden_fd, _ = self.encoder(inp, enc_hidden_fd, enc_hidden_bd)\n",
    "            dec_hidden = enc_hidden_fd\n",
    "            dec_input = tf.expand_dims([targ_lang.word_index['<start>']] * BATCH_SIZE, 1)\n",
    "            # Teacher forcing - feeding the target as the next input\n",
    "            for t in range(1, targ.shape[1]):\n",
    "                # passing enc_output to the decoder\n",
    "                predictions, dec_hidden, att_weights = self.decoder(dec_input, dec_hidden, annotations)\n",
    "                loss += self.compiled_loss(targ[:, t], predictions)\n",
    "                # using teacher forcing\n",
    "                dec_input = tf.expand_dims(targ[:, t], 1)\n",
    "        batch_loss = (loss / int(targ.shape[1]))\n",
    "        variables = encoder.trainable_variables + decoder.trainable_variables\n",
    "        gradients = tape.gradient(loss, variables)\n",
    "        optimizer.apply_gradients(zip(gradients, variables))\n",
    "        return {\"custom_loss\": batch_loss}\n",
    "    \n",
    "    def test_step(self, data):\n",
    "        enc_hidden_fd, enc_hidden_bd = self.encoder.initialize_hidden_state()\n",
    "        inp, targ = data\n",
    "        loss = 0\n",
    "        enc_output, enc_hidden_fd, _ = self.encoder(inp, enc_hidden_fd, enc_hidden_bd)\n",
    "        dec_hidden = enc_hidden_fd\n",
    "        dec_input = tf.expand_dims([targ_lang.word_index['<start>']] * BATCH_SIZE, 1)\n",
    "        # Teacher forcing - feeding the target as the next input\n",
    "        for t in range(1, targ.shape[1]):\n",
    "            # passing enc_output to the decoder\n",
    "            predictions, dec_hidden, att_weights = self.decoder(dec_input, dec_hidden, annotations)\n",
    "            loss += self.compiled_loss(targ[:, t], predictions)\n",
    "            # using teacher forcing\n",
    "            dec_input = tf.expand_dims(targ[:, t], 1)\n",
    "        batch_loss = (loss / int(targ.shape[1]))\n",
    "        return {\"custom_loss\": batch_loss}"
   ]
  },
  {
   "cell_type": "code",
   "execution_count": null,
   "metadata": {
    "id": "KMt2NvOiDkN0"
   },
   "outputs": [],
   "source": [
    "# Early Stopping to prevent overfitting\n",
    "es = tf.keras.callbacks.EarlyStopping(monitor=\"val_custom_loss\", patience=5, verbose=2, restore_best_weights=True)"
   ]
  },
  {
   "cell_type": "code",
   "execution_count": null,
   "metadata": {
    "colab": {
     "base_uri": "https://localhost:8080/"
    },
    "id": "NN0v-i_CxDdb",
    "outputId": "94831634-374c-4308-c521-e0f42b466bfd"
   },
   "outputs": [
    {
     "name": "stdout",
     "output_type": "stream",
     "text": [
      "Epoch 1/100\n",
      "49/49 [==============================] - 89s 1s/step - custom_loss: 1.9595 - val_custom_loss: 2.9688\n",
      "Epoch 2/100\n",
      "49/49 [==============================] - 65s 1s/step - custom_loss: 1.5482 - val_custom_loss: 2.6008\n",
      "Epoch 3/100\n",
      "49/49 [==============================] - 65s 1s/step - custom_loss: 1.4574 - val_custom_loss: 2.5293\n",
      "Epoch 4/100\n",
      "49/49 [==============================] - 65s 1s/step - custom_loss: 1.3755 - val_custom_loss: 2.4728\n",
      "Epoch 5/100\n",
      "49/49 [==============================] - 65s 1s/step - custom_loss: 1.3031 - val_custom_loss: 2.4493\n",
      "Epoch 6/100\n",
      "49/49 [==============================] - 65s 1s/step - custom_loss: 1.2178 - val_custom_loss: 2.3627\n",
      "Epoch 7/100\n",
      "49/49 [==============================] - 65s 1s/step - custom_loss: 1.1433 - val_custom_loss: 2.3492\n",
      "Epoch 8/100\n",
      "49/49 [==============================] - 65s 1s/step - custom_loss: 1.0765 - val_custom_loss: 2.3604\n",
      "Epoch 9/100\n",
      "49/49 [==============================] - 65s 1s/step - custom_loss: 1.0150 - val_custom_loss: 2.3474\n",
      "Epoch 10/100\n",
      "49/49 [==============================] - 65s 1s/step - custom_loss: 0.9610 - val_custom_loss: 2.3469\n",
      "Epoch 11/100\n",
      "49/49 [==============================] - 65s 1s/step - custom_loss: 0.9039 - val_custom_loss: 2.3498\n",
      "Epoch 12/100\n",
      "49/49 [==============================] - 65s 1s/step - custom_loss: 0.8510 - val_custom_loss: 2.3317\n",
      "Epoch 13/100\n",
      "49/49 [==============================] - 65s 1s/step - custom_loss: 0.7935 - val_custom_loss: 2.3577\n",
      "Epoch 14/100\n",
      "49/49 [==============================] - 65s 1s/step - custom_loss: 0.7377 - val_custom_loss: 2.3029\n",
      "Epoch 15/100\n",
      "49/49 [==============================] - 65s 1s/step - custom_loss: 0.6795 - val_custom_loss: 2.3937\n",
      "Epoch 16/100\n",
      "49/49 [==============================] - 65s 1s/step - custom_loss: 0.6205 - val_custom_loss: 2.4226\n",
      "Epoch 17/100\n",
      "49/49 [==============================] - 65s 1s/step - custom_loss: 0.5653 - val_custom_loss: 2.3863\n",
      "Epoch 18/100\n",
      "49/49 [==============================] - 65s 1s/step - custom_loss: 0.5097 - val_custom_loss: 2.4038\n",
      "Epoch 19/100\n",
      "49/49 [==============================] - 65s 1s/step - custom_loss: 0.4593 - val_custom_loss: 2.4002\n",
      "Restoring model weights from the end of the best epoch.\n",
      "Epoch 00019: early stopping\n"
     ]
    }
   ],
   "source": [
    "EPOCHS=100\n",
    "encoder = Encoder(vocab_inp_size, embedding_dim, units, BATCH_SIZE)\n",
    "decoder = Decoder(vocab_tar_size, embedding_dim, units, BATCH_SIZE)\n",
    "\n",
    "optimizer = tf.keras.optimizers.Adam()\n",
    "loss_object = tf.keras.losses.SparseCategoricalCrossentropy(\n",
    "    from_logits=True,\n",
    "    reduction='none')\n",
    "\n",
    "def loss_function(real, pred):\n",
    "    mask = tf.math.logical_not(tf.math.equal(real, 0))\n",
    "    loss_ = loss_object(real, pred)\n",
    "    mask = tf.cast(mask, dtype=loss_.dtype)\n",
    "    loss_ *= mask\n",
    "    return tf.reduce_mean(loss_)\n",
    "\n",
    "main_model = NMT(encoder, decoder)\n",
    "main_model.compile(loss=loss_function, optimizer=optimizer)\n",
    "\n",
    "history = main_model.fit(\n",
    "    train_ds,\n",
    "    validation_data=val_ds,\n",
    "    callbacks=[es],\n",
    "    epochs=EPOCHS)"
   ]
  },
  {
   "cell_type": "code",
   "execution_count": null,
   "metadata": {
    "id": "fJ4w9O-P8rZZ"
   },
   "outputs": [],
   "source": [
    "import matplotlib.pyplot as plt"
   ]
  },
  {
   "cell_type": "code",
   "execution_count": null,
   "metadata": {
    "colab": {
     "base_uri": "https://localhost:8080/",
     "height": 295
    },
    "id": "oq8dkT_g8ejp",
    "outputId": "3aea0e6a-c950-497b-c7fd-30ec63f2ef59"
   },
   "outputs": [
    {
     "data": {
      "image/png": "[encoded data removed]",
      "text/plain": [
       "<Figure size 432x288 with 1 Axes>"
      ]
     },
     "metadata": {
      "needs_background": "light",
      "tags": []
     },
     "output_type": "display_data"
    }
   ],
   "source": [
    "plt.plot(history.history[\"custom_loss\"], label=\"train_loss\")\n",
    "plt.plot(history.history[\"val_custom_loss\"], label=\"val_loss\")\n",
    "plt.title(\"Loss vs. Epoch\")\n",
    "plt.xlabel(\"Epoch #\")\n",
    "plt.ylabel(\"Loss\")\n",
    "plt.legend(loc=\"lower left\")\n",
    "plt.show()"
   ]
  },
  {
   "cell_type": "markdown",
   "metadata": {
    "id": "ELTlMRzg82iA"
   },
   "source": [
    "> A basic thing to notice here is the gap between the validation and the training loss. This indicates to the scope of parameters that can be inserted to better train the model."
   ]
  },
  {
   "cell_type": "code",
   "execution_count": null,
   "metadata": {
    "colab": {
     "base_uri": "https://localhost:8080/"
    },
    "id": "Y4TBkzF-9DYX",
    "outputId": "4b607f4b-1b79-4603-9f1e-1c94cd441462"
   },
   "outputs": [
    {
     "name": "stdout",
     "output_type": "stream",
     "text": [
      "12/12 [==============================] - 5s 410ms/step - custom_loss: 2.3574\n",
      "[INFO] Test Loss: 2.3491790294647217\n"
     ]
    }
   ],
   "source": [
    "custom_test_loss = main_model.evaluate(test_ds)\n",
    "print(f'[INFO] Test Loss: {custom_test_loss}')"
   ]
  },
  {
   "cell_type": "markdown",
   "metadata": {
    "id": "ioAMrBIAAnyo"
   },
   "source": [
    "# Inference\n",
    "The inference module holds the code snippet to have translations from english to spanish. We also plot the attention weights of the translations. The attention weights are pretty neat to build intuitions."
   ]
  },
  {
   "cell_type": "code",
   "execution_count": null,
   "metadata": {
    "id": "lEuWMIFvIGjd"
   },
   "outputs": [],
   "source": [
    "encoder = main_model.encoder\n",
    "decoder = main_model.decoder"
   ]
  },
  {
   "cell_type": "code",
   "execution_count": null,
   "metadata": {
    "id": "__KD3JgK3WkI"
   },
   "outputs": [],
   "source": [
    "def evaluate(sentence):\n",
    "    attention_plot = np.zeros((max_length_targ, max_length_inp))\n",
    "    sentence = preprocess_sentence(sentence)\n",
    "    inputs = [inp_lang.word_index[i] for i in sentence.split(' ')]\n",
    "    inputs = tf.keras.preprocessing.sequence.pad_sequences([inputs],maxlen=max_length_inp,padding='post')\n",
    "    inputs = tf.convert_to_tensor(inputs)\n",
    "    \n",
    "    result = ''\n",
    "    encoder_hidden_fwd = tf.zeros((1, units))\n",
    "    encoder_hidden_bck = tf.zeros((1, units))\n",
    "    enc_out, enc_hidden_fwd, encoder_hidden_bck = encoder(inputs, encoder_hidden_fwd, encoder_hidden_bck)\n",
    "\n",
    "    dec_hidden = enc_hidden_fwd\n",
    "    dec_input = tf.expand_dims([targ_lang.word_index['<start>']], 0)\n",
    "\n",
    "    for t in range(max_length_targ):\n",
    "        predictions, dec_hidden, attention_weights = decoder(dec_input,dec_hidden,enc_out)\n",
    "        # storing the attention weights to plot later on\n",
    "        attention_weights = tf.reshape(attention_weights, (-1, ))\n",
    "        attention_plot[t] = attention_weights.numpy()\n",
    "        predicted_id = tf.argmax(predictions[0]).numpy()\n",
    "        result += targ_lang.index_word[predicted_id] + ' '\n",
    "        if targ_lang.index_word[predicted_id] == '<end>':\n",
    "            return result, sentence, attention_plot\n",
    "        # the predicted ID is fed back into the model\n",
    "        dec_input = tf.expand_dims([predicted_id], 0)\n",
    "    return result, sentence, attention_plot"
   ]
  },
  {
   "cell_type": "code",
   "execution_count": null,
   "metadata": {
    "id": "ljxAmwz9EwF8"
   },
   "outputs": [],
   "source": [
    "def plot_attention(attention, sentence, predicted_sentence):\n",
    "    fig = plt.figure(figsize=(10,10))\n",
    "    ax = fig.add_subplot(1, 1, 1)\n",
    "    ax.matshow(attention, cmap='viridis')\n",
    "\n",
    "    fontdict = {'fontsize': 14}\n",
    "\n",
    "    ax.set_xticklabels([''] + sentence, fontdict=fontdict, rotation=90)\n",
    "    ax.set_yticklabels([''] + predicted_sentence, fontdict=fontdict)\n",
    "\n",
    "    ax.xaxis.set_major_locator(ticker.MultipleLocator(1))\n",
    "    ax.yaxis.set_major_locator(ticker.MultipleLocator(1))\n",
    "\n",
    "    plt.show()"
   ]
  },
  {
   "cell_type": "code",
   "execution_count": null,
   "metadata": {
    "id": "LtoSpfMkExjt"
   },
   "outputs": [],
   "source": [
    "def translate(sentence):\n",
    "\n",
    "    result, sentence, attention_plot = evaluate(sentence)\n",
    "\n",
    "    print('Input: %s' % (sentence))\n",
    "    print('Predicted translation: {}'.format(result))\n",
    "\n",
    "    attention_plot = attention_plot[:len(result.split(' ')), :len(sentence.split(' '))]\n",
    "    plot_attention(attention_plot, sentence.split(' '), result.split(' '))"
   ]
  },
  {
   "cell_type": "code",
   "execution_count": null,
   "metadata": {
    "id": "cn70PeXhFMGr"
   },
   "outputs": [],
   "source": [
    "import matplotlib.ticker as ticker"
   ]
  },
  {
   "cell_type": "code",
   "execution_count": null,
   "metadata": {
    "colab": {
     "base_uri": "https://localhost:8080/",
     "height": 675
    },
    "id": "7f82tco6rlWh",
    "outputId": "849fc895-fba1-49bb-ab4f-940a41e27177"
   },
   "outputs": [
    {
     "name": "stdout",
     "output_type": "stream",
     "text": [
      "Input: <start> how are you ? <end>\n",
      "Predicted translation: ¿ como son ? <end> \n"
     ]
    },
    {
     "data": {
      "image/png": "[encoded data removed]",
      "text/plain": [
       "<Figure size 720x720 with 1 Axes>"
      ]
     },
     "metadata": {
      "needs_background": "light",
      "tags": []
     },
     "output_type": "display_data"
    }
   ],
   "source": [
    "translate(u'how are you?')"
   ]
  },
  {
   "cell_type": "code",
   "execution_count": null,
   "metadata": {
    "colab": {
     "base_uri": "https://localhost:8080/",
     "height": 675
    },
    "id": "GdgZArrYFIzo",
    "outputId": "3c656b00-b04d-4bd5-a7a2-18a33a99f96b"
   },
   "outputs": [
    {
     "name": "stdout",
     "output_type": "stream",
     "text": [
      "Input: <start> i am good . <end>\n",
      "Predicted translation: estoy muy ingenuo . <end> \n"
     ]
    },
    {
     "data": {
      "image/png": "[encoded data removed]",
      "text/plain": [
       "<Figure size 720x720 with 1 Axes>"
      ]
     },
     "metadata": {
      "needs_background": "light",
      "tags": []
     },
     "output_type": "display_data"
    }
   ],
   "source": [
    "translate(u'i am good.')"
   ]
  },
  {
   "cell_type": "code",
   "execution_count": null,
   "metadata": {
    "colab": {
     "base_uri": "https://localhost:8080/",
     "height": 675
    },
    "id": "vJ4HqcmUFK9-",
    "outputId": "2f672e80-0cf6-478f-e681-a8990dbed366"
   },
   "outputs": [
    {
     "name": "stdout",
     "output_type": "stream",
     "text": [
      "Input: <start> i am going to school <end>\n",
      "Predicted translation: voy a la escuela . <end> \n"
     ]
    },
    {
     "data": {
      "image/png": "[encoded data removed]",
      "text/plain": [
       "<Figure size 720x720 with 1 Axes>"
      ]
     },
     "metadata": {
      "needs_background": "light",
      "tags": []
     },
     "output_type": "display_data"
    }
   ],
   "source": [
    "translate(u'i am going to school')"
   ]
  },
  {
   "cell_type": "code",
   "execution_count": null,
   "metadata": {
    "colab": {
     "base_uri": "https://localhost:8080/",
     "height": 675
    },
    "id": "6mYXg0wOrvSG",
    "outputId": "990199f0-01eb-452e-c0ec-7bdbe5ee6f8d"
   },
   "outputs": [
    {
     "name": "stdout",
     "output_type": "stream",
     "text": [
      "Input: <start> let us go home now <end>\n",
      "Predicted translation: dejame gracias por que tu ayuda a tom en casa . <end> \n"
     ]
    },
    {
     "data": {
      "image/png": "[encoded data removed]",
      "text/plain": [
       "<Figure size 720x720 with 1 Axes>"
      ]
     },
     "metadata": {
      "needs_background": "light",
      "tags": []
     },
     "output_type": "display_data"
    }
   ],
   "source": [
    "translate(u'let us go home now')"
   ]
  },
  {
   "cell_type": "code",
   "execution_count": null,
   "metadata": {
    "colab": {
     "base_uri": "https://localhost:8080/",
     "height": 675
    },
    "id": "CfznEMANcnh1",
    "outputId": "da4508c4-e98f-4edc-e681-072ec34f84b6"
   },
   "outputs": [
    {
     "name": "stdout",
     "output_type": "stream",
     "text": [
      "Input: <start> why would you do this ? <end>\n",
      "Predicted translation: ¿ por que no te ha hecho ? <end> \n"
     ]
    },
    {
     "data": {
      "image/png": "[encoded data removed]",
      "text/plain": [
       "<Figure size 720x720 with 1 Axes>"
      ]
     },
     "metadata": {
      "needs_background": "light",
      "tags": []
     },
     "output_type": "display_data"
    }
   ],
   "source": [
    "translate(u'why would you do this?')"
   ]
  },
  {
   "cell_type": "code",
   "execution_count": null,
   "metadata": {
    "colab": {
     "base_uri": "https://localhost:8080/",
     "height": 578
    },
    "id": "pzvKHdt5LDVX",
    "outputId": "b5160244-5aa2-4b5a-ec0a-644ff54a6c32"
   },
   "outputs": [
    {
     "name": "stdout",
     "output_type": "stream",
     "text": [
      "Input: <start> do you want to see some magic ? <end>\n",
      "Predicted translation: ¿ quieres algo de mi ? <end> \n"
     ]
    },
    {
     "data": {
      "image/png": "[encoded data removed]",
      "text/plain": [
       "<Figure size 720x720 with 1 Axes>"
      ]
     },
     "metadata": {
      "needs_background": "light",
      "tags": []
     },
     "output_type": "display_data"
    }
   ],
   "source": [
    "translate(u'do you want to see some magic?')"
   ]
  }
 ],
 "metadata": {
  "accelerator": "GPU",
  "colab": {
   "collapsed_sections": [],
   "name": "Attention_NMT",
   "provenance": []
  },
  "kernelspec": {
   "display_name": "Python 3",
   "language": "python",
   "name": "python3"
  },
  "language_info": {
   "codemirror_mode": {
    "name": "ipython",
    "version": 3
   },
   "file_extension": ".py",
   "mimetype": "text/x-python",
   "name": "python",
   "nbconvert_exporter": "python",
   "pygments_lexer": "ipython3",
   "version": "3.8.6"
  }
 },
 "nbformat": 4,
 "nbformat_minor": 1
}
